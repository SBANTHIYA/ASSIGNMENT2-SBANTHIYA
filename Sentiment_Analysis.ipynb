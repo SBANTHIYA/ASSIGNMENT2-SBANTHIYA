{
  "nbformat": 4,
  "nbformat_minor": 0,
  "metadata": {
    "colab": {
      "name": "Sentiment Analysis.ipynb",
      "provenance": [],
      "authorship_tag": "ABX9TyMY1fV8svC0Ez7Br9qQmrVv",
      "include_colab_link": true
    },
    "kernelspec": {
      "name": "python3",
      "display_name": "Python 3"
    }
  },
  "cells": [
    {
      "cell_type": "markdown",
      "metadata": {
        "id": "view-in-github",
        "colab_type": "text"
      },
      "source": [
        "<a href=\"https://colab.research.google.com/github/SBANTHIYA/Data-Science-and-Analytics-Portfolio/blob/master/Sentiment_Analysis.ipynb\" target=\"_parent\"><img src=\"https://colab.research.google.com/assets/colab-badge.svg\" alt=\"Open In Colab\"/></a>"
      ]
    },
    {
      "cell_type": "markdown",
      "metadata": {
        "id": "_Uu1Swmjdqt7"
      },
      "source": [
        "#Assignment 2 - Using textblob to perform sentiment analysis\r\n",
        "\r\n",
        "#CAP 6640: Natural Language Processing\r\n",
        "\r\n",
        "#By Swati Banthiya\r\n",
        "\r\n",
        "\r\n",
        "Question: Follow the demo to use textblob to label sentiment (positive or negative) for the given dataset. Textblob for sentiment analysis demo \r\n",
        "The demo slides can be found here: Textblob demo.pptx   \r\n",
        "The dataset contains 40 sentences and each line is one sentence. You can find the dataset here assignment 2 data.txt   (Each line is a sentence).\r\n",
        "Submit a report including the screen shots of running code and the generated results.\r\n"
      ]
    },
    {
      "cell_type": "code",
      "metadata": {
        "colab": {
          "base_uri": "https://localhost:8080/"
        },
        "id": "Grat9Dc1d1zz",
        "outputId": "e8b79bda-04a5-4872-dc8e-98af07e4dff9"
      },
      "source": [
        "# loading the packages\r\n",
        "from textblob import TextBlob\r\n",
        "from textblob import Blobber\r\n",
        "import nltk\r\n",
        "nltk.download('punkt')\r\n",
        "nltk.download('averaged_perceptron_tagger')\r\n",
        "from textblob.sentiments import NaiveBayesAnalyzer\r\n",
        "from textblob.sentiments import PatternAnalyzer\r\n",
        "import textblob as tb\r\n",
        "import nltk\r\n",
        "nltk.download('movie_reviews')"
      ],
      "execution_count": null,
      "outputs": [
        {
          "output_type": "stream",
          "text": [
            "[nltk_data] Downloading package punkt to /root/nltk_data...\n",
            "[nltk_data]   Unzipping tokenizers/punkt.zip.\n",
            "[nltk_data] Downloading package averaged_perceptron_tagger to\n",
            "[nltk_data]     /root/nltk_data...\n",
            "[nltk_data]   Unzipping taggers/averaged_perceptron_tagger.zip.\n",
            "[nltk_data] Downloading package movie_reviews to /root/nltk_data...\n",
            "[nltk_data]   Unzipping corpora/movie_reviews.zip.\n"
          ],
          "name": "stdout"
        },
        {
          "output_type": "execute_result",
          "data": {
            "text/plain": [
              "True"
            ]
          },
          "metadata": {
            "tags": []
          },
          "execution_count": 2
        }
      ]
    },
    {
      "cell_type": "code",
      "metadata": {
        "colab": {
          "base_uri": "https://localhost:8080/"
        },
        "id": "OlS8UjJRfBLV",
        "outputId": "0dc62d3a-92d7-4d73-cf76-3fa90496605a"
      },
      "source": [
        "# Mount Google Drive\r\n",
        "from google.colab import drive\r\n",
        "drive.mount('/content/drive')"
      ],
      "execution_count": null,
      "outputs": [
        {
          "output_type": "stream",
          "text": [
            "Mounted at /content/drive\n"
          ],
          "name": "stdout"
        }
      ]
    },
    {
      "cell_type": "code",
      "metadata": {
        "id": "HmZKz3UQgxNu"
      },
      "source": [
        "#loading the data from the text file provided for the Assignment\r\n",
        "with open('/content/drive/My Drive/data/NLPA2.txt', 'r') as file:\r\n",
        "      text = file.read().replace('\\n', ' ')\r\n"
      ],
      "execution_count": null,
      "outputs": []
    },
    {
      "cell_type": "code",
      "metadata": {
        "id": "9jWNEAywiwYQ"
      },
      "source": [
        "blob = TextBlob(text)"
      ],
      "execution_count": null,
      "outputs": []
    },
    {
      "cell_type": "code",
      "metadata": {
        "colab": {
          "base_uri": "https://localhost:8080/"
        },
        "id": "1Ji7S-tdjvnd",
        "outputId": "faa08498-3c70-4421-ee6c-35d33ad4c24d"
      },
      "source": [
        "blob.sentences"
      ],
      "execution_count": null,
      "outputs": [
        {
          "output_type": "execute_result",
          "data": {
            "text/plain": [
              "[Sentence(\"That's right....the red velvet cake.....ohhh this stuff is so good.\"),\n",
              " Sentence(\"They never brought a salad we asked for.\"),\n",
              " Sentence(\"This hole in the wall has great Mexican street tacos, and friendly staff.\"),\n",
              " Sentence(\"Took an hour to get our food only 4 tables in restaurant my food was Luke warm, Our sever was running around like he was totally overwhelmed.\"),\n",
              " Sentence(\"The worst was the salmon sashimi.\"),\n",
              " Sentence(\"Also there are combos like a burger, fries, and beer for 23 which is a decent deal.\"),\n",
              " Sentence(\"This was like the final blow!\"),\n",
              " Sentence(\"I found this place by accident and I could not be happier.\"),\n",
              " Sentence(\"seems like a good quick place to grab a bite of some familiar pub food, but do yourself a favor and look elsewhere.\"),\n",
              " Sentence(\"Overall, I like this place a lot.\"),\n",
              " Sentence(\"The only redeeming quality of the restaurant was that it was very inexpensive.\"),\n",
              " Sentence(\"Ample portions and good prices.\"),\n",
              " Sentence(\"Poor service, the waiter made me feel like I was stupid every time he came to the table.\"),\n",
              " Sentence(\"My first visit to Hiro was a delight!\"),\n",
              " Sentence(\"Service sucks.\"),\n",
              " Sentence(\"The shrimp tender and moist.\"),\n",
              " Sentence(\"There is not a deal good enough that would drag me into that establishment again.\"),\n",
              " Sentence(\"Hard to judge whether these sides were good because we were grossed out by the melted styrofoam and didn't want to eat it for fear of getting sick.\"),\n",
              " Sentence(\"On a positive note, our server was very attentive and provided great service.\"),\n",
              " Sentence(\"Frozen pucks of disgust, with some of the worst people behind the register.\"),\n",
              " Sentence(\"The only thing I did like was the prime rib and dessert section.\"),\n",
              " Sentence(\"It's too bad the food is so damn generic.\"),\n",
              " Sentence(\"The burger is good beef, cooked just right.\"),\n",
              " Sentence(\"If you want a sandwich just go to any Firehouse!!!!!\"),\n",
              " Sentence(\"My side Greek salad with the Greek dressing was so tasty, and the pita and hummus was very refreshing.\"),\n",
              " Sentence(\"We ordered the duck rare and it was pink and tender on the inside with a nice char on the outside.\"),\n",
              " Sentence(\"He came running after us when he realized my husband had left his sunglasses on the table.\"),\n",
              " Sentence(\"Their chow mein is so good!\"),\n",
              " Sentence(\"They have horrible attitudes towards customers, and talk down to each one when customers don't enjoy their food.\"),\n",
              " Sentence(\"The portion was huge!\"),\n",
              " Sentence(\"Loved it...friendly servers, great food, wonderful and imaginative menu.\"),\n",
              " Sentence(\"The Heart Attack Grill in downtown Vegas is an absolutely flat-lined excuse for a restaurant.\"),\n",
              " Sentence(\"Not much seafood and like 5 strings of pasta at the bottom.\"),\n",
              " Sentence(\"The salad had just the right amount of sauce to not over power the scallop, which was perfectly cooked.\"),\n",
              " Sentence(\"The ripped banana was not only ripped, but petrified and tasteless.\"),\n",
              " Sentence(\"At least think to refill my water before I struggle to wave you over for 10 minutes.\"),\n",
              " Sentence(\"This place receives stars for their APPETIZERS!!!\"),\n",
              " Sentence(\"The cocktails are all handmade and delicious.\"),\n",
              " Sentence(\"We'd definitely go back here again.\"),\n",
              " Sentence(\"We are so glad we found this place.\")]"
            ]
          },
          "metadata": {
            "tags": []
          },
          "execution_count": 6
        }
      ]
    },
    {
      "cell_type": "code",
      "metadata": {
        "colab": {
          "base_uri": "https://localhost:8080/"
        },
        "id": "7Sm6reDJksEW",
        "outputId": "1e4cfd5b-0b8f-4ed7-940b-15dabf185d74"
      },
      "source": [
        "#Naive Bayer Analyzer\r\n",
        "tb = Blobber(analyzer=NaiveBayesAnalyzer())\r\n",
        "for sentence in blob.sentences:\r\n",
        "  sentiment = tb(str(sentence)).sentiment\r\n",
        "  print('{} +{:.2f} -{:.2f} {}'.format(sentiment.classification,sentiment.p_pos,sentiment.p_neg,sentence))"
      ],
      "execution_count": null,
      "outputs": [
        {
          "output_type": "stream",
          "text": [
            "neg +0.36 -0.64 That's right....the red velvet cake.....ohhh this stuff is so good.\n",
            "pos +0.79 -0.21 They never brought a salad we asked for.\n",
            "pos +0.59 -0.41 This hole in the wall has great Mexican street tacos, and friendly staff.\n",
            "pos +0.67 -0.33 Took an hour to get our food only 4 tables in restaurant my food was Luke warm, Our sever was running around like he was totally overwhelmed.\n",
            "neg +0.40 -0.60 The worst was the salmon sashimi.\n",
            "neg +0.32 -0.68 Also there are combos like a burger, fries, and beer for 23 which is a decent deal.\n",
            "neg +0.40 -0.60 This was like the final blow!\n",
            "pos +0.69 -0.31 I found this place by accident and I could not be happier.\n",
            "pos +0.65 -0.35 seems like a good quick place to grab a bite of some familiar pub food, but do yourself a favor and look elsewhere.\n",
            "pos +0.72 -0.28 Overall, I like this place a lot.\n",
            "neg +0.33 -0.67 The only redeeming quality of the restaurant was that it was very inexpensive.\n",
            "pos +0.65 -0.35 Ample portions and good prices.\n",
            "neg +0.31 -0.69 Poor service, the waiter made me feel like I was stupid every time he came to the table.\n",
            "pos +0.82 -0.18 My first visit to Hiro was a delight!\n",
            "neg +0.09 -0.91 Service sucks.\n",
            "pos +0.53 -0.47 The shrimp tender and moist.\n",
            "neg +0.42 -0.58 There is not a deal good enough that would drag me into that establishment again.\n",
            "neg +0.44 -0.56 Hard to judge whether these sides were good because we were grossed out by the melted styrofoam and didn't want to eat it for fear of getting sick.\n",
            "pos +0.96 -0.04 On a positive note, our server was very attentive and provided great service.\n",
            "neg +0.10 -0.90 Frozen pucks of disgust, with some of the worst people behind the register.\n",
            "pos +0.83 -0.17 The only thing I did like was the prime rib and dessert section.\n",
            "neg +0.14 -0.86 It's too bad the food is so damn generic.\n",
            "neg +0.18 -0.82 The burger is good beef, cooked just right.\n",
            "neg +0.14 -0.86 If you want a sandwich just go to any Firehouse!!!!!\n",
            "pos +0.99 -0.01 My side Greek salad with the Greek dressing was so tasty, and the pita and hummus was very refreshing.\n",
            "pos +0.99 -0.01 We ordered the duck rare and it was pink and tender on the inside with a nice char on the outside.\n",
            "pos +0.77 -0.23 He came running after us when he realized my husband had left his sunglasses on the table.\n",
            "neg +0.48 -0.52 Their chow mein is so good!\n",
            "pos +0.88 -0.12 They have horrible attitudes towards customers, and talk down to each one when customers don't enjoy their food.\n",
            "neg +0.49 -0.51 The portion was huge!\n",
            "pos +0.97 -0.03 Loved it...friendly servers, great food, wonderful and imaginative menu.\n",
            "neg +0.19 -0.81 The Heart Attack Grill in downtown Vegas is an absolutely flat-lined excuse for a restaurant.\n",
            "pos +0.78 -0.22 Not much seafood and like 5 strings of pasta at the bottom.\n",
            "pos +0.98 -0.02 The salad had just the right amount of sauce to not over power the scallop, which was perfectly cooked.\n",
            "neg +0.13 -0.87 The ripped banana was not only ripped, but petrified and tasteless.\n",
            "pos +0.76 -0.24 At least think to refill my water before I struggle to wave you over for 10 minutes.\n",
            "pos +0.82 -0.18 This place receives stars for their APPETIZERS!!!\n",
            "pos +0.88 -0.12 The cocktails are all handmade and delicious.\n",
            "pos +0.64 -0.36 We'd definitely go back here again.\n",
            "pos +0.61 -0.39 We are so glad we found this place.\n"
          ],
          "name": "stdout"
        }
      ]
    },
    {
      "cell_type": "code",
      "metadata": {
        "colab": {
          "base_uri": "https://localhost:8080/"
        },
        "id": "KYBoKy7fmJLU",
        "outputId": "b3e28dff-617e-440b-a5ae-005e57b8bded"
      },
      "source": [
        "#Pattern Analyzer\r\n",
        "tb = Blobber(analyzer=PatternAnalyzer())\r\n",
        "for sentence in blob.sentences:\r\n",
        "  sentiment = tb(str(sentence)).sentiment\r\n",
        "  classification = 'pos' if sentiment.polarity >= 0 else 'neg'\r\n",
        "  print('{} {:+.2f} {:.2f} {}'.format(classification,sentiment.polarity,sentiment.subjectivity,sentence))"
      ],
      "execution_count": null,
      "outputs": [
        {
          "output_type": "stream",
          "text": [
            "pos +0.35 0.30 That's right....the red velvet cake.....ohhh this stuff is so good.\n",
            "pos +0.00 0.00 They never brought a salad we asked for.\n",
            "pos +0.39 0.42 This hole in the wall has great Mexican street tacos, and friendly staff.\n",
            "pos +0.20 0.78 Took an hour to get our food only 4 tables in restaurant my food was Luke warm, Our sever was running around like he was totally overwhelmed.\n",
            "neg -1.00 1.00 The worst was the salmon sashimi.\n",
            "pos +0.17 0.67 Also there are combos like a burger, fries, and beer for 23 which is a decent deal.\n",
            "pos +0.00 1.00 This was like the final blow!\n",
            "pos +0.00 0.00 I found this place by accident and I could not be happier.\n",
            "pos +0.47 0.53 seems like a good quick place to grab a bite of some familiar pub food, but do yourself a favor and look elsewhere.\n",
            "pos +0.00 0.00 Overall, I like this place a lot.\n",
            "pos +0.23 0.60 The only redeeming quality of the restaurant was that it was very inexpensive.\n",
            "pos +0.70 0.60 Ample portions and good prices.\n",
            "neg -0.60 0.80 Poor service, the waiter made me feel like I was stupid every time he came to the table.\n",
            "pos +0.31 0.33 My first visit to Hiro was a delight!\n",
            "neg -0.30 0.30 Service sucks.\n",
            "pos +0.00 0.00 The shrimp tender and moist.\n",
            "pos +0.20 0.39 There is not a deal good enough that would drag me into that establishment again.\n",
            "neg -0.10 0.67 Hard to judge whether these sides were good because we were grossed out by the melted styrofoam and didn't want to eat it for fear of getting sick.\n",
            "pos +0.52 0.77 On a positive note, our server was very attentive and provided great service.\n",
            "neg -0.70 0.85 Frozen pucks of disgust, with some of the worst people behind the register.\n",
            "pos +0.00 1.00 The only thing I did like was the prime rib and dessert section.\n",
            "neg -0.35 0.33 It's too bad the food is so damn generic.\n",
            "pos +0.49 0.57 The burger is good beef, cooked just right.\n",
            "pos +0.00 0.00 If you want a sandwich just go to any Firehouse!!!!!\n",
            "pos +0.22 0.33 My side Greek salad with the Greek dressing was so tasty, and the pita and hummus was very refreshing.\n",
            "pos +0.20 0.56 We ordered the duck rare and it was pink and tender on the inside with a nice char on the outside.\n",
            "pos +0.00 0.00 He came running after us when he realized my husband had left his sunglasses on the table.\n",
            "pos +0.88 0.60 Their chow mein is so good!\n",
            "neg -0.25 0.60 They have horrible attitudes towards customers, and talk down to each one when customers don't enjoy their food.\n",
            "pos +0.50 0.90 The portion was huge!\n",
            "pos +0.78 0.81 Loved it...friendly servers, great food, wonderful and imaginative menu.\n",
            "pos +0.08 0.48 The Heart Attack Grill in downtown Vegas is an absolutely flat-lined excuse for a restaurant.\n",
            "neg -0.10 0.20 Not much seafood and like 5 strings of pasta at the bottom.\n",
            "pos +0.64 0.77 The salad had just the right amount of sauce to not over power the scallop, which was perfectly cooked.\n",
            "neg -0.30 0.95 The ripped banana was not only ripped, but petrified and tasteless.\n",
            "neg -0.30 0.40 At least think to refill my water before I struggle to wave you over for 10 minutes.\n",
            "pos +0.00 0.00 This place receives stars for their APPETIZERS!!!\n",
            "pos +1.00 1.00 The cocktails are all handmade and delicious.\n",
            "pos +0.00 0.00 We'd definitely go back here again.\n",
            "pos +0.50 1.00 We are so glad we found this place.\n"
          ],
          "name": "stdout"
        }
      ]
    },
    {
      "cell_type": "code",
      "metadata": {
        "id": "RpQc4_gqm29z"
      },
      "source": [
        ""
      ],
      "execution_count": null,
      "outputs": []
    }
  ]
}