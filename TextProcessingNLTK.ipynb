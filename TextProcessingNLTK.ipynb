{
  "nbformat": 4,
  "nbformat_minor": 0,
  "metadata": {
    "colab": {
      "name": "TextProcessingNLTK.ipynb",
      "provenance": [],
      "collapsed_sections": [],
      "authorship_tag": "ABX9TyPVvi88EfPVBIDwwr9CmmhE",
      "include_colab_link": true
    },
    "kernelspec": {
      "display_name": "Python 3",
      "name": "python3"
    }
  },
  "cells": [
    {
      "cell_type": "markdown",
      "metadata": {
        "id": "view-in-github",
        "colab_type": "text"
      },
      "source": [
        "<a href=\"https://colab.research.google.com/github/SBANTHIYA/Data-Science-and-Analytics-Portfolio/blob/master/TextProcessingNLTK.ipynb\" target=\"_parent\"><img src=\"https://colab.research.google.com/assets/colab-badge.svg\" alt=\"Open In Colab\"/></a>"
      ]
    },
    {
      "cell_type": "markdown",
      "metadata": {
        "id": "SXA2XuPHE8gy"
      },
      "source": [
        "#Assignment 1 - Text Preprocessing using Text Blob\r\n",
        "#Natural Language Processing\r\n",
        "#By Swati Banthiya\r\n",
        "\r\n",
        "\r\n",
        "Question: Follow the tutorial, given a news article news article.txt  ,  the following steps should be completed:\r\n",
        "\r\n",
        "1.\tDetect sentences in the given news article (4 points)\r\n",
        "\r\n",
        "2.\tTokenize each sentence into words (4 points)\r\n",
        "\r\n",
        "3.\tPerform Part-of-Speech (POS) on each sentence (6 points)\r\n",
        "\r\n",
        "4.\tFind name entities including person’s name entities and \r\n",
        "locations (6 points)\r\n",
        "\r\n",
        "Please include your screen shots for each of the above steps and also the results of each step in your report. Please submit your report in Canvas.\r\n"
      ]
    },
    {
      "cell_type": "code",
      "metadata": {
        "colab": {
          "base_uri": "https://localhost:8080/"
        },
        "id": "mfm6vv5eE62z",
        "outputId": "12cf0784-5dcc-44b1-9f09-bc707e50ce6a"
      },
      "source": [
        "import nltk\r\n",
        "nltk.download('punkt')\r\n",
        "nltk.download('averaged_perceptron_tagger')\r\n",
        "nltk.download('treebank')\r\n",
        "nltk.download('maxent_ne_chunker')\r\n",
        "from nltk.corpus import treebank_chunk \r\n",
        "from nltk.chunk import ne_chunk \r\n",
        "from nltk.tokenize import sent_tokenize, word_tokenize\r\n",
        "from nltk.tokenize import RegexpTokenizer\r\n",
        "import nltk.tag \r\n",
        "from nltk.chunk.util import conlltags2tree \r\n",
        "from nltk.corpus import ieer \r\n",
        "nltk.download('ieer')\r\n",
        "from nltk.tag import StanfordNERTagger\r\n"
      ],
      "execution_count": 19,
      "outputs": [
        {
          "output_type": "stream",
          "text": [
            "[nltk_data] Downloading package punkt to /root/nltk_data...\n",
            "[nltk_data]   Package punkt is already up-to-date!\n",
            "[nltk_data] Downloading package averaged_perceptron_tagger to\n",
            "[nltk_data]     /root/nltk_data...\n",
            "[nltk_data]   Package averaged_perceptron_tagger is already up-to-\n",
            "[nltk_data]       date!\n",
            "[nltk_data] Downloading package treebank to /root/nltk_data...\n",
            "[nltk_data]   Package treebank is already up-to-date!\n",
            "[nltk_data] Downloading package maxent_ne_chunker to\n",
            "[nltk_data]     /root/nltk_data...\n",
            "[nltk_data]   Package maxent_ne_chunker is already up-to-date!\n",
            "[nltk_data] Downloading package ieer to /root/nltk_data...\n",
            "[nltk_data]   Package ieer is already up-to-date!\n"
          ],
          "name": "stdout"
        }
      ]
    },
    {
      "cell_type": "code",
      "metadata": {
        "colab": {
          "base_uri": "https://localhost:8080/"
        },
        "id": "fw1xk-vyFh1q",
        "outputId": "23ed818b-5f53-4e34-84df-e3e4e735be30"
      },
      "source": [
        "# Mount Google Drive\r\n",
        "from google.colab import drive\r\n",
        "drive.mount('/content/drive')"
      ],
      "execution_count": 3,
      "outputs": [
        {
          "output_type": "stream",
          "text": [
            "Mounted at /content/drive\n"
          ],
          "name": "stdout"
        }
      ]
    },
    {
      "cell_type": "code",
      "metadata": {
        "id": "_gs09QnMG2pW"
      },
      "source": [
        "#loading the data from the text file provided for the Assignment\r\n",
        "with open('/content/drive/My Drive/data/news article.txt', 'r') as file:\r\n",
        "      text = file.read().replace('\\n', ' ')"
      ],
      "execution_count": 4,
      "outputs": []
    },
    {
      "cell_type": "markdown",
      "metadata": {
        "id": "HOcdZ9QEsOsa"
      },
      "source": [
        "# Part 1: Sentence Detection in NLTK\r\n",
        "\r\n",
        "The code detected 17 sentences in the order in which they appear in the News article."
      ]
    },
    {
      "cell_type": "code",
      "metadata": {
        "colab": {
          "base_uri": "https://localhost:8080/"
        },
        "id": "iZ6H24gAr8Hr",
        "outputId": "97067153-12da-4ea1-8a04-d0dacd28e983"
      },
      "source": [
        "# Approach 1\r\n",
        "\r\n",
        "from nltk.tokenize import sent_tokenize \r\n",
        "  \r\n",
        "\r\n",
        "sent_tokenize(text) \r\n"
      ],
      "execution_count": 5,
      "outputs": [
        {
          "output_type": "execute_result",
          "data": {
            "text/plain": [
              "['Anglo-French Channel Tunnel operator Eurotunnel Monday announced a deal giving its creditor banks 45.5 percent of the company in return for wiping out one billion pounds ($1.56 billion) of its debt.',\n",
              " 'The long-awaited restructuring brings to an end months of wrangling between Eurotunnel and the 225 banks to which it owes nearly nine billion pounds ($14.1 billion).',\n",
              " 'The deal, announced simultaneously in Paris and London, brings the company back from the brink of insolvency but leaves shareholders owning only 54.5 percent of the company.',\n",
              " '\"The restructuring plan provides Eurotunnel with the medium-term financial stability to allow it to consolidate its substantial commercial achievements to date and to develop its operations,\" Eurotunnel co-chairman Alastair Morton said.',\n",
              " 'The firm was now making a profit before interest, he added.',\n",
              " \"Although shareholders will see their interests diluted, they were offered the prospect of a brighter future after months of uncertainty while Eurotunnel wrestled to reduce crippling interest payments negotiated during the tunnel's construction.\",\n",
              " 'Eurotunnel, which has taken around half the cross-Channel market from the European ferry companies, said a strong operating performance could allow it to pay its first dividend within the next 10 years.',\n",
              " \"French co-chairman Patrick Ponsolle said shareholders would have to be patient before they could reap the benefits of the company's success.\",\n",
              " 'He called the debt restructuring plan \"an acceptable compromise\" for holders of Eurotunnel shares.',\n",
              " 'The company said there was still considerable work to be done to finalise and agree on the details of the plan before it can be submitted to shareholders and the full 225 bank syndicate for approval, probably early in 1997.',\n",
              " \"Monday's announcement followed two weeks of highly secretive negotiations between Eurotunnel and its six leading banks.\",\n",
              " 'This was extended to the 24 \"instructing banks\" at a meeting late last week in London.',\n",
              " 'Eurotunnel said the debt-for-equity swap would be at 130 pence, or 10.40 francs, per share.',\n",
              " 'That is considerably below the level of around 160 pence widely reported before announcement of the deal, and will reduce outstanding debt of 8.7 billion pounds ($13.6 billion) by 1.0 billion ($1.56 billion).',\n",
              " 'The company said a further 3.7 billion pounds ($5.8 billion) of debt would be converted into new financial instruments and existing shareholders would be able to participate in this issue.',\n",
              " \"If they choose not to take up free warrants entitling them to subscribe to this, Eurotunnel said shareholders' interests may be reduced further to just over 39 percent of the company by the end of December 2003.\",\n",
              " \"Eurotunnel's shares, which were suspended last week at 113.5 pence ahead of Monday's announcement, should resume trading on Tuesday, the company said.\"]"
            ]
          },
          "metadata": {
            "tags": []
          },
          "execution_count": 5
        }
      ]
    },
    {
      "cell_type": "code",
      "metadata": {
        "colab": {
          "base_uri": "https://localhost:8080/"
        },
        "id": "yQ0jx9fksit0",
        "outputId": "d4bb3551-a963-4d9b-d72e-287600f105ef"
      },
      "source": [
        "# Approach 2\r\n",
        "\r\n",
        "import nltk.data \r\n",
        "# Loading PunktSentenceTokenizer using English pickle file \r\n",
        "tokenizer = nltk.data.load('tokenizers/punkt/PY3/english.pickle') \r\n",
        "tokenizer.tokenize(text) "
      ],
      "execution_count": 6,
      "outputs": [
        {
          "output_type": "execute_result",
          "data": {
            "text/plain": [
              "['Anglo-French Channel Tunnel operator Eurotunnel Monday announced a deal giving its creditor banks 45.5 percent of the company in return for wiping out one billion pounds ($1.56 billion) of its debt.',\n",
              " 'The long-awaited restructuring brings to an end months of wrangling between Eurotunnel and the 225 banks to which it owes nearly nine billion pounds ($14.1 billion).',\n",
              " 'The deal, announced simultaneously in Paris and London, brings the company back from the brink of insolvency but leaves shareholders owning only 54.5 percent of the company.',\n",
              " '\"The restructuring plan provides Eurotunnel with the medium-term financial stability to allow it to consolidate its substantial commercial achievements to date and to develop its operations,\" Eurotunnel co-chairman Alastair Morton said.',\n",
              " 'The firm was now making a profit before interest, he added.',\n",
              " \"Although shareholders will see their interests diluted, they were offered the prospect of a brighter future after months of uncertainty while Eurotunnel wrestled to reduce crippling interest payments negotiated during the tunnel's construction.\",\n",
              " 'Eurotunnel, which has taken around half the cross-Channel market from the European ferry companies, said a strong operating performance could allow it to pay its first dividend within the next 10 years.',\n",
              " \"French co-chairman Patrick Ponsolle said shareholders would have to be patient before they could reap the benefits of the company's success.\",\n",
              " 'He called the debt restructuring plan \"an acceptable compromise\" for holders of Eurotunnel shares.',\n",
              " 'The company said there was still considerable work to be done to finalise and agree on the details of the plan before it can be submitted to shareholders and the full 225 bank syndicate for approval, probably early in 1997.',\n",
              " \"Monday's announcement followed two weeks of highly secretive negotiations between Eurotunnel and its six leading banks.\",\n",
              " 'This was extended to the 24 \"instructing banks\" at a meeting late last week in London.',\n",
              " 'Eurotunnel said the debt-for-equity swap would be at 130 pence, or 10.40 francs, per share.',\n",
              " 'That is considerably below the level of around 160 pence widely reported before announcement of the deal, and will reduce outstanding debt of 8.7 billion pounds ($13.6 billion) by 1.0 billion ($1.56 billion).',\n",
              " 'The company said a further 3.7 billion pounds ($5.8 billion) of debt would be converted into new financial instruments and existing shareholders would be able to participate in this issue.',\n",
              " \"If they choose not to take up free warrants entitling them to subscribe to this, Eurotunnel said shareholders' interests may be reduced further to just over 39 percent of the company by the end of December 2003.\",\n",
              " \"Eurotunnel's shares, which were suspended last week at 113.5 pence ahead of Monday's announcement, should resume trading on Tuesday, the company said.\"]"
            ]
          },
          "metadata": {
            "tags": []
          },
          "execution_count": 6
        }
      ]
    },
    {
      "cell_type": "markdown",
      "metadata": {
        "id": "eyKbnsTKrOWw"
      },
      "source": [
        "#Part 2: Tokenization in NLTK\r\n",
        "\r\n",
        "This part requires us to tokenize each sentence into words."
      ]
    },
    {
      "cell_type": "code",
      "metadata": {
        "colab": {
          "base_uri": "https://localhost:8080/"
        },
        "id": "kQ3iy6xCqrYk",
        "outputId": "cadeda58-974a-49be-963c-47bbd1d04a36"
      },
      "source": [
        "#Approach 1- with punctuation\r\n",
        "from nltk.tokenize import sent_tokenize, word_tokenize\r\n",
        "result = [word_tokenize(t) for t in sent_tokenize(text)]\r\n",
        "print(\"\\nRead the list:\")\r\n",
        "for s in result:\r\n",
        "    print (s)"
      ],
      "execution_count": 7,
      "outputs": [
        {
          "output_type": "stream",
          "text": [
            "\n",
            "Read the list:\n",
            "['Anglo-French', 'Channel', 'Tunnel', 'operator', 'Eurotunnel', 'Monday', 'announced', 'a', 'deal', 'giving', 'its', 'creditor', 'banks', '45.5', 'percent', 'of', 'the', 'company', 'in', 'return', 'for', 'wiping', 'out', 'one', 'billion', 'pounds', '(', '$', '1.56', 'billion', ')', 'of', 'its', 'debt', '.']\n",
            "['The', 'long-awaited', 'restructuring', 'brings', 'to', 'an', 'end', 'months', 'of', 'wrangling', 'between', 'Eurotunnel', 'and', 'the', '225', 'banks', 'to', 'which', 'it', 'owes', 'nearly', 'nine', 'billion', 'pounds', '(', '$', '14.1', 'billion', ')', '.']\n",
            "['The', 'deal', ',', 'announced', 'simultaneously', 'in', 'Paris', 'and', 'London', ',', 'brings', 'the', 'company', 'back', 'from', 'the', 'brink', 'of', 'insolvency', 'but', 'leaves', 'shareholders', 'owning', 'only', '54.5', 'percent', 'of', 'the', 'company', '.']\n",
            "['``', 'The', 'restructuring', 'plan', 'provides', 'Eurotunnel', 'with', 'the', 'medium-term', 'financial', 'stability', 'to', 'allow', 'it', 'to', 'consolidate', 'its', 'substantial', 'commercial', 'achievements', 'to', 'date', 'and', 'to', 'develop', 'its', 'operations', ',', \"''\", 'Eurotunnel', 'co-chairman', 'Alastair', 'Morton', 'said', '.']\n",
            "['The', 'firm', 'was', 'now', 'making', 'a', 'profit', 'before', 'interest', ',', 'he', 'added', '.']\n",
            "['Although', 'shareholders', 'will', 'see', 'their', 'interests', 'diluted', ',', 'they', 'were', 'offered', 'the', 'prospect', 'of', 'a', 'brighter', 'future', 'after', 'months', 'of', 'uncertainty', 'while', 'Eurotunnel', 'wrestled', 'to', 'reduce', 'crippling', 'interest', 'payments', 'negotiated', 'during', 'the', 'tunnel', \"'s\", 'construction', '.']\n",
            "['Eurotunnel', ',', 'which', 'has', 'taken', 'around', 'half', 'the', 'cross-Channel', 'market', 'from', 'the', 'European', 'ferry', 'companies', ',', 'said', 'a', 'strong', 'operating', 'performance', 'could', 'allow', 'it', 'to', 'pay', 'its', 'first', 'dividend', 'within', 'the', 'next', '10', 'years', '.']\n",
            "['French', 'co-chairman', 'Patrick', 'Ponsolle', 'said', 'shareholders', 'would', 'have', 'to', 'be', 'patient', 'before', 'they', 'could', 'reap', 'the', 'benefits', 'of', 'the', 'company', \"'s\", 'success', '.']\n",
            "['He', 'called', 'the', 'debt', 'restructuring', 'plan', '``', 'an', 'acceptable', 'compromise', \"''\", 'for', 'holders', 'of', 'Eurotunnel', 'shares', '.']\n",
            "['The', 'company', 'said', 'there', 'was', 'still', 'considerable', 'work', 'to', 'be', 'done', 'to', 'finalise', 'and', 'agree', 'on', 'the', 'details', 'of', 'the', 'plan', 'before', 'it', 'can', 'be', 'submitted', 'to', 'shareholders', 'and', 'the', 'full', '225', 'bank', 'syndicate', 'for', 'approval', ',', 'probably', 'early', 'in', '1997', '.']\n",
            "['Monday', \"'s\", 'announcement', 'followed', 'two', 'weeks', 'of', 'highly', 'secretive', 'negotiations', 'between', 'Eurotunnel', 'and', 'its', 'six', 'leading', 'banks', '.']\n",
            "['This', 'was', 'extended', 'to', 'the', '24', '``', 'instructing', 'banks', \"''\", 'at', 'a', 'meeting', 'late', 'last', 'week', 'in', 'London', '.']\n",
            "['Eurotunnel', 'said', 'the', 'debt-for-equity', 'swap', 'would', 'be', 'at', '130', 'pence', ',', 'or', '10.40', 'francs', ',', 'per', 'share', '.']\n",
            "['That', 'is', 'considerably', 'below', 'the', 'level', 'of', 'around', '160', 'pence', 'widely', 'reported', 'before', 'announcement', 'of', 'the', 'deal', ',', 'and', 'will', 'reduce', 'outstanding', 'debt', 'of', '8.7', 'billion', 'pounds', '(', '$', '13.6', 'billion', ')', 'by', '1.0', 'billion', '(', '$', '1.56', 'billion', ')', '.']\n",
            "['The', 'company', 'said', 'a', 'further', '3.7', 'billion', 'pounds', '(', '$', '5.8', 'billion', ')', 'of', 'debt', 'would', 'be', 'converted', 'into', 'new', 'financial', 'instruments', 'and', 'existing', 'shareholders', 'would', 'be', 'able', 'to', 'participate', 'in', 'this', 'issue', '.']\n",
            "['If', 'they', 'choose', 'not', 'to', 'take', 'up', 'free', 'warrants', 'entitling', 'them', 'to', 'subscribe', 'to', 'this', ',', 'Eurotunnel', 'said', 'shareholders', \"'\", 'interests', 'may', 'be', 'reduced', 'further', 'to', 'just', 'over', '39', 'percent', 'of', 'the', 'company', 'by', 'the', 'end', 'of', 'December', '2003', '.']\n",
            "['Eurotunnel', \"'s\", 'shares', ',', 'which', 'were', 'suspended', 'last', 'week', 'at', '113.5', 'pence', 'ahead', 'of', 'Monday', \"'s\", 'announcement', ',', 'should', 'resume', 'trading', 'on', 'Tuesday', ',', 'the', 'company', 'said', '.']\n"
          ],
          "name": "stdout"
        }
      ]
    },
    {
      "cell_type": "code",
      "metadata": {
        "colab": {
          "base_uri": "https://localhost:8080/"
        },
        "id": "aNjum25WWtvT",
        "outputId": "5b5e4ebd-72c7-4499-c099-9411274c53ae"
      },
      "source": [
        "##Approach 2- without punctuation\r\n",
        "from nltk.tokenize import RegexpTokenizer\r\n",
        "\r\n",
        "tokenizer = RegexpTokenizer(r'\\w+')\r\n",
        "\r\n",
        "result = [tokenizer.tokenize(t) for t in sent_tokenize(text)]\r\n",
        "print(\"\\nRead the list:\")\r\n",
        "for s in result:\r\n",
        "    print(s)"
      ],
      "execution_count": 8,
      "outputs": [
        {
          "output_type": "stream",
          "text": [
            "\n",
            "Read the list:\n",
            "['Anglo', 'French', 'Channel', 'Tunnel', 'operator', 'Eurotunnel', 'Monday', 'announced', 'a', 'deal', 'giving', 'its', 'creditor', 'banks', '45', '5', 'percent', 'of', 'the', 'company', 'in', 'return', 'for', 'wiping', 'out', 'one', 'billion', 'pounds', '1', '56', 'billion', 'of', 'its', 'debt']\n",
            "['The', 'long', 'awaited', 'restructuring', 'brings', 'to', 'an', 'end', 'months', 'of', 'wrangling', 'between', 'Eurotunnel', 'and', 'the', '225', 'banks', 'to', 'which', 'it', 'owes', 'nearly', 'nine', 'billion', 'pounds', '14', '1', 'billion']\n",
            "['The', 'deal', 'announced', 'simultaneously', 'in', 'Paris', 'and', 'London', 'brings', 'the', 'company', 'back', 'from', 'the', 'brink', 'of', 'insolvency', 'but', 'leaves', 'shareholders', 'owning', 'only', '54', '5', 'percent', 'of', 'the', 'company']\n",
            "['The', 'restructuring', 'plan', 'provides', 'Eurotunnel', 'with', 'the', 'medium', 'term', 'financial', 'stability', 'to', 'allow', 'it', 'to', 'consolidate', 'its', 'substantial', 'commercial', 'achievements', 'to', 'date', 'and', 'to', 'develop', 'its', 'operations', 'Eurotunnel', 'co', 'chairman', 'Alastair', 'Morton', 'said']\n",
            "['The', 'firm', 'was', 'now', 'making', 'a', 'profit', 'before', 'interest', 'he', 'added']\n",
            "['Although', 'shareholders', 'will', 'see', 'their', 'interests', 'diluted', 'they', 'were', 'offered', 'the', 'prospect', 'of', 'a', 'brighter', 'future', 'after', 'months', 'of', 'uncertainty', 'while', 'Eurotunnel', 'wrestled', 'to', 'reduce', 'crippling', 'interest', 'payments', 'negotiated', 'during', 'the', 'tunnel', 's', 'construction']\n",
            "['Eurotunnel', 'which', 'has', 'taken', 'around', 'half', 'the', 'cross', 'Channel', 'market', 'from', 'the', 'European', 'ferry', 'companies', 'said', 'a', 'strong', 'operating', 'performance', 'could', 'allow', 'it', 'to', 'pay', 'its', 'first', 'dividend', 'within', 'the', 'next', '10', 'years']\n",
            "['French', 'co', 'chairman', 'Patrick', 'Ponsolle', 'said', 'shareholders', 'would', 'have', 'to', 'be', 'patient', 'before', 'they', 'could', 'reap', 'the', 'benefits', 'of', 'the', 'company', 's', 'success']\n",
            "['He', 'called', 'the', 'debt', 'restructuring', 'plan', 'an', 'acceptable', 'compromise', 'for', 'holders', 'of', 'Eurotunnel', 'shares']\n",
            "['The', 'company', 'said', 'there', 'was', 'still', 'considerable', 'work', 'to', 'be', 'done', 'to', 'finalise', 'and', 'agree', 'on', 'the', 'details', 'of', 'the', 'plan', 'before', 'it', 'can', 'be', 'submitted', 'to', 'shareholders', 'and', 'the', 'full', '225', 'bank', 'syndicate', 'for', 'approval', 'probably', 'early', 'in', '1997']\n",
            "['Monday', 's', 'announcement', 'followed', 'two', 'weeks', 'of', 'highly', 'secretive', 'negotiations', 'between', 'Eurotunnel', 'and', 'its', 'six', 'leading', 'banks']\n",
            "['This', 'was', 'extended', 'to', 'the', '24', 'instructing', 'banks', 'at', 'a', 'meeting', 'late', 'last', 'week', 'in', 'London']\n",
            "['Eurotunnel', 'said', 'the', 'debt', 'for', 'equity', 'swap', 'would', 'be', 'at', '130', 'pence', 'or', '10', '40', 'francs', 'per', 'share']\n",
            "['That', 'is', 'considerably', 'below', 'the', 'level', 'of', 'around', '160', 'pence', 'widely', 'reported', 'before', 'announcement', 'of', 'the', 'deal', 'and', 'will', 'reduce', 'outstanding', 'debt', 'of', '8', '7', 'billion', 'pounds', '13', '6', 'billion', 'by', '1', '0', 'billion', '1', '56', 'billion']\n",
            "['The', 'company', 'said', 'a', 'further', '3', '7', 'billion', 'pounds', '5', '8', 'billion', 'of', 'debt', 'would', 'be', 'converted', 'into', 'new', 'financial', 'instruments', 'and', 'existing', 'shareholders', 'would', 'be', 'able', 'to', 'participate', 'in', 'this', 'issue']\n",
            "['If', 'they', 'choose', 'not', 'to', 'take', 'up', 'free', 'warrants', 'entitling', 'them', 'to', 'subscribe', 'to', 'this', 'Eurotunnel', 'said', 'shareholders', 'interests', 'may', 'be', 'reduced', 'further', 'to', 'just', 'over', '39', 'percent', 'of', 'the', 'company', 'by', 'the', 'end', 'of', 'December', '2003']\n",
            "['Eurotunnel', 's', 'shares', 'which', 'were', 'suspended', 'last', 'week', 'at', '113', '5', 'pence', 'ahead', 'of', 'Monday', 's', 'announcement', 'should', 'resume', 'trading', 'on', 'Tuesday', 'the', 'company', 'said']\n"
          ],
          "name": "stdout"
        }
      ]
    },
    {
      "cell_type": "markdown",
      "metadata": {
        "id": "6yvyB5cuX0JQ"
      },
      "source": [
        "#Part 3: Parts-of-Speech Tagging in NLTK\r\n",
        "\r\n",
        "\r\n",
        "This part requires us to perform parts-of-speech on each sentence of the news article."
      ]
    },
    {
      "cell_type": "code",
      "metadata": {
        "colab": {
          "base_uri": "https://localhost:8080/"
        },
        "id": "WlPaIzqV5XLZ",
        "outputId": "bdf1fc22-15b5-4174-cdbf-c3028d870e5d"
      },
      "source": [
        "#Approach 1- with punctuation\r\n",
        "\r\n",
        "#tokenizing sentences\r\n",
        "sentences = nltk.sent_tokenize(text)\r\n",
        "#tokenizing words\r\n",
        "words = nltk.word_tokenize(text)\r\n",
        "result = [word_tokenize(t) for t in sent_tokenize(text)]\r\n",
        "#pos tagging\r\n",
        "for s in result: \r\n",
        "  text.split('\\n')\r\n",
        "  print(nltk.pos_tag(s))"
      ],
      "execution_count": 9,
      "outputs": [
        {
          "output_type": "stream",
          "text": [
            "[('Anglo-French', 'JJ'), ('Channel', 'NNP'), ('Tunnel', 'NNP'), ('operator', 'NN'), ('Eurotunnel', 'NNP'), ('Monday', 'NNP'), ('announced', 'VBD'), ('a', 'DT'), ('deal', 'NN'), ('giving', 'VBG'), ('its', 'PRP$'), ('creditor', 'NN'), ('banks', 'NNS'), ('45.5', 'CD'), ('percent', 'NN'), ('of', 'IN'), ('the', 'DT'), ('company', 'NN'), ('in', 'IN'), ('return', 'NN'), ('for', 'IN'), ('wiping', 'VBG'), ('out', 'RP'), ('one', 'CD'), ('billion', 'CD'), ('pounds', 'NNS'), ('(', '('), ('$', '$'), ('1.56', 'CD'), ('billion', 'CD'), (')', ')'), ('of', 'IN'), ('its', 'PRP$'), ('debt', 'NN'), ('.', '.')]\n",
            "[('The', 'DT'), ('long-awaited', 'JJ'), ('restructuring', 'NN'), ('brings', 'NNS'), ('to', 'TO'), ('an', 'DT'), ('end', 'JJ'), ('months', 'NNS'), ('of', 'IN'), ('wrangling', 'VBG'), ('between', 'IN'), ('Eurotunnel', 'NNP'), ('and', 'CC'), ('the', 'DT'), ('225', 'CD'), ('banks', 'NNS'), ('to', 'TO'), ('which', 'WDT'), ('it', 'PRP'), ('owes', 'VBZ'), ('nearly', 'RB'), ('nine', 'CD'), ('billion', 'CD'), ('pounds', 'NNS'), ('(', '('), ('$', '$'), ('14.1', 'CD'), ('billion', 'CD'), (')', ')'), ('.', '.')]\n",
            "[('The', 'DT'), ('deal', 'NN'), (',', ','), ('announced', 'VBD'), ('simultaneously', 'RB'), ('in', 'IN'), ('Paris', 'NNP'), ('and', 'CC'), ('London', 'NNP'), (',', ','), ('brings', 'VBZ'), ('the', 'DT'), ('company', 'NN'), ('back', 'RB'), ('from', 'IN'), ('the', 'DT'), ('brink', 'NN'), ('of', 'IN'), ('insolvency', 'NN'), ('but', 'CC'), ('leaves', 'VBZ'), ('shareholders', 'NNS'), ('owning', 'VBG'), ('only', 'RB'), ('54.5', 'CD'), ('percent', 'NN'), ('of', 'IN'), ('the', 'DT'), ('company', 'NN'), ('.', '.')]\n",
            "[('``', '``'), ('The', 'DT'), ('restructuring', 'NN'), ('plan', 'NN'), ('provides', 'VBZ'), ('Eurotunnel', 'NNP'), ('with', 'IN'), ('the', 'DT'), ('medium-term', 'JJ'), ('financial', 'JJ'), ('stability', 'NN'), ('to', 'TO'), ('allow', 'VB'), ('it', 'PRP'), ('to', 'TO'), ('consolidate', 'VB'), ('its', 'PRP$'), ('substantial', 'JJ'), ('commercial', 'JJ'), ('achievements', 'NNS'), ('to', 'TO'), ('date', 'NN'), ('and', 'CC'), ('to', 'TO'), ('develop', 'VB'), ('its', 'PRP$'), ('operations', 'NNS'), (',', ','), (\"''\", \"''\"), ('Eurotunnel', 'NNP'), ('co-chairman', 'JJ'), ('Alastair', 'NNP'), ('Morton', 'NNP'), ('said', 'VBD'), ('.', '.')]\n",
            "[('The', 'DT'), ('firm', 'NN'), ('was', 'VBD'), ('now', 'RB'), ('making', 'VBG'), ('a', 'DT'), ('profit', 'NN'), ('before', 'IN'), ('interest', 'NN'), (',', ','), ('he', 'PRP'), ('added', 'VBD'), ('.', '.')]\n",
            "[('Although', 'IN'), ('shareholders', 'NNS'), ('will', 'MD'), ('see', 'VB'), ('their', 'PRP$'), ('interests', 'NNS'), ('diluted', 'VBN'), (',', ','), ('they', 'PRP'), ('were', 'VBD'), ('offered', 'VBN'), ('the', 'DT'), ('prospect', 'NN'), ('of', 'IN'), ('a', 'DT'), ('brighter', 'NN'), ('future', 'NN'), ('after', 'IN'), ('months', 'NNS'), ('of', 'IN'), ('uncertainty', 'NN'), ('while', 'IN'), ('Eurotunnel', 'NNP'), ('wrestled', 'VBD'), ('to', 'TO'), ('reduce', 'VB'), ('crippling', 'VBG'), ('interest', 'NN'), ('payments', 'NNS'), ('negotiated', 'VBN'), ('during', 'IN'), ('the', 'DT'), ('tunnel', 'NN'), (\"'s\", 'POS'), ('construction', 'NN'), ('.', '.')]\n",
            "[('Eurotunnel', 'NNP'), (',', ','), ('which', 'WDT'), ('has', 'VBZ'), ('taken', 'VBN'), ('around', 'IN'), ('half', 'PDT'), ('the', 'DT'), ('cross-Channel', 'JJ'), ('market', 'NN'), ('from', 'IN'), ('the', 'DT'), ('European', 'NNP'), ('ferry', 'NN'), ('companies', 'NNS'), (',', ','), ('said', 'VBD'), ('a', 'DT'), ('strong', 'JJ'), ('operating', 'NN'), ('performance', 'NN'), ('could', 'MD'), ('allow', 'VB'), ('it', 'PRP'), ('to', 'TO'), ('pay', 'VB'), ('its', 'PRP$'), ('first', 'JJ'), ('dividend', 'NN'), ('within', 'IN'), ('the', 'DT'), ('next', 'JJ'), ('10', 'CD'), ('years', 'NNS'), ('.', '.')]\n",
            "[('French', 'JJ'), ('co-chairman', 'JJ'), ('Patrick', 'NNP'), ('Ponsolle', 'NNP'), ('said', 'VBD'), ('shareholders', 'NNS'), ('would', 'MD'), ('have', 'VB'), ('to', 'TO'), ('be', 'VB'), ('patient', 'JJ'), ('before', 'IN'), ('they', 'PRP'), ('could', 'MD'), ('reap', 'VB'), ('the', 'DT'), ('benefits', 'NNS'), ('of', 'IN'), ('the', 'DT'), ('company', 'NN'), (\"'s\", 'POS'), ('success', 'NN'), ('.', '.')]\n",
            "[('He', 'PRP'), ('called', 'VBD'), ('the', 'DT'), ('debt', 'NN'), ('restructuring', 'NN'), ('plan', 'NN'), ('``', '``'), ('an', 'DT'), ('acceptable', 'JJ'), ('compromise', 'NN'), (\"''\", \"''\"), ('for', 'IN'), ('holders', 'NNS'), ('of', 'IN'), ('Eurotunnel', 'NNP'), ('shares', 'NNS'), ('.', '.')]\n",
            "[('The', 'DT'), ('company', 'NN'), ('said', 'VBD'), ('there', 'EX'), ('was', 'VBD'), ('still', 'RB'), ('considerable', 'JJ'), ('work', 'NN'), ('to', 'TO'), ('be', 'VB'), ('done', 'VBN'), ('to', 'TO'), ('finalise', 'VB'), ('and', 'CC'), ('agree', 'VB'), ('on', 'IN'), ('the', 'DT'), ('details', 'NNS'), ('of', 'IN'), ('the', 'DT'), ('plan', 'NN'), ('before', 'IN'), ('it', 'PRP'), ('can', 'MD'), ('be', 'VB'), ('submitted', 'VBN'), ('to', 'TO'), ('shareholders', 'NNS'), ('and', 'CC'), ('the', 'DT'), ('full', 'JJ'), ('225', 'CD'), ('bank', 'NN'), ('syndicate', 'NN'), ('for', 'IN'), ('approval', 'NN'), (',', ','), ('probably', 'RB'), ('early', 'RB'), ('in', 'IN'), ('1997', 'CD'), ('.', '.')]\n",
            "[('Monday', 'NNP'), (\"'s\", 'POS'), ('announcement', 'NN'), ('followed', 'VBD'), ('two', 'CD'), ('weeks', 'NNS'), ('of', 'IN'), ('highly', 'RB'), ('secretive', 'JJ'), ('negotiations', 'NNS'), ('between', 'IN'), ('Eurotunnel', 'NNP'), ('and', 'CC'), ('its', 'PRP$'), ('six', 'CD'), ('leading', 'JJ'), ('banks', 'NNS'), ('.', '.')]\n",
            "[('This', 'DT'), ('was', 'VBD'), ('extended', 'VBN'), ('to', 'TO'), ('the', 'DT'), ('24', 'CD'), ('``', '``'), ('instructing', 'JJ'), ('banks', 'NNS'), (\"''\", \"''\"), ('at', 'IN'), ('a', 'DT'), ('meeting', 'NN'), ('late', 'JJ'), ('last', 'JJ'), ('week', 'NN'), ('in', 'IN'), ('London', 'NNP'), ('.', '.')]\n",
            "[('Eurotunnel', 'NNP'), ('said', 'VBD'), ('the', 'DT'), ('debt-for-equity', 'NN'), ('swap', 'NN'), ('would', 'MD'), ('be', 'VB'), ('at', 'IN'), ('130', 'CD'), ('pence', 'NN'), (',', ','), ('or', 'CC'), ('10.40', 'CD'), ('francs', 'NNS'), (',', ','), ('per', 'IN'), ('share', 'NN'), ('.', '.')]\n",
            "[('That', 'DT'), ('is', 'VBZ'), ('considerably', 'RB'), ('below', 'IN'), ('the', 'DT'), ('level', 'NN'), ('of', 'IN'), ('around', 'IN'), ('160', 'CD'), ('pence', 'NN'), ('widely', 'RB'), ('reported', 'VBD'), ('before', 'IN'), ('announcement', 'NN'), ('of', 'IN'), ('the', 'DT'), ('deal', 'NN'), (',', ','), ('and', 'CC'), ('will', 'MD'), ('reduce', 'VB'), ('outstanding', 'JJ'), ('debt', 'NN'), ('of', 'IN'), ('8.7', 'CD'), ('billion', 'CD'), ('pounds', 'NNS'), ('(', '('), ('$', '$'), ('13.6', 'CD'), ('billion', 'CD'), (')', ')'), ('by', 'IN'), ('1.0', 'CD'), ('billion', 'CD'), ('(', '('), ('$', '$'), ('1.56', 'CD'), ('billion', 'CD'), (')', ')'), ('.', '.')]\n",
            "[('The', 'DT'), ('company', 'NN'), ('said', 'VBD'), ('a', 'DT'), ('further', 'JJ'), ('3.7', 'CD'), ('billion', 'CD'), ('pounds', 'NNS'), ('(', '('), ('$', '$'), ('5.8', 'CD'), ('billion', 'CD'), (')', ')'), ('of', 'IN'), ('debt', 'NN'), ('would', 'MD'), ('be', 'VB'), ('converted', 'VBN'), ('into', 'IN'), ('new', 'JJ'), ('financial', 'JJ'), ('instruments', 'NNS'), ('and', 'CC'), ('existing', 'VBG'), ('shareholders', 'NNS'), ('would', 'MD'), ('be', 'VB'), ('able', 'JJ'), ('to', 'TO'), ('participate', 'VB'), ('in', 'IN'), ('this', 'DT'), ('issue', 'NN'), ('.', '.')]\n",
            "[('If', 'IN'), ('they', 'PRP'), ('choose', 'VBP'), ('not', 'RB'), ('to', 'TO'), ('take', 'VB'), ('up', 'RP'), ('free', 'JJ'), ('warrants', 'NNS'), ('entitling', 'VBG'), ('them', 'PRP'), ('to', 'TO'), ('subscribe', 'VB'), ('to', 'TO'), ('this', 'DT'), (',', ','), ('Eurotunnel', 'NNP'), ('said', 'VBD'), ('shareholders', 'NNS'), (\"'\", 'POS'), ('interests', 'NNS'), ('may', 'MD'), ('be', 'VB'), ('reduced', 'VBN'), ('further', 'JJ'), ('to', 'TO'), ('just', 'RB'), ('over', 'IN'), ('39', 'CD'), ('percent', 'NN'), ('of', 'IN'), ('the', 'DT'), ('company', 'NN'), ('by', 'IN'), ('the', 'DT'), ('end', 'NN'), ('of', 'IN'), ('December', 'NNP'), ('2003', 'CD'), ('.', '.')]\n",
            "[('Eurotunnel', 'NNP'), (\"'s\", 'POS'), ('shares', 'NNS'), (',', ','), ('which', 'WDT'), ('were', 'VBD'), ('suspended', 'VBN'), ('last', 'JJ'), ('week', 'NN'), ('at', 'IN'), ('113.5', 'CD'), ('pence', 'NN'), ('ahead', 'RB'), ('of', 'IN'), ('Monday', 'NNP'), (\"'s\", 'POS'), ('announcement', 'NN'), (',', ','), ('should', 'MD'), ('resume', 'VB'), ('trading', 'VBG'), ('on', 'IN'), ('Tuesday', 'NNP'), (',', ','), ('the', 'DT'), ('company', 'NN'), ('said', 'VBD'), ('.', '.')]\n"
          ],
          "name": "stdout"
        }
      ]
    },
    {
      "cell_type": "code",
      "metadata": {
        "colab": {
          "base_uri": "https://localhost:8080/"
        },
        "id": "nwbTh4Gqa-Tl",
        "outputId": "8ca8f4ff-000e-45ac-b0d8-b94cd105d44e"
      },
      "source": [
        "#Approach 2- without punctuation\r\n",
        "tokenizer = RegexpTokenizer(r'\\w+')\r\n",
        "#tokenizing sentences\r\n",
        "sentences = nltk.sent_tokenize(text)\r\n",
        "#tokenizing words\r\n",
        "words = nltk.word_tokenize(text)\r\n",
        "result = [tokenizer.tokenize(t) for t in sent_tokenize(text)]\r\n",
        "#pos tagging\r\n",
        "for s in result: \r\n",
        "  text.split('\\n')\r\n",
        "  print(nltk.pos_tag(s))"
      ],
      "execution_count": 10,
      "outputs": [
        {
          "output_type": "stream",
          "text": [
            "[('Anglo', 'NNP'), ('French', 'NNP'), ('Channel', 'NNP'), ('Tunnel', 'NNP'), ('operator', 'NN'), ('Eurotunnel', 'NNP'), ('Monday', 'NNP'), ('announced', 'VBD'), ('a', 'DT'), ('deal', 'NN'), ('giving', 'VBG'), ('its', 'PRP$'), ('creditor', 'NN'), ('banks', 'NNS'), ('45', 'CD'), ('5', 'CD'), ('percent', 'NN'), ('of', 'IN'), ('the', 'DT'), ('company', 'NN'), ('in', 'IN'), ('return', 'NN'), ('for', 'IN'), ('wiping', 'VBG'), ('out', 'RP'), ('one', 'CD'), ('billion', 'CD'), ('pounds', 'NNS'), ('1', 'CD'), ('56', 'CD'), ('billion', 'CD'), ('of', 'IN'), ('its', 'PRP$'), ('debt', 'NN')]\n",
            "[('The', 'DT'), ('long', 'JJ'), ('awaited', 'JJ'), ('restructuring', 'NN'), ('brings', 'NNS'), ('to', 'TO'), ('an', 'DT'), ('end', 'JJ'), ('months', 'NNS'), ('of', 'IN'), ('wrangling', 'VBG'), ('between', 'IN'), ('Eurotunnel', 'NNP'), ('and', 'CC'), ('the', 'DT'), ('225', 'CD'), ('banks', 'NNS'), ('to', 'TO'), ('which', 'WDT'), ('it', 'PRP'), ('owes', 'VBZ'), ('nearly', 'RB'), ('nine', 'CD'), ('billion', 'CD'), ('pounds', 'NNS'), ('14', 'CD'), ('1', 'CD'), ('billion', 'CD')]\n",
            "[('The', 'DT'), ('deal', 'NN'), ('announced', 'VBD'), ('simultaneously', 'RB'), ('in', 'IN'), ('Paris', 'NNP'), ('and', 'CC'), ('London', 'NNP'), ('brings', 'VBZ'), ('the', 'DT'), ('company', 'NN'), ('back', 'RB'), ('from', 'IN'), ('the', 'DT'), ('brink', 'NN'), ('of', 'IN'), ('insolvency', 'NN'), ('but', 'CC'), ('leaves', 'VBZ'), ('shareholders', 'NNS'), ('owning', 'VBG'), ('only', 'RB'), ('54', 'CD'), ('5', 'CD'), ('percent', 'NN'), ('of', 'IN'), ('the', 'DT'), ('company', 'NN')]\n",
            "[('The', 'DT'), ('restructuring', 'NN'), ('plan', 'NN'), ('provides', 'VBZ'), ('Eurotunnel', 'NNP'), ('with', 'IN'), ('the', 'DT'), ('medium', 'NN'), ('term', 'NN'), ('financial', 'JJ'), ('stability', 'NN'), ('to', 'TO'), ('allow', 'VB'), ('it', 'PRP'), ('to', 'TO'), ('consolidate', 'VB'), ('its', 'PRP$'), ('substantial', 'JJ'), ('commercial', 'JJ'), ('achievements', 'NNS'), ('to', 'TO'), ('date', 'NN'), ('and', 'CC'), ('to', 'TO'), ('develop', 'VB'), ('its', 'PRP$'), ('operations', 'NNS'), ('Eurotunnel', 'NNP'), ('co', 'NN'), ('chairman', 'NN'), ('Alastair', 'NNP'), ('Morton', 'NNP'), ('said', 'VBD')]\n",
            "[('The', 'DT'), ('firm', 'NN'), ('was', 'VBD'), ('now', 'RB'), ('making', 'VBG'), ('a', 'DT'), ('profit', 'NN'), ('before', 'IN'), ('interest', 'NN'), ('he', 'PRP'), ('added', 'VBD')]\n",
            "[('Although', 'IN'), ('shareholders', 'NNS'), ('will', 'MD'), ('see', 'VB'), ('their', 'PRP$'), ('interests', 'NNS'), ('diluted', 'VBD'), ('they', 'PRP'), ('were', 'VBD'), ('offered', 'VBN'), ('the', 'DT'), ('prospect', 'NN'), ('of', 'IN'), ('a', 'DT'), ('brighter', 'NN'), ('future', 'NN'), ('after', 'IN'), ('months', 'NNS'), ('of', 'IN'), ('uncertainty', 'NN'), ('while', 'IN'), ('Eurotunnel', 'NNP'), ('wrestled', 'VBD'), ('to', 'TO'), ('reduce', 'VB'), ('crippling', 'VBG'), ('interest', 'NN'), ('payments', 'NNS'), ('negotiated', 'VBN'), ('during', 'IN'), ('the', 'DT'), ('tunnel', 'NN'), ('s', 'NN'), ('construction', 'NN')]\n",
            "[('Eurotunnel', 'NNP'), ('which', 'WDT'), ('has', 'VBZ'), ('taken', 'VBN'), ('around', 'IN'), ('half', 'PDT'), ('the', 'DT'), ('cross', 'NN'), ('Channel', 'NNP'), ('market', 'NN'), ('from', 'IN'), ('the', 'DT'), ('European', 'NNP'), ('ferry', 'NN'), ('companies', 'NNS'), ('said', 'VBD'), ('a', 'DT'), ('strong', 'JJ'), ('operating', 'NN'), ('performance', 'NN'), ('could', 'MD'), ('allow', 'VB'), ('it', 'PRP'), ('to', 'TO'), ('pay', 'VB'), ('its', 'PRP$'), ('first', 'JJ'), ('dividend', 'NN'), ('within', 'IN'), ('the', 'DT'), ('next', 'JJ'), ('10', 'CD'), ('years', 'NNS')]\n",
            "[('French', 'JJ'), ('co', 'NN'), ('chairman', 'NN'), ('Patrick', 'NNP'), ('Ponsolle', 'NNP'), ('said', 'VBD'), ('shareholders', 'NNS'), ('would', 'MD'), ('have', 'VB'), ('to', 'TO'), ('be', 'VB'), ('patient', 'JJ'), ('before', 'IN'), ('they', 'PRP'), ('could', 'MD'), ('reap', 'VB'), ('the', 'DT'), ('benefits', 'NNS'), ('of', 'IN'), ('the', 'DT'), ('company', 'NN'), ('s', 'VBZ'), ('success', 'NN')]\n",
            "[('He', 'PRP'), ('called', 'VBD'), ('the', 'DT'), ('debt', 'NN'), ('restructuring', 'NN'), ('plan', 'NN'), ('an', 'DT'), ('acceptable', 'JJ'), ('compromise', 'NN'), ('for', 'IN'), ('holders', 'NNS'), ('of', 'IN'), ('Eurotunnel', 'NNP'), ('shares', 'NNS')]\n",
            "[('The', 'DT'), ('company', 'NN'), ('said', 'VBD'), ('there', 'EX'), ('was', 'VBD'), ('still', 'RB'), ('considerable', 'JJ'), ('work', 'NN'), ('to', 'TO'), ('be', 'VB'), ('done', 'VBN'), ('to', 'TO'), ('finalise', 'VB'), ('and', 'CC'), ('agree', 'VB'), ('on', 'IN'), ('the', 'DT'), ('details', 'NNS'), ('of', 'IN'), ('the', 'DT'), ('plan', 'NN'), ('before', 'IN'), ('it', 'PRP'), ('can', 'MD'), ('be', 'VB'), ('submitted', 'VBN'), ('to', 'TO'), ('shareholders', 'NNS'), ('and', 'CC'), ('the', 'DT'), ('full', 'JJ'), ('225', 'CD'), ('bank', 'NN'), ('syndicate', 'NN'), ('for', 'IN'), ('approval', 'NN'), ('probably', 'RB'), ('early', 'RB'), ('in', 'IN'), ('1997', 'CD')]\n",
            "[('Monday', 'NNP'), ('s', 'VBD'), ('announcement', 'NN'), ('followed', 'VBD'), ('two', 'CD'), ('weeks', 'NNS'), ('of', 'IN'), ('highly', 'RB'), ('secretive', 'JJ'), ('negotiations', 'NNS'), ('between', 'IN'), ('Eurotunnel', 'NNP'), ('and', 'CC'), ('its', 'PRP$'), ('six', 'CD'), ('leading', 'JJ'), ('banks', 'NNS')]\n",
            "[('This', 'DT'), ('was', 'VBD'), ('extended', 'VBN'), ('to', 'TO'), ('the', 'DT'), ('24', 'CD'), ('instructing', 'JJ'), ('banks', 'NNS'), ('at', 'IN'), ('a', 'DT'), ('meeting', 'NN'), ('late', 'JJ'), ('last', 'JJ'), ('week', 'NN'), ('in', 'IN'), ('London', 'NNP')]\n",
            "[('Eurotunnel', 'NNP'), ('said', 'VBD'), ('the', 'DT'), ('debt', 'NN'), ('for', 'IN'), ('equity', 'NN'), ('swap', 'NN'), ('would', 'MD'), ('be', 'VB'), ('at', 'IN'), ('130', 'CD'), ('pence', 'NN'), ('or', 'CC'), ('10', 'CD'), ('40', 'CD'), ('francs', 'NNS'), ('per', 'IN'), ('share', 'NN')]\n",
            "[('That', 'DT'), ('is', 'VBZ'), ('considerably', 'RB'), ('below', 'IN'), ('the', 'DT'), ('level', 'NN'), ('of', 'IN'), ('around', 'IN'), ('160', 'CD'), ('pence', 'NN'), ('widely', 'RB'), ('reported', 'VBD'), ('before', 'IN'), ('announcement', 'NN'), ('of', 'IN'), ('the', 'DT'), ('deal', 'NN'), ('and', 'CC'), ('will', 'MD'), ('reduce', 'VB'), ('outstanding', 'JJ'), ('debt', 'NN'), ('of', 'IN'), ('8', 'CD'), ('7', 'CD'), ('billion', 'CD'), ('pounds', 'NNS'), ('13', 'CD'), ('6', 'CD'), ('billion', 'CD'), ('by', 'IN'), ('1', 'CD'), ('0', 'CD'), ('billion', 'CD'), ('1', 'CD'), ('56', 'CD'), ('billion', 'CD')]\n",
            "[('The', 'DT'), ('company', 'NN'), ('said', 'VBD'), ('a', 'DT'), ('further', 'JJ'), ('3', 'CD'), ('7', 'CD'), ('billion', 'CD'), ('pounds', 'NNS'), ('5', 'CD'), ('8', 'CD'), ('billion', 'CD'), ('of', 'IN'), ('debt', 'NN'), ('would', 'MD'), ('be', 'VB'), ('converted', 'VBN'), ('into', 'IN'), ('new', 'JJ'), ('financial', 'JJ'), ('instruments', 'NNS'), ('and', 'CC'), ('existing', 'VBG'), ('shareholders', 'NNS'), ('would', 'MD'), ('be', 'VB'), ('able', 'JJ'), ('to', 'TO'), ('participate', 'VB'), ('in', 'IN'), ('this', 'DT'), ('issue', 'NN')]\n",
            "[('If', 'IN'), ('they', 'PRP'), ('choose', 'VBP'), ('not', 'RB'), ('to', 'TO'), ('take', 'VB'), ('up', 'RP'), ('free', 'JJ'), ('warrants', 'NNS'), ('entitling', 'VBG'), ('them', 'PRP'), ('to', 'TO'), ('subscribe', 'VB'), ('to', 'TO'), ('this', 'DT'), ('Eurotunnel', 'NNP'), ('said', 'VBD'), ('shareholders', 'NNS'), ('interests', 'NNS'), ('may', 'MD'), ('be', 'VB'), ('reduced', 'VBN'), ('further', 'JJ'), ('to', 'TO'), ('just', 'RB'), ('over', 'IN'), ('39', 'CD'), ('percent', 'NN'), ('of', 'IN'), ('the', 'DT'), ('company', 'NN'), ('by', 'IN'), ('the', 'DT'), ('end', 'NN'), ('of', 'IN'), ('December', 'NNP'), ('2003', 'CD')]\n",
            "[('Eurotunnel', 'NNP'), ('s', 'NN'), ('shares', 'NNS'), ('which', 'WDT'), ('were', 'VBD'), ('suspended', 'VBN'), ('last', 'JJ'), ('week', 'NN'), ('at', 'IN'), ('113', 'CD'), ('5', 'CD'), ('pence', 'NN'), ('ahead', 'RB'), ('of', 'IN'), ('Monday', 'NNP'), ('s', 'FW'), ('announcement', 'NN'), ('should', 'MD'), ('resume', 'VB'), ('trading', 'VBG'), ('on', 'IN'), ('Tuesday', 'NNP'), ('the', 'DT'), ('company', 'NN'), ('said', 'VBD')]\n"
          ],
          "name": "stdout"
        }
      ]
    },
    {
      "cell_type": "markdown",
      "metadata": {
        "id": "g9zDnyCTUsKX"
      },
      "source": [
        "#Part 4: Named Entity Recognition in NLTK\r\n",
        "\r\n",
        "\r\n",
        "This part requires finding name entities including person’s name entities and locations."
      ]
    },
    {
      "cell_type": "code",
      "metadata": {
        "colab": {
          "base_uri": "https://localhost:8080/"
        },
        "id": "vvqZpYcopju2",
        "outputId": "ed73e987-1487-44d3-88da-5156d5a6c56e"
      },
      "source": [
        "import nltk\r\n",
        "nltk.download('words')\r\n",
        "\r\n",
        "sentences = nltk.sent_tokenize(text)\r\n",
        "\r\n",
        "# Tokenize each sentence into words: token_sentences\r\n",
        "token_sentences = [word_tokenize(sent) for sent in sentences]\r\n",
        "\r\n",
        "# Tag each tokenized sentence into parts of speech: pos_sentences\r\n",
        "pos_sentences = [nltk.pos_tag(sent) for sent in token_sentences]\r\n",
        "\r\n",
        "# Create the named entity chunks: chunked_sentences\r\n",
        "chunked_sentences = nltk.ne_chunk_sents(pos_sentences, binary=True)\r\n",
        "\r\n",
        "# Test for stems of the tree with 'NE' tags\r\n",
        "for sent in chunked_sentences:\r\n",
        "    for chunk in sent:\r\n",
        "        if hasattr(chunk, \"label\") and chunk.label() == 'NE':\r\n",
        "            print(chunk)\r\n"
      ],
      "execution_count": 11,
      "outputs": [
        {
          "output_type": "stream",
          "text": [
            "[nltk_data] Downloading package words to /root/nltk_data...\n",
            "[nltk_data]   Unzipping corpora/words.zip.\n",
            "(NE Eurotunnel/NNP)\n",
            "(NE Eurotunnel/NNP)\n",
            "(NE Paris/NNP)\n",
            "(NE London/NNP)\n",
            "(NE Eurotunnel/NNP)\n",
            "(NE Alastair/NNP Morton/NNP)\n",
            "(NE Eurotunnel/NNP)\n",
            "(NE Eurotunnel/NNP)\n",
            "(NE European/NNP)\n",
            "(NE French/JJ)\n",
            "(NE Patrick/NNP Ponsolle/NNP)\n",
            "(NE Eurotunnel/NNP)\n",
            "(NE Eurotunnel/NNP)\n",
            "(NE London/NNP)\n",
            "(NE Eurotunnel/NNP)\n",
            "(NE Eurotunnel/NNP)\n",
            "(NE Eurotunnel/NNP)\n"
          ],
          "name": "stdout"
        }
      ]
    },
    {
      "cell_type": "code",
      "metadata": {
        "colab": {
          "base_uri": "https://localhost:8080/"
        },
        "id": "EoIOLywT7Uqx",
        "outputId": "93e2f477-9226-42c7-a23b-6961bc66b0ba"
      },
      "source": [
        "from nltk.tag.stanford import StanfordNERTagger\r\n",
        "from nltk.tokenize import word_tokenize\r\n",
        "import nltk\r\n",
        "\r\n",
        "!wget 'https://nlp.stanford.edu/software/stanford-ner-2018-10-16.zip'\r\n",
        "!unzip stanford-ner-2018-10-16.zip\r\n",
        "\r\n",
        "nltk.download('punkt')\r\n",
        "\r\n",
        "st = StanfordNERTagger('/content/stanford-ner-2018-10-16/classifiers/english.all.3class.distsim.crf.ser.gz',\r\n",
        "                       '/content/stanford-ner-2018-10-16/stanford-ner.jar',\r\n",
        "                       encoding='utf-8')\r\n",
        "\r\n"
      ],
      "execution_count": 13,
      "outputs": [
        {
          "output_type": "stream",
          "text": [
            "--2021-03-11 06:24:59--  https://nlp.stanford.edu/software/stanford-ner-2018-10-16.zip\n",
            "Resolving nlp.stanford.edu (nlp.stanford.edu)... 171.64.67.140\n",
            "Connecting to nlp.stanford.edu (nlp.stanford.edu)|171.64.67.140|:443... connected.\n",
            "HTTP request sent, awaiting response... 200 OK\n",
            "Length: 180358328 (172M) [application/zip]\n",
            "Saving to: ‘stanford-ner-2018-10-16.zip’\n",
            "\n",
            "stanford-ner-2018-1 100%[===================>] 172.00M  16.9MB/s    in 9.9s    \n",
            "\n",
            "2021-03-11 06:25:10 (17.4 MB/s) - ‘stanford-ner-2018-10-16.zip’ saved [180358328/180358328]\n",
            "\n",
            "Archive:  stanford-ner-2018-10-16.zip\n",
            "   creating: stanford-ner-2018-10-16/\n",
            "  inflating: stanford-ner-2018-10-16/README.txt  \n",
            "  inflating: stanford-ner-2018-10-16/ner-gui.bat  \n",
            "  inflating: stanford-ner-2018-10-16/build.xml  \n",
            "  inflating: stanford-ner-2018-10-16/stanford-ner.jar  \n",
            "  inflating: stanford-ner-2018-10-16/sample-conll-file.txt  \n",
            "  inflating: stanford-ner-2018-10-16/sample.ner.txt  \n",
            "  inflating: stanford-ner-2018-10-16/stanford-ner-3.9.2-sources.jar  \n",
            "   creating: stanford-ner-2018-10-16/lib/\n",
            "  inflating: stanford-ner-2018-10-16/lib/joda-time.jar  \n",
            "  inflating: stanford-ner-2018-10-16/lib/stanford-ner-resources.jar  \n",
            "  inflating: stanford-ner-2018-10-16/lib/jollyday-0.4.9.jar  \n",
            "  inflating: stanford-ner-2018-10-16/ner-gui.command  \n",
            "  inflating: stanford-ner-2018-10-16/ner.sh  \n",
            "  inflating: stanford-ner-2018-10-16/stanford-ner-3.9.2.jar  \n",
            "  inflating: stanford-ner-2018-10-16/NERDemo.java  \n",
            "  inflating: stanford-ner-2018-10-16/stanford-ner-3.9.2-javadoc.jar  \n",
            "  inflating: stanford-ner-2018-10-16/ner.bat  \n",
            "   creating: stanford-ner-2018-10-16/classifiers/\n",
            "  inflating: stanford-ner-2018-10-16/classifiers/english.conll.4class.distsim.prop  \n",
            "  inflating: stanford-ner-2018-10-16/classifiers/example.serialized.ncc.ncc.ser.gz  \n",
            "  inflating: stanford-ner-2018-10-16/classifiers/english.muc.7class.distsim.crf.ser.gz  \n",
            "  inflating: stanford-ner-2018-10-16/classifiers/english.conll.4class.distsim.crf.ser.gz  \n",
            "  inflating: stanford-ner-2018-10-16/classifiers/english.muc.7class.distsim.prop  \n",
            "  inflating: stanford-ner-2018-10-16/classifiers/english.all.3class.distsim.prop  \n",
            "  inflating: stanford-ner-2018-10-16/classifiers/example.serialized.ncc.prop  \n",
            "  inflating: stanford-ner-2018-10-16/classifiers/english.all.3class.distsim.crf.ser.gz  \n",
            "  inflating: stanford-ner-2018-10-16/sample.txt  \n",
            "  inflating: stanford-ner-2018-10-16/sample-w-time.txt  \n",
            "  inflating: stanford-ner-2018-10-16/ner-gui.sh  \n",
            "  inflating: stanford-ner-2018-10-16/LICENSE.txt  \n",
            "[nltk_data] Downloading package punkt to /root/nltk_data...\n",
            "[nltk_data]   Package punkt is already up-to-date!\n"
          ],
          "name": "stdout"
        },
        {
          "output_type": "stream",
          "text": [
            "/usr/local/lib/python3.7/dist-packages/nltk/tag/stanford.py:183: DeprecationWarning: \n",
            "The StanfordTokenizer will be deprecated in version 3.2.5.\n",
            "Please use \u001b[91mnltk.tag.corenlp.CoreNLPPOSTagger\u001b[0m or \u001b[91mnltk.tag.corenlp.CoreNLPNERTagger\u001b[0m instead.\n",
            "  super(StanfordNERTagger, self).__init__(*args, **kwargs)\n"
          ],
          "name": "stderr"
        }
      ]
    },
    {
      "cell_type": "code",
      "metadata": {
        "colab": {
          "base_uri": "https://localhost:8080/"
        },
        "id": "tEIA7iGcyzij",
        "outputId": "3b7cb5b7-4d4f-4eea-8f74-4e90491c91a6"
      },
      "source": [
        "from nltk.tag import StanfordNERTagger\r\n",
        "\r\n",
        "r=st.tag(text.split())\r\n",
        "print(r) "
      ],
      "execution_count": 14,
      "outputs": [
        {
          "output_type": "stream",
          "text": [
            "[('Anglo-French', 'O'), ('Channel', 'O'), ('Tunnel', 'O'), ('operator', 'O'), ('Eurotunnel', 'ORGANIZATION'), ('Monday', 'O'), ('announced', 'O'), ('a', 'O'), ('deal', 'O'), ('giving', 'O'), ('its', 'O'), ('creditor', 'O'), ('banks', 'O'), ('45.5', 'O'), ('percent', 'O'), ('of', 'O'), ('the', 'O'), ('company', 'O'), ('in', 'O'), ('return', 'O'), ('for', 'O'), ('wiping', 'O'), ('out', 'O'), ('one', 'O'), ('billion', 'O'), ('pounds', 'O'), ('($1.56', 'O'), ('billion)', 'O'), ('of', 'O'), ('its', 'O'), ('debt.', 'O'), ('The', 'O'), ('long-awaited', 'O'), ('restructuring', 'O'), ('brings', 'O'), ('to', 'O'), ('an', 'O'), ('end', 'O'), ('months', 'O'), ('of', 'O'), ('wrangling', 'O'), ('between', 'O'), ('Eurotunnel', 'ORGANIZATION'), ('and', 'O'), ('the', 'O'), ('225', 'O'), ('banks', 'O'), ('to', 'O'), ('which', 'O'), ('it', 'O'), ('owes', 'O'), ('nearly', 'O'), ('nine', 'O'), ('billion', 'O'), ('pounds', 'O'), ('($14.1', 'O'), ('billion).', 'O'), ('The', 'O'), ('deal,', 'O'), ('announced', 'O'), ('simultaneously', 'O'), ('in', 'O'), ('Paris', 'LOCATION'), ('and', 'O'), ('London,', 'O'), ('brings', 'O'), ('the', 'O'), ('company', 'O'), ('back', 'O'), ('from', 'O'), ('the', 'O'), ('brink', 'O'), ('of', 'O'), ('insolvency', 'O'), ('but', 'O'), ('leaves', 'O'), ('shareholders', 'O'), ('owning', 'O'), ('only', 'O'), ('54.5', 'O'), ('percent', 'O'), ('of', 'O'), ('the', 'O'), ('company.', 'O'), ('\"The', 'O'), ('restructuring', 'O'), ('plan', 'O'), ('provides', 'O'), ('Eurotunnel', 'ORGANIZATION'), ('with', 'O'), ('the', 'O'), ('medium-term', 'O'), ('financial', 'O'), ('stability', 'O'), ('to', 'O'), ('allow', 'O'), ('it', 'O'), ('to', 'O'), ('consolidate', 'O'), ('its', 'O'), ('substantial', 'O'), ('commercial', 'O'), ('achievements', 'O'), ('to', 'O'), ('date', 'O'), ('and', 'O'), ('to', 'O'), ('develop', 'O'), ('its', 'O'), ('operations,\"', 'O'), ('Eurotunnel', 'ORGANIZATION'), ('co-chairman', 'O'), ('Alastair', 'PERSON'), ('Morton', 'PERSON'), ('said.', 'O'), ('The', 'O'), ('firm', 'O'), ('was', 'O'), ('now', 'O'), ('making', 'O'), ('a', 'O'), ('profit', 'O'), ('before', 'O'), ('interest,', 'O'), ('he', 'O'), ('added.', 'O'), ('Although', 'O'), ('shareholders', 'O'), ('will', 'O'), ('see', 'O'), ('their', 'O'), ('interests', 'O'), ('diluted,', 'O'), ('they', 'O'), ('were', 'O'), ('offered', 'O'), ('the', 'O'), ('prospect', 'O'), ('of', 'O'), ('a', 'O'), ('brighter', 'O'), ('future', 'O'), ('after', 'O'), ('months', 'O'), ('of', 'O'), ('uncertainty', 'O'), ('while', 'O'), ('Eurotunnel', 'ORGANIZATION'), ('wrestled', 'O'), ('to', 'O'), ('reduce', 'O'), ('crippling', 'O'), ('interest', 'O'), ('payments', 'O'), ('negotiated', 'O'), ('during', 'O'), ('the', 'O'), (\"tunnel's\", 'O'), ('construction.', 'O'), ('Eurotunnel,', 'O'), ('which', 'O'), ('has', 'O'), ('taken', 'O'), ('around', 'O'), ('half', 'O'), ('the', 'O'), ('cross-Channel', 'O'), ('market', 'O'), ('from', 'O'), ('the', 'O'), ('European', 'O'), ('ferry', 'O'), ('companies,', 'O'), ('said', 'O'), ('a', 'O'), ('strong', 'O'), ('operating', 'O'), ('performance', 'O'), ('could', 'O'), ('allow', 'O'), ('it', 'O'), ('to', 'O'), ('pay', 'O'), ('its', 'O'), ('first', 'O'), ('dividend', 'O'), ('within', 'O'), ('the', 'O'), ('next', 'O'), ('10', 'O'), ('years.', 'O'), ('French', 'O'), ('co-chairman', 'O'), ('Patrick', 'PERSON'), ('Ponsolle', 'PERSON'), ('said', 'O'), ('shareholders', 'O'), ('would', 'O'), ('have', 'O'), ('to', 'O'), ('be', 'O'), ('patient', 'O'), ('before', 'O'), ('they', 'O'), ('could', 'O'), ('reap', 'O'), ('the', 'O'), ('benefits', 'O'), ('of', 'O'), ('the', 'O'), (\"company's\", 'O'), ('success.', 'O'), ('He', 'O'), ('called', 'O'), ('the', 'O'), ('debt', 'O'), ('restructuring', 'O'), ('plan', 'O'), ('\"an', 'O'), ('acceptable', 'O'), ('compromise\"', 'O'), ('for', 'O'), ('holders', 'O'), ('of', 'O'), ('Eurotunnel', 'ORGANIZATION'), ('shares.', 'O'), ('The', 'O'), ('company', 'O'), ('said', 'O'), ('there', 'O'), ('was', 'O'), ('still', 'O'), ('considerable', 'O'), ('work', 'O'), ('to', 'O'), ('be', 'O'), ('done', 'O'), ('to', 'O'), ('finalise', 'O'), ('and', 'O'), ('agree', 'O'), ('on', 'O'), ('the', 'O'), ('details', 'O'), ('of', 'O'), ('the', 'O'), ('plan', 'O'), ('before', 'O'), ('it', 'O'), ('can', 'O'), ('be', 'O'), ('submitted', 'O'), ('to', 'O'), ('shareholders', 'O'), ('and', 'O'), ('the', 'O'), ('full', 'O'), ('225', 'O'), ('bank', 'O'), ('syndicate', 'O'), ('for', 'O'), ('approval,', 'O'), ('probably', 'O'), ('early', 'O'), ('in', 'O'), ('1997.', 'O'), (\"Monday's\", 'O'), ('announcement', 'O'), ('followed', 'O'), ('two', 'O'), ('weeks', 'O'), ('of', 'O'), ('highly', 'O'), ('secretive', 'O'), ('negotiations', 'O'), ('between', 'O'), ('Eurotunnel', 'ORGANIZATION'), ('and', 'O'), ('its', 'O'), ('six', 'O'), ('leading', 'O'), ('banks.', 'O'), ('This', 'O'), ('was', 'O'), ('extended', 'O'), ('to', 'O'), ('the', 'O'), ('24', 'O'), ('\"instructing', 'O'), ('banks\"', 'O'), ('at', 'O'), ('a', 'O'), ('meeting', 'O'), ('late', 'O'), ('last', 'O'), ('week', 'O'), ('in', 'O'), ('London.', 'LOCATION'), ('Eurotunnel', 'ORGANIZATION'), ('said', 'O'), ('the', 'O'), ('debt-for-equity', 'O'), ('swap', 'O'), ('would', 'O'), ('be', 'O'), ('at', 'O'), ('130', 'O'), ('pence,', 'O'), ('or', 'O'), ('10.40', 'O'), ('francs,', 'O'), ('per', 'O'), ('share.', 'O'), ('That', 'O'), ('is', 'O'), ('considerably', 'O'), ('below', 'O'), ('the', 'O'), ('level', 'O'), ('of', 'O'), ('around', 'O'), ('160', 'O'), ('pence', 'O'), ('widely', 'O'), ('reported', 'O'), ('before', 'O'), ('announcement', 'O'), ('of', 'O'), ('the', 'O'), ('deal,', 'O'), ('and', 'O'), ('will', 'O'), ('reduce', 'O'), ('outstanding', 'O'), ('debt', 'O'), ('of', 'O'), ('8.7', 'O'), ('billion', 'O'), ('pounds', 'O'), ('($13.6', 'O'), ('billion)', 'O'), ('by', 'O'), ('1.0', 'O'), ('billion', 'O'), ('($1.56', 'O'), ('billion).', 'O'), ('The', 'O'), ('company', 'O'), ('said', 'O'), ('a', 'O'), ('further', 'O'), ('3.7', 'O'), ('billion', 'O'), ('pounds', 'O'), ('($5.8', 'O'), ('billion)', 'O'), ('of', 'O'), ('debt', 'O'), ('would', 'O'), ('be', 'O'), ('converted', 'O'), ('into', 'O'), ('new', 'O'), ('financial', 'O'), ('instruments', 'O'), ('and', 'O'), ('existing', 'O'), ('shareholders', 'O'), ('would', 'O'), ('be', 'O'), ('able', 'O'), ('to', 'O'), ('participate', 'O'), ('in', 'O'), ('this', 'O'), ('issue.', 'O'), ('If', 'O'), ('they', 'O'), ('choose', 'O'), ('not', 'O'), ('to', 'O'), ('take', 'O'), ('up', 'O'), ('free', 'O'), ('warrants', 'O'), ('entitling', 'O'), ('them', 'O'), ('to', 'O'), ('subscribe', 'O'), ('to', 'O'), ('this,', 'O'), ('Eurotunnel', 'ORGANIZATION'), ('said', 'O'), (\"shareholders'\", 'O'), ('interests', 'O'), ('may', 'O'), ('be', 'O'), ('reduced', 'O'), ('further', 'O'), ('to', 'O'), ('just', 'O'), ('over', 'O'), ('39', 'O'), ('percent', 'O'), ('of', 'O'), ('the', 'O'), ('company', 'O'), ('by', 'O'), ('the', 'O'), ('end', 'O'), ('of', 'O'), ('December', 'O'), ('2003.', 'O'), (\"Eurotunnel's\", 'O'), ('shares,', 'O'), ('which', 'O'), ('were', 'O'), ('suspended', 'O'), ('last', 'O'), ('week', 'O'), ('at', 'O'), ('113.5', 'O'), ('pence', 'O'), ('ahead', 'O'), ('of', 'O'), (\"Monday's\", 'O'), ('announcement,', 'O'), ('should', 'O'), ('resume', 'O'), ('trading', 'O'), ('on', 'O'), ('Tuesday,', 'O'), ('the', 'O'), ('company', 'O'), ('said.', 'O')]\n"
          ],
          "name": "stdout"
        }
      ]
    },
    {
      "cell_type": "code",
      "metadata": {
        "colab": {
          "base_uri": "https://localhost:8080/"
        },
        "id": "Yj12JLTx0XLb",
        "outputId": "b1cb867b-8b61-409c-dcf3-9095cbcb934e"
      },
      "source": [
        "from nltk import pos_tag\r\n",
        "from nltk.chunk import conlltags2tree\r\n",
        "from nltk.tree import Tree\r\n",
        "\r\n",
        "def stanfordNE2BIO(tagged_sent):\r\n",
        "    bio_tagged_sent = []\r\n",
        "    prev_tag = \"O\"\r\n",
        "    for token, tag in tagged_sent:\r\n",
        "        if tag == \"O\": #O\r\n",
        "            bio_tagged_sent.append((token, tag))\r\n",
        "            prev_tag = tag\r\n",
        "            continue\r\n",
        "        if tag != \"O\" and prev_tag == \"O\": # Begin NE\r\n",
        "            bio_tagged_sent.append((token, \"B-\"+tag))\r\n",
        "            prev_tag = tag\r\n",
        "        elif prev_tag != \"O\" and prev_tag == tag: # Inside NE\r\n",
        "            bio_tagged_sent.append((token, \"I-\"+tag))\r\n",
        "            prev_tag = tag\r\n",
        "        elif prev_tag != \"O\" and prev_tag != tag: # Adjacent NE\r\n",
        "            bio_tagged_sent.append((token, \"B-\"+tag))\r\n",
        "            prev_tag = tag\r\n",
        "\r\n",
        "    return bio_tagged_sent\r\n",
        "\r\n",
        "def stanfordNE2tree(ne_tagged_sent):\r\n",
        "    bio_tagged_sent = stanfordNE2BIO(ne_tagged_sent)\r\n",
        "    sent_tokens, sent_ne_tags = zip(*bio_tagged_sent)\r\n",
        "    sent_pos_tags = [pos for token, pos in pos_tag(sent_tokens)]\r\n",
        "\r\n",
        "    sent_conlltags = [(token, pos, ne) for token, pos, ne in zip(sent_tokens, sent_pos_tags, sent_ne_tags)]\r\n",
        "    ne_tree = conlltags2tree(sent_conlltags)\r\n",
        "    return ne_tree\r\n",
        "\r\n",
        "ne_tagged_sent = r\r\n",
        "ne_tree = stanfordNE2tree(ne_tagged_sent)\r\n",
        "print (ne_tree)"
      ],
      "execution_count": 15,
      "outputs": [
        {
          "output_type": "stream",
          "text": [
            "(S\n",
            "  Anglo-French/JJ\n",
            "  Channel/NNP\n",
            "  Tunnel/NNP\n",
            "  operator/NN\n",
            "  (ORGANIZATION Eurotunnel/NNP)\n",
            "  Monday/NNP\n",
            "  announced/VBD\n",
            "  a/DT\n",
            "  deal/NN\n",
            "  giving/VBG\n",
            "  its/PRP$\n",
            "  creditor/NN\n",
            "  banks/NNS\n",
            "  45.5/CD\n",
            "  percent/NN\n",
            "  of/IN\n",
            "  the/DT\n",
            "  company/NN\n",
            "  in/IN\n",
            "  return/NN\n",
            "  for/IN\n",
            "  wiping/VBG\n",
            "  out/RP\n",
            "  one/CD\n",
            "  billion/CD\n",
            "  pounds/NNS\n",
            "  ($1.56/JJ\n",
            "  billion)/NN\n",
            "  of/IN\n",
            "  its/PRP$\n",
            "  debt./NN\n",
            "  The/DT\n",
            "  long-awaited/JJ\n",
            "  restructuring/NN\n",
            "  brings/NNS\n",
            "  to/TO\n",
            "  an/DT\n",
            "  end/JJ\n",
            "  months/NNS\n",
            "  of/IN\n",
            "  wrangling/VBG\n",
            "  between/IN\n",
            "  (ORGANIZATION Eurotunnel/NNP)\n",
            "  and/CC\n",
            "  the/DT\n",
            "  225/CD\n",
            "  banks/NNS\n",
            "  to/TO\n",
            "  which/WDT\n",
            "  it/PRP\n",
            "  owes/VBZ\n",
            "  nearly/RB\n",
            "  nine/CD\n",
            "  billion/CD\n",
            "  pounds/NNS\n",
            "  ($14.1/JJ\n",
            "  billion)./IN\n",
            "  The/DT\n",
            "  deal,/NN\n",
            "  announced/VBD\n",
            "  simultaneously/RB\n",
            "  in/IN\n",
            "  (LOCATION Paris/NNP)\n",
            "  and/CC\n",
            "  London,/NNP\n",
            "  brings/VBZ\n",
            "  the/DT\n",
            "  company/NN\n",
            "  back/RB\n",
            "  from/IN\n",
            "  the/DT\n",
            "  brink/NN\n",
            "  of/IN\n",
            "  insolvency/NN\n",
            "  but/CC\n",
            "  leaves/VBZ\n",
            "  shareholders/NNS\n",
            "  owning/VBG\n",
            "  only/RB\n",
            "  54.5/CD\n",
            "  percent/NN\n",
            "  of/IN\n",
            "  the/DT\n",
            "  company./NN\n",
            "  \"The/NN\n",
            "  restructuring/NN\n",
            "  plan/NN\n",
            "  provides/VBZ\n",
            "  (ORGANIZATION Eurotunnel/NNP)\n",
            "  with/IN\n",
            "  the/DT\n",
            "  medium-term/JJ\n",
            "  financial/JJ\n",
            "  stability/NN\n",
            "  to/TO\n",
            "  allow/VB\n",
            "  it/PRP\n",
            "  to/TO\n",
            "  consolidate/VB\n",
            "  its/PRP$\n",
            "  substantial/JJ\n",
            "  commercial/JJ\n",
            "  achievements/NNS\n",
            "  to/TO\n",
            "  date/NN\n",
            "  and/CC\n",
            "  to/TO\n",
            "  develop/VB\n",
            "  its/PRP$\n",
            "  operations,\"/JJ\n",
            "  (ORGANIZATION Eurotunnel/NNP)\n",
            "  co-chairman/NN\n",
            "  (PERSON Alastair/NNP Morton/NNP)\n",
            "  said./VBD\n",
            "  The/DT\n",
            "  firm/NN\n",
            "  was/VBD\n",
            "  now/RB\n",
            "  making/VBG\n",
            "  a/DT\n",
            "  profit/NN\n",
            "  before/IN\n",
            "  interest,/NN\n",
            "  he/PRP\n",
            "  added./VBZ\n",
            "  Although/IN\n",
            "  shareholders/NNS\n",
            "  will/MD\n",
            "  see/VB\n",
            "  their/PRP$\n",
            "  interests/NNS\n",
            "  diluted,/VBP\n",
            "  they/PRP\n",
            "  were/VBD\n",
            "  offered/VBN\n",
            "  the/DT\n",
            "  prospect/NN\n",
            "  of/IN\n",
            "  a/DT\n",
            "  brighter/NN\n",
            "  future/NN\n",
            "  after/IN\n",
            "  months/NNS\n",
            "  of/IN\n",
            "  uncertainty/NN\n",
            "  while/IN\n",
            "  (ORGANIZATION Eurotunnel/NNP)\n",
            "  wrestled/VBD\n",
            "  to/TO\n",
            "  reduce/VB\n",
            "  crippling/VBG\n",
            "  interest/NN\n",
            "  payments/NNS\n",
            "  negotiated/VBN\n",
            "  during/IN\n",
            "  the/DT\n",
            "  tunnel's/NN\n",
            "  construction./NN\n",
            "  Eurotunnel,/NNP\n",
            "  which/WDT\n",
            "  has/VBZ\n",
            "  taken/VBN\n",
            "  around/IN\n",
            "  half/PDT\n",
            "  the/DT\n",
            "  cross-Channel/JJ\n",
            "  market/NN\n",
            "  from/IN\n",
            "  the/DT\n",
            "  European/NNP\n",
            "  ferry/NN\n",
            "  companies,/NN\n",
            "  said/VBD\n",
            "  a/DT\n",
            "  strong/JJ\n",
            "  operating/NN\n",
            "  performance/NN\n",
            "  could/MD\n",
            "  allow/VB\n",
            "  it/PRP\n",
            "  to/TO\n",
            "  pay/VB\n",
            "  its/PRP$\n",
            "  first/JJ\n",
            "  dividend/NN\n",
            "  within/IN\n",
            "  the/DT\n",
            "  next/JJ\n",
            "  10/CD\n",
            "  years./JJ\n",
            "  French/JJ\n",
            "  co-chairman/JJ\n",
            "  (PERSON Patrick/NNP Ponsolle/NNP)\n",
            "  said/VBD\n",
            "  shareholders/NNS\n",
            "  would/MD\n",
            "  have/VB\n",
            "  to/TO\n",
            "  be/VB\n",
            "  patient/JJ\n",
            "  before/IN\n",
            "  they/PRP\n",
            "  could/MD\n",
            "  reap/VB\n",
            "  the/DT\n",
            "  benefits/NNS\n",
            "  of/IN\n",
            "  the/DT\n",
            "  company's/NN\n",
            "  success./NN\n",
            "  He/PRP\n",
            "  called/VBD\n",
            "  the/DT\n",
            "  debt/NN\n",
            "  restructuring/NN\n",
            "  plan/NN\n",
            "  \"an/NNP\n",
            "  acceptable/JJ\n",
            "  compromise\"/NN\n",
            "  for/IN\n",
            "  holders/NNS\n",
            "  of/IN\n",
            "  (ORGANIZATION Eurotunnel/NNP)\n",
            "  shares./VBD\n",
            "  The/DT\n",
            "  company/NN\n",
            "  said/VBD\n",
            "  there/EX\n",
            "  was/VBD\n",
            "  still/RB\n",
            "  considerable/JJ\n",
            "  work/NN\n",
            "  to/TO\n",
            "  be/VB\n",
            "  done/VBN\n",
            "  to/TO\n",
            "  finalise/VB\n",
            "  and/CC\n",
            "  agree/VB\n",
            "  on/IN\n",
            "  the/DT\n",
            "  details/NNS\n",
            "  of/IN\n",
            "  the/DT\n",
            "  plan/NN\n",
            "  before/IN\n",
            "  it/PRP\n",
            "  can/MD\n",
            "  be/VB\n",
            "  submitted/VBN\n",
            "  to/TO\n",
            "  shareholders/NNS\n",
            "  and/CC\n",
            "  the/DT\n",
            "  full/JJ\n",
            "  225/CD\n",
            "  bank/NN\n",
            "  syndicate/NN\n",
            "  for/IN\n",
            "  approval,/NN\n",
            "  probably/RB\n",
            "  early/RB\n",
            "  in/IN\n",
            "  1997./CD\n",
            "  Monday's/NNP\n",
            "  announcement/NN\n",
            "  followed/VBD\n",
            "  two/CD\n",
            "  weeks/NNS\n",
            "  of/IN\n",
            "  highly/RB\n",
            "  secretive/JJ\n",
            "  negotiations/NNS\n",
            "  between/IN\n",
            "  (ORGANIZATION Eurotunnel/NNP)\n",
            "  and/CC\n",
            "  its/PRP$\n",
            "  six/CD\n",
            "  leading/JJ\n",
            "  banks./NN\n",
            "  This/DT\n",
            "  was/VBD\n",
            "  extended/VBN\n",
            "  to/TO\n",
            "  the/DT\n",
            "  24/CD\n",
            "  \"instructing/VBG\n",
            "  banks\"/NN\n",
            "  at/IN\n",
            "  a/DT\n",
            "  meeting/NN\n",
            "  late/JJ\n",
            "  last/JJ\n",
            "  week/NN\n",
            "  in/IN\n",
            "  (LOCATION London./NNP)\n",
            "  (ORGANIZATION Eurotunnel/NNP)\n",
            "  said/VBD\n",
            "  the/DT\n",
            "  debt-for-equity/NN\n",
            "  swap/NN\n",
            "  would/MD\n",
            "  be/VB\n",
            "  at/IN\n",
            "  130/CD\n",
            "  pence,/NN\n",
            "  or/CC\n",
            "  10.40/CD\n",
            "  francs,/NNS\n",
            "  per/IN\n",
            "  share./NN\n",
            "  That/WDT\n",
            "  is/VBZ\n",
            "  considerably/RB\n",
            "  below/IN\n",
            "  the/DT\n",
            "  level/NN\n",
            "  of/IN\n",
            "  around/IN\n",
            "  160/CD\n",
            "  pence/NN\n",
            "  widely/RB\n",
            "  reported/VBD\n",
            "  before/IN\n",
            "  announcement/NN\n",
            "  of/IN\n",
            "  the/DT\n",
            "  deal,/NN\n",
            "  and/CC\n",
            "  will/MD\n",
            "  reduce/VB\n",
            "  outstanding/JJ\n",
            "  debt/NN\n",
            "  of/IN\n",
            "  8.7/CD\n",
            "  billion/CD\n",
            "  pounds/NNS\n",
            "  ($13.6/JJ\n",
            "  billion)/NN\n",
            "  by/IN\n",
            "  1.0/CD\n",
            "  billion/CD\n",
            "  ($1.56/NNS\n",
            "  billion)./VBD\n",
            "  The/DT\n",
            "  company/NN\n",
            "  said/VBD\n",
            "  a/DT\n",
            "  further/JJ\n",
            "  3.7/CD\n",
            "  billion/CD\n",
            "  pounds/NNS\n",
            "  ($5.8/JJ\n",
            "  billion)/NN\n",
            "  of/IN\n",
            "  debt/NN\n",
            "  would/MD\n",
            "  be/VB\n",
            "  converted/VBN\n",
            "  into/IN\n",
            "  new/JJ\n",
            "  financial/JJ\n",
            "  instruments/NNS\n",
            "  and/CC\n",
            "  existing/VBG\n",
            "  shareholders/NNS\n",
            "  would/MD\n",
            "  be/VB\n",
            "  able/JJ\n",
            "  to/TO\n",
            "  participate/VB\n",
            "  in/IN\n",
            "  this/DT\n",
            "  issue./NN\n",
            "  If/IN\n",
            "  they/PRP\n",
            "  choose/VBP\n",
            "  not/RB\n",
            "  to/TO\n",
            "  take/VB\n",
            "  up/RP\n",
            "  free/JJ\n",
            "  warrants/NNS\n",
            "  entitling/VBG\n",
            "  them/PRP\n",
            "  to/TO\n",
            "  subscribe/VB\n",
            "  to/TO\n",
            "  this,/VB\n",
            "  (ORGANIZATION Eurotunnel/NNP)\n",
            "  said/VBD\n",
            "  shareholders'/JJ\n",
            "  interests/NNS\n",
            "  may/MD\n",
            "  be/VB\n",
            "  reduced/VBN\n",
            "  further/JJ\n",
            "  to/TO\n",
            "  just/RB\n",
            "  over/IN\n",
            "  39/CD\n",
            "  percent/NN\n",
            "  of/IN\n",
            "  the/DT\n",
            "  company/NN\n",
            "  by/IN\n",
            "  the/DT\n",
            "  end/NN\n",
            "  of/IN\n",
            "  December/NNP\n",
            "  2003./CD\n",
            "  Eurotunnel's/NNP\n",
            "  shares,/NN\n",
            "  which/WDT\n",
            "  were/VBD\n",
            "  suspended/VBN\n",
            "  last/JJ\n",
            "  week/NN\n",
            "  at/IN\n",
            "  113.5/CD\n",
            "  pence/NN\n",
            "  ahead/RB\n",
            "  of/IN\n",
            "  Monday's/NNP\n",
            "  announcement,/NN\n",
            "  should/MD\n",
            "  resume/VB\n",
            "  trading/VBG\n",
            "  on/IN\n",
            "  Tuesday,/NNP\n",
            "  the/DT\n",
            "  company/NN\n",
            "  said./NN)\n"
          ],
          "name": "stdout"
        }
      ]
    },
    {
      "cell_type": "code",
      "metadata": {
        "colab": {
          "base_uri": "https://localhost:8080/"
        },
        "id": "2ka2mZzV0hCk",
        "outputId": "1d75f084-6ee9-4f87-8246-9031d3ca9c28"
      },
      "source": [
        "ne_in_sent = []\r\n",
        "for subtree in ne_tree:\r\n",
        "    if type(subtree) == Tree: # If subtree is a noun chunk, i.e. NE != \"O\"\r\n",
        "        ne_label = subtree.label()\r\n",
        "        ne_string = \" \".join([token for token, pos in subtree.leaves()])\r\n",
        "        ne_in_sent.append((ne_string, ne_label))\r\n",
        "print (ne_in_sent)"
      ],
      "execution_count": 16,
      "outputs": [
        {
          "output_type": "stream",
          "text": [
            "[('Eurotunnel', 'ORGANIZATION'), ('Eurotunnel', 'ORGANIZATION'), ('Paris', 'LOCATION'), ('Eurotunnel', 'ORGANIZATION'), ('Eurotunnel', 'ORGANIZATION'), ('Alastair Morton', 'PERSON'), ('Eurotunnel', 'ORGANIZATION'), ('Patrick Ponsolle', 'PERSON'), ('Eurotunnel', 'ORGANIZATION'), ('Eurotunnel', 'ORGANIZATION'), ('London.', 'LOCATION'), ('Eurotunnel', 'ORGANIZATION'), ('Eurotunnel', 'ORGANIZATION')]\n"
          ],
          "name": "stdout"
        }
      ]
    }
  ]
}