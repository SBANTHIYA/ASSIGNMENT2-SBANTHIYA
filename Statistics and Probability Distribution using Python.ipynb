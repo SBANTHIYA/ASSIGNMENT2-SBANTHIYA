{
  "nbformat": 4,
  "nbformat_minor": 0,
  "metadata": {
    "colab": {
      "name": "A3.SBanthiya",
      "provenance": [],
      "collapsed_sections": [],
      "authorship_tag": "ABX9TyONjqbEA9nCU5zAAfcyAxam",
      "include_colab_link": true
    },
    "kernelspec": {
      "name": "python3",
      "display_name": "Python 3"
    }
  },
  "cells": [
    {
      "cell_type": "markdown",
      "metadata": {
        "id": "view-in-github",
        "colab_type": "text"
      },
      "source": [
        "<a href=\"https://colab.research.google.com/github/SBANTHIYA/ASSIGNMENT2-SBANTHIYA/blob/master/A3_SBanthiya.ipynb\" target=\"_parent\"><img src=\"https://colab.research.google.com/assets/colab-badge.svg\" alt=\"Open In Colab\"/></a>"
      ]
    },
    {
      "cell_type": "markdown",
      "metadata": {
        "id": "WeRAnkCVNhW0"
      },
      "source": [
        "## **Assignment 3: Statistics and Probability Distributions**\n",
        "##**By Swati Banthiya**\n",
        "\n",
        "In this assignment I have attempted to answer all questions as per the guide shared with me on Google Colab. I have attempted to answer all the bonus questions. I have also attempted to use code to make the data neater and more meaningful where required."
      ]
    },
    {
      "cell_type": "code",
      "metadata": {
        "id": "efXDA97tOLTg"
      },
      "source": [
        "# Importing libraries\n",
        "\n",
        "import numpy as np\n",
        "import pandas as pd\n",
        "from pandas import DataFrame, Series\n",
        "import matplotlib.pyplot as plt\n",
        "from scipy.stats import pearsonr\n",
        "from __future__ import division\n",
        "import scipy.stats as ss\n",
        "import seaborn as sns\n",
        "sns.set(style='ticks', palette='Set2')\n",
        "%matplotlib inline"
      ],
      "execution_count": 5,
      "outputs": []
    },
    {
      "cell_type": "code",
      "metadata": {
        "id": "tAoigj_IbTFb",
        "outputId": "4db6269e-8eaf-4096-899a-7bd7445e9e55",
        "colab": {
          "base_uri": "https://localhost:8080/",
          "height": 416
        }
      },
      "source": [
        "print('''                           Iris Dataset\n",
        "\n",
        "Per Wikipedia - https://en.wikipedia.org/wiki/Iris_flower_data_set - \n",
        "\n",
        "\"The Iris flower data set or Fisher's Iris data set is a multivariate data set introduced by Ronald Fisher in his 1936 paper.\n",
        "The data set consists of 50 samples from each of three species of Iris (Iris setosa, Iris virginica and Iris versicolor). \n",
        "Four features were measured from each sample: the length and the width of the sepals and petals, in centimeters.\n",
        "Based on the combination of these four features, Fisher developed a linear discriminant model to distinguish the species from each other.\" \n",
        "\n",
        "The data is under the following headers:\n",
        "\n",
        "''')\n",
        "iris = sns.load_dataset(\"iris\")\n",
        "iris.head()\n"
      ],
      "execution_count": 9,
      "outputs": [
        {
          "output_type": "stream",
          "text": [
            "                           Iris Dataset\n",
            "\n",
            "Per Wikipedia - https://en.wikipedia.org/wiki/Iris_flower_data_set - \n",
            "\n",
            "\"The Iris flower data set or Fisher's Iris data set is a multivariate data set introduced by Ronald Fisher in his 1936 paper.\n",
            "The data set consists of 50 samples from each of three species of Iris (Iris setosa, Iris virginica and Iris versicolor). \n",
            "Four features were measured from each sample: the length and the width of the sepals and petals, in centimeters.\n",
            "Based on the combination of these four features, Fisher developed a linear discriminant model to distinguish the species from each other.\" \n",
            "\n",
            "The data is under the following headers:\n",
            "\n",
            "\n"
          ],
          "name": "stdout"
        },
        {
          "output_type": "execute_result",
          "data": {
            "text/html": [
              "<div>\n",
              "<style scoped>\n",
              "    .dataframe tbody tr th:only-of-type {\n",
              "        vertical-align: middle;\n",
              "    }\n",
              "\n",
              "    .dataframe tbody tr th {\n",
              "        vertical-align: top;\n",
              "    }\n",
              "\n",
              "    .dataframe thead th {\n",
              "        text-align: right;\n",
              "    }\n",
              "</style>\n",
              "<table border=\"1\" class=\"dataframe\">\n",
              "  <thead>\n",
              "    <tr style=\"text-align: right;\">\n",
              "      <th></th>\n",
              "      <th>sepal_length</th>\n",
              "      <th>sepal_width</th>\n",
              "      <th>petal_length</th>\n",
              "      <th>petal_width</th>\n",
              "      <th>species</th>\n",
              "    </tr>\n",
              "  </thead>\n",
              "  <tbody>\n",
              "    <tr>\n",
              "      <th>0</th>\n",
              "      <td>5.1</td>\n",
              "      <td>3.5</td>\n",
              "      <td>1.4</td>\n",
              "      <td>0.2</td>\n",
              "      <td>setosa</td>\n",
              "    </tr>\n",
              "    <tr>\n",
              "      <th>1</th>\n",
              "      <td>4.9</td>\n",
              "      <td>3.0</td>\n",
              "      <td>1.4</td>\n",
              "      <td>0.2</td>\n",
              "      <td>setosa</td>\n",
              "    </tr>\n",
              "    <tr>\n",
              "      <th>2</th>\n",
              "      <td>4.7</td>\n",
              "      <td>3.2</td>\n",
              "      <td>1.3</td>\n",
              "      <td>0.2</td>\n",
              "      <td>setosa</td>\n",
              "    </tr>\n",
              "    <tr>\n",
              "      <th>3</th>\n",
              "      <td>4.6</td>\n",
              "      <td>3.1</td>\n",
              "      <td>1.5</td>\n",
              "      <td>0.2</td>\n",
              "      <td>setosa</td>\n",
              "    </tr>\n",
              "    <tr>\n",
              "      <th>4</th>\n",
              "      <td>5.0</td>\n",
              "      <td>3.6</td>\n",
              "      <td>1.4</td>\n",
              "      <td>0.2</td>\n",
              "      <td>setosa</td>\n",
              "    </tr>\n",
              "  </tbody>\n",
              "</table>\n",
              "</div>"
            ],
            "text/plain": [
              "   sepal_length  sepal_width  petal_length  petal_width species\n",
              "0           5.1          3.5           1.4          0.2  setosa\n",
              "1           4.9          3.0           1.4          0.2  setosa\n",
              "2           4.7          3.2           1.3          0.2  setosa\n",
              "3           4.6          3.1           1.5          0.2  setosa\n",
              "4           5.0          3.6           1.4          0.2  setosa"
            ]
          },
          "metadata": {
            "tags": []
          },
          "execution_count": 9
        }
      ]
    },
    {
      "cell_type": "markdown",
      "metadata": {
        "id": "_y0fUpSpca4w"
      },
      "source": [
        "**Question 1.1 Your turn! (6 points)**\n",
        "Write code to:\n",
        "\n",
        "**PART 1** Modify the histogram above, this time using the \"square root rule\" for the number of bins. (2 pts)\n",
        "The \"square root rule\" is a commonly-used rule of thumb for choosing number of bins: choose the number of bins to be the square root of the number of samples.\n",
        "\n",
        "**Solution to Part 1 is as follows:**"
      ]
    },
    {
      "cell_type": "code",
      "metadata": {
        "id": "ZEPpMOUTcfdc",
        "outputId": "470109cb-dd4f-4bea-c3d4-69998f813dcc",
        "colab": {
          "base_uri": "https://localhost:8080/",
          "height": 357
        }
      },
      "source": [
        "print('''\n",
        "                                  ANSWER TO 1.1 - Part 1\n",
        "''')\n",
        "\n",
        "\n",
        "import numpy as np\n",
        "import matplotlib.pyplot as plt\n",
        "import seaborn as sns\n",
        "iris = sns.load_dataset(\"iris\")\n",
        "\n",
        "# Set default Seaborn style\n",
        "sns.set()\n",
        "\n",
        "# Plot histogram of versicolor petal lengths\n",
        "versicolor_petal_length = iris[iris.species == 'versicolor'].petal_length\n",
        "\n",
        "# Compute number of data points: n_data\n",
        "n_data = len(versicolor_petal_length)\n",
        "\n",
        "# Number of bins is the square root of number of data points: n_bins\n",
        "n_bins = np.sqrt(n_data)\n",
        "\n",
        "# Convert number of bins to integer: n_bins\n",
        "n_bins = int(n_bins)\n",
        "\n",
        "plt.hist(versicolor_petal_length,bins=n_bins)\n",
        "\n",
        "\n",
        "# Label axes\n",
        "plt.xlabel('petal length (cm)')\n",
        "plt.ylabel('count')\n",
        "\n",
        "# Show histogram\n",
        "plt.show()\n",
        "\n",
        "print(\"         Number of samples =\",n_data,\", Number of bins = square root of the number of samples (rounded off) =\",n_bins)"
      ],
      "execution_count": 8,
      "outputs": [
        {
          "output_type": "stream",
          "text": [
            "\n",
            "                                  ANSWER TO 1.1 - Part 1\n",
            "\n"
          ],
          "name": "stdout"
        },
        {
          "output_type": "display_data",
          "data": {
            "image/png": "[encoded data removed]",
            "text/plain": [
              "<Figure size 432x288 with 1 Axes>"
            ]
          },
          "metadata": {
            "tags": []
          }
        },
        {
          "output_type": "stream",
          "text": [
            "         Number of samples = 50 , Number of bins = square root of the number of samples (rounded off) = 7\n"
          ],
          "name": "stdout"
        }
      ]
    },
    {
      "cell_type": "markdown",
      "metadata": {
        "id": "Z8uGUPin_PMO"
      },
      "source": [
        "**Question 1.1 Your turn! (6 points)**\n",
        "Write code to:\n",
        "\n",
        "**PART 2** Modify the histogram above, such that the y axis shows probability/proportion (rather than absolute count), i.e., a proper PMF. (2 pts)\n",
        "\n",
        "**Solution to Part 2 is as follows:**"
      ]
    },
    {
      "cell_type": "code",
      "metadata": {
        "id": "TadAgwxm_WDm",
        "outputId": "cbe39cb9-d515-441c-8d18-52812355c415",
        "colab": {
          "base_uri": "https://localhost:8080/",
          "height": 375
        }
      },
      "source": [
        "print('''\n",
        "                                  ANSWER TO 1.1 - Part 2 \n",
        "\n",
        "                  Plot of petal length on x axis and probability/proportion on y-axis\n",
        "''')\n",
        "\n",
        "import numpy as np\n",
        "import matplotlib.pyplot as plt\n",
        "import seaborn as sns\n",
        "iris = sns.load_dataset(\"iris\")\n",
        "\n",
        "# Set default Seaborn style\n",
        "sns.set()\n",
        "\n",
        "# Plot histogram of versicolor petal lengths\n",
        "versicolor_petal_length = iris[iris.species == 'versicolor'].petal_length\n",
        "\n",
        "plt.hist(versicolor_petal_length)\n",
        "\n",
        "\n",
        "# Label axes\n",
        "plt.xlabel('petal length (cm)')\n",
        "plt.ylabel('PMF')\n",
        "\n",
        "# Show histogram\n",
        "plt.show()"
      ],
      "execution_count": 174,
      "outputs": [
        {
          "output_type": "stream",
          "text": [
            "\n",
            "                                  ANSWER TO 1.1 - Part 2 \n",
            "\n",
            "                  Plot of petal length on x axis and probability/proportion on y-axis\n",
            "\n"
          ],
          "name": "stdout"
        },
        {
          "output_type": "display_data",
          "data": {
            "image/png": "[encoded data removed]",
            "text/plain": [
              "<Figure size 432x288 with 1 Axes>"
            ]
          },
          "metadata": {
            "tags": []
          }
        }
      ]
    },
    {
      "cell_type": "markdown",
      "metadata": {
        "id": "orov5iwRCQUR"
      },
      "source": [
        "**Question 1.1 Your turn! (6 points)**\n",
        "Write code to:\n",
        "\n",
        "**PART 3** Compute summary statistics (1 pt each): mean and standard deviation\n",
        "\n",
        "**Solution to Part 3 is as follows:**"
      ]
    },
    {
      "cell_type": "code",
      "metadata": {
        "id": "N9I1At5nCXPt",
        "outputId": "6faa51a3-7f33-4c91-b579-6492d0215794",
        "colab": {
          "base_uri": "https://localhost:8080/",
          "height": 364
        }
      },
      "source": [
        "print('''\n",
        "                                  ANSWER TO 1.1 - Part 3 - Summary Statistics - Question unclear \n",
        "\n",
        "                    Assuming the question is asking mean and standard deviation of iris.species == 'versicolor'.petal_length\n",
        "\n",
        "The following table summarizes the mean and standard deviation by the species. As used in the histogram, petal length for versicolor has a mean of 4.26 cm \n",
        " and standard deviation of 0.47 cms.\n",
        "''')\n",
        "\n",
        "iris.groupby(by='species').agg({'petal_length': ['mean', 'std']}).round(2)\n",
        "\n"
      ],
      "execution_count": 175,
      "outputs": [
        {
          "output_type": "stream",
          "text": [
            "\n",
            "                                  ANSWER TO 1.1 - Part 3 - Summary Statistics - Question unclear \n",
            "\n",
            "                    Assuming the question is asking mean and standard deviation of iris.species == 'versicolor'.petal_length\n",
            "\n",
            "The following table summarizes the mean and standard deviation by the species. As used in the histogram, petal length for versicolor has a mean of 4.26 cm \n",
            " and standard deviation of 0.47 cms.\n",
            "\n"
          ],
          "name": "stdout"
        },
        {
          "output_type": "execute_result",
          "data": {
            "text/html": [
              "<div>\n",
              "<style scoped>\n",
              "    .dataframe tbody tr th:only-of-type {\n",
              "        vertical-align: middle;\n",
              "    }\n",
              "\n",
              "    .dataframe tbody tr th {\n",
              "        vertical-align: top;\n",
              "    }\n",
              "\n",
              "    .dataframe thead tr th {\n",
              "        text-align: left;\n",
              "    }\n",
              "\n",
              "    .dataframe thead tr:last-of-type th {\n",
              "        text-align: right;\n",
              "    }\n",
              "</style>\n",
              "<table border=\"1\" class=\"dataframe\">\n",
              "  <thead>\n",
              "    <tr>\n",
              "      <th></th>\n",
              "      <th colspan=\"2\" halign=\"left\">petal_length</th>\n",
              "    </tr>\n",
              "    <tr>\n",
              "      <th></th>\n",
              "      <th>mean</th>\n",
              "      <th>std</th>\n",
              "    </tr>\n",
              "    <tr>\n",
              "      <th>species</th>\n",
              "      <th></th>\n",
              "      <th></th>\n",
              "    </tr>\n",
              "  </thead>\n",
              "  <tbody>\n",
              "    <tr>\n",
              "      <th>setosa</th>\n",
              "      <td>1.46</td>\n",
              "      <td>0.17</td>\n",
              "    </tr>\n",
              "    <tr>\n",
              "      <th>versicolor</th>\n",
              "      <td>4.26</td>\n",
              "      <td>0.47</td>\n",
              "    </tr>\n",
              "    <tr>\n",
              "      <th>virginica</th>\n",
              "      <td>5.55</td>\n",
              "      <td>0.55</td>\n",
              "    </tr>\n",
              "  </tbody>\n",
              "</table>\n",
              "</div>"
            ],
            "text/plain": [
              "           petal_length      \n",
              "                   mean   std\n",
              "species                      \n",
              "setosa             1.46  0.17\n",
              "versicolor         4.26  0.47\n",
              "virginica          5.55  0.55"
            ]
          },
          "metadata": {
            "tags": []
          },
          "execution_count": 175
        }
      ]
    },
    {
      "cell_type": "code",
      "metadata": {
        "id": "YuWb9FpSIexZ",
        "outputId": "34f87289-694d-48c3-d661-ddf12b4b48fa",
        "colab": {
          "base_uri": "https://localhost:8080/",
          "height": 235
        }
      },
      "source": [
        "print('''\n",
        "                                  ANSWER TO 1.1 - Part 3 - Summary Statistics - Question unclear \n",
        "\n",
        "                    Assuming the question is asking mean and standard deviation for all the features.\n",
        "\n",
        "The following table summarizes the mean and standard deviation for all the features in Centimeters.\n",
        "''')\n",
        "\n",
        "iris.agg({'petal_length': ['mean', 'std'],'petal_width' : ['mean', 'std'], 'sepal_length' : ['mean', 'std'], 'sepal_width':['mean', 'std'] }).round(2)"
      ],
      "execution_count": 176,
      "outputs": [
        {
          "output_type": "stream",
          "text": [
            "\n",
            "                                  ANSWER TO 1.1 - Part 3 - Summary Statistics - Question unclear \n",
            "\n",
            "                    Assuming the question is asking mean and standard deviation for all the features.\n",
            "\n",
            "The following table summarizes the mean and standard deviation for all the features in Centimeters.\n",
            "\n"
          ],
          "name": "stdout"
        },
        {
          "output_type": "execute_result",
          "data": {
            "text/html": [
              "<div>\n",
              "<style scoped>\n",
              "    .dataframe tbody tr th:only-of-type {\n",
              "        vertical-align: middle;\n",
              "    }\n",
              "\n",
              "    .dataframe tbody tr th {\n",
              "        vertical-align: top;\n",
              "    }\n",
              "\n",
              "    .dataframe thead th {\n",
              "        text-align: right;\n",
              "    }\n",
              "</style>\n",
              "<table border=\"1\" class=\"dataframe\">\n",
              "  <thead>\n",
              "    <tr style=\"text-align: right;\">\n",
              "      <th></th>\n",
              "      <th>petal_length</th>\n",
              "      <th>petal_width</th>\n",
              "      <th>sepal_length</th>\n",
              "      <th>sepal_width</th>\n",
              "    </tr>\n",
              "  </thead>\n",
              "  <tbody>\n",
              "    <tr>\n",
              "      <th>mean</th>\n",
              "      <td>3.76</td>\n",
              "      <td>1.20</td>\n",
              "      <td>5.84</td>\n",
              "      <td>3.06</td>\n",
              "    </tr>\n",
              "    <tr>\n",
              "      <th>std</th>\n",
              "      <td>1.77</td>\n",
              "      <td>0.76</td>\n",
              "      <td>0.83</td>\n",
              "      <td>0.44</td>\n",
              "    </tr>\n",
              "  </tbody>\n",
              "</table>\n",
              "</div>"
            ],
            "text/plain": [
              "      petal_length  petal_width  sepal_length  sepal_width\n",
              "mean          3.76         1.20          5.84         3.06\n",
              "std           1.77         0.76          0.83         0.44"
            ]
          },
          "metadata": {
            "tags": []
          },
          "execution_count": 176
        }
      ]
    },
    {
      "cell_type": "markdown",
      "metadata": {
        "id": "9JSsBabfMCi6"
      },
      "source": [
        "**1.2 Your turn! (3 points)**\n",
        "\n",
        "Make a bee swarm plot of the iris petal lengths. Your x-axis should contain each of the three species (properly labeld), and the y-axis the petal lengths.\n"
      ]
    },
    {
      "cell_type": "code",
      "metadata": {
        "id": "V4EinG9eMNyN",
        "outputId": "e2d9d2b1-77be-42bb-c0a4-2254952558e7",
        "colab": {
          "base_uri": "https://localhost:8080/",
          "height": 430
        }
      },
      "source": [
        "print('''\n",
        "                                              ANSWER TO 1.2  - Bee Swarm Plot of Iris petal lenghts\n",
        "                                  \n",
        "      ''')\n",
        "\n",
        "plt.figure(figsize=(8, 5))\n",
        "\n",
        "sns.swarmplot(x='species', y='petal_length', data=iris)\n",
        "ax = sns.swarmplot(x='species', y='petal_length', data=iris)\n",
        "plt.xlabel('species')\n",
        "plt.ylabel('petal_length in cms')\n"
      ],
      "execution_count": 177,
      "outputs": [
        {
          "output_type": "stream",
          "text": [
            "\n",
            "                                              ANSWER TO 1.2  - Bee Swarm Plot of Iris petal lenghts\n",
            "                                  \n",
            "      \n"
          ],
          "name": "stdout"
        },
        {
          "output_type": "execute_result",
          "data": {
            "text/plain": [
              "Text(0, 0.5, 'petal_length in cms')"
            ]
          },
          "metadata": {
            "tags": []
          },
          "execution_count": 177
        },
        {
          "output_type": "display_data",
          "data": {
            "image/png": "[encoded data removed]",
            "text/plain": [
              "<Figure size 576x360 with 1 Axes>"
            ]
          },
          "metadata": {
            "tags": []
          }
        }
      ]
    },
    {
      "cell_type": "markdown",
      "metadata": {
        "id": "MbPwXiWlPcSk"
      },
      "source": [
        "**Question 1.3 Your turn! (6 points)**\n",
        "\n",
        "**Part 1**: Use the ecdf() function above to compute the ECDF for the petal lengths of the Iris versicolor flowers (3 pts) and plot the resulting ECDF (3 pts).\n"
      ]
    },
    {
      "cell_type": "code",
      "metadata": {
        "id": "PvXZEy_2PabJ",
        "outputId": "1712766f-1fc8-48be-fa7a-815f58259d7d",
        "colab": {
          "base_uri": "https://localhost:8080/",
          "height": 412
        }
      },
      "source": [
        "print('''\n",
        "                                              ANSWER TO 1.3 \n",
        "                                  \n",
        "      ''')\n",
        "\n",
        "def ecdf(data):\n",
        "    # number of data points: n\n",
        "    n = len(data)\n",
        "    # x-data for the ECDF: x\n",
        "    x=np.sort(data)\n",
        "    # y-data for the ECDF: y\n",
        "    y=np.arange(1, n+1)/n\n",
        "    return x,y\n",
        "\n",
        "plt.figure(figsize=(5, 5))\n",
        "\n",
        "x, y = ecdf(versicolor_petal_length)\n",
        "plt.scatter(x, y, marker='.')\n",
        "plt.xlabel('petal length (cm)')\n",
        "plt.ylabel('ECDF');"
      ],
      "execution_count": 178,
      "outputs": [
        {
          "output_type": "stream",
          "text": [
            "\n",
            "                                              ANSWER TO 1.3 \n",
            "                                  \n",
            "      \n"
          ],
          "name": "stdout"
        },
        {
          "output_type": "display_data",
          "data": {
            "image/png": "[encoded data removed]",
            "text/plain": [
              "<Figure size 360x360 with 1 Axes>"
            ]
          },
          "metadata": {
            "tags": []
          }
        }
      ]
    },
    {
      "cell_type": "markdown",
      "metadata": {
        "id": "etbirlf1PazN"
      },
      "source": [
        "**Question 1.4 Your turn! (4 points)**\n",
        "Write code to plot ECDFs for the petal lengths of all three iris species.\n"
      ]
    },
    {
      "cell_type": "code",
      "metadata": {
        "id": "LVv81q5TViJm",
        "outputId": "4110133c-ad99-4174-a305-1d8bf9d9c316",
        "colab": {
          "base_uri": "https://localhost:8080/",
          "height": 593
        }
      },
      "source": [
        "print('''\n",
        "                                              ANSWER TO 1.4\n",
        "                                  \n",
        "      ''')\n",
        "\n",
        "versicolor_petal_length = iris[iris.species == 'versicolor'].petal_length\n",
        "setosa_petal_length=iris[iris.species == 'setosa'].petal_length\n",
        "virginica_petal_length=iris[iris.species == 'virginica'].petal_length\n",
        "\n",
        "plt.figure(figsize=(8, 8))\n",
        "\n",
        "x, y = ecdf(versicolor_petal_length)\n",
        "plt.scatter(x, y, marker='.')\n",
        "\n",
        "x1, y1 = ecdf(setosa_petal_length)\n",
        "plt.scatter(x1, y1, marker='.')\n",
        "\n",
        "x2, y2 = ecdf(virginica_petal_length)\n",
        "plt.scatter(x2, y2, marker='.')\n",
        "\n",
        "\n",
        "\n",
        "plt.xlabel('petal length (cm)')\n",
        "plt.ylabel('ECDF');\n",
        "\n",
        "plt.legend(('setosa', 'versicolor', 'virginica'), loc='lower right')"
      ],
      "execution_count": 179,
      "outputs": [
        {
          "output_type": "stream",
          "text": [
            "\n",
            "                                              ANSWER TO 1.4\n",
            "                                  \n",
            "      \n"
          ],
          "name": "stdout"
        },
        {
          "output_type": "execute_result",
          "data": {
            "text/plain": [
              "<matplotlib.legend.Legend at 0x7f5645153710>"
            ]
          },
          "metadata": {
            "tags": []
          },
          "execution_count": 179
        },
        {
          "output_type": "display_data",
          "data": {
            "image/png": "[encoded data removed]",
            "text/plain": [
              "<Figure size 576x576 with 1 Axes>"
            ]
          },
          "metadata": {
            "tags": []
          }
        }
      ]
    },
    {
      "cell_type": "markdown",
      "metadata": {
        "id": "R2DuYM6c8EfY"
      },
      "source": [
        "**Question 1.5 Your turn! (5 points)**\n",
        "\n",
        "Write code to compute the 25th, 50th, and 75th percentiles for the petal lengths of and plot the resulting values overlaid with the corresponding ECDFs for all three iris species."
      ]
    },
    {
      "cell_type": "code",
      "metadata": {
        "id": "yg0ylpsV8Iy5",
        "outputId": "f1993f15-f009-4c2f-a839-e7aa1143dcf4",
        "colab": {
          "base_uri": "https://localhost:8080/",
          "height": 575
        }
      },
      "source": [
        "print('''\n",
        "                                              ANSWER TO 1.5\n",
        "                                  \n",
        "      ''')\n",
        "\n",
        "# Specify array of percentiles: percentiles\n",
        "percentiles = np.array([25, 50, 75])\n",
        "\n",
        "plt.figure(figsize=(8, 8))\n",
        "\n",
        "# Compute percentiles\n",
        "ptiles_versicolor = np.percentile(versicolor_petal_length, percentiles)\n",
        "ptiles_setosa = np.percentile(setosa_petal_length, percentiles)\n",
        "ptiles_virginica = np.percentile(virginica_petal_length, percentiles)\n",
        "\n",
        "# Plot the ECDF\n",
        "plt.scatter(x, y, marker='.')\n",
        "plt.scatter(x1, y1, marker='.')\n",
        "plt.scatter(x2, y2, marker='.')\n",
        "\n",
        "plt.legend(('setosa', 'versicolor', 'virginica'), loc='lower right')\n",
        "\n",
        "plt.xlabel('petal length (cm)')\n",
        "plt.ylabel('ECDF')\n",
        "\n",
        "# Overlay percentiles as black diamonds.\n",
        "plt.plot(ptiles_versicolor, percentiles/100, marker='D', color='black',linestyle='none')\n",
        "plt.plot(ptiles_setosa, percentiles/100, marker='D', color='black',linestyle='none')\n",
        "plt.plot(ptiles_virginica, percentiles/100, marker='D', color='black',linestyle='none')\n",
        "\n",
        "# Show the plot\n",
        "plt.show()\n",
        "\n"
      ],
      "execution_count": 180,
      "outputs": [
        {
          "output_type": "stream",
          "text": [
            "\n",
            "                                              ANSWER TO 1.5\n",
            "                                  \n",
            "      \n"
          ],
          "name": "stdout"
        },
        {
          "output_type": "display_data",
          "data": {
            "image/png": "[encoded data removed]",
            "text/plain": [
              "<Figure size 576x576 with 1 Axes>"
            ]
          },
          "metadata": {
            "tags": []
          }
        }
      ]
    },
    {
      "cell_type": "markdown",
      "metadata": {
        "id": "fo77HRmY-d8M"
      },
      "source": [
        "**Question 1.6 Your turn! (5 points)**\n",
        "\n",
        "\n",
        "Write code to display the box-and-whisker plot for the petal lengths of all three iris species."
      ]
    },
    {
      "cell_type": "code",
      "metadata": {
        "id": "x7bPiZYG_tHW",
        "outputId": "1b218385-4f34-4146-9ba1-2013a2ca0278",
        "colab": {
          "base_uri": "https://localhost:8080/",
          "height": 357
        }
      },
      "source": [
        "print('''\n",
        "                                              ANSWER TO 1.6\n",
        "                                  \n",
        "      ''')\n",
        "\n",
        "a = sns.boxplot(x='species', y='petal_length', data=iris)\n",
        "a.set_ylabel('petal length (cm)');"
      ],
      "execution_count": 181,
      "outputs": [
        {
          "output_type": "stream",
          "text": [
            "\n",
            "                                              ANSWER TO 1.6\n",
            "                                  \n",
            "      \n"
          ],
          "name": "stdout"
        },
        {
          "output_type": "display_data",
          "data": {
            "image/png": "[encoded data removed]",
            "text/plain": [
              "<Figure size 432x288 with 1 Axes>"
            ]
          },
          "metadata": {
            "tags": []
          }
        }
      ]
    },
    {
      "cell_type": "markdown",
      "metadata": {
        "id": "SWJlF_f9ADTb"
      },
      "source": [
        "**Question 1.7 Bonus! (5 points)**\n",
        "\n",
        "\n",
        "Write code to display the box-and-whisker plot combined with the bee swarm plot for the petal lengths of all three iris species."
      ]
    },
    {
      "cell_type": "code",
      "metadata": {
        "id": "uMV104XEAG88",
        "outputId": "35e4a5b2-b58f-4445-abe1-4ab877107ba1",
        "colab": {
          "base_uri": "https://localhost:8080/",
          "height": 412
        }
      },
      "source": [
        "print('''\n",
        "                                              ANSWER TO 1.7\n",
        "                                  \n",
        "      ''')\n",
        "\n",
        "plt.figure(figsize=(18, 5))\n",
        "\n",
        "sns.swarmplot(y='species', x='petal_length', data=iris)\n",
        "ax = sns.swarmplot(y='species', x='petal_length', data=iris, color='black')\n",
        "\n",
        "a = sns.boxplot(y='species', x='petal_length', data=iris)\n",
        "a.set_xlabel('petal length (cm)');"
      ],
      "execution_count": 182,
      "outputs": [
        {
          "output_type": "stream",
          "text": [
            "\n",
            "                                              ANSWER TO 1.7\n",
            "                                  \n",
            "      \n"
          ],
          "name": "stdout"
        },
        {
          "output_type": "display_data",
          "data": {
            "image/png": "[encoded data removed]",
            "text/plain": [
              "<Figure size 1296x360 with 1 Axes>"
            ]
          },
          "metadata": {
            "tags": []
          }
        }
      ]
    },
    {
      "cell_type": "markdown",
      "metadata": {
        "id": "1Cph6_hvBzj2"
      },
      "source": [
        "**Question 1.8 Bonus! (5 points)**\n",
        "\n",
        "Extend the code above to compute the Pearson correlation coeficients for all pair-wise combinations of all three Iris species and display the results in a table format."
      ]
    },
    {
      "cell_type": "code",
      "metadata": {
        "id": "bkaGvqESByLf",
        "outputId": "123a7dca-1dd4-4d8e-bf0f-5f800b54452c",
        "colab": {
          "base_uri": "https://localhost:8080/",
          "height": 289
        }
      },
      "source": [
        "print('''\n",
        "                                              ANSWER TO 1.8 - Question not clear- answers include \n",
        "                                              correlations between all pair-wise features for all species\n",
        "                                  \n",
        "      ''')\n",
        "\n",
        "correlation_matrix = iris.corr().round(2)\n",
        "correlation_matrix\n",
        "df = pd.DataFrame(iris)\n",
        "df.head()"
      ],
      "execution_count": 32,
      "outputs": [
        {
          "output_type": "stream",
          "text": [
            "\n",
            "                                              ANSWER TO 1.8 - Question not clear- answers include \n",
            "                                              correlations between all pair-wise features for all species\n",
            "                                  \n",
            "      \n"
          ],
          "name": "stdout"
        },
        {
          "output_type": "execute_result",
          "data": {
            "text/html": [
              "<div>\n",
              "<style scoped>\n",
              "    .dataframe tbody tr th:only-of-type {\n",
              "        vertical-align: middle;\n",
              "    }\n",
              "\n",
              "    .dataframe tbody tr th {\n",
              "        vertical-align: top;\n",
              "    }\n",
              "\n",
              "    .dataframe thead th {\n",
              "        text-align: right;\n",
              "    }\n",
              "</style>\n",
              "<table border=\"1\" class=\"dataframe\">\n",
              "  <thead>\n",
              "    <tr style=\"text-align: right;\">\n",
              "      <th></th>\n",
              "      <th>sepal_length</th>\n",
              "      <th>sepal_width</th>\n",
              "      <th>petal_length</th>\n",
              "      <th>petal_width</th>\n",
              "      <th>species</th>\n",
              "    </tr>\n",
              "  </thead>\n",
              "  <tbody>\n",
              "    <tr>\n",
              "      <th>0</th>\n",
              "      <td>5.1</td>\n",
              "      <td>3.5</td>\n",
              "      <td>1.4</td>\n",
              "      <td>0.2</td>\n",
              "      <td>setosa</td>\n",
              "    </tr>\n",
              "    <tr>\n",
              "      <th>1</th>\n",
              "      <td>4.9</td>\n",
              "      <td>3.0</td>\n",
              "      <td>1.4</td>\n",
              "      <td>0.2</td>\n",
              "      <td>setosa</td>\n",
              "    </tr>\n",
              "    <tr>\n",
              "      <th>2</th>\n",
              "      <td>4.7</td>\n",
              "      <td>3.2</td>\n",
              "      <td>1.3</td>\n",
              "      <td>0.2</td>\n",
              "      <td>setosa</td>\n",
              "    </tr>\n",
              "    <tr>\n",
              "      <th>3</th>\n",
              "      <td>4.6</td>\n",
              "      <td>3.1</td>\n",
              "      <td>1.5</td>\n",
              "      <td>0.2</td>\n",
              "      <td>setosa</td>\n",
              "    </tr>\n",
              "    <tr>\n",
              "      <th>4</th>\n",
              "      <td>5.0</td>\n",
              "      <td>3.6</td>\n",
              "      <td>1.4</td>\n",
              "      <td>0.2</td>\n",
              "      <td>setosa</td>\n",
              "    </tr>\n",
              "  </tbody>\n",
              "</table>\n",
              "</div>"
            ],
            "text/plain": [
              "   sepal_length  sepal_width  petal_length  petal_width species\n",
              "0           5.1          3.5           1.4          0.2  setosa\n",
              "1           4.9          3.0           1.4          0.2  setosa\n",
              "2           4.7          3.2           1.3          0.2  setosa\n",
              "3           4.6          3.1           1.5          0.2  setosa\n",
              "4           5.0          3.6           1.4          0.2  setosa"
            ]
          },
          "metadata": {
            "tags": []
          },
          "execution_count": 32
        }
      ]
    },
    {
      "cell_type": "code",
      "metadata": {
        "id": "qzF0uRKBTnFz",
        "outputId": "9cd979c2-f72f-454d-8e05-b9cde0b80435",
        "colab": {
          "base_uri": "https://localhost:8080/",
          "height": 259
        }
      },
      "source": [
        "print('''\n",
        "                                              ANSWER TO 1.8 - Question not clear- answers include \n",
        "                                              correlations for VERSICOLOR species ONLY\n",
        "                                  \n",
        "      ''')\n",
        "\n",
        "df[['petal_length', 'petal_width', 'sepal_length', 'sepal_width']][df.species == 'versicolor'].corr().round(2)\n"
      ],
      "execution_count": 33,
      "outputs": [
        {
          "output_type": "stream",
          "text": [
            "\n",
            "                                              ANSWER TO 1.8 - Question not clear- answers include \n",
            "                                              correlations for VERSICOLOR species ONLY\n",
            "                                  \n",
            "      \n"
          ],
          "name": "stdout"
        },
        {
          "output_type": "execute_result",
          "data": {
            "text/html": [
              "<div>\n",
              "<style scoped>\n",
              "    .dataframe tbody tr th:only-of-type {\n",
              "        vertical-align: middle;\n",
              "    }\n",
              "\n",
              "    .dataframe tbody tr th {\n",
              "        vertical-align: top;\n",
              "    }\n",
              "\n",
              "    .dataframe thead th {\n",
              "        text-align: right;\n",
              "    }\n",
              "</style>\n",
              "<table border=\"1\" class=\"dataframe\">\n",
              "  <thead>\n",
              "    <tr style=\"text-align: right;\">\n",
              "      <th></th>\n",
              "      <th>petal_length</th>\n",
              "      <th>petal_width</th>\n",
              "      <th>sepal_length</th>\n",
              "      <th>sepal_width</th>\n",
              "    </tr>\n",
              "  </thead>\n",
              "  <tbody>\n",
              "    <tr>\n",
              "      <th>petal_length</th>\n",
              "      <td>1.00</td>\n",
              "      <td>0.79</td>\n",
              "      <td>0.75</td>\n",
              "      <td>0.56</td>\n",
              "    </tr>\n",
              "    <tr>\n",
              "      <th>petal_width</th>\n",
              "      <td>0.79</td>\n",
              "      <td>1.00</td>\n",
              "      <td>0.55</td>\n",
              "      <td>0.66</td>\n",
              "    </tr>\n",
              "    <tr>\n",
              "      <th>sepal_length</th>\n",
              "      <td>0.75</td>\n",
              "      <td>0.55</td>\n",
              "      <td>1.00</td>\n",
              "      <td>0.53</td>\n",
              "    </tr>\n",
              "    <tr>\n",
              "      <th>sepal_width</th>\n",
              "      <td>0.56</td>\n",
              "      <td>0.66</td>\n",
              "      <td>0.53</td>\n",
              "      <td>1.00</td>\n",
              "    </tr>\n",
              "  </tbody>\n",
              "</table>\n",
              "</div>"
            ],
            "text/plain": [
              "              petal_length  petal_width  sepal_length  sepal_width\n",
              "petal_length          1.00         0.79          0.75         0.56\n",
              "petal_width           0.79         1.00          0.55         0.66\n",
              "sepal_length          0.75         0.55          1.00         0.53\n",
              "sepal_width           0.56         0.66          0.53         1.00"
            ]
          },
          "metadata": {
            "tags": []
          },
          "execution_count": 33
        }
      ]
    },
    {
      "cell_type": "code",
      "metadata": {
        "id": "vhwYwfgKjgIO",
        "outputId": "85467e42-b9a7-44e1-cc20-fd2039dee7e8",
        "colab": {
          "base_uri": "https://localhost:8080/",
          "height": 259
        }
      },
      "source": [
        "print('''\n",
        "                                              ANSWER TO 1.8 - Question not clear- answers include \n",
        "                                              correlations for SETOSA species ONLY\n",
        "                                  \n",
        "      ''')\n",
        "\n",
        "df[['petal_length', 'petal_width', 'sepal_length', 'sepal_width']][df.species == 'setosa'].corr().round(2)"
      ],
      "execution_count": 37,
      "outputs": [
        {
          "output_type": "stream",
          "text": [
            "\n",
            "                                              ANSWER TO 1.8 - Question not clear- answers include \n",
            "                                              correlations for SETOSA species ONLY\n",
            "                                  \n",
            "      \n"
          ],
          "name": "stdout"
        },
        {
          "output_type": "execute_result",
          "data": {
            "text/html": [
              "<div>\n",
              "<style scoped>\n",
              "    .dataframe tbody tr th:only-of-type {\n",
              "        vertical-align: middle;\n",
              "    }\n",
              "\n",
              "    .dataframe tbody tr th {\n",
              "        vertical-align: top;\n",
              "    }\n",
              "\n",
              "    .dataframe thead th {\n",
              "        text-align: right;\n",
              "    }\n",
              "</style>\n",
              "<table border=\"1\" class=\"dataframe\">\n",
              "  <thead>\n",
              "    <tr style=\"text-align: right;\">\n",
              "      <th></th>\n",
              "      <th>petal_length</th>\n",
              "      <th>petal_width</th>\n",
              "      <th>sepal_length</th>\n",
              "      <th>sepal_width</th>\n",
              "    </tr>\n",
              "  </thead>\n",
              "  <tbody>\n",
              "    <tr>\n",
              "      <th>petal_length</th>\n",
              "      <td>1.00</td>\n",
              "      <td>0.33</td>\n",
              "      <td>0.27</td>\n",
              "      <td>0.18</td>\n",
              "    </tr>\n",
              "    <tr>\n",
              "      <th>petal_width</th>\n",
              "      <td>0.33</td>\n",
              "      <td>1.00</td>\n",
              "      <td>0.28</td>\n",
              "      <td>0.23</td>\n",
              "    </tr>\n",
              "    <tr>\n",
              "      <th>sepal_length</th>\n",
              "      <td>0.27</td>\n",
              "      <td>0.28</td>\n",
              "      <td>1.00</td>\n",
              "      <td>0.74</td>\n",
              "    </tr>\n",
              "    <tr>\n",
              "      <th>sepal_width</th>\n",
              "      <td>0.18</td>\n",
              "      <td>0.23</td>\n",
              "      <td>0.74</td>\n",
              "      <td>1.00</td>\n",
              "    </tr>\n",
              "  </tbody>\n",
              "</table>\n",
              "</div>"
            ],
            "text/plain": [
              "              petal_length  petal_width  sepal_length  sepal_width\n",
              "petal_length          1.00         0.33          0.27         0.18\n",
              "petal_width           0.33         1.00          0.28         0.23\n",
              "sepal_length          0.27         0.28          1.00         0.74\n",
              "sepal_width           0.18         0.23          0.74         1.00"
            ]
          },
          "metadata": {
            "tags": []
          },
          "execution_count": 37
        }
      ]
    },
    {
      "cell_type": "code",
      "metadata": {
        "id": "EojJU2J6lq8Y",
        "outputId": "79b27af5-3af2-47df-bddf-ad324b63c901",
        "colab": {
          "base_uri": "https://localhost:8080/",
          "height": 259
        }
      },
      "source": [
        "print('''\n",
        "                                              ANSWER TO 1.8 - Question not clear- answers include \n",
        "                                              correlations for VIRGINICA species ONLY\n",
        "                                  \n",
        "      ''')\n",
        "\n",
        "df[['petal_length', 'petal_width', 'sepal_length', 'sepal_width']][df.species == 'virginica'].corr().round(2)"
      ],
      "execution_count": 36,
      "outputs": [
        {
          "output_type": "stream",
          "text": [
            "\n",
            "                                              ANSWER TO 1.8 - Question not clear- answers include \n",
            "                                              correlations for VIRGINICA species ONLY\n",
            "                                  \n",
            "      \n"
          ],
          "name": "stdout"
        },
        {
          "output_type": "execute_result",
          "data": {
            "text/html": [
              "<div>\n",
              "<style scoped>\n",
              "    .dataframe tbody tr th:only-of-type {\n",
              "        vertical-align: middle;\n",
              "    }\n",
              "\n",
              "    .dataframe tbody tr th {\n",
              "        vertical-align: top;\n",
              "    }\n",
              "\n",
              "    .dataframe thead th {\n",
              "        text-align: right;\n",
              "    }\n",
              "</style>\n",
              "<table border=\"1\" class=\"dataframe\">\n",
              "  <thead>\n",
              "    <tr style=\"text-align: right;\">\n",
              "      <th></th>\n",
              "      <th>petal_length</th>\n",
              "      <th>petal_width</th>\n",
              "      <th>sepal_length</th>\n",
              "      <th>sepal_width</th>\n",
              "    </tr>\n",
              "  </thead>\n",
              "  <tbody>\n",
              "    <tr>\n",
              "      <th>petal_length</th>\n",
              "      <td>1.00</td>\n",
              "      <td>0.32</td>\n",
              "      <td>0.86</td>\n",
              "      <td>0.40</td>\n",
              "    </tr>\n",
              "    <tr>\n",
              "      <th>petal_width</th>\n",
              "      <td>0.32</td>\n",
              "      <td>1.00</td>\n",
              "      <td>0.28</td>\n",
              "      <td>0.54</td>\n",
              "    </tr>\n",
              "    <tr>\n",
              "      <th>sepal_length</th>\n",
              "      <td>0.86</td>\n",
              "      <td>0.28</td>\n",
              "      <td>1.00</td>\n",
              "      <td>0.46</td>\n",
              "    </tr>\n",
              "    <tr>\n",
              "      <th>sepal_width</th>\n",
              "      <td>0.40</td>\n",
              "      <td>0.54</td>\n",
              "      <td>0.46</td>\n",
              "      <td>1.00</td>\n",
              "    </tr>\n",
              "  </tbody>\n",
              "</table>\n",
              "</div>"
            ],
            "text/plain": [
              "              petal_length  petal_width  sepal_length  sepal_width\n",
              "petal_length          1.00         0.32          0.86         0.40\n",
              "petal_width           0.32         1.00          0.28         0.54\n",
              "sepal_length          0.86         0.28          1.00         0.46\n",
              "sepal_width           0.40         0.54          0.46         1.00"
            ]
          },
          "metadata": {
            "tags": []
          },
          "execution_count": 36
        }
      ]
    },
    {
      "cell_type": "markdown",
      "metadata": {
        "id": "gH0GWuMGU2Vv"
      },
      "source": [
        "**Part 2: Empirical distributions vs. analytic distributions**\n",
        "\n",
        "2.1 Your turn! (6 points, i.e., 3 pts each)\n",
        "Write code to:\n",
        "\n",
        "Plot the PDF of three exponential distributions (with lambda equal to 0.5, 1, and 2) on the same plot. hey will probably look like this:\n",
        "pdf.png"
      ]
    },
    {
      "cell_type": "code",
      "metadata": {
        "id": "zaDjMoX5ViBI",
        "outputId": "66fca2d2-c672-442e-bf1c-0c15b1adaee9",
        "colab": {
          "base_uri": "https://localhost:8080/",
          "height": 268
        }
      },
      "source": [
        "print('''\n",
        "                                              ANSWER TO 2.1\n",
        "                                  \n",
        "      ''')\n",
        "\n",
        "x = np.linspace(0, 5, 5000)\n",
        "mu = 0\n",
        "sigma = 1\n",
        "\n",
        "y_pdf = ss.expon.pdf(x, mu, sigma/2) # the normal pdf\n",
        "y1_pdf = ss.expon.pdf(x, mu, sigma/0.5) # the normal pdf\n",
        "y2_pdf = ss.expon.pdf(x, mu, sigma/1) # the normal pdf\n",
        "\n",
        "\n",
        "plt.plot(x, y_pdf, label='lambda=2')\n",
        "plt.plot(x, y1_pdf, label='lambda=0.5')\n",
        "plt.plot(x, y2_pdf, label='lambda=1')\n",
        "plt.legend();"
      ],
      "execution_count": null,
      "outputs": [
        {
          "output_type": "display_data",
          "data": {
            "image/png": "[encoded data removed]",
            "text/plain": [
              "<Figure size 432x288 with 1 Axes>"
            ]
          },
          "metadata": {
            "tags": [],
            "needs_background": "light"
          }
        }
      ]
    },
    {
      "cell_type": "markdown",
      "metadata": {
        "id": "cm_DXYzhaUPV"
      },
      "source": [
        "Plot the CDF of three exponential distributions (with lambda equal to 0.5, 1, and 2) on the same plot.\n",
        "They will probably look like this:"
      ]
    },
    {
      "cell_type": "code",
      "metadata": {
        "id": "nGS9_QKzaXxh",
        "outputId": "e1f106a2-c97f-49c5-d651-c01ca6fa22df",
        "colab": {
          "base_uri": "https://localhost:8080/",
          "height": 268
        }
      },
      "source": [
        "print('''\n",
        "                                              ANSWER TO 2.1 - Part 2\n",
        "                                  \n",
        "      ''')\n",
        "\n",
        "x = np.linspace(0, 5, 5000)\n",
        "mu = 0\n",
        "sigma = 1\n",
        "\n",
        "y_cdf = ss.expon.cdf(x, mu, sigma/2) # the normal pdf\n",
        "y1_cdf = ss.expon.cdf(x, mu, sigma/0.5) # the normal pdf\n",
        "y2_cdf = ss.expon.cdf(x, mu, sigma/1) # the normal pdf\n",
        "\n",
        "\n",
        "plt.plot(x, y_cdf, label='lambda=2')\n",
        "plt.plot(x, y1_cdf, label='lambda=0.5')\n",
        "plt.plot(x, y2_cdf, label='lambda=1')\n",
        "plt.legend();"
      ],
      "execution_count": null,
      "outputs": [
        {
          "output_type": "display_data",
          "data": {
            "image/png": "[encoded data removed]",
            "text/plain": [
              "<Figure size 432x288 with 1 Axes>"
            ]
          },
          "metadata": {
            "tags": [],
            "needs_background": "light"
          }
        }
      ]
    },
    {
      "cell_type": "markdown",
      "metadata": {
        "id": "mNXeAt2JbALs"
      },
      "source": [
        "2.2 Bonus! (10 points)\n",
        "Let's try to answer the question: What are the chances of a horse matching or beating Secretariat's record?\n",
        "\n",
        "Assuming that the Belmont winners' times are Normally distributed (with the 1970 and 1973 years removed), write Python code to answer the question: What is the probability that the winner of a given Belmont Stakes will run it as fast or faster than Secretariat?\n",
        "\n",
        "Instructions:\n",
        "\n",
        "Take 1,000,000 samples from the normal distribution using the np.random.normal() function.\n",
        "Compute the mean mu and standard deviation sigma from the belmont_no_outliers array.\n",
        "Compute the fraction of samples that have a time less than or equal to Secretariat's time of 144 seconds.\n",
        "Print the result.\n"
      ]
    },
    {
      "cell_type": "code",
      "metadata": {
        "id": "TURIX7gjb9WZ",
        "outputId": "fc2c42ee-74c7-4176-c747-13603c5eaba2",
        "colab": {
          "base_uri": "https://localhost:8080/",
          "height": 126
        }
      },
      "source": [
        "print('''\n",
        "                                              ANSWER TO 2.2\n",
        "                                  \n",
        "      ''')\n",
        "\n",
        "import numpy as np\n",
        "import matplotlib.pyplot as plt\n",
        "\n",
        "belmont_no_outliers = np.array([148.51,  146.65,  148.52,  150.7,  150.42,  150.88,  151.57,\n",
        "                                147.54,  149.65,  148.74,  147.86,  148.75,  147.5,  148.26,\n",
        "                                149.71,  146.56,  151.19,  147.88,  149.16,  148.82,  148.96,\n",
        "                                152.02,  146.82,  149.97,  146.13,  148.1,  147.2,  146.,\n",
        "                                146.4,  148.2,  149.8,  147.,  147.2,  147.8,  148.2,\n",
        "                                149.,  149.8,  148.6,  146.8,  149.6,  149.,  148.2,\n",
        "                                149.2,  148.,  150.4,  148.8,  147.2,  148.8,  149.6,\n",
        "                                148.4,  148.4,  150.2,  148.8,  149.2,  149.2,  148.4,\n",
        "                                150.2,  146.6,  149.8,  149.,  150.8,  148.6,  150.2,\n",
        "                                149.,  148.6,  150.2,  148.2,  149.4,  150.8,  150.2,\n",
        "                                152.2,  148.2,  149.2,  151.,  149.6,  149.6,  149.4,\n",
        "                                148.6,  150.,  150.6,  149.2,  152.6,  152.8,  149.6,\n",
        "                                151.6,  152.8,  153.2,  152.4,  152.2])\n",
        "\n",
        "\n",
        "# Seed random number generator\n",
        "np.random.seed(42)\n",
        "\n",
        "# Compute mean and standard deviation: mu, sigma\n",
        "mu = np.mean(belmont_no_outliers)\n",
        "sigma = np.std(belmont_no_outliers)\n",
        "\n",
        "# Sample out of a normal distribution with this mu and sigma: samples\n",
        "samples = np.random.normal(mu, sigma, 1000000)\n",
        "\n",
        "# Calculate sum and fraction/percent of samples less than 144 seconds\n",
        "\n",
        "calsum=np.sum(samples<=144)\n",
        "calpercent= np.mean(samples<=144)\n",
        "\n",
        "print(calsum, '''samples out of 1 million samples have a time less than or equal to Secretariat's time of 144 seconds,\n",
        "i.e''', calpercent*100,\"% (fraction) of samples that have a time less than or equal to Secretariat's time of 144 seconds\" )\n"
      ],
      "execution_count": 36,
      "outputs": [
        {
          "output_type": "stream",
          "text": [
            "\n",
            "                                              ANSWER TO 2.2\n",
            "                                  \n",
            "      \n",
            "593 samples out of 1 million samples have a time less than or equal to Secretariat's time of 144 seconds,\n",
            "i.e 0.0593 % (fraction) of samples that have a time less than or equal to Secretariat's time of 144 seconds\n"
          ],
          "name": "stdout"
        }
      ]
    },
    {
      "cell_type": "markdown",
      "metadata": {
        "id": "zYSKs40cj6y_"
      },
      "source": [
        "**Question 2.3 Your turn (15 points)**\n",
        "\n",
        "\n",
        "Let's investigate whether the speed of light measurements by Michelson are normally distributed.\n",
        "\n",
        "The dataset (michelson_speed_of_light.csv) is available on Canvas.\n",
        "\n",
        "Hint: You are only interested in the velocity of light in air (km/s) column.\n",
        "\n",
        "You should follow a similar sequence of steps as above, namely:\n",
        "\n",
        "Compute the mean mu and standard deviation sigma from the michelson_speed_of_light array.\n",
        "Take 10,000 samples out of a normal distribution with this mean and standard deviation using np.random.normal().\n",
        "Compute the CDF of the theoretical samples and the ECDF of the Michelson speed of light data, assigning the results to x_theor, y_theor and x, y, respectively.\n",
        "Plot the CDF of your samples with the ECDF, with labeled axes.\n",
        "For more on Michelson: https://en.wikipedia.org/wiki/Albert_A._Michelson"
      ]
    },
    {
      "cell_type": "code",
      "metadata": {
        "id": "T_6rqd0pkM8S",
        "outputId": "f5df98d8-3334-4807-ea87-12ce6cb26e99",
        "colab": {
          "resources": {
            "http://localhost:8080/nbextensions/google.colab/files.js": {
              "data": "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",
              "ok": true,
              "headers": [
                [
                  "content-type",
                  "application/javascript"
                ]
              ],
              "status": 200,
              "status_text": ""
            }
          },
          "base_uri": "https://localhost:8080/",
          "height": 111
        }
      },
      "source": [
        "# Importing Michelson file\n",
        "\n",
        "from google.colab import files\n",
        "files.upload()\n"
      ],
      "execution_count": 42,
      "outputs": [
        {
          "output_type": "display_data",
          "data": {
            "text/html": [
              "\n",
              "     <input type=\"file\" id=\"files-d86c3195-d101-4c70-9664-d5a250aac3cb\" name=\"files[]\" multiple disabled\n",
              "        style=\"border:none\" />\n",
              "     <output id=\"result-d86c3195-d101-4c70-9664-d5a250aac3cb\">\n",
              "      Upload widget is only available when the cell has been executed in the\n",
              "      current browser session. Please rerun this cell to enable.\n",
              "      </output>\n",
              "      <script src=\"/nbextensions/google.colab/files.js\"></script> "
            ],
            "text/plain": [
              "<IPython.core.display.HTML object>"
            ]
          },
          "metadata": {
            "tags": []
          }
        },
        {
          "output_type": "stream",
          "text": [
            "Saving michelson_speed_of_light.csv to michelson_speed_of_light.csv\n"
          ],
          "name": "stdout"
        },
        {
          "output_type": "execute_result",
          "data": {
            "text/plain": [
              "{'michelson_speed_of_light.csv': b',date,distinctness of image,temperature (F),position of deflected image,position of slit,displacement of image in divisions,difference between greatest and least,B,Cor,revolutions per second,radius (ft),value of one turn of screw,velocity of light in air (km/s),remarks\\n0,June  5,3,76,114.85,0.3,114.55,0.17,1.423,-0.132,257.36,28.671999999999997,0.9961399999999999,299850,Electric light.\\n1,   June  7,2,72,114.64,0.07400000000000001,114.56,0.10,1.5330000000000001,-0.084,257.52,28.655,0.9961399999999999,299740,P.M. Frame inclined at various angles\\n2,   June  7,2,72,114.58,0.07400000000000001,114.50,0.08,1.5330000000000001,-0.084,257.52,28.647,0.9961399999999999,299900,P.M. Frame inclined at various angles\\n3,   June  7,2,72,85.91,0.07400000000000001, 85.84,0.12,1.5330000000000001,-0.084,193.14,28.647,0.99598,300070,P.M. Frame inclined at various angles\\n4,   June  7,2,72,85.97,0.07400000000000001, 85.89,O.07,1.5330000000000001,-0.084,193.14,28.65,0.99598,299930,P.M. Frame inclined at various angles\\n5,   June  7,2,72,114.61,0.07400000000000001,114-53,0.07,1.5330000000000001,-0.084,257.42,28.65,0.9961399999999999,299850,P.M. Frame inclined at various angles\\n6,   June  9,3,83,114.54,0.07400000000000001,114.47,0.07,1.5330000000000001,-0.21600000000000003,257.39,28.658,0.9961399999999999,299950,P.M. Frame inclined at various angles\\n7,   June  9,3,83,114.54,0.07400000000000001,114.46,0.10,1.5330000000000001,-0.21600000000000003,257.39,28.658,0.9961399999999999,299980,P.M. Frame inclined at various angles\\n8,   June  9,3,83,114.57,0.07400000000000001,114.47,0.08,1.5330000000000001,-0.21600000000000003,257.39,28.662,0.9961399999999999,299980,P.M. Frame inclined at various angles\\n9,   June  9,3,83,114.57,0.07400000000000001,114.50,0.06,1.5330000000000001,-0.21600000000000003,257.39,28.66,0.9961399999999999,299880,P.M. Frame inclined at various angles\\n10,   June  9,2,83,114.61,0.07400000000000001,114.53,0.13,1.5330000000000001,-0.21600000000000003,257.39,28.678,0.9961399999999999,300000,P.M. Frame inclined at various angles\\n11,   June 10,2,90,114.6,0.07400000000000001,114.52,0.11,1.517,-0.3,257.29,28.685,0.9961399999999999,299980,P.M.\\n12,   June 10,2,90,114.62,0.07400000000000001,114.54,0.08,1.517,-0.3,257.29,28.685,0.9961399999999999,299930,P.M.\\n13,   June 12,2,71,114.81,0.07400000000000001,114.74,0.09,1.45,-0.07200000000000001,257.45,28.69,0.9961399999999999,299650,A.M.\\n14,   June 12,2,71,114.78,0.07400000000000001,114.70,0.05,1.45,-0.07200000000000001,257.45,28.69,0.9961399999999999,299760,A.M.\\n15,   June 12,1,71,114.76,0.07400000000000001,114.68,0.09,1.45,-0.07200000000000001,257.45,28.69,0.9961399999999999,299810,A.M.\\n16,   June 13,3,72,112.64,0.07400000000000001,112.56,0.09,1.5,-0.084,257.49,28.171999999999997,0.9961399999999999,300000,A.M.\\n17,   June 13,3,72,112.63,0.07400000000000001,112.56,0.10,1.5,-0.084,257.49,28.171999999999997,0.9961399999999999,300000,A.M.\\n18,   June 13,2,72,112.65,0.07400000000000001,112.57,0.08,1.5,-0.084,257.49,28.171999999999997,0.9961399999999999,299960,A.M.\\n19,   June 13,3,79,112.82,0.26,112.56,0.06,1.517,-0.168,257.42,28.178,0.9961399999999999,299960,P.M.\\n20,   June 13,3,79,112.82,0.26,112.56,0.13,1.517,-0.168,257.42,28.178,0.9961399999999999,299960,P.M.\\n21,   June 13,3,79,112.83,0.26,112.57,0.07,1.517,-0.168,257.42,28.178,0.9961399999999999,299940,P.M.\\n22,   June 13,3,79,112.82,0.26,112.56,0.06,1.517,-0.168,257.42,28.178,0.9961399999999999,299960,P.M.\\n23,   June 13,3,79,112.83,0.26,112.57,0.11,1.517,-0.168,257.42,28.178,0.9961399999999999,299940,P.M.\\n24,   June 13,3,79,113.41,0.26,113.15,11  ,1.517,-0.168,258.70,28.151999999999997,0.9961399999999999,299880,P.M. Set micrometer and counted oscillations.\\n25,   June 13,3,79,112.14,0.26,111.88,6   ,1.517,-0.168,255.69,28.151999999999997,0.9961399999999999,299800,Oscillations of image of revolving mirror.\\n26,   June 14,1,64,112.83,0.26,112.57,0.12,1.5,0.012,257.58,28.151999999999997,0.9961399999999999,299850,A.M.\\n27,   June 14,1,64,112.83,0.26,112.57,0.05,1.517,0.012,257.60,28.151999999999997,0.9961399999999999,299880,A.M.\\n28,   June 14,1,65,112.81,0.26,112.55,0.11,1.517,0.0,257.59,28.151999999999997,0.9961399999999999,299900,A.M.\\n29,   June 14,1,66,112.83,0.26,112.57,0.09,1.517,-0.012,257.57,28.151999999999997,0.9961399999999999,299840,A.M.\\n30,   June 14,1,67,112.83,0.26,112.57,0.12,1.517,-0.024,257.56,28.151999999999997,0.9961399999999999,299830,A.M.\\n31,   June 14,1,84,112.78,0.26,112.52,0.06,1.517,-0.228,257.36,28.159000000000002,0.9961399999999999,299790,P.M. Readings taken by Lieut. Nazro.\\n32,   June 14,1,85,112.76,0.26,112.50,0.08,1.5,-0.24,257.33,28.159000000000002,0.9961399999999999,299810,P.M. Readings taken by Lieut. Nazro.\\n33,   June 14,1,84,112.72,0.26,112.46,0.08,1.483,-0.228,257.32,28.159000000000002,0.9961399999999999,299880,P.M. Readings taken by Lieut. Nazro.\\n34,   June 14,1,84,112.73,0.26,112.47,0.09,1.483,-0.228,257.32,28.159000000000002,0.9961399999999999,299880,P.M.\\n35,   June 14,1,84,112.75,0.26,112.49,0.09,1.483,-0.228,257.32,28.129,0.9961399999999999,299830,P.M.\\n36,   June 17,2,62,112.85,0.26,112.59,0.09,1.517,0.036000000000000004,257.62,28.149,0.9961399999999999,299800,A.M.\\n37,   June 17,2,63,112.84,0.26,112.58,0.06,1.5,0.024,257.59,28.149,0.9961399999999999,299790,A.M.\\n38,   June 17,1,64,112.85,0.26,112.59,0.07,1.5,0.012,257.58,28.149,0.9961399999999999,299760,A.M.\\n39,   June 17,3,77,112.8,0.26,112.54,0.07,1.5,-0.14400000000000002,257-43,28.156999999999996,0.9961399999999999,299800,P.M. Readings taken by Mr. Clason.\\n40,   June 17,3,77,112.77,0.26,112.51,0.08,1.5,-0.14400000000000002,257.43,28.156999999999996,0.9961399999999999,299880,P.M. Readings taken by Mr. Clason.\\n41,   June 17,3,77,112.77,0.26,112.51,0.11,1.5,-0.14400000000000002,257.43,28.156999999999996,0.9961399999999999,299880,P.M. Readings taken by Mr. Clason.\\n42,   June 17,3,77,112.77,0.26,112.51,0.09,1.5,-0.14400000000000002,257.43,28.156999999999996,0.9961399999999999,299880,P.M. Readings taken by Mr. Clason.\\n43,   June 17,3,77,112.78,0.26,112.52,0.08,1.5,-0.14400000000000002,257 43,28.156999999999996,0.9961399999999999,299860,P.M. Readings taken by Mr. Clason.\\n44,   June 18,1,58,112.9,0.265,112.64,0.07,1.5,0.084,257.65,28.15,0.9961399999999999,299720,A.M.\\n45,   June 18,1,58,112.9,0.265,112.64,0.10,1.5,0.084,257.65,28.15,0.9961399999999999,299720,A.M.\\n46,   June 18,1,59,112.92,0.265,112.66,0.07,1.483,0.07200000000000001,257.62,28.15,0.9961399999999999,299620,A.M.\\n47,   June 18,2,75,112.79,0.265,112.52,0.09,1.483,-0.12,257-43,28.158,0.9961399999999999,299860,P.M.\\n48,   June 18,2,75,112.75,0.265,112.48,0.10,1.483,-0.12,257-43,28.158,0.9961399999999999,299970,P.M.\\n49,   June 18,2,75,112.76,0.265,112.49,0.08,1.483,-0.12,257-43,28.158,0.9961399999999999,299950,P.M.\\n50,   June 20,3,60,112.94,0.265,112.67,0.07,1.517,0.063,257.65,28.171999999999997,0.9961399999999999,299880,A.M.\\n51,   June 20,3,61,112.92,0.265,112.65,0.09,1.517,0.048,257.63,28.171999999999997,0.9961399999999999,299910,A.M.\\n52,   June 20,2,62,112.94,0.265,112.67,0.07,1.517,0.036000000000000004,257.62,28.171999999999997,0.9961399999999999,299850,A.M.\\n53,   June 20,2,63,112.93,0.265,112.66,0.03,1.517,0.024,257.61,28.171999999999997,0.9961399999999999,299870,A.M.\\n54,   June 20,2,78,133.48,0.265,133.21,0.13,1.45,-0.156,257.36,33.345,0.9962700000000001,299840,P.M.\\n55,   June 20,2,79,133.49,0.265,133.23,0.09,1.5,-0.168,257.40,33.345,0.9962700000000001,299840,P.M.\\n56,   June 20,2,80,133.49,0.265,133.22,0.07,1.5,-0.18,257.39,33.345,0.9962700000000001,299850,P.M.\\n57,   June 20,2,79,133.5,0.265,133.24,0.13,1.483,-0.168,257.39,33.345,0.9962700000000001,299840,P.M.\\n58,   June 20,2,79,133.49,0.265,133.22,0.06,1.483,-0.168,257.38,33.345,0.9962700000000001,299840,P.M.\\n59,   June 20,2,79,133.49,0.265,133.22,0.10,1.483,-0.168,257.38,33.345,0.9962700000000001,299840,P.M.\\n60,   June 21,2,61,133.56,0.265,133.29,0.12,1.5330000000000001,0.048,257.65,33.332,0.9962700000000001,299890,A.M.\\n61,   June 21,2,62,133.58,0.265,133.31,0.08,1.5330000000000001,0.036000000000000004,257.64,33.332,0.9962700000000001,299810,A.M.\\n62,   June 21,2,63,133.57,0.265,133.31,0.09,1.5330000000000001,0.024,257.63,33.332,0.9962700000000001,299810,A.M.\\n63,   June 21,2,64,133.57,0.265,133.30,0.11,1.5330000000000001,0.012,257.61,33.332,0.9962700000000001,299820,A.M.\\n64,   June 21,2,65,133.56,0.265,133.30,0.13,1.5330000000000001,0.0,257.60,33.332,0.9962700000000001,299800,A.M.\\n65,   June 21,3,80,133.48,0.265,133.21,0.06,1.5330000000000001,-0.18,257.42,33.33,0.9962700000000001,299770,P.M.\\n66,   June 21,3,81,133.46,0.265,133.19,0.10,1.5,-0.192,257.38,33.33,0.9962700000000001,299760,P.M.\\n67,   June 21,3,82,133.46,0.265,133.20,0.05,1.5,-0.204,257.37,33.33,0.9962700000000001,299740,P.M.\\n68,   June 21,3,82,133.46,0.265,133.20,0.08,1.517,-0.204,257.38,33.33,0.9962700000000001,299750,P.M.\\n69,   June 21,3,81,133.46,0.265,133.19,0.08,1.5,-0.192,257.38,33.33,0.9962700000000001,299760,P.M.\\n70,   June 23,3,89,133.43,0.265,133.16,0.08,1.5419999999999998,-0.28800000000000003,257.32,33.345,0.9962700000000001,299910,P.M.\\n71,   June 23,3,89,133.42,0.265,133.15,0.06,1.55,-0.28800000000000003,257.33,33.345,0.9962700000000001,299920,P.M.\\n72,   June 23,3,90,133.43,0.265,133.17,0.09,1.55,-0.3,257.32,33.345,0.9962700000000001,299890,P.M.\\n73,   June 23,3,90,133.43,0.265,133.16,0.07,1.5330000000000001,-0.3,257.30,33.345,0.9962700000000001,299860,P.M.\\n74,   June 23,3,90,133.42,0.265,133.16,0.07,1.517,-0.3,257.29,33.345,0.9962700000000001,299880,P.M.\\n75,   June 24,3,72,133.47,0.265,133.20,0.15,1.517,-0.084,257.50,33.319,0.9962700000000001,299720,A.M.\\n76,   June 24,3,73,133.44,0.265,133.17,0.04,1.517,-0.096,257.49,33.319,0.9962700000000001,299840,A.M.\\n77,   June 24,3,74,133.42,0.265,133.16,0.11,1.517,-0.10800000000000001,257.48,33.319,0.9962700000000001,299850,A.M.\\n78,   June 24,3,75,133.42,0.265,133.16,0.06,1.517,-0.12,257.47,33.319,0.9962700000000001,299850,A.M.\\n79,   June 24,3,76,133.44,0.265,133.18,0.10,1.517,-0.132,257.45,33.319,0.9962700000000001,299780,A.M.\\n80,   June 26,2,86,133.42,0.265,133.15,0.05,1.508,-0.252,257.33,33.339,0.9962700000000001,299890,P.M.\\n81,   June 26,2,86,133.44,0.265,133.17,0.08,1.508,-0.252,257.33,33.339,0.9962700000000001,299840,P.M.\\n82,   June 27,3,73,133.49,0.265,133.22,0.11,1.483,-0.096,257.46,33.328,0.9962700000000001,299780,A.M.\\n83,   June 27,3,74,133.47,0.265,133.20,0.06,1.483,-0.10800000000000001,257.44,33.328,0.9962700000000001,299810,A.M.\\n84,   June 27,3,75,133.47,0.265,133.21,0.09,1.483,-0.12,257.43,33.328,0.9962700000000001,299760,A.M.\\n85,   June 27,3,75,133.45,0.265,133.19,0.09,1.4669999999999999,-0.12,257.42,33.328,0.9962700000000001,299810,A.M.\\n86,   June 27,3,76,133.47,0.265,133.20,0.08,1.483,-0.132,257.42,33.328,0.9962700000000001,299790,A.M.\\n87,   June 27,3,76,133.45,0.265,133.19,0.10,1.483,-0.132,257.42,33.328,0.9962700000000001,299810,A.M.\\n88,   June 30,2,85,35.32,135.0, 99.68,0.05,1.5,-0.24,193.00,33.274,0.99645,299820,P.M. Mirror inverted.\\n89,   June 30,2,86,35.34,135.0, 99.67,0.06,1.508,-0.252,193.00,33.274,0.99645,299850,P.M. Mirror inverted.\\n90,   June 30,2,86,35.34,135.0, 99.66,0.10,1.508,-0.252,193.00,33.274,0.99645,299870,P.M. Mirror inverted.\\n91,   June 30,2,86,35.34,135.0, 99.66,0.09,1.517,-0.252,193.00,33.274,0.99645,299870,P.M. Mirror inverted.\\n92,   July  1,2,83,2.17,135.145,132.98,0.07,1.5,-0.21600000000000003,257.35,33.282,0.9962700000000001,299810,P.M. Mirror inverted.\\n93,   July  1,2,84,2.15,135.145,133.00,0.09,1.5,-0.228,257.34,33.282,0.9962700000000001,299740,P.M. Mirror inverted.\\n94,   July  1,2,86,2.14,135.145,133.01,0.06,1.4669999999999999,-0.252,257.28,33.311,0.9962700000000001,299810,P.M. Mirror inverted.\\n95,   July  1,2,86,2.14,135.145,133.00,0.08,1.4669999999999999,-0.252,257.28,33.311,0.9962700000000001,299940,P.M. Mirror inverted.\\n96,   July  2,3,86,99.85,0.4, 99.45,0.05,1.45,-0.252,192.95,33.205,0.9960600000000001,299950,P.M. Mirror erect.\\n97,   July  2,3,86,66.74,0.4, 66.34,0.03,1.45,-0.252,128.63,33.205,0.9958600000000001,299800,P.M. Mirror erect.\\n98,   July  2,3,86,50.16,0.4, 47.96,0.07,1.4669999999999999,-0.252, 96.48,33.205,0.9958,299810,P.M. Mirror erect.\\n99,   July  2,3,85,33.57,0.4, 33.17,0.06,1.45,-0.24, 64.32,33.205,0.99574,299870,P.M. Mirror erect.\\n'}"
            ]
          },
          "metadata": {
            "tags": []
          },
          "execution_count": 42
        }
      ]
    },
    {
      "cell_type": "code",
      "metadata": {
        "id": "GETeYch9kkqo",
        "outputId": "f6cf7cf2-bbd9-4307-e41e-12ca7305ba44",
        "colab": {
          "base_uri": "https://localhost:8080/",
          "height": 417
        }
      },
      "source": [
        "df3=pd.read_csv('michelson_speed_of_light.csv')\n",
        "df3.head(3)"
      ],
      "execution_count": 185,
      "outputs": [
        {
          "output_type": "execute_result",
          "data": {
            "text/html": [
              "<div>\n",
              "<style scoped>\n",
              "    .dataframe tbody tr th:only-of-type {\n",
              "        vertical-align: middle;\n",
              "    }\n",
              "\n",
              "    .dataframe tbody tr th {\n",
              "        vertical-align: top;\n",
              "    }\n",
              "\n",
              "    .dataframe thead th {\n",
              "        text-align: right;\n",
              "    }\n",
              "</style>\n",
              "<table border=\"1\" class=\"dataframe\">\n",
              "  <thead>\n",
              "    <tr style=\"text-align: right;\">\n",
              "      <th></th>\n",
              "      <th>Unnamed: 0</th>\n",
              "      <th>date</th>\n",
              "      <th>distinctness of image</th>\n",
              "      <th>temperature (F)</th>\n",
              "      <th>position of deflected image</th>\n",
              "      <th>position of slit</th>\n",
              "      <th>displacement of image in divisions</th>\n",
              "      <th>difference between greatest and least</th>\n",
              "      <th>B</th>\n",
              "      <th>Cor</th>\n",
              "      <th>revolutions per second</th>\n",
              "      <th>radius (ft)</th>\n",
              "      <th>value of one turn of screw</th>\n",
              "      <th>velocity of light in air (km/s)</th>\n",
              "      <th>remarks</th>\n",
              "    </tr>\n",
              "  </thead>\n",
              "  <tbody>\n",
              "    <tr>\n",
              "      <th>0</th>\n",
              "      <td>0</td>\n",
              "      <td>June  5</td>\n",
              "      <td>3</td>\n",
              "      <td>76</td>\n",
              "      <td>114.85</td>\n",
              "      <td>0.300</td>\n",
              "      <td>114.55</td>\n",
              "      <td>0.17</td>\n",
              "      <td>1.423</td>\n",
              "      <td>-0.132</td>\n",
              "      <td>257.36</td>\n",
              "      <td>28.672</td>\n",
              "      <td>0.99614</td>\n",
              "      <td>299850</td>\n",
              "      <td>Electric light.</td>\n",
              "    </tr>\n",
              "    <tr>\n",
              "      <th>1</th>\n",
              "      <td>1</td>\n",
              "      <td>June  7</td>\n",
              "      <td>2</td>\n",
              "      <td>72</td>\n",
              "      <td>114.64</td>\n",
              "      <td>0.074</td>\n",
              "      <td>114.56</td>\n",
              "      <td>0.10</td>\n",
              "      <td>1.533</td>\n",
              "      <td>-0.084</td>\n",
              "      <td>257.52</td>\n",
              "      <td>28.655</td>\n",
              "      <td>0.99614</td>\n",
              "      <td>299740</td>\n",
              "      <td>P.M. Frame inclined at various angles</td>\n",
              "    </tr>\n",
              "    <tr>\n",
              "      <th>2</th>\n",
              "      <td>2</td>\n",
              "      <td>June  7</td>\n",
              "      <td>2</td>\n",
              "      <td>72</td>\n",
              "      <td>114.58</td>\n",
              "      <td>0.074</td>\n",
              "      <td>114.50</td>\n",
              "      <td>0.08</td>\n",
              "      <td>1.533</td>\n",
              "      <td>-0.084</td>\n",
              "      <td>257.52</td>\n",
              "      <td>28.647</td>\n",
              "      <td>0.99614</td>\n",
              "      <td>299900</td>\n",
              "      <td>P.M. Frame inclined at various angles</td>\n",
              "    </tr>\n",
              "  </tbody>\n",
              "</table>\n",
              "</div>"
            ],
            "text/plain": [
              "   Unnamed: 0  ...                                remarks\n",
              "0           0  ...                        Electric light.\n",
              "1           1  ...  P.M. Frame inclined at various angles\n",
              "2           2  ...  P.M. Frame inclined at various angles\n",
              "\n",
              "[3 rows x 15 columns]"
            ]
          },
          "metadata": {
            "tags": []
          },
          "execution_count": 185
        }
      ]
    },
    {
      "cell_type": "code",
      "metadata": {
        "id": "2tMuc5TonuJ2",
        "outputId": "54225563-28f0-4b65-d08e-da8b3ec50551",
        "colab": {
          "base_uri": "https://localhost:8080/",
          "height": 521
        }
      },
      "source": [
        "print('''\n",
        "                                              ANSWER TO 2.3\n",
        "                                  \n",
        "      ''')\n",
        "\n",
        "import numpy as np\n",
        "import matplotlib.pyplot as plt\n",
        "\n",
        "michelson_speed_of_light = np.array(df3['velocity of light in air (km/s)'])\n",
        "\n",
        "def ecdf(data):\n",
        "    \"\"\"Compute ECDF for a one-dimensional array of measurements.\"\"\"\n",
        "\n",
        "    # Number of data points: n\n",
        "    n = len(data)\n",
        "\n",
        "    # x-data for the ECDF: x\n",
        "    x = np.sort(data)\n",
        "\n",
        "    # y-data for the ECDF: y\n",
        "    y = np.arange(1, n + 1) / n\n",
        "\n",
        "    return x, y\n",
        "\n",
        "# Seed random number generator\n",
        "np.random.seed(42)\n",
        "\n",
        "# Compute mean and standard deviation: mu, sigma\n",
        "mu = np.mean(michelson_speed_of_light)\n",
        "sigma = np.std(michelson_speed_of_light)\n",
        "\n",
        "# Sample out of a normal distribution with this mu and sigma: samples\n",
        "samples = np.random.normal(mu, sigma, 10000)\n",
        "\n",
        "# Get the CDF of the samples and of the data\n",
        "x_theor, y_theor = ecdf(samples)\n",
        "x, y = ecdf(michelson_speed_of_light)\n",
        "\n",
        "plt.figure(figsize=(7, 7))\n",
        "\n",
        "# Plot the CDFs and show the plot\n",
        "_ = plt.plot(x_theor, y_theor)\n",
        "_ = plt.plot(x, y, marker='.', linestyle='none')\n",
        "plt.margins(0.02)\n",
        "_ = plt.xlabel('velocity of light in air (km/s)')\n",
        "_ = plt.ylabel('CDF')\n",
        "plt.show()\n"
      ],
      "execution_count": 51,
      "outputs": [
        {
          "output_type": "stream",
          "text": [
            "\n",
            "                                              ANSWER TO 2.3\n",
            "                                  \n",
            "      \n"
          ],
          "name": "stdout"
        },
        {
          "output_type": "display_data",
          "data": {
            "image/png": "[encoded data removed]",
            "text/plain": [
              "<Figure size 504x504 with 1 Axes>"
            ]
          },
          "metadata": {
            "tags": [],
            "needs_background": "light"
          }
        }
      ]
    },
    {
      "cell_type": "markdown",
      "metadata": {
        "id": "ufnPFF0BtiqS"
      },
      "source": [
        "**Part 3: Events over time**\n",
        "\n",
        "Next, let's turn our attention to baby births.\n",
        "\n",
        "In the real world, exponential distributions come up when we look at a series of events and measure the times between events, called interarrival times. If the events are equally likely to occur at any time, the distribution of interarrival times tends to look like an exponential distribution.\n",
        "\n",
        "We will use the dataset from babies_brisbane.csv containing information about the time of birth for 44 babies born in a hospital in Brisbane, Australia, on December 18, 1997, as reported in the local paper."
      ]
    },
    {
      "cell_type": "markdown",
      "metadata": {
        "id": "hf4nyrUjqNvG"
      },
      "source": [
        "**Question 3.1: Your turn! (15 points)**\n",
        "\n",
        "\n",
        "You should write code to:\n",
        "\n",
        "Step 1: Read the data \n",
        "\n",
        "Step 2: build a Pandas dataframe.\n",
        "\n",
        "Step 3: Compute the reciprocal of the mean of the sample exponential distribution (call this lam, since lambda is a reserved word in Python).\n",
        "\n",
        "Step 4: Take 10,000 samples out of an exponential distribution with this scale using np.random.exponential().\n",
        "\n",
        "Step 5: Compute the CDF of the theoretical samples and the ECDF of the sample data, assigning the results to x_theor, y_theor and x, y, respectively.\n",
        "\n",
        "Step 6: Plot the CDF of your samples with the ECDF, with labeled axes.\n",
        "Compute the Complementary CDF (CCDF) and plot the CCDF for both theoretical and sample values, on a log-y scale.\n",
        "\n",
        "The step-by-step answers are provided below:\n"
      ]
    },
    {
      "cell_type": "code",
      "metadata": {
        "id": "G8N2LeAVqkmh",
        "outputId": "562c67a6-8aeb-4d5f-f7e9-db1041cb5c52",
        "colab": {
          "resources": {
            "http://localhost:8080/nbextensions/google.colab/files.js": {
              "data": "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",
              "ok": true,
              "headers": [
                [
                  "content-type",
                  "application/javascript"
                ]
              ],
              "status": 200,
              "status_text": ""
            }
          },
          "base_uri": "https://localhost:8080/",
          "height": 111
        }
      },
      "source": [
        "print('''\n",
        "                                            Step 1- ANSWER TO 3.1\n",
        "                                  \n",
        "      ''')\n",
        "\n",
        "# Importing Brisbane file\n",
        "\n",
        "# Step 1: Read the data\n",
        "\n",
        "from google.colab import files\n",
        "files.upload()"
      ],
      "execution_count": 52,
      "outputs": [
        {
          "output_type": "display_data",
          "data": {
            "text/html": [
              "\n",
              "     <input type=\"file\" id=\"files-77ed09bf-738e-42fc-bd24-421a7ccb785b\" name=\"files[]\" multiple disabled\n",
              "        style=\"border:none\" />\n",
              "     <output id=\"result-77ed09bf-738e-42fc-bd24-421a7ccb785b\">\n",
              "      Upload widget is only available when the cell has been executed in the\n",
              "      current browser session. Please rerun this cell to enable.\n",
              "      </output>\n",
              "      <script src=\"/nbextensions/google.colab/files.js\"></script> "
            ],
            "text/plain": [
              "<IPython.core.display.HTML object>"
            ]
          },
          "metadata": {
            "tags": []
          }
        },
        {
          "output_type": "stream",
          "text": [
            "Saving babies_brisbane.csv to babies_brisbane.csv\n"
          ],
          "name": "stdout"
        },
        {
          "output_type": "execute_result",
          "data": {
            "text/plain": [
              "{'babies_brisbane.csv': b',time,sex,weight_g,minutes\\r\\n0,5,1,3837,5\\r\\n1,104,1,3334,64\\r\\n2,118,2,3554,78\\r\\n3,155,2,3838,115\\r\\n4,257,2,3625,177\\r\\n5,405,1,2208,245\\r\\n6,407,1,1745,247\\r\\n7,422,2,2846,262\\r\\n8,431,2,3166,271\\r\\n9,708,2,3520,428\\r\\n10,735,2,3380,455\\r\\n11,812,2,3294,492\\r\\n12,814,1,2576,494\\r\\n13,909,1,3208,549\\r\\n14,1035,2,3521,635\\r\\n15,1049,1,3746,649\\r\\n16,1053,1,3523,653\\r\\n17,1133,2,2902,693\\r\\n18,1209,2,2635,729\\r\\n19,1256,2,3920,776\\r\\n20,1305,2,3690,785\\r\\n21,1406,1,3430,846\\r\\n22,1407,1,3480,847\\r\\n23,1433,1,3116,873\\r\\n24,1446,1,3428,886\\r\\n25,1514,2,3783,914\\r\\n26,1631,2,3345,991\\r\\n27,1657,2,3034,1017\\r\\n28,1742,1,2184,1062\\r\\n29,1807,2,3300,1087\\r\\n30,1825,1,2383,1105\\r\\n31,1854,2,3428,1134\\r\\n32,1909,2,4162,1149\\r\\n33,1947,2,3630,1187\\r\\n34,1949,2,3406,1189\\r\\n35,1951,2,3402,1191\\r\\n36,2010,1,3500,1210\\r\\n37,2037,2,3736,1237\\r\\n38,2051,2,3370,1251\\r\\n39,2104,2,2121,1264\\r\\n40,2123,2,3150,1283\\r\\n41,2217,1,3866,1337\\r\\n42,2327,1,3542,1407\\r\\n43,2355,1,3278,1435'}"
            ]
          },
          "metadata": {
            "tags": []
          },
          "execution_count": 52
        }
      ]
    },
    {
      "cell_type": "code",
      "metadata": {
        "id": "M663KgdGtwoH",
        "outputId": "37c3d2ad-0f24-455a-e502-a468b6ecfa31",
        "colab": {
          "base_uri": "https://localhost:8080/",
          "height": 211
        }
      },
      "source": [
        "print('''\n",
        "                                            Step 2- ANSWER TO 3.1\n",
        "                                  \n",
        "      ''')\n",
        "\n",
        "\n",
        "# Step 2: build a Pandas dataframe.\n",
        "\n",
        "df2=pd.read_csv('babies_brisbane.csv')\n",
        "df2.head(3)"
      ],
      "execution_count": 189,
      "outputs": [
        {
          "output_type": "stream",
          "text": [
            "\n",
            "                                            Step 2- ANSWER TO 3.1\n",
            "                                  \n",
            "      \n"
          ],
          "name": "stdout"
        },
        {
          "output_type": "execute_result",
          "data": {
            "text/html": [
              "<div>\n",
              "<style scoped>\n",
              "    .dataframe tbody tr th:only-of-type {\n",
              "        vertical-align: middle;\n",
              "    }\n",
              "\n",
              "    .dataframe tbody tr th {\n",
              "        vertical-align: top;\n",
              "    }\n",
              "\n",
              "    .dataframe thead th {\n",
              "        text-align: right;\n",
              "    }\n",
              "</style>\n",
              "<table border=\"1\" class=\"dataframe\">\n",
              "  <thead>\n",
              "    <tr style=\"text-align: right;\">\n",
              "      <th></th>\n",
              "      <th>Unnamed: 0</th>\n",
              "      <th>time</th>\n",
              "      <th>sex</th>\n",
              "      <th>weight_g</th>\n",
              "      <th>minutes</th>\n",
              "    </tr>\n",
              "  </thead>\n",
              "  <tbody>\n",
              "    <tr>\n",
              "      <th>0</th>\n",
              "      <td>0</td>\n",
              "      <td>5</td>\n",
              "      <td>1</td>\n",
              "      <td>3837</td>\n",
              "      <td>5</td>\n",
              "    </tr>\n",
              "    <tr>\n",
              "      <th>1</th>\n",
              "      <td>1</td>\n",
              "      <td>104</td>\n",
              "      <td>1</td>\n",
              "      <td>3334</td>\n",
              "      <td>64</td>\n",
              "    </tr>\n",
              "    <tr>\n",
              "      <th>2</th>\n",
              "      <td>2</td>\n",
              "      <td>118</td>\n",
              "      <td>2</td>\n",
              "      <td>3554</td>\n",
              "      <td>78</td>\n",
              "    </tr>\n",
              "  </tbody>\n",
              "</table>\n",
              "</div>"
            ],
            "text/plain": [
              "   Unnamed: 0  time  sex  weight_g  minutes\n",
              "0           0     5    1      3837        5\n",
              "1           1   104    1      3334       64\n",
              "2           2   118    2      3554       78"
            ]
          },
          "metadata": {
            "tags": []
          },
          "execution_count": 189
        }
      ]
    },
    {
      "cell_type": "code",
      "metadata": {
        "id": "-li_jPy5xalZ",
        "outputId": "a4599834-818a-460a-8b9e-bc39b386709e",
        "colab": {
          "base_uri": "https://localhost:8080/",
          "height": 108
        }
      },
      "source": [
        "print('''\n",
        "                                            Step 3- ANSWER TO 3.1\n",
        "                                  \n",
        "      ''')\n",
        "\n",
        "# Step 3: Compute the reciprocal of the mean of the sample exponential distribution \n",
        "#(call this lam, since lambda is a reserved word in Python).\n",
        "\n",
        "import numpy as np\n",
        "import matplotlib.pyplot as plt\n",
        "\n",
        "# use minutes column, which we need to compute the inter-arrival time, i.e. the time between one event (one birth) and the next\n",
        "births_interarrival = df2.minutes.diff()\n",
        "\n",
        "lam=1/np.mean(births_interarrival)\n",
        "print(\"lambda is \"+\"{:0.2f}\".format(lam))"
      ],
      "execution_count": 188,
      "outputs": [
        {
          "output_type": "stream",
          "text": [
            "\n",
            "                                            Step 3- ANSWER TO 3.1\n",
            "                                  \n",
            "      \n",
            "lambda is 0.03\n"
          ],
          "name": "stdout"
        }
      ]
    },
    {
      "cell_type": "code",
      "metadata": {
        "id": "UsY1n50azrI4",
        "outputId": "2a64f8c5-832f-4665-8fb4-ab37c2ce4074",
        "colab": {
          "base_uri": "https://localhost:8080/",
          "height": 145
        }
      },
      "source": [
        "print('''\n",
        "                                            Step 4- ANSWER TO 3.1\n",
        "                                  \n",
        "      ''')\n",
        "\n",
        "# Step 4: Take 10,000 samples out of an exponential distribution with this scale using np.random.exponential().\n",
        "\n",
        "\n",
        "samples = np.random.exponential(1/lam, 10000)\n",
        "print(samples)\n",
        "print(\"sample mean is \"+\"{:0.2f}\".format(np.mean(samples)))"
      ],
      "execution_count": 187,
      "outputs": [
        {
          "output_type": "stream",
          "text": [
            "\n",
            "                                            Step 4- ANSWER TO 3.1\n",
            "                                  \n",
            "      \n",
            "[44.99754926 70.81786492 20.6881826  ... 84.37918917  7.44012933\n",
            "  3.47377085]\n",
            "sample mean is 33.14\n"
          ],
          "name": "stdout"
        }
      ]
    },
    {
      "cell_type": "code",
      "metadata": {
        "id": "Y8mASLDiuH0a",
        "outputId": "255af914-e9f9-4371-fb1f-41a573f1ea43",
        "colab": {
          "base_uri": "https://localhost:8080/",
          "height": 412
        }
      },
      "source": [
        "print('''\n",
        "                                            Step 5 and 6- ANSWER TO 3.1\n",
        "                                  \n",
        "      ''')\n",
        "\n",
        "\n",
        "#Step 5: Compute the CDF of the theoretical samples and the ECDF of the sample data,\n",
        "# assigning the results to x_theor, y_theor and x, y, respectively.\n",
        "\n",
        "# Get the CDF of the samples and of the data\n",
        "x_theor, y_theor = ecdf(samples)\n",
        "x, y = ecdf(births_interarrival)\n",
        "\n",
        "#Step 6: Plot the CDF of your samples with the ECDF, with labeled axes. \n",
        "plt.figure(figsize=(5, 5))\n",
        "\n",
        "# Plot the CDFs and show the plot\n",
        "_ = plt.plot(x_theor, y_theor)\n",
        "_ = plt.plot(x, y, marker='.', linestyle='none')\n",
        "plt.margins(0.02)\n",
        "_ = plt.xlabel('Birth interarrival time(minutes)')\n",
        "_ = plt.ylabel('CDF')\n",
        "plt.show()\n"
      ],
      "execution_count": 190,
      "outputs": [
        {
          "output_type": "stream",
          "text": [
            "\n",
            "                                            Step 5 and 6- ANSWER TO 3.1\n",
            "                                  \n",
            "      \n"
          ],
          "name": "stdout"
        },
        {
          "output_type": "display_data",
          "data": {
            "image/png": "[encoded data removed]",
            "text/plain": [
              "<Figure size 360x360 with 1 Axes>"
            ]
          },
          "metadata": {
            "tags": []
          }
        }
      ]
    },
    {
      "cell_type": "code",
      "metadata": {
        "id": "ZLCDzCIq2-pm",
        "outputId": "9b603ec5-85d9-41af-c916-16fc0d6e6e7f",
        "colab": {
          "base_uri": "https://localhost:8080/",
          "height": 414
        }
      },
      "source": [
        "print('''\n",
        "                                            Step 7- ANSWER TO 3.1\n",
        "                                  \n",
        "      ''')\n",
        "\n",
        "#Step 7: Compute the Complementary CDF (CCDF) and plot the CCDF for both theoretical and sample values, on a log-y scale.\n",
        "\n",
        "# Professor's Tip\n",
        "#The complementary CDF (CCDF(x)), essentially, is: 1 − CDF(x). It is usually plotted on a log-y scale.\n",
        " #It is a convenient representation when we want to check if the sampled data fits an exponential distribution, \n",
        "# since the CCDF plot should result in a straight line with slope -lambda.\n",
        "\n",
        "# Read more here: http://greenteapress.com/thinkstats2/html/thinkstats2006.html\n",
        "\n",
        "plt.figure(figsize=(5, 5))\n",
        "\n",
        "# Change y-scale to 'log' and 1-CDF\n",
        "_ = plt.plot(x_theor, 1-y_theor)\n",
        "_ = plt.plot(x, 1-y, marker='.', linestyle='none',alpha=0.5)\n",
        "plt.margins(0.02)\n",
        "_ = plt.xlabel('Birth interarrival time(minutes)')\n",
        "_ = plt.ylabel('CDF')\n",
        "_ = plt.yscale('log')\n",
        "plt.show()\n"
      ],
      "execution_count": 96,
      "outputs": [
        {
          "output_type": "stream",
          "text": [
            "\n",
            "                                            Step 7- ANSWER TO 3.1\n",
            "                                  \n",
            "      \n"
          ],
          "name": "stdout"
        },
        {
          "output_type": "display_data",
          "data": {
            "image/png": "[encoded data removed]",
            "text/plain": [
              "<Figure size 360x360 with 1 Axes>"
            ]
          },
          "metadata": {
            "tags": [],
            "needs_background": "light"
          }
        }
      ]
    },
    {
      "cell_type": "markdown",
      "metadata": {
        "id": "XsP55SqYAxcB"
      },
      "source": [
        "**Part 4: Moments and skewness**\n",
        "\n",
        "**4.1 Your turn! (10 points)**\n",
        "\n",
        "Write Python code to:\n",
        "\n",
        "Part 1: Read the salaries.csv file, compute the median and mean salary for the entire sample.\n",
        "\n",
        "Part 2: Compute the first raw moment and show that it is equivalent to computing the mean value.\n",
        "\n",
        "Part 3: Compute the second central moment and show that it is equivalent to computing the variance.\n",
        "\n",
        "Part 4: Compute the skewness using scipy.stats.skew"
      ]
    },
    {
      "cell_type": "code",
      "metadata": {
        "id": "NiY8pQScBfz3",
        "outputId": "060cb449-b653-4073-e414-eb5084bbd3df",
        "colab": {
          "resources": {
            "http://localhost:8080/nbextensions/google.colab/files.js": {
              "data": "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",
              "ok": true,
              "headers": [
                [
                  "content-type",
                  "application/javascript"
                ]
              ],
              "status": 200,
              "status_text": ""
            }
          },
          "base_uri": "https://localhost:8080/",
          "height": 111
        }
      },
      "source": [
        "# reading the salaries file\n",
        "\n",
        "from google.colab import files\n",
        "files.upload()"
      ],
      "execution_count": 97,
      "outputs": [
        {
          "output_type": "display_data",
          "data": {
            "text/html": [
              "\n",
              "     <input type=\"file\" id=\"files-baae55bd-371f-44b8-932d-7058535a3e4d\" name=\"files[]\" multiple disabled\n",
              "        style=\"border:none\" />\n",
              "     <output id=\"result-baae55bd-371f-44b8-932d-7058535a3e4d\">\n",
              "      Upload widget is only available when the cell has been executed in the\n",
              "      current browser session. Please rerun this cell to enable.\n",
              "      </output>\n",
              "      <script src=\"/nbextensions/google.colab/files.js\"></script> "
            ],
            "text/plain": [
              "<IPython.core.display.HTML object>"
            ]
          },
          "metadata": {
            "tags": []
          }
        },
        {
          "output_type": "stream",
          "text": [
            "Saving salaries.csv to salaries.csv\n"
          ],
          "name": "stdout"
        },
        {
          "output_type": "execute_result",
          "data": {
            "text/plain": [
              "{'salaries.csv': b'earn,height,sex,ed,age,race\\r\\n50000,74.42443878,male,16,45,white\\r\\n60000,65.53754283,female,16,58,white\\r\\n30000,63.62919774,female,16,29,white\\r\\n50000,63.10856168,female,16,91,other\\r\\n51000,63.40248357,female,17,39,white\\r\\n9000,64.39950754,female,15,26,white\\r\\n29000,61.65632583,female,12,49,white\\r\\n32000,72.69854374,male,17,46,white\\r\\n2000,72.03946685,male,15,21,hispanic\\r\\n27000,72.23493256,male,12,26,white\\r\\n6530,69.51214643,male,16,65,white\\r\\n30000,68.03160826,male,11,34,white\\r\\n12000,67.55693392,male,12,27,white\\r\\n12000,65.43058708,female,12,51,white\\r\\n22000,65.66285452,female,16,35,white\\r\\n17000,67.75876874,male,12,58,white\\r\\n40000,68.35184258,female,14,29,white\\r\\n44000,69.6095718,male,13,44,white\\r\\n7000,64.18456568,female,12,55,black\\r\\n53000,73.07460915,male,13,35,black\\r\\n5000,62.37552702,female,13,51,white\\r\\n14000,63.02393011,female,14,21,white\\r\\n5500,67.22990391,male,14,22,white\\r\\n40000,65.5511078,female,12,41,white\\r\\n34000,72.07964539,male,12,45,white\\r\\n10000,63.09113008,female,12,35,black\\r\\n27000,64.32354892,female,16,60,white\\r\\n50000,71.64285283,male,16,38,white\\r\\n41000,76.79309468,male,16,33,white\\r\\n15000,63.89391433,female,14,25,white\\r\\n25000,63.80262307,female,12,33,white\\r\\n75000,71.59223144,male,17,39,white\\r\\n27000,67.52196348,male,17,31,white\\r\\n12000,64.39435148,female,12,26,white\\r\\n7500,61.17822266,female,14,78,white\\r\\n30000,66.9838783,female,14,31,black\\r\\n21000,65.31645577,female,12,57,white\\r\\n27000,63.57418515,female,14,26,white\\r\\n3000,66.61100048,female,15,65,white\\r\\n25000,64.91175508,female,12,30,white\\r\\n24000,64.78967998,female,12,41,white\\r\\n32000,66.93769065,female,18,29,white\\r\\n10000,68.17281295,female,17,30,white\\r\\n11000,60.45065992,female,12,21,hispanic\\r\\n18700,64.79325356,female,13,32,white\\r\\n20000,61.814919,female,12,29,white\\r\\n3500,71.57214531,male,10,18,white\\r\\n13000,67.31440583,male,8,56,black\\r\\n25000,69.89987336,male,12,65,white\\r\\n21000,69.76170202,male,17,41,white\\r\\n34000,67.74647103,female,17,49,white\\r\\n6000,60.19022153,female,12,65,white\\r\\n17000,71.00649988,male,12,28,white\\r\\n35000,71.16679813,male,12,32,white\\r\\n4000,72.73562987,male,13,18,white\\r\\n14000,68.13822311,female,14,55,white\\r\\n10000,66.37981124,female,12,57,white\\r\\n25000,69.23278453,male,16,29,white\\r\\n16000,63.2739378,female,14,27,white\\r\\n16000,61.82776272,male,14,28,hispanic\\r\\n16500,64.22120921,female,14,43,white\\r\\n4000,63.84126511,female,9,68,white\\r\\n3840,66.97477013,female,9,52,white\\r\\n22000,71.45148909,male,12,39,white\\r\\n200,59.61264626,female,16,53,white\\r\\n26000,65.79938553,female,16,27,white\\r\\n2500,66.45804053,female,15,21,white\\r\\n17000,64.60288039,female,14,39,white\\r\\n8000,70.44048147,female,13,22,white\\r\\n12000,65.92281351,female,13,68,white\\r\\n10000,61.85682685,female,12,47,white\\r\\n10000,65.78444016,female,15,67,white\\r\\n15000,71.83127984,male,12,39,white\\r\\n2400,67.04532929,female,8,39,hispanic\\r\\n30000,68.30550608,male,12,32,hispanic\\r\\n30000,70.02545976,male,12,33,white\\r\\n10000,61.81038588,female,12,38,white\\r\\n5000,62.951071,female,13,26,white\\r\\n12000,65.82113696,female,13,63,white\\r\\n20000,70.39754819,female,10,61,white\\r\\n20000,68.37778444,female,12,36,white\\r\\n20000,69.93269988,male,14,23,white\\r\\n1200,66.17180593,female,12,20,white\\r\\n700,68.4563631,female,16,32,white\\r\\n20000,69.90385751,male,16,27,white\\r\\n10000,61.14965798,female,12,22,hispanic\\r\\n30000,63.36334633,female,12,73,white\\r\\n40000,64.1470838,female,14,56,white\\r\\n25000,67.31839041,male,12,89,white\\r\\n10000,60.67493605,female,17,79,white\\r\\n60000,68.84090254,female,18,63,white\\r\\n18000,67.68273051,female,12,66,white\\r\\n16040,64.49676858,female,12,33,white\\r\\n15000,66.81240419,female,14,30,black\\r\\n10000,68.74643775,male,17,23,white\\r\\n33000,67.06764906,female,13,43,white\\r\\n18000,68.13799301,female,12,30,white\\r\\n15000,63.34289679,female,12,37,white\\r\\n21000,71.38666631,male,12,22,white\\r\\n21000,63.98833702,female,17,43,black\\r\\n37000,68.48638652,male,11,37,white\\r\\n38000,67.5161435,female,17,44,white\\r\\n17000,65.60084375,female,14,43,hispanic\\r\\n32000,76.80019394,male,16,30,white\\r\\n27500,67.10538079,female,12,58,white\\r\\n16500,62.15164343,female,12,44,white\\r\\n25000,66.86762426,female,18,35,white\\r\\n27000,61.04220253,female,18,43,white\\r\\n5000,64.12328577,female,12,28,white\\r\\n70000,61.54481517,female,16,38,white\\r\\n5000,62.55623639,female,12,40,white\\r\\n5000,68.16376557,male,16,24,white\\r\\n20000,63.65512749,female,15,26,white\\r\\n4000,72.37351729,male,15,21,white\\r\\n60000,64.14708239,female,16,35,white\\r\\n5000,61.32669975,female,13,31,white\\r\\n30000,74.36639644,male,12,38,white\\r\\n70000,70.21016202,male,14,35,white\\r\\n50000,71.10618803,male,16,41,white\\r\\n44000,62.59484404,female,12,39,white\\r\\n30000,64.05496477,female,14,43,white\\r\\n10000,61.57361885,female,16,40,white\\r\\n23000,70.48019939,female,17,42,white\\r\\n45000,71.18590697,male,17,62,white\\r\\n15000,71.43363842,male,14,31,white\\r\\n4000,70.22884859,female,14,71,white\\r\\n17000,67.28085804,male,14,31,white\\r\\n30000,63.7586912,female,12,32,white\\r\\n27500,67.08651561,female,12,30,white\\r\\n5688,61.67959788,female,8,69,white\\r\\n18000,62.28599832,female,13,56,hispanic\\r\\n43000,68.29247687,male,13,44,black\\r\\n32000,61.58948255,female,14,44,black\\r\\n10000,68.41773519,female,18,56,black\\r\\n60000,73.99125513,male,13,45,white\\r\\n21000,67.56107232,female,12,50,other\\r\\n2400,62.33792965,female,16,22,white\\r\\n1000,66.2400089,female,15,28,white\\r\\n27000,68.09847275,male,12,27,white\\r\\n6600,59.77086973,female,14,28,hispanic\\r\\n16000,68.06338056,male,8,43,white\\r\\n90000,71.68014805,male,12,26,white\\r\\n8000,66.35970835,female,12,42,white\\r\\n20000,68.35625823,male,10,32,white\\r\\n15000,68.45654248,female,12,18,white\\r\\n12000,68.78610429,female,12,60,white\\r\\n24000,64.10224266,female,16,46,white\\r\\n20000,65.11348548,female,14,39,white\\r\\n19000,60.64918584,female,12,46,white\\r\\n10000,72.12570299,male,12,49,white\\r\\n40000,65.51073007,female,16,34,white\\r\\n25000,67.93189831,male,14,64,white\\r\\n25000,70.44492324,male,12,24,white\\r\\n25000,71.36585446,male,14,32,white\\r\\n19000,71.12507331,male,16,61,white\\r\\n44000,68.16013681,male,16,48,white\\r\\n15000,60.11332769,female,14,49,white\\r\\n17000,62.78819755,female,12,36,white\\r\\n24000,68.07772188,male,12,56,white\\r\\n23000,64.05084212,female,12,37,white\\r\\n13000,69.71579638,male,12,74,white\\r\\n65000,68.22067254,male,16,46,white\\r\\n7000,60.8838595,female,12,63,white\\r\\n40000,68.4075397,male,18,63,white\\r\\n15000,66.00197998,female,17,43,white\\r\\n20000,69.79788991,male,16,25,white\\r\\n20000,71.01071134,male,12,50,white\\r\\n20000,65.14241075,female,12,42,white\\r\\n25000,65.96710882,female,12,49,white\\r\\n49000,69.9905326,male,13,37,white\\r\\n25000,61.8766772,female,12,65,white\\r\\n11000,66.10888066,female,14,57,white\\r\\n16000,61.05430546,female,15,38,white\\r\\n35000,71.5635653,male,14,43,white\\r\\n125000,74.34062243,male,18,45,white\\r\\n23000,66.57698841,female,12,47,white\\r\\n17000,66.11044315,female,16,28,white\\r\\n27000,61.96568501,female,12,41,white\\r\\n70000,71.74551166,male,14,32,white\\r\\n35000,64.5622198,female,15,47,white\\r\\n10000,60.19882039,female,12,62,white\\r\\n35000,61.91637283,female,15,39,white\\r\\n15000,66.41355202,female,12,38,white\\r\\n12000,63.69852119,female,12,39,white\\r\\n8000,71.29091446,male,12,68,white\\r\\n8000,65.25375611,female,12,50,white\\r\\n35000,73.00546124,male,18,50,white\\r\\n45000,68.64007438,male,11,51,white\\r\\n15000,64.38145247,female,14,22,white\\r\\n15000,61.06026413,female,12,77,white\\r\\n24000,66.78936466,female,18,51,white\\r\\n25000,61.82929804,female,13,32,white\\r\\n25000,62.60956008,female,14,54,black\\r\\n20000,67.36465586,male,10,28,other\\r\\n24000,68.01697138,female,12,24,white\\r\\n44000,72.06414695,male,16,46,white\\r\\n69000,70.10862394,male,12,38,white\\r\\n62000,69.8524851,male,18,44,white\\r\\n32000,67.45525096,male,14,32,black\\r\\n20000,63.45312857,female,12,33,black\\r\\n32000,66.29296545,female,18,35,other\\r\\n25000,65.83479652,female,17,50,white\\r\\n170000,71.01003448,male,18,45,white\\r\\n35000,66.6194241,male,16,33,white\\r\\n40000,75.56858877,male,16,38,black\\r\\n33000,68.95219922,male,14,30,white\\r\\n18000,65.34873405,female,12,22,white\\r\\n30000,61.75211652,female,13,43,white\\r\\n26000,61.76413236,female,12,31,white\\r\\n5000,62.41146948,female,12,21,white\\r\\n20000,61.90432912,female,16,73,white\\r\\n17000,60.63860991,female,12,30,white\\r\\n32000,64.82457719,female,14,28,white\\r\\n15000,72.2707533,male,14,22,white\\r\\n50000,71.67227516,male,14,55,white\\r\\n8000,63.77092833,female,12,39,white\\r\\n40000,70.78659305,male,14,51,white\\r\\n40000,72.40979479,male,15,41,white\\r\\n32750,66.08797906,male,12,34,white\\r\\n20000,64.99932833,female,14,69,white\\r\\n36000,64.52929961,female,15,39,black\\r\\n6000,61.74268052,female,12,64,white\\r\\n12000,65.84031021,female,14,34,black\\r\\n60000,67.39964104,male,14,63,white\\r\\n40000,64.02227361,female,13,44,white\\r\\n43000,63.22614173,female,12,38,white\\r\\n45000,67.49429822,female,16,34,white\\r\\n6000,68.00212043,female,18,39,white\\r\\n8000,63.85790609,female,10,82,other\\r\\n20000,64.39506424,female,13,39,black\\r\\n17000,66.43900757,male,12,23,black\\r\\n2000,64.76537756,female,12,32,white\\r\\n65000,64.53856172,male,12,28,white\\r\\n50000,71.58592642,male,12,41,white\\r\\n11000,68.34822168,female,12,38,white\\r\\n35000,74.43320394,male,18,30,white\\r\\n27000,63.21769643,male,12,33,white\\r\\n3500,64.31431662,female,12,61,white\\r\\n42000,68.15145984,male,12,37,white\\r\\n20000,67.49495483,female,18,29,white\\r\\n15000,67.31617222,female,12,29,white\\r\\n10000,72.98672325,male,12,21,white\\r\\n6000,70.49115537,male,8,78,white\\r\\n17000,64.8857528,female,16,23,hispanic\\r\\n35000,68.54049155,male,16,65,hispanic\\r\\n28000,76.6806675,male,14,28,white\\r\\n15000,67.69396242,female,12,33,white\\r\\n20000,61.97133572,female,17,24,white\\r\\n20000,64.21270273,female,12,29,white\\r\\n10500,67.222475,male,12,42,hispanic\\r\\n13000,69.90214232,male,16,22,white\\r\\n10000,61.7774477,female,12,52,white\\r\\n3000,63.08135136,female,12,37,white\\r\\n24000,62.33486897,female,14,29,white\\r\\n17000,68.69583535,female,13,35,white\\r\\n11000,64.09801177,female,12,48,white\\r\\n32000,69.03400468,female,14,40,white\\r\\n17000,58.66031718,female,15,26,white\\r\\n3000,66.22624865,female,12,35,other\\r\\n2100,62.09125567,female,12,21,black\\r\\n3192,75.13845111,male,11,34,black\\r\\n17000,63.31427802,female,17,26,white\\r\\n30000,64.55409959,female,13,28,white\\r\\n15000,69.80036003,male,12,32,white\\r\\n24000,67.84324762,female,16,42,white\\r\\n10000,64.95007188,female,14,67,white\\r\\n50000,69.21830674,male,8,53,white\\r\\n50000,71.88612281,male,16,53,white\\r\\n20000,63.52425581,female,17,49,white\\r\\n30000,62.67855806,female,18,54,hispanic\\r\\n22000,73.473942,female,14,45,white\\r\\n27000,75.09407247,male,12,24,white\\r\\n4000,64.77306344,female,12,38,white\\r\\n17500,66.25352548,female,17,26,white\\r\\n16500,66.39350909,female,14,28,white\\r\\n28000,64.00329116,female,16,39,white\\r\\n52000,65.57394208,female,18,50,white\\r\\n15000,64.27616448,female,16,29,white\\r\\n19000,62.64665984,female,13,32,white\\r\\n27000,72.55973638,male,12,23,white\\r\\n15000,71.78231297,male,8,58,white\\r\\n15000,71.5038586,male,14,33,white\\r\\n14500,64.1577521,female,12,55,white\\r\\n24000,64.22768724,female,13,30,white\\r\\n18000,67.79798123,male,15,36,white\\r\\n4000,62.27895686,female,12,68,white\\r\\n4000,68.50409571,female,13,57,white\\r\\n700,60.11268006,female,12,36,white\\r\\n24000,64.97932618,female,12,91,white\\r\\n27000,75.9695087,male,12,39,white\\r\\n12000,72.32790162,female,12,35,white\\r\\n22000,61.76565051,female,18,47,white\\r\\n30000,61.61640105,female,13,36,white\\r\\n35000,70.55407798,male,12,61,white\\r\\n20000,74.08119511,male,12,42,white\\r\\n32000,65.47241732,female,16,32,white\\r\\n6000,63.36531204,female,12,31,other\\r\\n12000,66.85000424,female,12,39,white\\r\\n10000,63.26609422,female,12,31,white\\r\\n1000,64.74550613,female,12,18,white\\r\\n12000,63.5420607,female,15,71,white\\r\\n16000,64.92311015,female,12,36,white\\r\\n25000,63.24200735,female,16,33,white\\r\\n25000,69.52456131,female,12,27,white\\r\\n32000,67.9780942,male,12,30,white\\r\\n35000,66.54873709,male,14,43,white\\r\\n6000,64.58870382,female,12,28,white\\r\\n80000,68.76668589,male,14,44,white\\r\\n20000,68.08388652,female,14,25,white\\r\\n1000,65.81591352,female,17,38,white\\r\\n28000,71.40237607,male,13,38,hispanic\\r\\n26000,63.76353788,male,16,23,hispanic\\r\\n27000,73.52538331,male,12,24,white\\r\\n18000,61.9799861,female,13,41,white\\r\\n2000,65.21052063,female,12,59,white\\r\\n20000,69.37546825,male,12,66,white\\r\\n6000,66.08656109,female,16,48,white\\r\\n25000,66.52544197,male,11,63,white\\r\\n12000,73.17216472,male,12,29,white\\r\\n12000,76.18487998,male,12,57,white\\r\\n30000,69.52562968,male,14,76,white\\r\\n4000,62.87571202,female,15,22,black\\r\\n26000,62.78291334,female,13,37,black\\r\\n23000,70.0759173,male,12,35,black\\r\\n21000,71.06307658,male,12,33,white\\r\\n25000,65.22338374,female,12,62,white\\r\\n18000,70.38000168,male,16,75,white\\r\\n4000,63.24725319,female,13,44,white\\r\\n23900,63.9208744,female,12,22,white\\r\\n35000,64.32948225,female,18,40,white\\r\\n26000,66.73038611,male,14,30,white\\r\\n25000,66.49049372,male,16,36,white\\r\\n23500,68.01891074,female,13,27,white\\r\\n12000,65.22521516,female,12,22,white\\r\\n15000,67.12424549,female,12,20,white\\r\\n3000,72.93587851,male,17,23,white\\r\\n6000,63.57960801,female,12,67,white\\r\\n14000,71.44772069,male,12,69,white\\r\\n15000,63.28314033,female,16,31,white\\r\\n175000,70.58955303,male,16,48,white\\r\\n1000,73.37096183,male,18,25,white\\r\\n10000,64.68888731,female,14,63,white\\r\\n45000,65.92309398,male,13,82,white\\r\\n15000,65.84831739,female,12,81,white\\r\\n20000,59.20287276,female,13,41,white\\r\\n35000,69.99012214,male,16,30,white\\r\\n40000,71.66564428,male,16,28,white\\r\\n35000,64.20182636,female,12,72,white\\r\\n50000,66.06454823,female,16,54,white\\r\\n1.00E+05,69.66688449,male,18,57,white\\r\\n35000,68.56316227,male,13,28,white\\r\\n24000,67.72061326,female,12,35,white\\r\\n35000,73.8310986,male,17,43,white\\r\\n38000,72.53878017,male,16,74,white\\r\\n30000,67.2427707,male,12,52,white\\r\\n5000,63.98628404,female,12,39,hispanic\\r\\n148000,66.74019514,male,18,38,white\\r\\n30000,69.77328675,male,12,32,white\\r\\n6500,63.7568558,female,15,31,white\\r\\n3000,61.55947889,female,16,37,white\\r\\n23000,69.29716996,male,18,69,white\\r\\n40000,68.47820894,male,17,41,white\\r\\n30000,72.11036806,male,14,39,white\\r\\n14000,63.1064127,female,12,37,white\\r\\n15000,68.71668269,female,12,34,white\\r\\n26000,64.00636885,female,18,36,white\\r\\n8000,71.00963535,female,12,25,white\\r\\n24000,63.84401906,female,16,27,black\\r\\n5124,66.1007056,male,8,67,white\\r\\n10000,60.9749902,female,15,25,white\\r\\n12000,67.755097,female,16,32,white\\r\\n50000,68.45831137,male,17,34,white\\r\\n23000,63.80380337,female,13,26,white\\r\\n40000,65.70889054,male,14,34,black\\r\\n6000,61.93158335,female,13,26,black\\r\\n5000,65.32257377,female,16,30,black\\r\\n110000,65.96503808,male,18,37,white\\r\\n41000,72.04235967,male,13,32,hispanic\\r\\n23000,62.5702349,female,13,78,white\\r\\n21000,70.43141038,male,12,23,white\\r\\n4000,62.32130605,female,12,29,white\\r\\n25000,70.70824022,male,12,36,white\\r\\n30000,70.27754766,male,18,46,white\\r\\n14000,63.87067902,female,11,51,white\\r\\n6000,63.47753891,female,12,35,white\\r\\n14000,64.59347958,female,12,46,white\\r\\n43000,70.51343766,male,12,27,white\\r\\n25000,61.70051979,female,15,33,white\\r\\n40000,72.55342775,male,12,66,white\\r\\n65000,67.58730646,male,17,40,white\\r\\n16000,76.15186604,male,15,32,white\\r\\n8000,65.57774506,female,12,71,white\\r\\n20000,64.22911509,female,15,39,white\\r\\n14000,60.31367815,female,14,72,white\\r\\n45000,68.13746662,male,12,74,white\\r\\n8000,60.94487115,female,11,72,white\\r\\n12000,66.02237734,male,12,28,white\\r\\n8000,62.88533313,female,14,31,white\\r\\n16000,62.67241315,female,15,32,white\\r\\n6000,73.68753599,male,15,73,white\\r\\n19000,70.10196227,male,12,32,white\\r\\n21000,68.3032382,female,13,39,white\\r\\n43000,69.52018367,female,18,46,white\\r\\n35000,68.71778433,male,15,21,white\\r\\n8000,70.49465352,male,10,75,white\\r\\n21000,62.77759649,female,14,41,white\\r\\n5800,65.12696483,female,12,30,white\\r\\n17000,69.34231463,male,12,46,white\\r\\n24000,67.54424952,male,14,49,white\\r\\n5000,62.34081167,female,11,71,white\\r\\n11000,66.17609718,female,12,23,white\\r\\n10000,65.45162442,male,13,27,white\\r\\n40000,69.7853576,male,14,36,white\\r\\n40000,70.46078553,male,12,47,white\\r\\n24000,65.75425935,female,14,29,black\\r\\n24000,68.49063707,male,16,26,white\\r\\n20000,68.13681045,male,16,33,white\\r\\n60000,69.74408659,male,18,50,white\\r\\n11000,64.55672948,female,13,47,white\\r\\n5000,64.39143327,female,15,40,white\\r\\n27000,65.29905895,female,16,30,white\\r\\n89000,76.53779724,male,16,41,white\\r\\n40000,70.024277,male,14,28,white\\r\\n15000,64.45588099,female,16,26,white\\r\\n1000,64.1782932,female,14,20,white\\r\\n22000,64.37256281,female,12,60,white\\r\\n12000,63.68146212,female,8,48,white\\r\\n22000,62.56620838,female,16,28,white\\r\\n40000,57.50321861,female,12,56,black\\r\\n40000,62.02661927,female,16,44,white\\r\\n35000,64.45005447,female,14,53,hispanic\\r\\n7000,63.63646056,female,12,28,white\\r\\n14000,62.23201909,female,12,37,white\\r\\n15000,64.01304285,female,12,56,white\\r\\n6000,65.88741351,female,13,34,white\\r\\n11000,69.29444166,female,12,41,black\\r\\n10000,64.34100456,female,13,31,white\\r\\n20000,70.70352478,male,14,41,white\\r\\n7000,62.08914548,female,12,73,white\\r\\n38000,68.29980498,male,9,46,white\\r\\n29000,67.80439419,male,9,58,white\\r\\n20000,61.776271,female,10,44,white\\r\\n8000,62.51286538,female,12,57,white\\r\\n36000,68.73131542,male,16,51,white\\r\\n1500,67.04634149,female,12,44,white\\r\\n42000,64.29710476,female,18,29,white\\r\\n25000,70.38619011,male,12,22,white\\r\\n13000,68.95556828,male,10,20,white\\r\\n30000,69.24640147,male,11,51,black\\r\\n7000,68.57202318,male,12,23,white\\r\\n31000,59.84566491,female,12,48,black\\r\\n15000,66.42150143,female,12,42,black\\r\\n50000,66.63238097,male,16,49,white\\r\\n5000,66.24960206,male,15,20,white\\r\\n600,70.23858997,female,12,18,black\\r\\n14000,64.48860812,female,8,51,black\\r\\n40000,59.97166707,female,18,35,other\\r\\n24000,68.26500169,male,18,36,white\\r\\n22000,72.73850424,male,12,24,black\\r\\n20000,71.86160035,male,8,36,white\\r\\n20112,63.75192555,female,12,38,white\\r\\n12000,67.34015376,male,13,67,white\\r\\n41000,67.24024956,female,13,40,white\\r\\n13000,71.46243117,male,9,50,black\\r\\n60000,72.73708475,male,16,31,white\\r\\n24000,70.28583466,male,16,25,white\\r\\n38000,70.0634253,male,16,36,white\\r\\n3000,71.1316877,female,14,27,white\\r\\n13000,65.96479942,female,12,30,white\\r\\n5000,74.80272686,male,12,21,white\\r\\n20000,60.2632445,female,14,37,white\\r\\n22000,72.45994044,male,12,28,white\\r\\n28000,74.7883401,male,9,55,black\\r\\n22000,59.80481763,female,12,41,white\\r\\n30000,73.43138116,male,12,44,black\\r\\n30000,64.59752321,female,12,32,black\\r\\n30000,67.11169779,male,16,31,white\\r\\n32000,61.05399799,female,12,69,white\\r\\n26000,69.28213398,female,17,43,white\\r\\n22000,64.41598486,female,14,34,white\\r\\n25000,70.34137906,male,12,33,white\\r\\n11000,67.63296349,female,10,24,white\\r\\n13000,62.18865142,female,12,53,white\\r\\n10000,63.78784831,female,15,42,white\\r\\n12000,67.58145525,female,12,45,white\\r\\n7000,63.51530736,female,11,64,white\\r\\n57000,72.64023981,male,14,37,white\\r\\n36000,72.82462226,male,16,37,white\\r\\n29000,69.40743355,male,14,29,hispanic\\r\\n8000,68.29109713,female,13,19,white\\r\\n3000,70.64524331,male,11,18,black\\r\\n20000,66.13450296,female,16,41,white\\r\\n33000,66.37325909,male,12,57,white\\r\\n15000,68.30015174,female,12,68,hispanic\\r\\n16000,70.29627664,male,12,33,white\\r\\n5000,61.82133567,female,12,78,white\\r\\n8000,65.75499999,female,14,43,white\\r\\n32000,63.02599124,female,16,34,black\\r\\n14500,74.5177944,male,12,24,white\\r\\n13000,66.59653847,female,12,29,white\\r\\n7000,62.63597647,female,9,25,white\\r\\n50000,64.7152633,female,18,65,black\\r\\n12000,69.20171718,female,12,35,black\\r\\n19000,71.47207954,male,14,61,white\\r\\n9000,61.90177914,female,12,55,white\\r\\n20000,64.74550731,female,12,35,black\\r\\n55000,71.71051989,male,18,35,hispanic\\r\\n10000,64.90903164,female,12,40,white\\r\\n13000,63.15414848,female,12,19,white\\r\\n20000,63.9767702,female,13,31,white\\r\\n30000,71.58898688,male,12,26,white\\r\\n12000,63.59625609,female,12,34,white\\r\\n26000,70.06810197,female,13,33,white\\r\\n12500,64.97474649,female,12,27,white\\r\\n8000,64.31370646,female,12,29,white\\r\\n15000,64.20907587,female,16,32,hispanic\\r\\n65000,66.97400253,male,14,25,white\\r\\n25000,73.18381262,male,10,21,white\\r\\n8000,72.53886616,male,14,21,hispanic\\r\\n15000,64.50500123,male,14,21,other\\r\\n12000,63.93105347,female,16,40,white\\r\\n35000,67.08204054,female,13,37,black\\r\\n40000,66.61123427,male,16,31,white\\r\\n29000,73.89561864,male,12,22,white\\r\\n15000,63.44260609,female,13,31,white\\r\\n20000,73.68861017,male,12,36,white\\r\\n3000,73.91112601,male,6,62,black\\r\\n1000,63.08713388,female,16,19,black\\r\\n8000,62.03632573,female,11,23,black\\r\\n5000,62.45248348,female,12,18,white\\r\\n25000,67.03789686,female,16,27,white\\r\\n20000,68.5933096,male,12,57,white\\r\\n30000,72.67425324,male,12,34,white\\r\\n12000,62.87129072,female,12,35,white\\r\\n10000,67.2233493,female,14,32,white\\r\\n16000,69.39067215,male,12,19,white\\r\\n45000,71.41330153,male,12,29,white\\r\\n40000,72.08595713,male,14,54,white\\r\\n25000,70.21479284,male,14,81,white\\r\\n19000,64.30326126,female,14,52,white\\r\\n17600,64.13060127,female,16,30,white\\r\\n7000,67.91111915,male,12,67,white\\r\\n30000,74.3458905,male,12,32,white\\r\\n18000,61.8189569,female,11,47,white\\r\\n25000,65.12869438,female,16,47,white\\r\\n6000,59.96125293,female,5,62,white\\r\\n70000,69.38679157,male,18,42,white\\r\\n15000,60.7515004,female,16,34,other\\r\\n25000,64.93232833,female,17,33,white\\r\\n35000,66.2033999,female,16,28,white\\r\\n18000,69.91582674,male,16,24,white\\r\\n28000,71.56571053,male,15,30,black\\r\\n15000,63.90538101,female,11,21,hispanic\\r\\n22000,71.33306113,male,14,28,hispanic\\r\\n35000,73.3903852,male,12,30,white\\r\\n18000,64.03798392,female,15,46,black\\r\\n35000,67.84231027,male,14,37,white\\r\\n16400,64.25282195,female,12,21,black\\r\\n22000,65.64794502,male,16,37,black\\r\\n30000,66.54676917,female,16,58,white\\r\\n17000,64.12242415,female,12,27,hispanic\\r\\n25000,64.11059879,female,14,36,black\\r\\n10000,62.21865695,female,12,51,white\\r\\n40000,68.94601606,male,12,37,white\\r\\n12500,63.24088156,female,12,63,white\\r\\n35000,72.39141051,male,15,45,white\\r\\n105000,74.58005058,male,12,49,white\\r\\n1.00E+05,69.52920171,male,18,40,white\\r\\n21000,69.33475947,male,12,51,white\\r\\n10000,64.01762884,female,14,56,white\\r\\n33000,71.93661366,male,12,26,white\\r\\n26000,69.46231403,male,18,25,white\\r\\n60000,63.07906693,female,10,78,white\\r\\n18000,71.11434383,male,16,45,white\\r\\n15000,59.34177917,female,8,61,white\\r\\n5000,68.31486156,male,13,20,white\\r\\n60000,77.05128181,male,17,42,white\\r\\n12000,68.41967915,female,14,69,white\\r\\n28000,69.67200995,male,18,38,black\\r\\n42000,69.28192155,male,18,43,white\\r\\n2000,62.73898997,female,12,33,white\\r\\n20000,72.79469156,male,18,33,black\\r\\n28000,66.12674042,male,15,40,other\\r\\n10000,72.19214776,male,17,62,black\\r\\n31000,72.22431795,male,12,31,black\\r\\n17000,68.98432253,female,13,37,black\\r\\n16000,67.17655378,female,12,39,white\\r\\n35000,65.67095384,female,15,38,white\\r\\n3000,67.34624967,female,12,26,white\\r\\n16000,67.53277906,female,18,39,white\\r\\n35000,64.57748965,female,15,42,black\\r\\n27000,61.5843523,female,17,33,black\\r\\n25000,69.38511968,male,17,29,white\\r\\n40000,69.6098165,male,16,41,white\\r\\n45000,66.07182778,female,16,43,white\\r\\n14000,65.85618241,male,12,23,white\\r\\n25000,66.39505478,female,14,37,white\\r\\n40000,71.84415349,male,12,42,white\\r\\n34000,68.898932,male,12,35,white\\r\\n40000,65.7557775,male,12,34,white\\r\\n35000,69.4494558,male,14,28,white\\r\\n12000,60.15629834,female,12,51,hispanic\\r\\n30000,64.56873093,female,17,43,white\\r\\n23000,61.58791712,female,12,40,white\\r\\n2000,67.07978698,female,12,30,white\\r\\n20000,67.21213937,male,14,25,white\\r\\n10000,67.83994129,female,9,62,black\\r\\n60000,65.61768094,female,16,43,black\\r\\n12000,74.24347069,male,16,41,black\\r\\n25000,65.47813016,female,18,61,white\\r\\n22000,62.88988361,female,14,73,black\\r\\n8000,68.10779016,male,17,25,white\\r\\n2000,66.39805636,female,16,21,white\\r\\n18600,65.49677824,female,16,26,white\\r\\n20000,61.54579592,female,14,20,white\\r\\n1.00E+05,72.62915924,male,18,37,white\\r\\n50000,61.89057924,female,15,40,white\\r\\n27000,69.81381477,male,12,42,white\\r\\n1000,58.27594231,female,12,58,black\\r\\n18000,68.37146948,male,12,20,white\\r\\n17000,67.35070218,female,14,23,white\\r\\n10000,63.83751164,female,12,74,white\\r\\n14000,70.3615257,male,14,35,white\\r\\n7200,72.495875,male,14,66,white\\r\\n33000,63.19195635,female,17,39,white\\r\\n23000,66.26428261,male,12,34,white\\r\\n10000,64.88321213,female,12,41,white\\r\\n22000,60.58631015,male,12,24,white\\r\\n13000,60.81703939,female,12,19,hispanic\\r\\n33000,67.20152906,female,12,31,white\\r\\n36000,73.1152229,male,12,36,white\\r\\n10000,70.52104142,female,14,32,black\\r\\n6000,64.49766114,female,12,60,white\\r\\n12000,66.64803022,female,12,43,white\\r\\n10000,62.07149451,female,11,47,white\\r\\n21000,67.40431454,female,12,45,white\\r\\n26000,68.69590364,male,12,32,white\\r\\n22000,66.06554686,female,12,50,black\\r\\n23000,66.18482221,female,15,54,black\\r\\n20000,66.44448989,male,15,24,white\\r\\n10000,65.5093939,female,13,38,white\\r\\n15000,64.06471744,female,12,71,white\\r\\n7000,72.1181012,male,14,24,black\\r\\n15000,64.1390078,female,12,38,white\\r\\n26000,64.75169749,female,16,34,white\\r\\n10000,72.20326222,male,11,31,white\\r\\n3000,71.00608889,male,14,20,white\\r\\n27000,64.19494963,female,17,41,hispanic\\r\\n28000,63.65897829,female,17,25,white\\r\\n15000,66.86213471,female,12,27,white\\r\\n55000,75.18170345,male,18,30,white\\r\\n20000,65.86811152,female,17,26,hispanic\\r\\n8500,67.14264687,female,12,44,white\\r\\n30000,70.58245239,male,16,30,white\\r\\n20000,68.35425711,female,12,31,white\\r\\n22000,70.44055542,male,6,75,white\\r\\n25000,66.50503942,male,16,26,white\\r\\n3000,70.50765399,male,8,22,white\\r\\n16000,62.66823347,female,12,49,white\\r\\n10000,61.04436005,female,12,39,black\\r\\n15000,64.86502204,female,12,28,black\\r\\n28000,67.24574087,male,12,46,white\\r\\n31500,64.93866724,male,14,35,white\\r\\n95000,65.68956982,male,18,52,white\\r\\n38000,66.51239109,male,12,40,white\\r\\n30000,74.21723686,male,12,41,white\\r\\n35900,73.80273412,male,16,42,white\\r\\n12000,66.28296561,female,13,22,white\\r\\n10000,68.93079913,female,16,25,white\\r\\n45000,66.09704059,female,18,44,white\\r\\n40000,74.36389287,male,16,56,white\\r\\n21500,72.37948844,male,12,27,white\\r\\n14000,65.61603151,male,12,62,white\\r\\n38000,66.52628812,male,17,54,other\\r\\n1000,64.73345227,female,12,18,white\\r\\n14000,66.37034143,male,12,73,white\\r\\n15000,64.52285291,female,12,31,white\\r\\n24000,67.82326222,female,13,42,white\\r\\n4500,64.15133296,female,16,23,white\\r\\n18000,64.35311248,female,16,63,white\\r\\n14000,63.33756781,female,12,20,white\\r\\n10000,68.97626725,female,12,28,white\\r\\n9500,67.44008081,female,12,32,white\\r\\n11000,62.95530205,female,15,66,white\\r\\n17000,66.8560475,male,12,67,white\\r\\n6000,59.82543622,female,13,28,white\\r\\n2500,61.85860073,female,11,58,white\\r\\n40000,72.4413494,male,16,41,white\\r\\n25000,66.60468819,male,16,39,white\\r\\n28000,66.39670809,female,15,60,black\\r\\n33000,66.38941684,female,12,45,black\\r\\n4000,59.57194809,female,8,64,white\\r\\n4100,65.33566923,male,16,30,white\\r\\n25000,68.58467791,female,12,82,white\\r\\n32000,71.66115132,male,12,28,white\\r\\n13000,63.93732742,female,8,58,white\\r\\n8000,64.48913052,male,8,27,hispanic\\r\\n17000,64.24299939,female,12,38,white\\r\\n15000,66.79826643,female,12,77,white\\r\\n18000,65.99471334,male,13,32,white\\r\\n12000,73.07390321,male,12,24,white\\r\\n7000,73.82733129,male,7,49,white\\r\\n1200,64.83539451,female,14,22,white\\r\\n14000,63.11850535,male,12,21,white\\r\\n17000,63.43202724,female,12,40,white\\r\\n30000,66.34629464,male,12,42,white\\r\\n25000,69.91938065,male,12,53,white\\r\\n22000,65.86858264,female,12,33,hispanic\\r\\n15000,63.44294333,female,12,21,white\\r\\n27000,73.07806792,male,12,91,white\\r\\n20000,63.01704851,female,16,26,white\\r\\n9000,68.92439962,female,11,34,white\\r\\n17000,73.14868992,male,12,30,white\\r\\n1800,67.79395084,female,12,46,white\\r\\n18000,63.62625213,female,12,46,white\\r\\n25000,62.57749417,female,18,42,white\\r\\n20000,70.10581654,male,16,41,black\\r\\n75000,64.31608782,female,15,40,white\\r\\n3500,65.75934616,female,12,40,white\\r\\n36000,60.85752948,female,12,71,white\\r\\n30000,72.05727335,male,12,25,white\\r\\n25000,64.55148867,female,13,78,white\\r\\n1000,64.24738829,female,14,26,white\\r\\n60000,68.02361532,male,12,66,white\\r\\n35000,73.8918808,male,13,76,white\\r\\n9000,66.63394451,male,13,33,white\\r\\n35000,69.86526583,male,9,84,white\\r\\n11000,66.11650956,female,10,58,white\\r\\n12000,71.34630163,male,12,52,white\\r\\n30000,70.88307291,male,12,43,white\\r\\n19000,71.47186022,male,7,57,black\\r\\n9000,74.41811513,male,9,61,white\\r\\n30000,74.69528974,male,16,29,white\\r\\n9000,71.92581003,male,12,32,white\\r\\n15000,65.8553887,female,16,30,hispanic\\r\\n8000,64.52971896,female,12,31,black\\r\\n10000,66.49254619,female,10,75,white\\r\\n33000,71.70659219,male,12,37,white\\r\\n12000,60.09432292,female,12,28,hispanic\\r\\n18000,63.97286512,female,15,37,white\\r\\n30000,64.81971324,female,13,61,white\\r\\n12500,64.71229519,female,12,32,white\\r\\n10000,61.97447489,female,12,36,black\\r\\n8500,68.29414172,male,13,71,black\\r\\n21000,73.4868732,male,14,46,black\\r\\n21000,63.93751871,female,12,77,white\\r\\n21000,68.21020169,female,17,25,white\\r\\n5000,66.10163687,female,12,52,white\\r\\n22000,71.22581068,female,17,36,white\\r\\n30000,72.70184984,male,14,26,white\\r\\n123000,61.4290826,female,14,58,white\\r\\n8000,63.2471362,female,9,45,white\\r\\n2000,64.36809799,female,9,25,white\\r\\n7600,67.04140799,female,6,62,white\\r\\n10000,63.1525118,female,12,25,white\\r\\n35000,72.70740958,male,12,48,white\\r\\n15000,66.07586724,female,16,57,white\\r\\n4000,69.75552589,female,12,22,white\\r\\n16000,67.89104991,male,8,24,white\\r\\n200,66.86190898,female,12,33,white\\r\\n23000,74.10504736,male,16,25,white\\r\\n16000,63.60243927,female,16,27,white\\r\\n6000,60.20714587,female,12,49,white\\r\\n600,59.45892731,female,9,46,white\\r\\n28000,74.59876803,male,16,34,other\\r\\n4000,65.95294233,female,8,66,white\\r\\n15000,64.16955276,male,12,35,white\\r\\n15000,71.26409824,male,12,25,white\\r\\n25000,63.12567884,female,12,30,white\\r\\n15000,67.16629468,female,12,26,white\\r\\n40000,68.58090437,male,11,44,white\\r\\n30000,70.34383344,male,11,51,white\\r\\n5000,66.38894105,female,12,29,white\\r\\n35000,73.58718222,male,14,34,white\\r\\n16000,64.78881687,female,14,31,white\\r\\n28000,63.53548723,female,16,40,white\\r\\n20000,67.63721605,male,15,42,white\\r\\n21000,65.60212218,male,13,30,white\\r\\n17000,68.83579629,male,12,42,black\\r\\n24000,59.93189502,female,13,50,white\\r\\n25000,60.79660297,female,12,75,white\\r\\n40000,75.03413912,male,12,46,white\\r\\n8000,63.93495649,female,13,19,white\\r\\n19000,62.74961652,female,15,45,hispanic\\r\\n45000,67.22272911,female,16,69,white\\r\\n5000,64.10165869,male,17,33,black\\r\\n24000,63.43395628,female,14,40,black\\r\\n5000,67.07146923,female,14,19,white\\r\\n33000,65.87795189,male,16,34,white\\r\\n24000,65.22229373,female,14,24,white\\r\\n6000,62.64250975,female,13,23,white\\r\\n90000,66.43622616,female,14,55,white\\r\\n57000,64.09800169,female,18,47,white\\r\\n13800,70.74232355,male,14,54,white\\r\\n30000,71.24931049,male,18,37,white\\r\\n15000,71.70960994,male,12,40,white\\r\\n15000,59.66460151,female,14,75,white\\r\\n31000,69.78665137,male,12,29,white\\r\\n33000,73.9972452,male,17,40,white\\r\\n30000,67.55916017,male,18,61,white\\r\\n12000,74.3389887,male,12,38,white\\r\\n5000,75.00721317,male,12,22,white\\r\\n21000,68.16158174,male,12,59,white\\r\\n28000,62.58654811,female,18,46,white\\r\\n12000,72.038752,male,12,31,white\\r\\n19000,64.49413755,female,12,46,white\\r\\n6000,62.60841562,female,14,35,white\\r\\n5300,65.90542903,female,13,60,white\\r\\n15000,60.87601186,female,13,28,white\\r\\n17000,73.12188816,male,12,46,white\\r\\n4700,65.54227513,female,12,78,black\\r\\n9500,62.07427377,female,12,65,white\\r\\n1700,64.53591151,male,12,22,white\\r\\n5400,62.35349843,female,12,31,white\\r\\n10000,68.11736218,male,12,31,white\\r\\n25000,58.88041785,female,15,83,white\\r\\n35000,68.42125853,female,16,43,white\\r\\n28000,62.78643738,female,18,44,white\\r\\n42000,62.76001463,female,12,40,white\\r\\n45000,67.82704169,male,12,58,white\\r\\n55000,64.15769903,female,12,51,white\\r\\n36000,70.10556287,female,16,30,white\\r\\n25000,70.27166758,male,10,31,white\\r\\n19000,72.18898554,male,12,28,white\\r\\n38000,68.90136464,male,11,50,white\\r\\n15000,63.07259176,female,14,37,white\\r\\n4500,57.97290083,female,5,85,white\\r\\n96000,63.1198862,female,14,27,white\\r\\n11000,62.70555523,female,12,47,white\\r\\n9000,72.5743074,male,15,34,white\\r\\n5000,69.41362739,female,14,24,white\\r\\n50000,69.82503798,male,12,51,white\\r\\n6000,64.89705071,female,13,44,white\\r\\n1.00E+05,71.51571964,male,13,22,white\\r\\n16500,61.91615744,female,13,46,white\\r\\n32000,71.60781911,male,14,40,white\\r\\n30000,72.75964386,male,18,41,white\\r\\n10000,67.91167374,female,16,42,white\\r\\n15000,66.13226316,female,12,19,white\\r\\n6500,59.9059818,female,8,83,white\\r\\n26000,60.30742627,female,18,63,white\\r\\n17000,64.87639557,female,12,59,white\\r\\n22000,62.80542447,female,18,59,other\\r\\n10000,63.9352294,female,12,41,white\\r\\n50000,70.50474596,male,14,58,white\\r\\n20000,67.17893189,male,12,35,white\\r\\n400,62.90286876,female,12,31,white\\r\\n16000,65.08064938,female,14,59,white\\r\\n10000,66.42655773,female,12,66,white\\r\\n14000,62.94000921,female,13,58,white\\r\\n5000,65.19971929,female,15,20,white\\r\\n40000,73.78850542,male,16,34,white\\r\\n5000,67.1885961,female,13,55,white\\r\\n25000,67.54550789,female,17,47,white\\r\\n12000,65.25626089,female,12,51,white\\r\\n58000,63.70217973,female,16,34,white\\r\\n18000,67.83460286,female,16,26,white\\r\\n1000,65.48821445,male,12,18,white\\r\\n21000,71.7643816,male,17,47,white\\r\\n11000,65.69803518,male,12,62,black\\r\\n13000,63.66103394,female,12,36,white\\r\\n20000,59.63484325,female,16,88,other\\r\\n25000,71.69116021,male,12,35,black\\r\\n600,63.51512565,female,12,43,white\\r\\n25000,67.28185383,male,14,26,black\\r\\n36000,67.84665714,male,12,28,white\\r\\n15000,64.05578566,female,13,33,other\\r\\n3500,65.62335196,female,12,51,white\\r\\n19005,64.61287335,female,16,34,white\\r\\n62000,70.36269642,male,14,54,white\\r\\n25000,70.13581577,male,12,42,white\\r\\n50000,66.03881676,male,12,52,white\\r\\n40000,65.66768434,male,12,61,white\\r\\n26000,73.68208046,male,18,26,white\\r\\n22000,62.23429931,female,12,48,white\\r\\n21000,65.58046967,female,17,39,white\\r\\n6108,62.34290796,female,12,65,white\\r\\n30000,64.71664797,female,18,64,black\\r\\n6000,63.41644062,female,12,78,white\\r\\n27000,70.93384204,male,16,29,white\\r\\n4000,65.78462934,female,16,42,white\\r\\n4416,61.52156347,female,6,72,other\\r\\n5000,63.13920376,female,10,87,white\\r\\n45000,66.56994118,male,18,40,white\\r\\n18000,60.76265085,female,14,45,white\\r\\n6000,66.4024123,female,15,22,white\\r\\n14000,72.40008758,male,12,24,white\\r\\n35000,69.32628616,female,14,24,white\\r\\n15000,64.14804833,female,16,29,white\\r\\n12000,62.50257785,female,12,29,black\\r\\n1000,59.6361776,female,12,47,white\\r\\n32000,69.84609059,male,15,33,black\\r\\n1500,72.79965179,male,12,19,white\\r\\n3000,64.87412265,female,16,23,black\\r\\n35000,64.27538942,female,12,42,white\\r\\n70000,71.6051603,male,15,48,white\\r\\n21000,67.13204369,female,16,28,white\\r\\n50000,69.10554371,male,11,18,white\\r\\n15000,70.90078558,male,9,21,white\\r\\n9000,65.99266421,female,8,35,black\\r\\n10000,63.21551076,female,14,25,black\\r\\n30000,71.37289408,male,12,47,white\\r\\n16000,72.07875591,male,14,21,white\\r\\n20000,67.93926673,male,12,51,white\\r\\n1.00E+05,71.94711213,male,17,54,white\\r\\n10000,65.66242218,female,12,43,white\\r\\n35000,66.47077401,male,14,63,white\\r\\n7000,65.42764126,female,16,31,white\\r\\n8000,71.35957916,male,14,27,black\\r\\n11000,73.69928112,male,10,50,white\\r\\n25000,70.20954556,male,9,47,white\\r\\n25000,64.33590164,female,14,45,white\\r\\n30000,69.23576673,male,14,48,white\\r\\n48000,63.16802633,female,18,34,white\\r\\n17000,67.97178429,female,12,46,white\\r\\n26000,72.63629506,male,16,24,white\\r\\n10000,62.64563933,female,12,61,white\\r\\n60000,71.15193853,male,18,53,white\\r\\n22000,64.94457581,female,18,29,white\\r\\n6200,64.22718792,female,13,83,white\\r\\n24000,64.74689624,female,16,32,white\\r\\n20000,70.69914276,male,14,40,white\\r\\n7000,69.61523204,female,14,30,white\\r\\n30000,67.70269807,female,16,48,black\\r\\n23000,66.09329125,female,18,28,white\\r\\n20000,64.3995665,female,12,40,white\\r\\n3000,65.88018538,female,16,29,white\\r\\n30000,69.73542756,male,16,41,white\\r\\n12000,63.79240829,female,14,23,white\\r\\n40000,70.60792463,male,12,38,white\\r\\n15000,63.83649949,female,14,23,white\\r\\n36000,63.41337603,female,16,45,white\\r\\n10000,66.23722097,female,12,53,white\\r\\n13000,68.38070624,female,14,48,white\\r\\n10000,61.52425425,female,12,27,black\\r\\n30000,68.53243422,male,12,37,black\\r\\n23000,64.46455829,male,13,32,white\\r\\n20000,69.60981205,male,17,68,white\\r\\n19000,65.37075393,female,13,82,white\\r\\n20000,60.7510785,male,11,66,black\\r\\n28000,63.99365606,male,14,63,black\\r\\n13000,64.58116374,female,10,80,white\\r\\n12000,64.13895229,male,12,75,white\\r\\n20000,69.3012936,male,11,23,white\\r\\n25000,73.63658129,male,12,30,white\\r\\n25000,68.19243049,female,13,52,white\\r\\n18000,66.59645932,female,16,40,white\\r\\n6000,61.80107459,female,10,68,white\\r\\n16000,72.24264419,male,13,23,white\\r\\n45000,73.46034146,male,16,38,white\\r\\n25000,69.87075788,male,14,69,white\\r\\n12000,63.51996605,female,14,38,white\\r\\n2000,68.21243351,female,12,18,white\\r\\n10000,62.91206546,female,12,18,white\\r\\n14000,70.72025687,male,12,36,white\\r\\n15000,63.74181243,female,12,31,white\\r\\n10000,60.36110787,female,12,39,white\\r\\n1200,65.76631737,female,4,64,white\\r\\n15000,58.92336405,female,14,62,white\\r\\n10000,63.1004373,female,13,64,white\\r\\n2000,66.20176622,male,12,18,white\\r\\n4000,65.44585027,female,13,33,white\\r\\n10000,64.39270829,female,14,32,white\\r\\n1500,65.77418028,female,12,23,white\\r\\n18000,65.50058268,male,17,26,hispanic\\r\\n4000,72.89740447,male,15,24,white\\r\\n28000,72.44737052,male,16,26,white\\r\\n10000,74.32627922,female,14,22,white\\r\\n3000,64.6559894,female,16,22,white\\r\\n12000,70.61206983,male,12,21,white\\r\\n19000,68.07567655,female,13,45,white\\r\\n36000,70.49066375,male,16,39,white\\r\\n7000,64.21713145,female,16,59,white\\r\\n35000,58.72468382,female,11,34,white\\r\\n40000,67.90288028,male,18,43,white\\r\\n15000,67.93033699,male,14,25,white\\r\\n8000,68.82436522,female,13,43,white\\r\\n25000,69.43574369,female,14,55,white\\r\\n28000,75.26532386,male,18,38,white\\r\\n22000,69.13342033,male,14,35,white\\r\\n21500,72.04505882,male,13,24,black\\r\\n3000,68.33676267,female,12,23,white\\r\\n23000,71.53957462,male,13,28,white\\r\\n18000,72.3549481,male,12,73,white\\r\\n20000,67.29745543,male,16,71,white\\r\\n16000,63.21394254,female,12,46,hispanic\\r\\n15000,69.21807874,male,12,26,white\\r\\n53000,62.87643981,female,17,32,hispanic\\r\\n26000,72.30502775,male,12,27,white\\r\\n4000,65.43678299,female,12,28,other\\r\\n10000,72.68582646,male,16,59,white\\r\\n43000,69.12368046,male,12,51,white\\r\\n17000,68.80012333,male,14,33,other\\r\\n4000,61.49718641,female,12,38,hispanic\\r\\n50000,73.19213414,male,15,48,white\\r\\n55000,66.86295997,female,18,51,white\\r\\n28000,63.07393481,female,16,41,white\\r\\n5000,62.15913715,female,14,48,white\\r\\n18000,65.39748896,female,13,49,white\\r\\n21000,71.56490138,male,15,62,hispanic\\r\\n12000,67.19160234,female,12,33,white\\r\\n33000,65.4967554,female,16,62,hispanic\\r\\n50000,72.42629703,male,13,64,hispanic\\r\\n6000,65.38834306,female,9,74,hispanic\\r\\n16000,63.81681946,female,14,59,white\\r\\n35000,68.2084199,male,12,50,white\\r\\n25000,68.2921116,female,12,43,white\\r\\n20000,76.38235892,male,14,26,white\\r\\n18000,62.61693468,female,12,36,white\\r\\n34000,74.3972182,male,14,78,white\\r\\n25000,68.47598251,male,16,25,white\\r\\n20000,72.08175949,male,17,77,white\\r\\n33000,67.56833714,male,12,69,white\\r\\n4000,64.54942883,female,12,73,white\\r\\n20000,60.10433812,female,8,77,white\\r\\n40000,72.36484842,male,16,33,white\\r\\n14000,63.72688755,female,14,40,white\\r\\n12000,68.01106719,female,12,48,white\\r\\n25000,61.14690149,female,12,31,white\\r\\n70000,67.08764593,female,10,72,white\\r\\n38000,67.20367768,female,17,55,white\\r\\n14000,63.04841667,female,12,28,white\\r\\n15000,60.24539708,female,13,37,white\\r\\n17000,73.56449998,male,16,31,white\\r\\n60000,68.8187892,male,14,66,white\\r\\n15000,66.74729962,female,15,69,white\\r\\n25000,64.91763443,male,16,86,white\\r\\n18000,62.20893278,male,12,63,hispanic\\r\\n70000,71.82154158,male,18,47,white\\r\\n30000,64.57803294,female,18,59,white\\r\\n8000,62.3622856,female,12,51,white\\r\\n30000,70.92462479,male,16,34,white\\r\\n27000,71.35941083,male,14,32,white\\r\\n47000,70.07702359,male,18,43,white\\r\\n12000,66.55482376,male,12,22,hispanic\\r\\n24000,61.77155792,female,17,34,white\\r\\n13000,62.89387013,female,12,35,hispanic\\r\\n80000,60.81634956,female,14,37,white\\r\\n5000,71.81257574,male,12,18,white\\r\\n25000,62.51971848,female,10,60,white\\r\\n28000,65.83384499,male,12,44,white\\r\\n8000,64.12672119,female,15,20,white\\r\\n10000,66.43377774,female,13,51,white\\r\\n9000,68.26159186,female,14,41,white\\r\\n20000,59.55762356,female,12,37,white\\r\\n12000,65.18920345,male,12,71,white\\r\\n15000,64.76620056,female,14,66,white\\r\\n20000,61.33604968,female,14,36,white\\r\\n28000,63.90803001,female,14,36,white\\r\\n265,65.98171716,female,15,21,white\\r\\n35000,69.35290808,male,14,74,white\\r\\n26000,65.99868824,female,14,32,hispanic\\r\\n27000,66.64219578,female,17,34,white\\r\\n14000,68.3784564,female,12,30,white\\r\\n32000,65.51631812,male,16,33,white\\r\\n10000,69.09659387,female,14,32,white\\r\\n7000,69.32438184,male,16,30,white\\r\\n28000,71.01264519,male,17,46,white\\r\\n60000,73.87645668,male,13,54,white\\r\\n12000,68.5399655,male,4,62,white\\r\\n15000,75.15666002,female,13,75,white\\r\\n15000,71.85208292,male,11,63,white\\r\\n26000,64.38788805,female,15,32,white\\r\\n26000,71.68614656,male,16,25,hispanic\\r\\n18720,62.75756867,female,10,36,black\\r\\n12000,63.80685747,female,12,73,black\\r\\n80000,70.4283587,male,17,39,white\\r\\n48000,66.41483628,female,13,39,white\\r\\n18000,62.4987126,male,16,27,other\\r\\n85000,69.73083269,male,15,65,white\\r\\n35000,63.6405911,female,12,47,black\\r\\n5000,68.70302328,male,16,22,white\\r\\n9000,64.18300504,female,13,22,hispanic\\r\\n30000,67.13533046,female,16,27,white\\r\\n80000,71.67133336,male,14,58,white\\r\\n35000,65.06635863,female,16,32,white\\r\\n12000,63.38768808,female,14,34,white\\r\\n2.00E+05,69.66276413,male,18,34,white\\r\\n4000,64.2087081,female,16,45,white\\r\\n2000,68.04927626,male,12,18,white\\r\\n24000,65.95545664,female,18,69,white\\r\\n2000,66.3163455,male,15,23,hispanic\\r\\n15000,69.68933276,male,17,30,white\\r\\n6000,62.25103435,female,12,65,white\\r\\n5000,65.91611322,male,12,75,white\\r\\n1500,66.49010548,female,12,21,hispanic\\r\\n28000,63.54175663,female,18,48,white\\r\\n9000,69.91640864,female,12,35,white\\r\\n60000,74.14909916,male,14,52,white\\r\\n1200,65.50047831,male,12,19,white\\r\\n1400,61.64302291,female,3,64,hispanic\\r\\n7000,66.43334281,female,13,43,white\\r\\n21000,62.27001571,female,12,31,white\\r\\n44000,69.05177852,male,12,58,white\\r\\n29000,67.69979999,male,16,36,black\\r\\n3000,71.82784908,male,14,18,hispanic\\r\\n12000,64.32170257,male,13,22,black\\r\\n20000,72.47294426,male,12,28,hispanic\\r\\n1200,61.72064359,female,5,73,black\\r\\n37000,73.76300888,male,16,25,white\\r\\n8000,66.28668867,male,10,60,other\\r\\n35000,67.89219734,male,16,30,hispanic\\r\\n25000,61.94550805,male,14,37,other\\r\\n18000,71.1757075,female,10,29,white\\r\\n30000,62.52137326,female,16,36,black\\r\\n20000,69.24438206,male,18,69,white\\r\\n12000,71.20132672,male,6,40,hispanic\\r\\n10000,65.93158199,female,12,68,white\\r\\n18000,71.89919003,male,14,48,white\\r\\n20000,72.11578227,male,12,26,black\\r\\n31000,67.54589484,female,16,43,white\\r\\n6000,63.50633504,male,10,36,hispanic\\r\\n12000,69.84663837,male,13,40,white\\r\\n13000,66.3597141,female,16,33,white\\r\\n26000,66.51458172,female,17,34,white\\r\\n15000,68.06512502,female,11,31,black\\r\\n30000,63.77364984,female,17,28,white\\r\\n2000,64.70482859,female,14,41,white\\r\\n5000,69.95972129,male,13,22,other\\r\\n53000,71.26887988,female,14,26,white\\r\\n2000,61.8733625,female,13,18,white\\r\\n25000,70.85695431,male,17,29,white\\r\\n5000,74.30637389,male,12,18,white\\r\\n21000,64.20480524,female,13,27,white\\r\\n17000,69.74731735,female,15,27,white\\r\\n12000,64.0015859,female,13,37,white\\r\\n42000,69.6259126,male,14,44,hispanic\\r\\n21000,73.66522424,male,12,33,white\\r\\n6000,62.72193884,female,12,65,hispanic\\r\\n25000,73.55018907,male,14,24,white\\r\\n3000,66.08877346,female,14,19,white\\r\\n3600,65.39047785,female,15,67,white\\r\\n4000,70.9189045,male,12,19,white\\r\\n20000,68.52424985,male,14,58,white\\r\\n52000,60.29879122,male,15,50,white\\r\\n60000,64.01087123,female,12,43,white\\r\\n15000,63.81616972,female,13,41,white\\r\\n90000,71.89981083,male,16,50,white\\r\\n26000,61.41213491,female,14,65,white\\r\\n2000,68.69143395,male,12,21,white\\r\\n16000,67.11030016,female,12,61,white\\r\\n24000,64.56857588,female,11,27,hispanic\\r\\n15000,68.26173676,male,16,28,hispanic\\r\\n42000,74.42452398,male,17,43,white\\r\\n10000,65.19332902,female,12,43,white\\r\\n17000,70.70129909,male,13,36,hispanic\\r\\n30000,64.43979969,female,14,34,white\\r\\n32000,68.86162531,female,17,37,white\\r\\n36000,64.38677808,female,17,34,hispanic\\r\\n10000,71.90195809,male,13,20,hispanic\\r\\n20000,62.55288525,female,15,29,white\\r\\n24000,64.88606794,female,12,29,white\\r\\n17000,71.65621121,male,12,32,white\\r\\n23000,65.15171275,female,14,48,white\\r\\n25000,64.28044952,female,12,33,white\\r\\n50000,70.88340739,male,12,50,white\\r\\n20000,61.76661529,female,12,30,white\\r\\n30000,66.27003305,female,16,33,white\\r\\n7000,64.07142134,female,10,39,white\\r\\n7000,66.80598608,male,10,78,white\\r\\n30000,68.07656199,male,11,32,white\\r\\n3000,65.75189097,female,12,24,white\\r\\n20000,66.01493875,female,14,43,white\\r\\n40000,65.76546694,female,16,59,white\\r\\n10000,66.74771387,male,12,77,white\\r\\n16000,66.14088681,male,12,37,white\\r\\n11000,63.3003661,female,9,51,white\\r\\n16000,67.61928205,female,13,43,white\\r\\n18000,70.42987008,male,12,27,white\\r\\n12000,62.62478214,female,16,26,white\\r\\n4000,69.9880636,male,14,21,black\\r\\n60000,71.81932456,male,12,45,white\\r\\n43000,74.77191654,male,17,40,white\\r\\n31000,61.96559801,female,14,39,white\\r\\n50000,68.21042316,female,17,39,white\\r\\n27000,68.04934586,female,14,29,white\\r\\n30000,70.49075496,male,17,56,white\\r\\n12000,73.38320556,male,13,21,black\\r\\n20000,62.13713215,female,17,30,white\\r\\n15000,59.77628987,female,12,76,black\\r\\n25000,64.15964764,female,16,37,other\\r\\n2000,60.19709941,female,6,67,hispanic\\r\\n3000,73.26521355,male,15,20,hispanic\\r\\n110000,66.312035,female,18,48,other\\r\\n55000,68.99588958,male,18,71,white\\r\\n58000,70.34336983,male,18,53,white\\r\\n10000,70.0562757,female,16,36,white\\r\\n19000,72.16573306,male,12,29,white\\r\\n15000,61.13579953,female,18,82,white\\r\\n8000,63.66416353,female,12,33,white\\r\\n60000,71.9258358,male,12,50,white\\r\\n6000,68.36848621,male,12,27,white'}"
            ]
          },
          "metadata": {
            "tags": []
          },
          "execution_count": 97
        }
      ]
    },
    {
      "cell_type": "code",
      "metadata": {
        "id": "JMUfm4s5Bz0K",
        "outputId": "5d28cc58-c36b-46e2-eb61-f89f9acd34ef",
        "colab": {
          "base_uri": "https://localhost:8080/",
          "height": 198
        }
      },
      "source": [
        "salaries=pd.read_csv('salaries.csv')\n",
        "salaries.head()"
      ],
      "execution_count": 98,
      "outputs": [
        {
          "output_type": "execute_result",
          "data": {
            "text/html": [
              "<div>\n",
              "<style scoped>\n",
              "    .dataframe tbody tr th:only-of-type {\n",
              "        vertical-align: middle;\n",
              "    }\n",
              "\n",
              "    .dataframe tbody tr th {\n",
              "        vertical-align: top;\n",
              "    }\n",
              "\n",
              "    .dataframe thead th {\n",
              "        text-align: right;\n",
              "    }\n",
              "</style>\n",
              "<table border=\"1\" class=\"dataframe\">\n",
              "  <thead>\n",
              "    <tr style=\"text-align: right;\">\n",
              "      <th></th>\n",
              "      <th>earn</th>\n",
              "      <th>height</th>\n",
              "      <th>sex</th>\n",
              "      <th>ed</th>\n",
              "      <th>age</th>\n",
              "      <th>race</th>\n",
              "    </tr>\n",
              "  </thead>\n",
              "  <tbody>\n",
              "    <tr>\n",
              "      <th>0</th>\n",
              "      <td>50000.0</td>\n",
              "      <td>74.424439</td>\n",
              "      <td>male</td>\n",
              "      <td>16</td>\n",
              "      <td>45</td>\n",
              "      <td>white</td>\n",
              "    </tr>\n",
              "    <tr>\n",
              "      <th>1</th>\n",
              "      <td>60000.0</td>\n",
              "      <td>65.537543</td>\n",
              "      <td>female</td>\n",
              "      <td>16</td>\n",
              "      <td>58</td>\n",
              "      <td>white</td>\n",
              "    </tr>\n",
              "    <tr>\n",
              "      <th>2</th>\n",
              "      <td>30000.0</td>\n",
              "      <td>63.629198</td>\n",
              "      <td>female</td>\n",
              "      <td>16</td>\n",
              "      <td>29</td>\n",
              "      <td>white</td>\n",
              "    </tr>\n",
              "    <tr>\n",
              "      <th>3</th>\n",
              "      <td>50000.0</td>\n",
              "      <td>63.108562</td>\n",
              "      <td>female</td>\n",
              "      <td>16</td>\n",
              "      <td>91</td>\n",
              "      <td>other</td>\n",
              "    </tr>\n",
              "    <tr>\n",
              "      <th>4</th>\n",
              "      <td>51000.0</td>\n",
              "      <td>63.402484</td>\n",
              "      <td>female</td>\n",
              "      <td>17</td>\n",
              "      <td>39</td>\n",
              "      <td>white</td>\n",
              "    </tr>\n",
              "  </tbody>\n",
              "</table>\n",
              "</div>"
            ],
            "text/plain": [
              "      earn     height     sex  ed  age   race\n",
              "0  50000.0  74.424439    male  16   45  white\n",
              "1  60000.0  65.537543  female  16   58  white\n",
              "2  30000.0  63.629198  female  16   29  white\n",
              "3  50000.0  63.108562  female  16   91  other\n",
              "4  51000.0  63.402484  female  17   39  white"
            ]
          },
          "metadata": {
            "tags": []
          },
          "execution_count": 98
        }
      ]
    },
    {
      "cell_type": "code",
      "metadata": {
        "id": "oJuKpmwsBFWu",
        "outputId": "699c70f1-bfac-40d4-a15f-c8896b292b1c",
        "colab": {
          "base_uri": "https://localhost:8080/",
          "height": 145
        }
      },
      "source": [
        "print('''\n",
        "                                           ANSWER TO 4.1 - Part 1\n",
        "                          Part 1: Read the salaries.csv file, compute the median and mean salary for the entire sample.\n",
        "                                  \n",
        "      ''')\n",
        "salary = np.array(salaries['earn'])\n",
        "print(\"Mean salary (global): ${:,.2f}\".format(np.mean(salary)))\n",
        "print(\"Median  salary (global): ${:,.2f}\".format(np.median(salary)))"
      ],
      "execution_count": 138,
      "outputs": [
        {
          "output_type": "stream",
          "text": [
            "\n",
            "                                           ANSWER TO 4.1 - Part 1\n",
            "                          Part 1: Read the salaries.csv file, compute the median and mean salary for the entire sample.\n",
            "                                  \n",
            "      \n",
            "Mean salary (global): $23,154.77\n",
            "Median  salary (global): $20,000.00\n"
          ],
          "name": "stdout"
        }
      ]
    },
    {
      "cell_type": "code",
      "metadata": {
        "id": "o6lHmK2MEJ0J",
        "outputId": "d0e85069-3337-4c52-c9ff-83839893d708",
        "colab": {
          "base_uri": "https://localhost:8080/",
          "height": 145
        }
      },
      "source": [
        "print('''\n",
        "                                           ANSWER TO 4.1 - Part 2\n",
        "                          Part 2: Compute the first raw moment and show that it is equivalent to computing the mean value.\n",
        "      ''')\n",
        "\n",
        "#Professor's Tip\n",
        "#You may want to implement raw moment, central moment, and skewness \"from scratch\" (less than 15 lines of Python code in total).\n",
        "# See this: http://greenteapress.com/thinkstats2/html/thinkstats2007.html#sec65\n",
        "\n",
        "def RawMoment(data, k):\n",
        "    return sum(x**k for x in data) / len(data)\n",
        "\n",
        "def print_first_raw_moment(data):\n",
        "    firstmoment=RawMoment(data, 1)\n",
        "    mean=np.mean(data)\n",
        "    print('First moment: ${:,.2f}'.format(firstmoment))\n",
        "    print('Mean:         ${:,.2f}'.format(mean))\n",
        "    print(\"First raw moment IS equivalent to mean value\" if(firstmoment==mean)else \"First raw moment is NOT equivalent to mean value\")\n",
        "    \n",
        "print_first_raw_moment(salary)"
      ],
      "execution_count": 139,
      "outputs": [
        {
          "output_type": "stream",
          "text": [
            "\n",
            "                                           ANSWER TO 4.1 - Part 2\n",
            "                          Part 2: Compute the first raw moment and show that it is equivalent to computing the mean value.\n",
            "      \n",
            "First moment: $23,154.77\n",
            "Mean:         $23,154.77\n",
            "First raw moment IS equivalent to mean value\n"
          ],
          "name": "stdout"
        }
      ]
    },
    {
      "cell_type": "code",
      "metadata": {
        "id": "D7ZniuKJN9Cg",
        "outputId": "cb271646-7456-4878-dee0-fd422c3e80a9",
        "colab": {
          "base_uri": "https://localhost:8080/",
          "height": 145
        }
      },
      "source": [
        "print('''\n",
        "                                           ANSWER TO 4.1 - Part 3\n",
        "                          Part 3: Compute the second central moment and show that it is equivalent to computing the variance.\n",
        "      ''')\n",
        "\n",
        "def central_moment(data, k):\n",
        "    mean = np.mean(data)\n",
        "    return sum((x - mean)**k for x in data) / len(data)\n",
        "\n",
        "def print_second_central_moment(data):\n",
        "    secondcentralmoment=central_moment(data, 2)\n",
        "    variance1=np.var(data)\n",
        "    print('Second central moment: ${:,.2f}'.format(secondcentralmoment))\n",
        "    print('Variance:              ${:,.2f}'.format(variance1))\n",
        "    a=round(secondcentralmoment,2)\n",
        "    b=round(variance1,2)\n",
        "    print(\"Second central moment IS equivalent to variance\" if(a==b) else \"Second central moment is NOT equivalent to variance value\")\n",
        "    \n",
        "print_second_central_moment(salary)"
      ],
      "execution_count": 163,
      "outputs": [
        {
          "output_type": "stream",
          "text": [
            "\n",
            "                                           ANSWER TO 4.1 - Part 3\n",
            "                          Part 3: Compute the second central moment and show that it is equivalent to computing the variance.\n",
            "      \n",
            "Second central moment: $378,852,251.62\n",
            "Variance:              $378,852,251.62\n",
            "Second central moment IS equivalent to variance\n"
          ],
          "name": "stdout"
        }
      ]
    },
    {
      "cell_type": "code",
      "metadata": {
        "id": "ZFp_vpsRTCek",
        "outputId": "98b5803f-5630-49d2-fa9d-c94611b3f835",
        "colab": {
          "base_uri": "https://localhost:8080/",
          "height": 108
        }
      },
      "source": [
        "print('''\n",
        "                                           ANSWER TO 4.1 - Part 4\n",
        "                       Part 4: Compute the skewness using scipy.stats.skew                              \n",
        "      ''')\n",
        "#Import scipy.stats as ss\n",
        "import scipy.stats as ss\n",
        "\n",
        "def print_skewness(data):\n",
        "    skewness = ss.skew(data)\n",
        "    print(\"Skewness is: {:,.2f}\".format(skewness))\n",
        "\n",
        "print_skewness(salary)"
      ],
      "execution_count": 168,
      "outputs": [
        {
          "output_type": "stream",
          "text": [
            "\n",
            "                                           ANSWER TO 4.1 - Part 4\n",
            "                       Part 4: Compute the skewness using scipy.stats.skew                              \n",
            "      \n",
            "Skewness is: 2.88\n"
          ],
          "name": "stdout"
        }
      ]
    },
    {
      "cell_type": "markdown",
      "metadata": {
        "id": "qCGPRVHYTzbR"
      },
      "source": [
        "**Questions (9 points, 3 pts each)**\n",
        "\n",
        "**Explain the \"binning bias\" associated with histogram plots.**\n",
        "\n",
        "Binning data inherently causes bias because the plot shows a distribution which might not reflect the real distribution of the data causing data to be interpreted differently based on the number of bins we choose.\n",
        "Per Macher B. in his article \"Data Scientists: STOP Randomly Binning Histograms\" (Source: https://medium.com/analytics-vidhya/data-scientists-stop-randomly-binning-histograms-1069d7380c3a),  Binning too widely will prevent us from detecting unusual kurtosis/spikes while binning too thinly would show a lot of spikes by coincidence.\n",
        "\n",
        "Although there are several mathematical formulas available including the famous square root of sample size to select the number of bins, showing the real distribution of data visually by the way of histograms is tricky because it may prevent the stakeholders from seeing the real picture. \n",
        "\n",
        "**What is a bee swarm plot and in which situations should you (not) use it?**\n",
        "\n",
        "Bee swarm plot is a one-dimensional scatter plot wherein each point can be made visible and color-coded, such that the minimum, maximum and outliers can be easily identified. It does not have binning problem that is associated with histograms, thus providing more insight into data. It should be used to display all the continuous data with a categorical metric. It should not be used when the data is too large and there are too many categories- the points can overlap and plot will become meaningless.\n",
        "\n",
        "**How do you interpret the value of skewness computed by your code in Part 4?**\n",
        "\n",
        "Skewness is a measure of symmetry. As a general rule of thumb,  if skewness is less than -1 or greater than 1, the distribution is highly skewed. If skewness is between -1 and -0.5 or between 0.5 and 1, the distribution is moderately skewed. If skewness is between -0.5 and 0.5, the distribution is approximately symmetric.\n",
        "\n",
        "Per scipy.org, \"For normally distributed data, the skewness should be about zero. For unimodal continuous distributions, a skewness value greater than zero means that there is more weight in the right tail of the distribution. The function skewtest can be used to determine if the skewness value is close enough to zero, statistically speaking.\"\n",
        "\n",
        "Thus a skewness value of 2.8 means that the salary data is highly skewed with more weight of data to the right, that is more high salaried individuals in the database. "
      ]
    },
    {
      "cell_type": "markdown",
      "metadata": {
        "id": "ICKDvA6dT_nt"
      },
      "source": [
        "**Conclusions (16 points)**\n",
        "\n",
        "Write your conclusions and make sure to address the issues below:\n",
        "\n",
        "**What have you learned from this assignment?**\n",
        "\n",
        "I have learned to apply statistical concepts using python codes to real-life datasets like the Brisbane babies, Iris and the like used above. Using the python code involved some understanding of the statistical concepts.  \n",
        "\n",
        "**Which parts were the most fun, time-consuming, enlightening, tedious?**\n",
        "\n",
        "Clubbing coding and statistical knowledge was a challenging and fun task. It was tedious and time consuming to figure out what the question was exactly asking to convert it into python code. The Discussion board on Canvas helped greatly because I saw comments involving my fellow classmates facing similar struggles. \n",
        "\n",
        "**What would you do if you had an additional week to work on this?**\n",
        "\n",
        "I would try to understand in depth how my calculations and plots would be made useful in the Industry. Writing code and knowing what it means is one thing and knowing its practical use is more important from my point of view."
      ]
    }
  ]
}
