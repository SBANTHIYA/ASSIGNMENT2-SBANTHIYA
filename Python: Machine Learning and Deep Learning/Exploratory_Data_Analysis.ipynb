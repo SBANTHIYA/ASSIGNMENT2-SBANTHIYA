{
  "nbformat": 4,
  "nbformat_minor": 0,
  "metadata": {
    "colab": {
      "name": "Exploratory Data Analysis.ipynb",
      "provenance": [],
      "collapsed_sections": [],
      "authorship_tag": "ABX9TyNh8TVb2shg+eUNcn/Mo2wy",
      "include_colab_link": true
    },
    "kernelspec": {
      "name": "python3",
      "display_name": "Python 3"
    }
  },
  "cells": [
    {
      "cell_type": "markdown",
      "metadata": {
        "id": "view-in-github",
        "colab_type": "text"
      },
      "source": [
        "<a href=\"https://colab.research.google.com/github/SBANTHIYA/Data-Science-and-Analytics-Portfolio/blob/master/Python%3A%20Machine%20Learning%20and%20Deep%20Learning/Exploratory_Data_Analysis.ipynb\" target=\"_parent\"><img src=\"https://colab.research.google.com/assets/colab-badge.svg\" alt=\"Open In Colab\"/></a>"
      ]
    },
    {
      "cell_type": "markdown",
      "metadata": {
        "id": "jecYJ5wnK9Bs"
      },
      "source": [
        ""
      ]
    },
    {
      "cell_type": "markdown",
      "metadata": {
        "id": "YrDtgyvghDox"
      },
      "source": [
        "**## CAP 5678: ASSIGNMENT 2 : FALL 2020**\n",
        "\n",
        "**## BY SWATI BANTHIYA**\n",
        "\n",
        "In this assignment I have attempted to answer all questions as per the guide shared with me on Google Colab. I have attempted to answer all the bonus questions. I have also attempted to use code to make the data neater and more meaningful where required.\n",
        "\n",
        "\n",
        "\n",
        "\n",
        "\n",
        "\n",
        "\n",
        "\n",
        "\n",
        "\n",
        "\n"
      ]
    },
    {
      "cell_type": "code",
      "metadata": {
        "id": "8vJv6Ox_Dzrj"
      },
      "source": [
        "import numpy as np\n",
        "import pandas as pd\n",
        "from pandas import DataFrame, Series\n",
        "import matplotlib.pyplot as plt\n",
        "from scipy.stats import pearsonr\n",
        "from __future__ import division\n",
        "import seaborn as sns\n",
        "sns.set(style='ticks', palette='Set2')\n",
        "%matplotlib inline\n",
        "\n",
        "\n",
        "\n"
      ],
      "execution_count": null,
      "outputs": []
    },
    {
      "cell_type": "code",
      "metadata": {
        "id": "YFH8j4WqNBhc",
        "colab": {
          "resources": {
            "http://localhost:8080/nbextensions/google.colab/files.js": {
              "data": "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",
              "ok": true,
              "headers": [
                [
                  "content-type",
                  "application/javascript"
                ]
              ],
              "status": 200,
              "status_text": ""
            }
          },
          "base_uri": "https://localhost:8080/",
          "height": 109
        },
        "outputId": "f58cf4a2-224e-4c72-8641-32143fbc7be6"
      },
      "source": [
        "from google.colab import files\n",
        "files.upload()"
      ],
      "execution_count": null,
      "outputs": [
        {
          "output_type": "display_data",
          "data": {
            "text/html": [
              "\n",
              "     <input type=\"file\" id=\"files-089a503c-39fd-4b78-8490-ce9e393f743a\" name=\"files[]\" multiple disabled\n",
              "        style=\"border:none\" />\n",
              "     <output id=\"result-089a503c-39fd-4b78-8490-ce9e393f743a\">\n",
              "      Upload widget is only available when the cell has been executed in the\n",
              "      current browser session. Please rerun this cell to enable.\n",
              "      </output>\n",
              "      <script src=\"/nbextensions/google.colab/files.js\"></script> "
            ],
            "text/plain": [
              "<IPython.core.display.HTML object>"
            ]
          },
          "metadata": {
            "tags": []
          }
        },
        {
          "output_type": "stream",
          "text": [
            "Saving salaries.csv to salaries (2).csv\n"
          ],
          "name": "stdout"
        },
        {
          "output_type": "execute_result",
          "data": {
            "text/plain": [
              "{'salaries.csv': b'earn,height,sex,ed,age,race\\r\\n50000,74.42443878,male,16,45,white\\r\\n60000,65.53754283,female,16,58,white\\r\\n30000,63.62919774,female,16,29,white\\r\\n50000,63.10856168,female,16,91,other\\r\\n51000,63.40248357,female,17,39,white\\r\\n9000,64.39950754,female,15,26,white\\r\\n29000,61.65632583,female,12,49,white\\r\\n32000,72.69854374,male,17,46,white\\r\\n2000,72.03946685,male,15,21,hispanic\\r\\n27000,72.23493256,male,12,26,white\\r\\n6530,69.51214643,male,16,65,white\\r\\n30000,68.03160826,male,11,34,white\\r\\n12000,67.55693392,male,12,27,white\\r\\n12000,65.43058708,female,12,51,white\\r\\n22000,65.66285452,female,16,35,white\\r\\n17000,67.75876874,male,12,58,white\\r\\n40000,68.35184258,female,14,29,white\\r\\n44000,69.6095718,male,13,44,white\\r\\n7000,64.18456568,female,12,55,black\\r\\n53000,73.07460915,male,13,35,black\\r\\n5000,62.37552702,female,13,51,white\\r\\n14000,63.02393011,female,14,21,white\\r\\n5500,67.22990391,male,14,22,white\\r\\n40000,65.5511078,female,12,41,white\\r\\n34000,72.07964539,male,12,45,white\\r\\n10000,63.09113008,female,12,35,black\\r\\n27000,64.32354892,female,16,60,white\\r\\n50000,71.64285283,male,16,38,white\\r\\n41000,76.79309468,male,16,33,white\\r\\n15000,63.89391433,female,14,25,white\\r\\n25000,63.80262307,female,12,33,white\\r\\n75000,71.59223144,male,17,39,white\\r\\n27000,67.52196348,male,17,31,white\\r\\n12000,64.39435148,female,12,26,white\\r\\n7500,61.17822266,female,14,78,white\\r\\n30000,66.9838783,female,14,31,black\\r\\n21000,65.31645577,female,12,57,white\\r\\n27000,63.57418515,female,14,26,white\\r\\n3000,66.61100048,female,15,65,white\\r\\n25000,64.91175508,female,12,30,white\\r\\n24000,64.78967998,female,12,41,white\\r\\n32000,66.93769065,female,18,29,white\\r\\n10000,68.17281295,female,17,30,white\\r\\n11000,60.45065992,female,12,21,hispanic\\r\\n18700,64.79325356,female,13,32,white\\r\\n20000,61.814919,female,12,29,white\\r\\n3500,71.57214531,male,10,18,white\\r\\n13000,67.31440583,male,8,56,black\\r\\n25000,69.89987336,male,12,65,white\\r\\n21000,69.76170202,male,17,41,white\\r\\n34000,67.74647103,female,17,49,white\\r\\n6000,60.19022153,female,12,65,white\\r\\n17000,71.00649988,male,12,28,white\\r\\n35000,71.16679813,male,12,32,white\\r\\n4000,72.73562987,male,13,18,white\\r\\n14000,68.13822311,female,14,55,white\\r\\n10000,66.37981124,female,12,57,white\\r\\n25000,69.23278453,male,16,29,white\\r\\n16000,63.2739378,female,14,27,white\\r\\n16000,61.82776272,male,14,28,hispanic\\r\\n16500,64.22120921,female,14,43,white\\r\\n4000,63.84126511,female,9,68,white\\r\\n3840,66.97477013,female,9,52,white\\r\\n22000,71.45148909,male,12,39,white\\r\\n200,59.61264626,female,16,53,white\\r\\n26000,65.79938553,female,16,27,white\\r\\n2500,66.45804053,female,15,21,white\\r\\n17000,64.60288039,female,14,39,white\\r\\n8000,70.44048147,female,13,22,white\\r\\n12000,65.92281351,female,13,68,white\\r\\n10000,61.85682685,female,12,47,white\\r\\n10000,65.78444016,female,15,67,white\\r\\n15000,71.83127984,male,12,39,white\\r\\n2400,67.04532929,female,8,39,hispanic\\r\\n30000,68.30550608,male,12,32,hispanic\\r\\n30000,70.02545976,male,12,33,white\\r\\n10000,61.81038588,female,12,38,white\\r\\n5000,62.951071,female,13,26,white\\r\\n12000,65.82113696,female,13,63,white\\r\\n20000,70.39754819,female,10,61,white\\r\\n20000,68.37778444,female,12,36,white\\r\\n20000,69.93269988,male,14,23,white\\r\\n1200,66.17180593,female,12,20,white\\r\\n700,68.4563631,female,16,32,white\\r\\n20000,69.90385751,male,16,27,white\\r\\n10000,61.14965798,female,12,22,hispanic\\r\\n30000,63.36334633,female,12,73,white\\r\\n40000,64.1470838,female,14,56,white\\r\\n25000,67.31839041,male,12,89,white\\r\\n10000,60.67493605,female,17,79,white\\r\\n60000,68.84090254,female,18,63,white\\r\\n18000,67.68273051,female,12,66,white\\r\\n16040,64.49676858,female,12,33,white\\r\\n15000,66.81240419,female,14,30,black\\r\\n10000,68.74643775,male,17,23,white\\r\\n33000,67.06764906,female,13,43,white\\r\\n18000,68.13799301,female,12,30,white\\r\\n15000,63.34289679,female,12,37,white\\r\\n21000,71.38666631,male,12,22,white\\r\\n21000,63.98833702,female,17,43,black\\r\\n37000,68.48638652,male,11,37,white\\r\\n38000,67.5161435,female,17,44,white\\r\\n17000,65.60084375,female,14,43,hispanic\\r\\n32000,76.80019394,male,16,30,white\\r\\n27500,67.10538079,female,12,58,white\\r\\n16500,62.15164343,female,12,44,white\\r\\n25000,66.86762426,female,18,35,white\\r\\n27000,61.04220253,female,18,43,white\\r\\n5000,64.12328577,female,12,28,white\\r\\n70000,61.54481517,female,16,38,white\\r\\n5000,62.55623639,female,12,40,white\\r\\n5000,68.16376557,male,16,24,white\\r\\n20000,63.65512749,female,15,26,white\\r\\n4000,72.37351729,male,15,21,white\\r\\n60000,64.14708239,female,16,35,white\\r\\n5000,61.32669975,female,13,31,white\\r\\n30000,74.36639644,male,12,38,white\\r\\n70000,70.21016202,male,14,35,white\\r\\n50000,71.10618803,male,16,41,white\\r\\n44000,62.59484404,female,12,39,white\\r\\n30000,64.05496477,female,14,43,white\\r\\n10000,61.57361885,female,16,40,white\\r\\n23000,70.48019939,female,17,42,white\\r\\n45000,71.18590697,male,17,62,white\\r\\n15000,71.43363842,male,14,31,white\\r\\n4000,70.22884859,female,14,71,white\\r\\n17000,67.28085804,male,14,31,white\\r\\n30000,63.7586912,female,12,32,white\\r\\n27500,67.08651561,female,12,30,white\\r\\n5688,61.67959788,female,8,69,white\\r\\n18000,62.28599832,female,13,56,hispanic\\r\\n43000,68.29247687,male,13,44,black\\r\\n32000,61.58948255,female,14,44,black\\r\\n10000,68.41773519,female,18,56,black\\r\\n60000,73.99125513,male,13,45,white\\r\\n21000,67.56107232,female,12,50,other\\r\\n2400,62.33792965,female,16,22,white\\r\\n1000,66.2400089,female,15,28,white\\r\\n27000,68.09847275,male,12,27,white\\r\\n6600,59.77086973,female,14,28,hispanic\\r\\n16000,68.06338056,male,8,43,white\\r\\n90000,71.68014805,male,12,26,white\\r\\n8000,66.35970835,female,12,42,white\\r\\n20000,68.35625823,male,10,32,white\\r\\n15000,68.45654248,female,12,18,white\\r\\n12000,68.78610429,female,12,60,white\\r\\n24000,64.10224266,female,16,46,white\\r\\n20000,65.11348548,female,14,39,white\\r\\n19000,60.64918584,female,12,46,white\\r\\n10000,72.12570299,male,12,49,white\\r\\n40000,65.51073007,female,16,34,white\\r\\n25000,67.93189831,male,14,64,white\\r\\n25000,70.44492324,male,12,24,white\\r\\n25000,71.36585446,male,14,32,white\\r\\n19000,71.12507331,male,16,61,white\\r\\n44000,68.16013681,male,16,48,white\\r\\n15000,60.11332769,female,14,49,white\\r\\n17000,62.78819755,female,12,36,white\\r\\n24000,68.07772188,male,12,56,white\\r\\n23000,64.05084212,female,12,37,white\\r\\n13000,69.71579638,male,12,74,white\\r\\n65000,68.22067254,male,16,46,white\\r\\n7000,60.8838595,female,12,63,white\\r\\n40000,68.4075397,male,18,63,white\\r\\n15000,66.00197998,female,17,43,white\\r\\n20000,69.79788991,male,16,25,white\\r\\n20000,71.01071134,male,12,50,white\\r\\n20000,65.14241075,female,12,42,white\\r\\n25000,65.96710882,female,12,49,white\\r\\n49000,69.9905326,male,13,37,white\\r\\n25000,61.8766772,female,12,65,white\\r\\n11000,66.10888066,female,14,57,white\\r\\n16000,61.05430546,female,15,38,white\\r\\n35000,71.5635653,male,14,43,white\\r\\n125000,74.34062243,male,18,45,white\\r\\n23000,66.57698841,female,12,47,white\\r\\n17000,66.11044315,female,16,28,white\\r\\n27000,61.96568501,female,12,41,white\\r\\n70000,71.74551166,male,14,32,white\\r\\n35000,64.5622198,female,15,47,white\\r\\n10000,60.19882039,female,12,62,white\\r\\n35000,61.91637283,female,15,39,white\\r\\n15000,66.41355202,female,12,38,white\\r\\n12000,63.69852119,female,12,39,white\\r\\n8000,71.29091446,male,12,68,white\\r\\n8000,65.25375611,female,12,50,white\\r\\n35000,73.00546124,male,18,50,white\\r\\n45000,68.64007438,male,11,51,white\\r\\n15000,64.38145247,female,14,22,white\\r\\n15000,61.06026413,female,12,77,white\\r\\n24000,66.78936466,female,18,51,white\\r\\n25000,61.82929804,female,13,32,white\\r\\n25000,62.60956008,female,14,54,black\\r\\n20000,67.36465586,male,10,28,other\\r\\n24000,68.01697138,female,12,24,white\\r\\n44000,72.06414695,male,16,46,white\\r\\n69000,70.10862394,male,12,38,white\\r\\n62000,69.8524851,male,18,44,white\\r\\n32000,67.45525096,male,14,32,black\\r\\n20000,63.45312857,female,12,33,black\\r\\n32000,66.29296545,female,18,35,other\\r\\n25000,65.83479652,female,17,50,white\\r\\n170000,71.01003448,male,18,45,white\\r\\n35000,66.6194241,male,16,33,white\\r\\n40000,75.56858877,male,16,38,black\\r\\n33000,68.95219922,male,14,30,white\\r\\n18000,65.34873405,female,12,22,white\\r\\n30000,61.75211652,female,13,43,white\\r\\n26000,61.76413236,female,12,31,white\\r\\n5000,62.41146948,female,12,21,white\\r\\n20000,61.90432912,female,16,73,white\\r\\n17000,60.63860991,female,12,30,white\\r\\n32000,64.82457719,female,14,28,white\\r\\n15000,72.2707533,male,14,22,white\\r\\n50000,71.67227516,male,14,55,white\\r\\n8000,63.77092833,female,12,39,white\\r\\n40000,70.78659305,male,14,51,white\\r\\n40000,72.40979479,male,15,41,white\\r\\n32750,66.08797906,male,12,34,white\\r\\n20000,64.99932833,female,14,69,white\\r\\n36000,64.52929961,female,15,39,black\\r\\n6000,61.74268052,female,12,64,white\\r\\n12000,65.84031021,female,14,34,black\\r\\n60000,67.39964104,male,14,63,white\\r\\n40000,64.02227361,female,13,44,white\\r\\n43000,63.22614173,female,12,38,white\\r\\n45000,67.49429822,female,16,34,white\\r\\n6000,68.00212043,female,18,39,white\\r\\n8000,63.85790609,female,10,82,other\\r\\n20000,64.39506424,female,13,39,black\\r\\n17000,66.43900757,male,12,23,black\\r\\n2000,64.76537756,female,12,32,white\\r\\n65000,64.53856172,male,12,28,white\\r\\n50000,71.58592642,male,12,41,white\\r\\n11000,68.34822168,female,12,38,white\\r\\n35000,74.43320394,male,18,30,white\\r\\n27000,63.21769643,male,12,33,white\\r\\n3500,64.31431662,female,12,61,white\\r\\n42000,68.15145984,male,12,37,white\\r\\n20000,67.49495483,female,18,29,white\\r\\n15000,67.31617222,female,12,29,white\\r\\n10000,72.98672325,male,12,21,white\\r\\n6000,70.49115537,male,8,78,white\\r\\n17000,64.8857528,female,16,23,hispanic\\r\\n35000,68.54049155,male,16,65,hispanic\\r\\n28000,76.6806675,male,14,28,white\\r\\n15000,67.69396242,female,12,33,white\\r\\n20000,61.97133572,female,17,24,white\\r\\n20000,64.21270273,female,12,29,white\\r\\n10500,67.222475,male,12,42,hispanic\\r\\n13000,69.90214232,male,16,22,white\\r\\n10000,61.7774477,female,12,52,white\\r\\n3000,63.08135136,female,12,37,white\\r\\n24000,62.33486897,female,14,29,white\\r\\n17000,68.69583535,female,13,35,white\\r\\n11000,64.09801177,female,12,48,white\\r\\n32000,69.03400468,female,14,40,white\\r\\n17000,58.66031718,female,15,26,white\\r\\n3000,66.22624865,female,12,35,other\\r\\n2100,62.09125567,female,12,21,black\\r\\n3192,75.13845111,male,11,34,black\\r\\n17000,63.31427802,female,17,26,white\\r\\n30000,64.55409959,female,13,28,white\\r\\n15000,69.80036003,male,12,32,white\\r\\n24000,67.84324762,female,16,42,white\\r\\n10000,64.95007188,female,14,67,white\\r\\n50000,69.21830674,male,8,53,white\\r\\n50000,71.88612281,male,16,53,white\\r\\n20000,63.52425581,female,17,49,white\\r\\n30000,62.67855806,female,18,54,hispanic\\r\\n22000,73.473942,female,14,45,white\\r\\n27000,75.09407247,male,12,24,white\\r\\n4000,64.77306344,female,12,38,white\\r\\n17500,66.25352548,female,17,26,white\\r\\n16500,66.39350909,female,14,28,white\\r\\n28000,64.00329116,female,16,39,white\\r\\n52000,65.57394208,female,18,50,white\\r\\n15000,64.27616448,female,16,29,white\\r\\n19000,62.64665984,female,13,32,white\\r\\n27000,72.55973638,male,12,23,white\\r\\n15000,71.78231297,male,8,58,white\\r\\n15000,71.5038586,male,14,33,white\\r\\n14500,64.1577521,female,12,55,white\\r\\n24000,64.22768724,female,13,30,white\\r\\n18000,67.79798123,male,15,36,white\\r\\n4000,62.27895686,female,12,68,white\\r\\n4000,68.50409571,female,13,57,white\\r\\n700,60.11268006,female,12,36,white\\r\\n24000,64.97932618,female,12,91,white\\r\\n27000,75.9695087,male,12,39,white\\r\\n12000,72.32790162,female,12,35,white\\r\\n22000,61.76565051,female,18,47,white\\r\\n30000,61.61640105,female,13,36,white\\r\\n35000,70.55407798,male,12,61,white\\r\\n20000,74.08119511,male,12,42,white\\r\\n32000,65.47241732,female,16,32,white\\r\\n6000,63.36531204,female,12,31,other\\r\\n12000,66.85000424,female,12,39,white\\r\\n10000,63.26609422,female,12,31,white\\r\\n1000,64.74550613,female,12,18,white\\r\\n12000,63.5420607,female,15,71,white\\r\\n16000,64.92311015,female,12,36,white\\r\\n25000,63.24200735,female,16,33,white\\r\\n25000,69.52456131,female,12,27,white\\r\\n32000,67.9780942,male,12,30,white\\r\\n35000,66.54873709,male,14,43,white\\r\\n6000,64.58870382,female,12,28,white\\r\\n80000,68.76668589,male,14,44,white\\r\\n20000,68.08388652,female,14,25,white\\r\\n1000,65.81591352,female,17,38,white\\r\\n28000,71.40237607,male,13,38,hispanic\\r\\n26000,63.76353788,male,16,23,hispanic\\r\\n27000,73.52538331,male,12,24,white\\r\\n18000,61.9799861,female,13,41,white\\r\\n2000,65.21052063,female,12,59,white\\r\\n20000,69.37546825,male,12,66,white\\r\\n6000,66.08656109,female,16,48,white\\r\\n25000,66.52544197,male,11,63,white\\r\\n12000,73.17216472,male,12,29,white\\r\\n12000,76.18487998,male,12,57,white\\r\\n30000,69.52562968,male,14,76,white\\r\\n4000,62.87571202,female,15,22,black\\r\\n26000,62.78291334,female,13,37,black\\r\\n23000,70.0759173,male,12,35,black\\r\\n21000,71.06307658,male,12,33,white\\r\\n25000,65.22338374,female,12,62,white\\r\\n18000,70.38000168,male,16,75,white\\r\\n4000,63.24725319,female,13,44,white\\r\\n23900,63.9208744,female,12,22,white\\r\\n35000,64.32948225,female,18,40,white\\r\\n26000,66.73038611,male,14,30,white\\r\\n25000,66.49049372,male,16,36,white\\r\\n23500,68.01891074,female,13,27,white\\r\\n12000,65.22521516,female,12,22,white\\r\\n15000,67.12424549,female,12,20,white\\r\\n3000,72.93587851,male,17,23,white\\r\\n6000,63.57960801,female,12,67,white\\r\\n14000,71.44772069,male,12,69,white\\r\\n15000,63.28314033,female,16,31,white\\r\\n175000,70.58955303,male,16,48,white\\r\\n1000,73.37096183,male,18,25,white\\r\\n10000,64.68888731,female,14,63,white\\r\\n45000,65.92309398,male,13,82,white\\r\\n15000,65.84831739,female,12,81,white\\r\\n20000,59.20287276,female,13,41,white\\r\\n35000,69.99012214,male,16,30,white\\r\\n40000,71.66564428,male,16,28,white\\r\\n35000,64.20182636,female,12,72,white\\r\\n50000,66.06454823,female,16,54,white\\r\\n1.00E+05,69.66688449,male,18,57,white\\r\\n35000,68.56316227,male,13,28,white\\r\\n24000,67.72061326,female,12,35,white\\r\\n35000,73.8310986,male,17,43,white\\r\\n38000,72.53878017,male,16,74,white\\r\\n30000,67.2427707,male,12,52,white\\r\\n5000,63.98628404,female,12,39,hispanic\\r\\n148000,66.74019514,male,18,38,white\\r\\n30000,69.77328675,male,12,32,white\\r\\n6500,63.7568558,female,15,31,white\\r\\n3000,61.55947889,female,16,37,white\\r\\n23000,69.29716996,male,18,69,white\\r\\n40000,68.47820894,male,17,41,white\\r\\n30000,72.11036806,male,14,39,white\\r\\n14000,63.1064127,female,12,37,white\\r\\n15000,68.71668269,female,12,34,white\\r\\n26000,64.00636885,female,18,36,white\\r\\n8000,71.00963535,female,12,25,white\\r\\n24000,63.84401906,female,16,27,black\\r\\n5124,66.1007056,male,8,67,white\\r\\n10000,60.9749902,female,15,25,white\\r\\n12000,67.755097,female,16,32,white\\r\\n50000,68.45831137,male,17,34,white\\r\\n23000,63.80380337,female,13,26,white\\r\\n40000,65.70889054,male,14,34,black\\r\\n6000,61.93158335,female,13,26,black\\r\\n5000,65.32257377,female,16,30,black\\r\\n110000,65.96503808,male,18,37,white\\r\\n41000,72.04235967,male,13,32,hispanic\\r\\n23000,62.5702349,female,13,78,white\\r\\n21000,70.43141038,male,12,23,white\\r\\n4000,62.32130605,female,12,29,white\\r\\n25000,70.70824022,male,12,36,white\\r\\n30000,70.27754766,male,18,46,white\\r\\n14000,63.87067902,female,11,51,white\\r\\n6000,63.47753891,female,12,35,white\\r\\n14000,64.59347958,female,12,46,white\\r\\n43000,70.51343766,male,12,27,white\\r\\n25000,61.70051979,female,15,33,white\\r\\n40000,72.55342775,male,12,66,white\\r\\n65000,67.58730646,male,17,40,white\\r\\n16000,76.15186604,male,15,32,white\\r\\n8000,65.57774506,female,12,71,white\\r\\n20000,64.22911509,female,15,39,white\\r\\n14000,60.31367815,female,14,72,white\\r\\n45000,68.13746662,male,12,74,white\\r\\n8000,60.94487115,female,11,72,white\\r\\n12000,66.02237734,male,12,28,white\\r\\n8000,62.88533313,female,14,31,white\\r\\n16000,62.67241315,female,15,32,white\\r\\n6000,73.68753599,male,15,73,white\\r\\n19000,70.10196227,male,12,32,white\\r\\n21000,68.3032382,female,13,39,white\\r\\n43000,69.52018367,female,18,46,white\\r\\n35000,68.71778433,male,15,21,white\\r\\n8000,70.49465352,male,10,75,white\\r\\n21000,62.77759649,female,14,41,white\\r\\n5800,65.12696483,female,12,30,white\\r\\n17000,69.34231463,male,12,46,white\\r\\n24000,67.54424952,male,14,49,white\\r\\n5000,62.34081167,female,11,71,white\\r\\n11000,66.17609718,female,12,23,white\\r\\n10000,65.45162442,male,13,27,white\\r\\n40000,69.7853576,male,14,36,white\\r\\n40000,70.46078553,male,12,47,white\\r\\n24000,65.75425935,female,14,29,black\\r\\n24000,68.49063707,male,16,26,white\\r\\n20000,68.13681045,male,16,33,white\\r\\n60000,69.74408659,male,18,50,white\\r\\n11000,64.55672948,female,13,47,white\\r\\n5000,64.39143327,female,15,40,white\\r\\n27000,65.29905895,female,16,30,white\\r\\n89000,76.53779724,male,16,41,white\\r\\n40000,70.024277,male,14,28,white\\r\\n15000,64.45588099,female,16,26,white\\r\\n1000,64.1782932,female,14,20,white\\r\\n22000,64.37256281,female,12,60,white\\r\\n12000,63.68146212,female,8,48,white\\r\\n22000,62.56620838,female,16,28,white\\r\\n40000,57.50321861,female,12,56,black\\r\\n40000,62.02661927,female,16,44,white\\r\\n35000,64.45005447,female,14,53,hispanic\\r\\n7000,63.63646056,female,12,28,white\\r\\n14000,62.23201909,female,12,37,white\\r\\n15000,64.01304285,female,12,56,white\\r\\n6000,65.88741351,female,13,34,white\\r\\n11000,69.29444166,female,12,41,black\\r\\n10000,64.34100456,female,13,31,white\\r\\n20000,70.70352478,male,14,41,white\\r\\n7000,62.08914548,female,12,73,white\\r\\n38000,68.29980498,male,9,46,white\\r\\n29000,67.80439419,male,9,58,white\\r\\n20000,61.776271,female,10,44,white\\r\\n8000,62.51286538,female,12,57,white\\r\\n36000,68.73131542,male,16,51,white\\r\\n1500,67.04634149,female,12,44,white\\r\\n42000,64.29710476,female,18,29,white\\r\\n25000,70.38619011,male,12,22,white\\r\\n13000,68.95556828,male,10,20,white\\r\\n30000,69.24640147,male,11,51,black\\r\\n7000,68.57202318,male,12,23,white\\r\\n31000,59.84566491,female,12,48,black\\r\\n15000,66.42150143,female,12,42,black\\r\\n50000,66.63238097,male,16,49,white\\r\\n5000,66.24960206,male,15,20,white\\r\\n600,70.23858997,female,12,18,black\\r\\n14000,64.48860812,female,8,51,black\\r\\n40000,59.97166707,female,18,35,other\\r\\n24000,68.26500169,male,18,36,white\\r\\n22000,72.73850424,male,12,24,black\\r\\n20000,71.86160035,male,8,36,white\\r\\n20112,63.75192555,female,12,38,white\\r\\n12000,67.34015376,male,13,67,white\\r\\n41000,67.24024956,female,13,40,white\\r\\n13000,71.46243117,male,9,50,black\\r\\n60000,72.73708475,male,16,31,white\\r\\n24000,70.28583466,male,16,25,white\\r\\n38000,70.0634253,male,16,36,white\\r\\n3000,71.1316877,female,14,27,white\\r\\n13000,65.96479942,female,12,30,white\\r\\n5000,74.80272686,male,12,21,white\\r\\n20000,60.2632445,female,14,37,white\\r\\n22000,72.45994044,male,12,28,white\\r\\n28000,74.7883401,male,9,55,black\\r\\n22000,59.80481763,female,12,41,white\\r\\n30000,73.43138116,male,12,44,black\\r\\n30000,64.59752321,female,12,32,black\\r\\n30000,67.11169779,male,16,31,white\\r\\n32000,61.05399799,female,12,69,white\\r\\n26000,69.28213398,female,17,43,white\\r\\n22000,64.41598486,female,14,34,white\\r\\n25000,70.34137906,male,12,33,white\\r\\n11000,67.63296349,female,10,24,white\\r\\n13000,62.18865142,female,12,53,white\\r\\n10000,63.78784831,female,15,42,white\\r\\n12000,67.58145525,female,12,45,white\\r\\n7000,63.51530736,female,11,64,white\\r\\n57000,72.64023981,male,14,37,white\\r\\n36000,72.82462226,male,16,37,white\\r\\n29000,69.40743355,male,14,29,hispanic\\r\\n8000,68.29109713,female,13,19,white\\r\\n3000,70.64524331,male,11,18,black\\r\\n20000,66.13450296,female,16,41,white\\r\\n33000,66.37325909,male,12,57,white\\r\\n15000,68.30015174,female,12,68,hispanic\\r\\n16000,70.29627664,male,12,33,white\\r\\n5000,61.82133567,female,12,78,white\\r\\n8000,65.75499999,female,14,43,white\\r\\n32000,63.02599124,female,16,34,black\\r\\n14500,74.5177944,male,12,24,white\\r\\n13000,66.59653847,female,12,29,white\\r\\n7000,62.63597647,female,9,25,white\\r\\n50000,64.7152633,female,18,65,black\\r\\n12000,69.20171718,female,12,35,black\\r\\n19000,71.47207954,male,14,61,white\\r\\n9000,61.90177914,female,12,55,white\\r\\n20000,64.74550731,female,12,35,black\\r\\n55000,71.71051989,male,18,35,hispanic\\r\\n10000,64.90903164,female,12,40,white\\r\\n13000,63.15414848,female,12,19,white\\r\\n20000,63.9767702,female,13,31,white\\r\\n30000,71.58898688,male,12,26,white\\r\\n12000,63.59625609,female,12,34,white\\r\\n26000,70.06810197,female,13,33,white\\r\\n12500,64.97474649,female,12,27,white\\r\\n8000,64.31370646,female,12,29,white\\r\\n15000,64.20907587,female,16,32,hispanic\\r\\n65000,66.97400253,male,14,25,white\\r\\n25000,73.18381262,male,10,21,white\\r\\n8000,72.53886616,male,14,21,hispanic\\r\\n15000,64.50500123,male,14,21,other\\r\\n12000,63.93105347,female,16,40,white\\r\\n35000,67.08204054,female,13,37,black\\r\\n40000,66.61123427,male,16,31,white\\r\\n29000,73.89561864,male,12,22,white\\r\\n15000,63.44260609,female,13,31,white\\r\\n20000,73.68861017,male,12,36,white\\r\\n3000,73.91112601,male,6,62,black\\r\\n1000,63.08713388,female,16,19,black\\r\\n8000,62.03632573,female,11,23,black\\r\\n5000,62.45248348,female,12,18,white\\r\\n25000,67.03789686,female,16,27,white\\r\\n20000,68.5933096,male,12,57,white\\r\\n30000,72.67425324,male,12,34,white\\r\\n12000,62.87129072,female,12,35,white\\r\\n10000,67.2233493,female,14,32,white\\r\\n16000,69.39067215,male,12,19,white\\r\\n45000,71.41330153,male,12,29,white\\r\\n40000,72.08595713,male,14,54,white\\r\\n25000,70.21479284,male,14,81,white\\r\\n19000,64.30326126,female,14,52,white\\r\\n17600,64.13060127,female,16,30,white\\r\\n7000,67.91111915,male,12,67,white\\r\\n30000,74.3458905,male,12,32,white\\r\\n18000,61.8189569,female,11,47,white\\r\\n25000,65.12869438,female,16,47,white\\r\\n6000,59.96125293,female,5,62,white\\r\\n70000,69.38679157,male,18,42,white\\r\\n15000,60.7515004,female,16,34,other\\r\\n25000,64.93232833,female,17,33,white\\r\\n35000,66.2033999,female,16,28,white\\r\\n18000,69.91582674,male,16,24,white\\r\\n28000,71.56571053,male,15,30,black\\r\\n15000,63.90538101,female,11,21,hispanic\\r\\n22000,71.33306113,male,14,28,hispanic\\r\\n35000,73.3903852,male,12,30,white\\r\\n18000,64.03798392,female,15,46,black\\r\\n35000,67.84231027,male,14,37,white\\r\\n16400,64.25282195,female,12,21,black\\r\\n22000,65.64794502,male,16,37,black\\r\\n30000,66.54676917,female,16,58,white\\r\\n17000,64.12242415,female,12,27,hispanic\\r\\n25000,64.11059879,female,14,36,black\\r\\n10000,62.21865695,female,12,51,white\\r\\n40000,68.94601606,male,12,37,white\\r\\n12500,63.24088156,female,12,63,white\\r\\n35000,72.39141051,male,15,45,white\\r\\n105000,74.58005058,male,12,49,white\\r\\n1.00E+05,69.52920171,male,18,40,white\\r\\n21000,69.33475947,male,12,51,white\\r\\n10000,64.01762884,female,14,56,white\\r\\n33000,71.93661366,male,12,26,white\\r\\n26000,69.46231403,male,18,25,white\\r\\n60000,63.07906693,female,10,78,white\\r\\n18000,71.11434383,male,16,45,white\\r\\n15000,59.34177917,female,8,61,white\\r\\n5000,68.31486156,male,13,20,white\\r\\n60000,77.05128181,male,17,42,white\\r\\n12000,68.41967915,female,14,69,white\\r\\n28000,69.67200995,male,18,38,black\\r\\n42000,69.28192155,male,18,43,white\\r\\n2000,62.73898997,female,12,33,white\\r\\n20000,72.79469156,male,18,33,black\\r\\n28000,66.12674042,male,15,40,other\\r\\n10000,72.19214776,male,17,62,black\\r\\n31000,72.22431795,male,12,31,black\\r\\n17000,68.98432253,female,13,37,black\\r\\n16000,67.17655378,female,12,39,white\\r\\n35000,65.67095384,female,15,38,white\\r\\n3000,67.34624967,female,12,26,white\\r\\n16000,67.53277906,female,18,39,white\\r\\n35000,64.57748965,female,15,42,black\\r\\n27000,61.5843523,female,17,33,black\\r\\n25000,69.38511968,male,17,29,white\\r\\n40000,69.6098165,male,16,41,white\\r\\n45000,66.07182778,female,16,43,white\\r\\n14000,65.85618241,male,12,23,white\\r\\n25000,66.39505478,female,14,37,white\\r\\n40000,71.84415349,male,12,42,white\\r\\n34000,68.898932,male,12,35,white\\r\\n40000,65.7557775,male,12,34,white\\r\\n35000,69.4494558,male,14,28,white\\r\\n12000,60.15629834,female,12,51,hispanic\\r\\n30000,64.56873093,female,17,43,white\\r\\n23000,61.58791712,female,12,40,white\\r\\n2000,67.07978698,female,12,30,white\\r\\n20000,67.21213937,male,14,25,white\\r\\n10000,67.83994129,female,9,62,black\\r\\n60000,65.61768094,female,16,43,black\\r\\n12000,74.24347069,male,16,41,black\\r\\n25000,65.47813016,female,18,61,white\\r\\n22000,62.88988361,female,14,73,black\\r\\n8000,68.10779016,male,17,25,white\\r\\n2000,66.39805636,female,16,21,white\\r\\n18600,65.49677824,female,16,26,white\\r\\n20000,61.54579592,female,14,20,white\\r\\n1.00E+05,72.62915924,male,18,37,white\\r\\n50000,61.89057924,female,15,40,white\\r\\n27000,69.81381477,male,12,42,white\\r\\n1000,58.27594231,female,12,58,black\\r\\n18000,68.37146948,male,12,20,white\\r\\n17000,67.35070218,female,14,23,white\\r\\n10000,63.83751164,female,12,74,white\\r\\n14000,70.3615257,male,14,35,white\\r\\n7200,72.495875,male,14,66,white\\r\\n33000,63.19195635,female,17,39,white\\r\\n23000,66.26428261,male,12,34,white\\r\\n10000,64.88321213,female,12,41,white\\r\\n22000,60.58631015,male,12,24,white\\r\\n13000,60.81703939,female,12,19,hispanic\\r\\n33000,67.20152906,female,12,31,white\\r\\n36000,73.1152229,male,12,36,white\\r\\n10000,70.52104142,female,14,32,black\\r\\n6000,64.49766114,female,12,60,white\\r\\n12000,66.64803022,female,12,43,white\\r\\n10000,62.07149451,female,11,47,white\\r\\n21000,67.40431454,female,12,45,white\\r\\n26000,68.69590364,male,12,32,white\\r\\n22000,66.06554686,female,12,50,black\\r\\n23000,66.18482221,female,15,54,black\\r\\n20000,66.44448989,male,15,24,white\\r\\n10000,65.5093939,female,13,38,white\\r\\n15000,64.06471744,female,12,71,white\\r\\n7000,72.1181012,male,14,24,black\\r\\n15000,64.1390078,female,12,38,white\\r\\n26000,64.75169749,female,16,34,white\\r\\n10000,72.20326222,male,11,31,white\\r\\n3000,71.00608889,male,14,20,white\\r\\n27000,64.19494963,female,17,41,hispanic\\r\\n28000,63.65897829,female,17,25,white\\r\\n15000,66.86213471,female,12,27,white\\r\\n55000,75.18170345,male,18,30,white\\r\\n20000,65.86811152,female,17,26,hispanic\\r\\n8500,67.14264687,female,12,44,white\\r\\n30000,70.58245239,male,16,30,white\\r\\n20000,68.35425711,female,12,31,white\\r\\n22000,70.44055542,male,6,75,white\\r\\n25000,66.50503942,male,16,26,white\\r\\n3000,70.50765399,male,8,22,white\\r\\n16000,62.66823347,female,12,49,white\\r\\n10000,61.04436005,female,12,39,black\\r\\n15000,64.86502204,female,12,28,black\\r\\n28000,67.24574087,male,12,46,white\\r\\n31500,64.93866724,male,14,35,white\\r\\n95000,65.68956982,male,18,52,white\\r\\n38000,66.51239109,male,12,40,white\\r\\n30000,74.21723686,male,12,41,white\\r\\n35900,73.80273412,male,16,42,white\\r\\n12000,66.28296561,female,13,22,white\\r\\n10000,68.93079913,female,16,25,white\\r\\n45000,66.09704059,female,18,44,white\\r\\n40000,74.36389287,male,16,56,white\\r\\n21500,72.37948844,male,12,27,white\\r\\n14000,65.61603151,male,12,62,white\\r\\n38000,66.52628812,male,17,54,other\\r\\n1000,64.73345227,female,12,18,white\\r\\n14000,66.37034143,male,12,73,white\\r\\n15000,64.52285291,female,12,31,white\\r\\n24000,67.82326222,female,13,42,white\\r\\n4500,64.15133296,female,16,23,white\\r\\n18000,64.35311248,female,16,63,white\\r\\n14000,63.33756781,female,12,20,white\\r\\n10000,68.97626725,female,12,28,white\\r\\n9500,67.44008081,female,12,32,white\\r\\n11000,62.95530205,female,15,66,white\\r\\n17000,66.8560475,male,12,67,white\\r\\n6000,59.82543622,female,13,28,white\\r\\n2500,61.85860073,female,11,58,white\\r\\n40000,72.4413494,male,16,41,white\\r\\n25000,66.60468819,male,16,39,white\\r\\n28000,66.39670809,female,15,60,black\\r\\n33000,66.38941684,female,12,45,black\\r\\n4000,59.57194809,female,8,64,white\\r\\n4100,65.33566923,male,16,30,white\\r\\n25000,68.58467791,female,12,82,white\\r\\n32000,71.66115132,male,12,28,white\\r\\n13000,63.93732742,female,8,58,white\\r\\n8000,64.48913052,male,8,27,hispanic\\r\\n17000,64.24299939,female,12,38,white\\r\\n15000,66.79826643,female,12,77,white\\r\\n18000,65.99471334,male,13,32,white\\r\\n12000,73.07390321,male,12,24,white\\r\\n7000,73.82733129,male,7,49,white\\r\\n1200,64.83539451,female,14,22,white\\r\\n14000,63.11850535,male,12,21,white\\r\\n17000,63.43202724,female,12,40,white\\r\\n30000,66.34629464,male,12,42,white\\r\\n25000,69.91938065,male,12,53,white\\r\\n22000,65.86858264,female,12,33,hispanic\\r\\n15000,63.44294333,female,12,21,white\\r\\n27000,73.07806792,male,12,91,white\\r\\n20000,63.01704851,female,16,26,white\\r\\n9000,68.92439962,female,11,34,white\\r\\n17000,73.14868992,male,12,30,white\\r\\n1800,67.79395084,female,12,46,white\\r\\n18000,63.62625213,female,12,46,white\\r\\n25000,62.57749417,female,18,42,white\\r\\n20000,70.10581654,male,16,41,black\\r\\n75000,64.31608782,female,15,40,white\\r\\n3500,65.75934616,female,12,40,white\\r\\n36000,60.85752948,female,12,71,white\\r\\n30000,72.05727335,male,12,25,white\\r\\n25000,64.55148867,female,13,78,white\\r\\n1000,64.24738829,female,14,26,white\\r\\n60000,68.02361532,male,12,66,white\\r\\n35000,73.8918808,male,13,76,white\\r\\n9000,66.63394451,male,13,33,white\\r\\n35000,69.86526583,male,9,84,white\\r\\n11000,66.11650956,female,10,58,white\\r\\n12000,71.34630163,male,12,52,white\\r\\n30000,70.88307291,male,12,43,white\\r\\n19000,71.47186022,male,7,57,black\\r\\n9000,74.41811513,male,9,61,white\\r\\n30000,74.69528974,male,16,29,white\\r\\n9000,71.92581003,male,12,32,white\\r\\n15000,65.8553887,female,16,30,hispanic\\r\\n8000,64.52971896,female,12,31,black\\r\\n10000,66.49254619,female,10,75,white\\r\\n33000,71.70659219,male,12,37,white\\r\\n12000,60.09432292,female,12,28,hispanic\\r\\n18000,63.97286512,female,15,37,white\\r\\n30000,64.81971324,female,13,61,white\\r\\n12500,64.71229519,female,12,32,white\\r\\n10000,61.97447489,female,12,36,black\\r\\n8500,68.29414172,male,13,71,black\\r\\n21000,73.4868732,male,14,46,black\\r\\n21000,63.93751871,female,12,77,white\\r\\n21000,68.21020169,female,17,25,white\\r\\n5000,66.10163687,female,12,52,white\\r\\n22000,71.22581068,female,17,36,white\\r\\n30000,72.70184984,male,14,26,white\\r\\n123000,61.4290826,female,14,58,white\\r\\n8000,63.2471362,female,9,45,white\\r\\n2000,64.36809799,female,9,25,white\\r\\n7600,67.04140799,female,6,62,white\\r\\n10000,63.1525118,female,12,25,white\\r\\n35000,72.70740958,male,12,48,white\\r\\n15000,66.07586724,female,16,57,white\\r\\n4000,69.75552589,female,12,22,white\\r\\n16000,67.89104991,male,8,24,white\\r\\n200,66.86190898,female,12,33,white\\r\\n23000,74.10504736,male,16,25,white\\r\\n16000,63.60243927,female,16,27,white\\r\\n6000,60.20714587,female,12,49,white\\r\\n600,59.45892731,female,9,46,white\\r\\n28000,74.59876803,male,16,34,other\\r\\n4000,65.95294233,female,8,66,white\\r\\n15000,64.16955276,male,12,35,white\\r\\n15000,71.26409824,male,12,25,white\\r\\n25000,63.12567884,female,12,30,white\\r\\n15000,67.16629468,female,12,26,white\\r\\n40000,68.58090437,male,11,44,white\\r\\n30000,70.34383344,male,11,51,white\\r\\n5000,66.38894105,female,12,29,white\\r\\n35000,73.58718222,male,14,34,white\\r\\n16000,64.78881687,female,14,31,white\\r\\n28000,63.53548723,female,16,40,white\\r\\n20000,67.63721605,male,15,42,white\\r\\n21000,65.60212218,male,13,30,white\\r\\n17000,68.83579629,male,12,42,black\\r\\n24000,59.93189502,female,13,50,white\\r\\n25000,60.79660297,female,12,75,white\\r\\n40000,75.03413912,male,12,46,white\\r\\n8000,63.93495649,female,13,19,white\\r\\n19000,62.74961652,female,15,45,hispanic\\r\\n45000,67.22272911,female,16,69,white\\r\\n5000,64.10165869,male,17,33,black\\r\\n24000,63.43395628,female,14,40,black\\r\\n5000,67.07146923,female,14,19,white\\r\\n33000,65.87795189,male,16,34,white\\r\\n24000,65.22229373,female,14,24,white\\r\\n6000,62.64250975,female,13,23,white\\r\\n90000,66.43622616,female,14,55,white\\r\\n57000,64.09800169,female,18,47,white\\r\\n13800,70.74232355,male,14,54,white\\r\\n30000,71.24931049,male,18,37,white\\r\\n15000,71.70960994,male,12,40,white\\r\\n15000,59.66460151,female,14,75,white\\r\\n31000,69.78665137,male,12,29,white\\r\\n33000,73.9972452,male,17,40,white\\r\\n30000,67.55916017,male,18,61,white\\r\\n12000,74.3389887,male,12,38,white\\r\\n5000,75.00721317,male,12,22,white\\r\\n21000,68.16158174,male,12,59,white\\r\\n28000,62.58654811,female,18,46,white\\r\\n12000,72.038752,male,12,31,white\\r\\n19000,64.49413755,female,12,46,white\\r\\n6000,62.60841562,female,14,35,white\\r\\n5300,65.90542903,female,13,60,white\\r\\n15000,60.87601186,female,13,28,white\\r\\n17000,73.12188816,male,12,46,white\\r\\n4700,65.54227513,female,12,78,black\\r\\n9500,62.07427377,female,12,65,white\\r\\n1700,64.53591151,male,12,22,white\\r\\n5400,62.35349843,female,12,31,white\\r\\n10000,68.11736218,male,12,31,white\\r\\n25000,58.88041785,female,15,83,white\\r\\n35000,68.42125853,female,16,43,white\\r\\n28000,62.78643738,female,18,44,white\\r\\n42000,62.76001463,female,12,40,white\\r\\n45000,67.82704169,male,12,58,white\\r\\n55000,64.15769903,female,12,51,white\\r\\n36000,70.10556287,female,16,30,white\\r\\n25000,70.27166758,male,10,31,white\\r\\n19000,72.18898554,male,12,28,white\\r\\n38000,68.90136464,male,11,50,white\\r\\n15000,63.07259176,female,14,37,white\\r\\n4500,57.97290083,female,5,85,white\\r\\n96000,63.1198862,female,14,27,white\\r\\n11000,62.70555523,female,12,47,white\\r\\n9000,72.5743074,male,15,34,white\\r\\n5000,69.41362739,female,14,24,white\\r\\n50000,69.82503798,male,12,51,white\\r\\n6000,64.89705071,female,13,44,white\\r\\n1.00E+05,71.51571964,male,13,22,white\\r\\n16500,61.91615744,female,13,46,white\\r\\n32000,71.60781911,male,14,40,white\\r\\n30000,72.75964386,male,18,41,white\\r\\n10000,67.91167374,female,16,42,white\\r\\n15000,66.13226316,female,12,19,white\\r\\n6500,59.9059818,female,8,83,white\\r\\n26000,60.30742627,female,18,63,white\\r\\n17000,64.87639557,female,12,59,white\\r\\n22000,62.80542447,female,18,59,other\\r\\n10000,63.9352294,female,12,41,white\\r\\n50000,70.50474596,male,14,58,white\\r\\n20000,67.17893189,male,12,35,white\\r\\n400,62.90286876,female,12,31,white\\r\\n16000,65.08064938,female,14,59,white\\r\\n10000,66.42655773,female,12,66,white\\r\\n14000,62.94000921,female,13,58,white\\r\\n5000,65.19971929,female,15,20,white\\r\\n40000,73.78850542,male,16,34,white\\r\\n5000,67.1885961,female,13,55,white\\r\\n25000,67.54550789,female,17,47,white\\r\\n12000,65.25626089,female,12,51,white\\r\\n58000,63.70217973,female,16,34,white\\r\\n18000,67.83460286,female,16,26,white\\r\\n1000,65.48821445,male,12,18,white\\r\\n21000,71.7643816,male,17,47,white\\r\\n11000,65.69803518,male,12,62,black\\r\\n13000,63.66103394,female,12,36,white\\r\\n20000,59.63484325,female,16,88,other\\r\\n25000,71.69116021,male,12,35,black\\r\\n600,63.51512565,female,12,43,white\\r\\n25000,67.28185383,male,14,26,black\\r\\n36000,67.84665714,male,12,28,white\\r\\n15000,64.05578566,female,13,33,other\\r\\n3500,65.62335196,female,12,51,white\\r\\n19005,64.61287335,female,16,34,white\\r\\n62000,70.36269642,male,14,54,white\\r\\n25000,70.13581577,male,12,42,white\\r\\n50000,66.03881676,male,12,52,white\\r\\n40000,65.66768434,male,12,61,white\\r\\n26000,73.68208046,male,18,26,white\\r\\n22000,62.23429931,female,12,48,white\\r\\n21000,65.58046967,female,17,39,white\\r\\n6108,62.34290796,female,12,65,white\\r\\n30000,64.71664797,female,18,64,black\\r\\n6000,63.41644062,female,12,78,white\\r\\n27000,70.93384204,male,16,29,white\\r\\n4000,65.78462934,female,16,42,white\\r\\n4416,61.52156347,female,6,72,other\\r\\n5000,63.13920376,female,10,87,white\\r\\n45000,66.56994118,male,18,40,white\\r\\n18000,60.76265085,female,14,45,white\\r\\n6000,66.4024123,female,15,22,white\\r\\n14000,72.40008758,male,12,24,white\\r\\n35000,69.32628616,female,14,24,white\\r\\n15000,64.14804833,female,16,29,white\\r\\n12000,62.50257785,female,12,29,black\\r\\n1000,59.6361776,female,12,47,white\\r\\n32000,69.84609059,male,15,33,black\\r\\n1500,72.79965179,male,12,19,white\\r\\n3000,64.87412265,female,16,23,black\\r\\n35000,64.27538942,female,12,42,white\\r\\n70000,71.6051603,male,15,48,white\\r\\n21000,67.13204369,female,16,28,white\\r\\n50000,69.10554371,male,11,18,white\\r\\n15000,70.90078558,male,9,21,white\\r\\n9000,65.99266421,female,8,35,black\\r\\n10000,63.21551076,female,14,25,black\\r\\n30000,71.37289408,male,12,47,white\\r\\n16000,72.07875591,male,14,21,white\\r\\n20000,67.93926673,male,12,51,white\\r\\n1.00E+05,71.94711213,male,17,54,white\\r\\n10000,65.66242218,female,12,43,white\\r\\n35000,66.47077401,male,14,63,white\\r\\n7000,65.42764126,female,16,31,white\\r\\n8000,71.35957916,male,14,27,black\\r\\n11000,73.69928112,male,10,50,white\\r\\n25000,70.20954556,male,9,47,white\\r\\n25000,64.33590164,female,14,45,white\\r\\n30000,69.23576673,male,14,48,white\\r\\n48000,63.16802633,female,18,34,white\\r\\n17000,67.97178429,female,12,46,white\\r\\n26000,72.63629506,male,16,24,white\\r\\n10000,62.64563933,female,12,61,white\\r\\n60000,71.15193853,male,18,53,white\\r\\n22000,64.94457581,female,18,29,white\\r\\n6200,64.22718792,female,13,83,white\\r\\n24000,64.74689624,female,16,32,white\\r\\n20000,70.69914276,male,14,40,white\\r\\n7000,69.61523204,female,14,30,white\\r\\n30000,67.70269807,female,16,48,black\\r\\n23000,66.09329125,female,18,28,white\\r\\n20000,64.3995665,female,12,40,white\\r\\n3000,65.88018538,female,16,29,white\\r\\n30000,69.73542756,male,16,41,white\\r\\n12000,63.79240829,female,14,23,white\\r\\n40000,70.60792463,male,12,38,white\\r\\n15000,63.83649949,female,14,23,white\\r\\n36000,63.41337603,female,16,45,white\\r\\n10000,66.23722097,female,12,53,white\\r\\n13000,68.38070624,female,14,48,white\\r\\n10000,61.52425425,female,12,27,black\\r\\n30000,68.53243422,male,12,37,black\\r\\n23000,64.46455829,male,13,32,white\\r\\n20000,69.60981205,male,17,68,white\\r\\n19000,65.37075393,female,13,82,white\\r\\n20000,60.7510785,male,11,66,black\\r\\n28000,63.99365606,male,14,63,black\\r\\n13000,64.58116374,female,10,80,white\\r\\n12000,64.13895229,male,12,75,white\\r\\n20000,69.3012936,male,11,23,white\\r\\n25000,73.63658129,male,12,30,white\\r\\n25000,68.19243049,female,13,52,white\\r\\n18000,66.59645932,female,16,40,white\\r\\n6000,61.80107459,female,10,68,white\\r\\n16000,72.24264419,male,13,23,white\\r\\n45000,73.46034146,male,16,38,white\\r\\n25000,69.87075788,male,14,69,white\\r\\n12000,63.51996605,female,14,38,white\\r\\n2000,68.21243351,female,12,18,white\\r\\n10000,62.91206546,female,12,18,white\\r\\n14000,70.72025687,male,12,36,white\\r\\n15000,63.74181243,female,12,31,white\\r\\n10000,60.36110787,female,12,39,white\\r\\n1200,65.76631737,female,4,64,white\\r\\n15000,58.92336405,female,14,62,white\\r\\n10000,63.1004373,female,13,64,white\\r\\n2000,66.20176622,male,12,18,white\\r\\n4000,65.44585027,female,13,33,white\\r\\n10000,64.39270829,female,14,32,white\\r\\n1500,65.77418028,female,12,23,white\\r\\n18000,65.50058268,male,17,26,hispanic\\r\\n4000,72.89740447,male,15,24,white\\r\\n28000,72.44737052,male,16,26,white\\r\\n10000,74.32627922,female,14,22,white\\r\\n3000,64.6559894,female,16,22,white\\r\\n12000,70.61206983,male,12,21,white\\r\\n19000,68.07567655,female,13,45,white\\r\\n36000,70.49066375,male,16,39,white\\r\\n7000,64.21713145,female,16,59,white\\r\\n35000,58.72468382,female,11,34,white\\r\\n40000,67.90288028,male,18,43,white\\r\\n15000,67.93033699,male,14,25,white\\r\\n8000,68.82436522,female,13,43,white\\r\\n25000,69.43574369,female,14,55,white\\r\\n28000,75.26532386,male,18,38,white\\r\\n22000,69.13342033,male,14,35,white\\r\\n21500,72.04505882,male,13,24,black\\r\\n3000,68.33676267,female,12,23,white\\r\\n23000,71.53957462,male,13,28,white\\r\\n18000,72.3549481,male,12,73,white\\r\\n20000,67.29745543,male,16,71,white\\r\\n16000,63.21394254,female,12,46,hispanic\\r\\n15000,69.21807874,male,12,26,white\\r\\n53000,62.87643981,female,17,32,hispanic\\r\\n26000,72.30502775,male,12,27,white\\r\\n4000,65.43678299,female,12,28,other\\r\\n10000,72.68582646,male,16,59,white\\r\\n43000,69.12368046,male,12,51,white\\r\\n17000,68.80012333,male,14,33,other\\r\\n4000,61.49718641,female,12,38,hispanic\\r\\n50000,73.19213414,male,15,48,white\\r\\n55000,66.86295997,female,18,51,white\\r\\n28000,63.07393481,female,16,41,white\\r\\n5000,62.15913715,female,14,48,white\\r\\n18000,65.39748896,female,13,49,white\\r\\n21000,71.56490138,male,15,62,hispanic\\r\\n12000,67.19160234,female,12,33,white\\r\\n33000,65.4967554,female,16,62,hispanic\\r\\n50000,72.42629703,male,13,64,hispanic\\r\\n6000,65.38834306,female,9,74,hispanic\\r\\n16000,63.81681946,female,14,59,white\\r\\n35000,68.2084199,male,12,50,white\\r\\n25000,68.2921116,female,12,43,white\\r\\n20000,76.38235892,male,14,26,white\\r\\n18000,62.61693468,female,12,36,white\\r\\n34000,74.3972182,male,14,78,white\\r\\n25000,68.47598251,male,16,25,white\\r\\n20000,72.08175949,male,17,77,white\\r\\n33000,67.56833714,male,12,69,white\\r\\n4000,64.54942883,female,12,73,white\\r\\n20000,60.10433812,female,8,77,white\\r\\n40000,72.36484842,male,16,33,white\\r\\n14000,63.72688755,female,14,40,white\\r\\n12000,68.01106719,female,12,48,white\\r\\n25000,61.14690149,female,12,31,white\\r\\n70000,67.08764593,female,10,72,white\\r\\n38000,67.20367768,female,17,55,white\\r\\n14000,63.04841667,female,12,28,white\\r\\n15000,60.24539708,female,13,37,white\\r\\n17000,73.56449998,male,16,31,white\\r\\n60000,68.8187892,male,14,66,white\\r\\n15000,66.74729962,female,15,69,white\\r\\n25000,64.91763443,male,16,86,white\\r\\n18000,62.20893278,male,12,63,hispanic\\r\\n70000,71.82154158,male,18,47,white\\r\\n30000,64.57803294,female,18,59,white\\r\\n8000,62.3622856,female,12,51,white\\r\\n30000,70.92462479,male,16,34,white\\r\\n27000,71.35941083,male,14,32,white\\r\\n47000,70.07702359,male,18,43,white\\r\\n12000,66.55482376,male,12,22,hispanic\\r\\n24000,61.77155792,female,17,34,white\\r\\n13000,62.89387013,female,12,35,hispanic\\r\\n80000,60.81634956,female,14,37,white\\r\\n5000,71.81257574,male,12,18,white\\r\\n25000,62.51971848,female,10,60,white\\r\\n28000,65.83384499,male,12,44,white\\r\\n8000,64.12672119,female,15,20,white\\r\\n10000,66.43377774,female,13,51,white\\r\\n9000,68.26159186,female,14,41,white\\r\\n20000,59.55762356,female,12,37,white\\r\\n12000,65.18920345,male,12,71,white\\r\\n15000,64.76620056,female,14,66,white\\r\\n20000,61.33604968,female,14,36,white\\r\\n28000,63.90803001,female,14,36,white\\r\\n265,65.98171716,female,15,21,white\\r\\n35000,69.35290808,male,14,74,white\\r\\n26000,65.99868824,female,14,32,hispanic\\r\\n27000,66.64219578,female,17,34,white\\r\\n14000,68.3784564,female,12,30,white\\r\\n32000,65.51631812,male,16,33,white\\r\\n10000,69.09659387,female,14,32,white\\r\\n7000,69.32438184,male,16,30,white\\r\\n28000,71.01264519,male,17,46,white\\r\\n60000,73.87645668,male,13,54,white\\r\\n12000,68.5399655,male,4,62,white\\r\\n15000,75.15666002,female,13,75,white\\r\\n15000,71.85208292,male,11,63,white\\r\\n26000,64.38788805,female,15,32,white\\r\\n26000,71.68614656,male,16,25,hispanic\\r\\n18720,62.75756867,female,10,36,black\\r\\n12000,63.80685747,female,12,73,black\\r\\n80000,70.4283587,male,17,39,white\\r\\n48000,66.41483628,female,13,39,white\\r\\n18000,62.4987126,male,16,27,other\\r\\n85000,69.73083269,male,15,65,white\\r\\n35000,63.6405911,female,12,47,black\\r\\n5000,68.70302328,male,16,22,white\\r\\n9000,64.18300504,female,13,22,hispanic\\r\\n30000,67.13533046,female,16,27,white\\r\\n80000,71.67133336,male,14,58,white\\r\\n35000,65.06635863,female,16,32,white\\r\\n12000,63.38768808,female,14,34,white\\r\\n2.00E+05,69.66276413,male,18,34,white\\r\\n4000,64.2087081,female,16,45,white\\r\\n2000,68.04927626,male,12,18,white\\r\\n24000,65.95545664,female,18,69,white\\r\\n2000,66.3163455,male,15,23,hispanic\\r\\n15000,69.68933276,male,17,30,white\\r\\n6000,62.25103435,female,12,65,white\\r\\n5000,65.91611322,male,12,75,white\\r\\n1500,66.49010548,female,12,21,hispanic\\r\\n28000,63.54175663,female,18,48,white\\r\\n9000,69.91640864,female,12,35,white\\r\\n60000,74.14909916,male,14,52,white\\r\\n1200,65.50047831,male,12,19,white\\r\\n1400,61.64302291,female,3,64,hispanic\\r\\n7000,66.43334281,female,13,43,white\\r\\n21000,62.27001571,female,12,31,white\\r\\n44000,69.05177852,male,12,58,white\\r\\n29000,67.69979999,male,16,36,black\\r\\n3000,71.82784908,male,14,18,hispanic\\r\\n12000,64.32170257,male,13,22,black\\r\\n20000,72.47294426,male,12,28,hispanic\\r\\n1200,61.72064359,female,5,73,black\\r\\n37000,73.76300888,male,16,25,white\\r\\n8000,66.28668867,male,10,60,other\\r\\n35000,67.89219734,male,16,30,hispanic\\r\\n25000,61.94550805,male,14,37,other\\r\\n18000,71.1757075,female,10,29,white\\r\\n30000,62.52137326,female,16,36,black\\r\\n20000,69.24438206,male,18,69,white\\r\\n12000,71.20132672,male,6,40,hispanic\\r\\n10000,65.93158199,female,12,68,white\\r\\n18000,71.89919003,male,14,48,white\\r\\n20000,72.11578227,male,12,26,black\\r\\n31000,67.54589484,female,16,43,white\\r\\n6000,63.50633504,male,10,36,hispanic\\r\\n12000,69.84663837,male,13,40,white\\r\\n13000,66.3597141,female,16,33,white\\r\\n26000,66.51458172,female,17,34,white\\r\\n15000,68.06512502,female,11,31,black\\r\\n30000,63.77364984,female,17,28,white\\r\\n2000,64.70482859,female,14,41,white\\r\\n5000,69.95972129,male,13,22,other\\r\\n53000,71.26887988,female,14,26,white\\r\\n2000,61.8733625,female,13,18,white\\r\\n25000,70.85695431,male,17,29,white\\r\\n5000,74.30637389,male,12,18,white\\r\\n21000,64.20480524,female,13,27,white\\r\\n17000,69.74731735,female,15,27,white\\r\\n12000,64.0015859,female,13,37,white\\r\\n42000,69.6259126,male,14,44,hispanic\\r\\n21000,73.66522424,male,12,33,white\\r\\n6000,62.72193884,female,12,65,hispanic\\r\\n25000,73.55018907,male,14,24,white\\r\\n3000,66.08877346,female,14,19,white\\r\\n3600,65.39047785,female,15,67,white\\r\\n4000,70.9189045,male,12,19,white\\r\\n20000,68.52424985,male,14,58,white\\r\\n52000,60.29879122,male,15,50,white\\r\\n60000,64.01087123,female,12,43,white\\r\\n15000,63.81616972,female,13,41,white\\r\\n90000,71.89981083,male,16,50,white\\r\\n26000,61.41213491,female,14,65,white\\r\\n2000,68.69143395,male,12,21,white\\r\\n16000,67.11030016,female,12,61,white\\r\\n24000,64.56857588,female,11,27,hispanic\\r\\n15000,68.26173676,male,16,28,hispanic\\r\\n42000,74.42452398,male,17,43,white\\r\\n10000,65.19332902,female,12,43,white\\r\\n17000,70.70129909,male,13,36,hispanic\\r\\n30000,64.43979969,female,14,34,white\\r\\n32000,68.86162531,female,17,37,white\\r\\n36000,64.38677808,female,17,34,hispanic\\r\\n10000,71.90195809,male,13,20,hispanic\\r\\n20000,62.55288525,female,15,29,white\\r\\n24000,64.88606794,female,12,29,white\\r\\n17000,71.65621121,male,12,32,white\\r\\n23000,65.15171275,female,14,48,white\\r\\n25000,64.28044952,female,12,33,white\\r\\n50000,70.88340739,male,12,50,white\\r\\n20000,61.76661529,female,12,30,white\\r\\n30000,66.27003305,female,16,33,white\\r\\n7000,64.07142134,female,10,39,white\\r\\n7000,66.80598608,male,10,78,white\\r\\n30000,68.07656199,male,11,32,white\\r\\n3000,65.75189097,female,12,24,white\\r\\n20000,66.01493875,female,14,43,white\\r\\n40000,65.76546694,female,16,59,white\\r\\n10000,66.74771387,male,12,77,white\\r\\n16000,66.14088681,male,12,37,white\\r\\n11000,63.3003661,female,9,51,white\\r\\n16000,67.61928205,female,13,43,white\\r\\n18000,70.42987008,male,12,27,white\\r\\n12000,62.62478214,female,16,26,white\\r\\n4000,69.9880636,male,14,21,black\\r\\n60000,71.81932456,male,12,45,white\\r\\n43000,74.77191654,male,17,40,white\\r\\n31000,61.96559801,female,14,39,white\\r\\n50000,68.21042316,female,17,39,white\\r\\n27000,68.04934586,female,14,29,white\\r\\n30000,70.49075496,male,17,56,white\\r\\n12000,73.38320556,male,13,21,black\\r\\n20000,62.13713215,female,17,30,white\\r\\n15000,59.77628987,female,12,76,black\\r\\n25000,64.15964764,female,16,37,other\\r\\n2000,60.19709941,female,6,67,hispanic\\r\\n3000,73.26521355,male,15,20,hispanic\\r\\n110000,66.312035,female,18,48,other\\r\\n55000,68.99588958,male,18,71,white\\r\\n58000,70.34336983,male,18,53,white\\r\\n10000,70.0562757,female,16,36,white\\r\\n19000,72.16573306,male,12,29,white\\r\\n15000,61.13579953,female,18,82,white\\r\\n8000,63.66416353,female,12,33,white\\r\\n60000,71.9258358,male,12,50,white\\r\\n6000,68.36848621,male,12,27,white'}"
            ]
          },
          "metadata": {
            "tags": []
          },
          "execution_count": 72
        }
      ]
    },
    {
      "cell_type": "code",
      "metadata": {
        "id": "m8P5mbfFFkXd",
        "colab": {
          "base_uri": "https://localhost:8080/",
          "height": 153
        },
        "outputId": "19cb0344-d8d9-4d89-9bb6-dee87e7faa10"
      },
      "source": [
        "salaries = pd.read_csv('salaries.csv') \n",
        "\n",
        "print(salaries.shape)\n",
        "print(salaries.count())\n",
        "\n"
      ],
      "execution_count": null,
      "outputs": [
        {
          "output_type": "stream",
          "text": [
            "(1192, 6)\n",
            "earn      1192\n",
            "height    1192\n",
            "sex       1192\n",
            "ed        1192\n",
            "age       1192\n",
            "race      1192\n",
            "dtype: int64\n"
          ],
          "name": "stdout"
        }
      ]
    },
    {
      "cell_type": "markdown",
      "metadata": {
        "id": "2UxKsg33RXtq"
      },
      "source": [
        "**Question 1.1**\n",
        "\n",
        "1.1 Your turn! (2 points)\n",
        "What is the meaning of each of the six variables/features stored along the columns of the dataset?\n",
        "\n",
        "Hint: Your solution should have a code cell (2-3 lines of Python) + a text cell (bullet list, explaining the meaning of each variable to the best of your knowledge)"
      ]
    },
    {
      "cell_type": "code",
      "metadata": {
        "id": "-A_mir8ARWlL",
        "colab": {
          "base_uri": "https://localhost:8080/",
          "height": 204
        },
        "outputId": "f73562f9-a05a-4901-a85b-d09edd8bd225"
      },
      "source": [
        "#Answer 1.1\n",
        "salaries.head()\n",
        "\n",
        "\n"
      ],
      "execution_count": null,
      "outputs": [
        {
          "output_type": "execute_result",
          "data": {
            "text/html": [
              "<div>\n",
              "<style scoped>\n",
              "    .dataframe tbody tr th:only-of-type {\n",
              "        vertical-align: middle;\n",
              "    }\n",
              "\n",
              "    .dataframe tbody tr th {\n",
              "        vertical-align: top;\n",
              "    }\n",
              "\n",
              "    .dataframe thead th {\n",
              "        text-align: right;\n",
              "    }\n",
              "</style>\n",
              "<table border=\"1\" class=\"dataframe\">\n",
              "  <thead>\n",
              "    <tr style=\"text-align: right;\">\n",
              "      <th></th>\n",
              "      <th>earn</th>\n",
              "      <th>height</th>\n",
              "      <th>sex</th>\n",
              "      <th>ed</th>\n",
              "      <th>age</th>\n",
              "      <th>race</th>\n",
              "    </tr>\n",
              "  </thead>\n",
              "  <tbody>\n",
              "    <tr>\n",
              "      <th>0</th>\n",
              "      <td>50000.0</td>\n",
              "      <td>74.424439</td>\n",
              "      <td>male</td>\n",
              "      <td>16</td>\n",
              "      <td>45</td>\n",
              "      <td>white</td>\n",
              "    </tr>\n",
              "    <tr>\n",
              "      <th>1</th>\n",
              "      <td>60000.0</td>\n",
              "      <td>65.537543</td>\n",
              "      <td>female</td>\n",
              "      <td>16</td>\n",
              "      <td>58</td>\n",
              "      <td>white</td>\n",
              "    </tr>\n",
              "    <tr>\n",
              "      <th>2</th>\n",
              "      <td>30000.0</td>\n",
              "      <td>63.629198</td>\n",
              "      <td>female</td>\n",
              "      <td>16</td>\n",
              "      <td>29</td>\n",
              "      <td>white</td>\n",
              "    </tr>\n",
              "    <tr>\n",
              "      <th>3</th>\n",
              "      <td>50000.0</td>\n",
              "      <td>63.108562</td>\n",
              "      <td>female</td>\n",
              "      <td>16</td>\n",
              "      <td>91</td>\n",
              "      <td>other</td>\n",
              "    </tr>\n",
              "    <tr>\n",
              "      <th>4</th>\n",
              "      <td>51000.0</td>\n",
              "      <td>63.402484</td>\n",
              "      <td>female</td>\n",
              "      <td>17</td>\n",
              "      <td>39</td>\n",
              "      <td>white</td>\n",
              "    </tr>\n",
              "  </tbody>\n",
              "</table>\n",
              "</div>"
            ],
            "text/plain": [
              "      earn     height     sex  ed  age   race\n",
              "0  50000.0  74.424439    male  16   45  white\n",
              "1  60000.0  65.537543  female  16   58  white\n",
              "2  30000.0  63.629198  female  16   29  white\n",
              "3  50000.0  63.108562  female  16   91  other\n",
              "4  51000.0  63.402484  female  17   39  white"
            ]
          },
          "metadata": {
            "tags": []
          },
          "execution_count": 74
        }
      ]
    },
    {
      "cell_type": "code",
      "metadata": {
        "id": "QZdPCQaSS_fu",
        "colab": {
          "base_uri": "https://localhost:8080/",
          "height": 390
        },
        "outputId": "e7ccadce-7a88-4531-a533-5e9de1acee10"
      },
      "source": [
        "salaries.describe(include='all')\n",
        "\n"
      ],
      "execution_count": null,
      "outputs": [
        {
          "output_type": "execute_result",
          "data": {
            "text/html": [
              "<div>\n",
              "<style scoped>\n",
              "    .dataframe tbody tr th:only-of-type {\n",
              "        vertical-align: middle;\n",
              "    }\n",
              "\n",
              "    .dataframe tbody tr th {\n",
              "        vertical-align: top;\n",
              "    }\n",
              "\n",
              "    .dataframe thead th {\n",
              "        text-align: right;\n",
              "    }\n",
              "</style>\n",
              "<table border=\"1\" class=\"dataframe\">\n",
              "  <thead>\n",
              "    <tr style=\"text-align: right;\">\n",
              "      <th></th>\n",
              "      <th>earn</th>\n",
              "      <th>height</th>\n",
              "      <th>sex</th>\n",
              "      <th>ed</th>\n",
              "      <th>age</th>\n",
              "      <th>race</th>\n",
              "    </tr>\n",
              "  </thead>\n",
              "  <tbody>\n",
              "    <tr>\n",
              "      <th>count</th>\n",
              "      <td>1192.000000</td>\n",
              "      <td>1192.000000</td>\n",
              "      <td>1192</td>\n",
              "      <td>1192.000000</td>\n",
              "      <td>1192.000000</td>\n",
              "      <td>1192</td>\n",
              "    </tr>\n",
              "    <tr>\n",
              "      <th>unique</th>\n",
              "      <td>NaN</td>\n",
              "      <td>NaN</td>\n",
              "      <td>2</td>\n",
              "      <td>NaN</td>\n",
              "      <td>NaN</td>\n",
              "      <td>4</td>\n",
              "    </tr>\n",
              "    <tr>\n",
              "      <th>top</th>\n",
              "      <td>NaN</td>\n",
              "      <td>NaN</td>\n",
              "      <td>female</td>\n",
              "      <td>NaN</td>\n",
              "      <td>NaN</td>\n",
              "      <td>white</td>\n",
              "    </tr>\n",
              "    <tr>\n",
              "      <th>freq</th>\n",
              "      <td>NaN</td>\n",
              "      <td>NaN</td>\n",
              "      <td>687</td>\n",
              "      <td>NaN</td>\n",
              "      <td>NaN</td>\n",
              "      <td>989</td>\n",
              "    </tr>\n",
              "    <tr>\n",
              "      <th>mean</th>\n",
              "      <td>23154.773490</td>\n",
              "      <td>66.915154</td>\n",
              "      <td>NaN</td>\n",
              "      <td>13.504195</td>\n",
              "      <td>41.378356</td>\n",
              "      <td>NaN</td>\n",
              "    </tr>\n",
              "    <tr>\n",
              "      <th>std</th>\n",
              "      <td>19472.296925</td>\n",
              "      <td>3.853968</td>\n",
              "      <td>NaN</td>\n",
              "      <td>2.420175</td>\n",
              "      <td>15.867428</td>\n",
              "      <td>NaN</td>\n",
              "    </tr>\n",
              "    <tr>\n",
              "      <th>min</th>\n",
              "      <td>200.000000</td>\n",
              "      <td>57.503219</td>\n",
              "      <td>NaN</td>\n",
              "      <td>3.000000</td>\n",
              "      <td>18.000000</td>\n",
              "      <td>NaN</td>\n",
              "    </tr>\n",
              "    <tr>\n",
              "      <th>25%</th>\n",
              "      <td>10000.000000</td>\n",
              "      <td>64.009746</td>\n",
              "      <td>NaN</td>\n",
              "      <td>12.000000</td>\n",
              "      <td>29.000000</td>\n",
              "      <td>NaN</td>\n",
              "    </tr>\n",
              "    <tr>\n",
              "      <th>50%</th>\n",
              "      <td>20000.000000</td>\n",
              "      <td>66.451265</td>\n",
              "      <td>NaN</td>\n",
              "      <td>13.000000</td>\n",
              "      <td>38.000000</td>\n",
              "      <td>NaN</td>\n",
              "    </tr>\n",
              "    <tr>\n",
              "      <th>75%</th>\n",
              "      <td>30000.000000</td>\n",
              "      <td>69.848100</td>\n",
              "      <td>NaN</td>\n",
              "      <td>16.000000</td>\n",
              "      <td>51.000000</td>\n",
              "      <td>NaN</td>\n",
              "    </tr>\n",
              "    <tr>\n",
              "      <th>max</th>\n",
              "      <td>200000.000000</td>\n",
              "      <td>77.051282</td>\n",
              "      <td>NaN</td>\n",
              "      <td>18.000000</td>\n",
              "      <td>91.000000</td>\n",
              "      <td>NaN</td>\n",
              "    </tr>\n",
              "  </tbody>\n",
              "</table>\n",
              "</div>"
            ],
            "text/plain": [
              "                 earn       height     sex           ed          age   race\n",
              "count     1192.000000  1192.000000    1192  1192.000000  1192.000000   1192\n",
              "unique            NaN          NaN       2          NaN          NaN      4\n",
              "top               NaN          NaN  female          NaN          NaN  white\n",
              "freq              NaN          NaN     687          NaN          NaN    989\n",
              "mean     23154.773490    66.915154     NaN    13.504195    41.378356    NaN\n",
              "std      19472.296925     3.853968     NaN     2.420175    15.867428    NaN\n",
              "min        200.000000    57.503219     NaN     3.000000    18.000000    NaN\n",
              "25%      10000.000000    64.009746     NaN    12.000000    29.000000    NaN\n",
              "50%      20000.000000    66.451265     NaN    13.000000    38.000000    NaN\n",
              "75%      30000.000000    69.848100     NaN    16.000000    51.000000    NaN\n",
              "max     200000.000000    77.051282     NaN    18.000000    91.000000    NaN"
            ]
          },
          "metadata": {
            "tags": []
          },
          "execution_count": 75
        }
      ]
    },
    {
      "cell_type": "code",
      "metadata": {
        "id": "hDo1OlVVT8oj",
        "colab": {
          "base_uri": "https://localhost:8080/",
          "height": 238
        },
        "outputId": "0b49855f-51e1-480f-cadf-128c306539db"
      },
      "source": [
        "# .info gives data type, count of null, row count\n",
        "salaries.info()"
      ],
      "execution_count": null,
      "outputs": [
        {
          "output_type": "stream",
          "text": [
            "<class 'pandas.core.frame.DataFrame'>\n",
            "RangeIndex: 1192 entries, 0 to 1191\n",
            "Data columns (total 6 columns):\n",
            " #   Column  Non-Null Count  Dtype  \n",
            "---  ------  --------------  -----  \n",
            " 0   earn    1192 non-null   float64\n",
            " 1   height  1192 non-null   float64\n",
            " 2   sex     1192 non-null   object \n",
            " 3   ed      1192 non-null   int64  \n",
            " 4   age     1192 non-null   int64  \n",
            " 5   race    1192 non-null   object \n",
            "dtypes: float64(2), int64(2), object(2)\n",
            "memory usage: 56.0+ KB\n"
          ],
          "name": "stdout"
        }
      ]
    },
    {
      "cell_type": "markdown",
      "metadata": {
        "id": "xGQp7fr2Wa2F"
      },
      "source": [
        "**Answer 1.1 (contd) Meaning of each variable/feature in the salaries file**\n",
        "\n",
        "From the first python code .head(),we can see that the salaries file has six columns. There are a total of 1192 instances in each column and there are no null values in any of the columns. \n",
        "\n",
        "1. **earn**: Salary of an individual described in floating numbers. It can be assumed to be in USD. It ranges from $200/- to $200,000/-. \n",
        "\n",
        "2. **height**: Describes the height in floating type of the individual in inches ranging from 57 inches to 67 inches. \n",
        "\n",
        "3. **sex**: Classifies each individual into 2 categories - male or female. \n",
        "\n",
        "4. **ed**: This describes the number of years the person has spent in education - school and college. Datatype is integer and the value ranges from 3 to 18 years.\n",
        "\n",
        "5. **age**: This describes the age of the individual. Integer datatype is being used here and it ranges from 18 years to 91 years old individuals. \n",
        "\n",
        "6. **race** : This describes the race of the individual. It is a categorical feature with four unique types.  "
      ]
    },
    {
      "cell_type": "markdown",
      "metadata": {
        "id": "8l4flwPSh63e"
      },
      "source": [
        "**Question 1.2**\n",
        "\n",
        "1.2 Your turn! (10-14 points)\n",
        "Write code to:\n",
        "\n",
        "Display the total headcount and the number (and %) of male and female employees. (2 pts)\n",
        "Compute and display the min, max, average, and median salary per gender. (8 pts)\n",
        "(OPTIONAL) Plot meaningful graphs that could provide insight into the gender inequality (if any is present) associated with the salaries in the company. (<= 4 bonus points)"
      ]
    },
    {
      "cell_type": "code",
      "metadata": {
        "id": "WyJRKRDPiEjD",
        "colab": {
          "base_uri": "https://localhost:8080/",
          "height": 102
        },
        "outputId": "bee07e90-4a70-4f11-98f1-3a5f4a5b215c"
      },
      "source": [
        "#Answer to - Display the total headcount and the number (and %) of male and female employees. (2 pts)\n",
        "\n",
        "df=pd.DataFrame(salaries)\n",
        "print(\"--- Employees Gender Details---\")\n",
        "headcount=df['sex'].shape[0]\n",
        "print(\"Headcount is \", headcount, \" and the breakup in numbers is as follows: \")\n",
        "df['sex'].value_counts()\n",
        "\n"
      ],
      "execution_count": null,
      "outputs": [
        {
          "output_type": "stream",
          "text": [
            "--- Employees Gender Details---\n",
            "Headcount is  1192  and the breakup in numbers is as follows: \n"
          ],
          "name": "stdout"
        },
        {
          "output_type": "execute_result",
          "data": {
            "text/plain": [
              "female    687\n",
              "male      505\n",
              "Name: sex, dtype: int64"
            ]
          },
          "metadata": {
            "tags": []
          },
          "execution_count": 77
        }
      ]
    },
    {
      "cell_type": "code",
      "metadata": {
        "id": "7DO-zu5etS9j",
        "colab": {
          "base_uri": "https://localhost:8080/",
          "height": 85
        },
        "outputId": "74745de9-7506-4250-a847-be402bd3e868"
      },
      "source": [
        "print(\"Percentage breakup of gender is as follows\")\n",
        "df['sex'].value_counts(normalize=True)\n"
      ],
      "execution_count": null,
      "outputs": [
        {
          "output_type": "stream",
          "text": [
            "Percentage breakup of gender is as follows\n"
          ],
          "name": "stdout"
        },
        {
          "output_type": "execute_result",
          "data": {
            "text/plain": [
              "female    0.576342\n",
              "male      0.423658\n",
              "Name: sex, dtype: float64"
            ]
          },
          "metadata": {
            "tags": []
          },
          "execution_count": 78
        }
      ]
    },
    {
      "cell_type": "code",
      "metadata": {
        "id": "jAsDIqU3vZOA",
        "colab": {
          "base_uri": "https://localhost:8080/",
          "height": 331
        },
        "outputId": "2e0fcbe7-b125-468f-bad2-573b3abea046"
      },
      "source": [
        "#Compute and display the min, max, average, and median salary per gender. (8 pts)\n",
        "\n",
        "print(\"------------- Employees Salary Details by Gender---\")\n",
        "print(\"The following table describes the minimum as 'min', maximum as 'max', average as 'mean' and the median as 'median' SALARY as 'earn' in USD based on gender.\")\n",
        "df.groupby(by='sex').agg({'earn': ['min', 'max', 'mean', 'median']}).unstack().reset_index().rename(columns={'level_0': 'Salary', 'level_1': 'Metric', 'sex': 'gender', 0: 'Calculation_in_USD_Per_Annum'}).round(2)\n",
        "\n",
        "\n"
      ],
      "execution_count": null,
      "outputs": [
        {
          "output_type": "stream",
          "text": [
            "------------- Employees Salary Details by Gender---\n",
            "The following table describes the minimum as 'min', maximum as 'max', average as 'mean' and the median as 'median' SALARY as 'earn' in USD based on gender.\n"
          ],
          "name": "stdout"
        },
        {
          "output_type": "execute_result",
          "data": {
            "text/html": [
              "<div>\n",
              "<style scoped>\n",
              "    .dataframe tbody tr th:only-of-type {\n",
              "        vertical-align: middle;\n",
              "    }\n",
              "\n",
              "    .dataframe tbody tr th {\n",
              "        vertical-align: top;\n",
              "    }\n",
              "\n",
              "    .dataframe thead th {\n",
              "        text-align: right;\n",
              "    }\n",
              "</style>\n",
              "<table border=\"1\" class=\"dataframe\">\n",
              "  <thead>\n",
              "    <tr style=\"text-align: right;\">\n",
              "      <th></th>\n",
              "      <th>Salary</th>\n",
              "      <th>Metric</th>\n",
              "      <th>gender</th>\n",
              "      <th>Calculation_in_USD_Per_Annum</th>\n",
              "    </tr>\n",
              "  </thead>\n",
              "  <tbody>\n",
              "    <tr>\n",
              "      <th>0</th>\n",
              "      <td>earn</td>\n",
              "      <td>min</td>\n",
              "      <td>female</td>\n",
              "      <td>200.00</td>\n",
              "    </tr>\n",
              "    <tr>\n",
              "      <th>1</th>\n",
              "      <td>earn</td>\n",
              "      <td>min</td>\n",
              "      <td>male</td>\n",
              "      <td>1000.00</td>\n",
              "    </tr>\n",
              "    <tr>\n",
              "      <th>2</th>\n",
              "      <td>earn</td>\n",
              "      <td>max</td>\n",
              "      <td>female</td>\n",
              "      <td>123000.00</td>\n",
              "    </tr>\n",
              "    <tr>\n",
              "      <th>3</th>\n",
              "      <td>earn</td>\n",
              "      <td>max</td>\n",
              "      <td>male</td>\n",
              "      <td>200000.00</td>\n",
              "    </tr>\n",
              "    <tr>\n",
              "      <th>4</th>\n",
              "      <td>earn</td>\n",
              "      <td>mean</td>\n",
              "      <td>female</td>\n",
              "      <td>18280.20</td>\n",
              "    </tr>\n",
              "    <tr>\n",
              "      <th>5</th>\n",
              "      <td>earn</td>\n",
              "      <td>mean</td>\n",
              "      <td>male</td>\n",
              "      <td>29786.13</td>\n",
              "    </tr>\n",
              "    <tr>\n",
              "      <th>6</th>\n",
              "      <td>earn</td>\n",
              "      <td>median</td>\n",
              "      <td>female</td>\n",
              "      <td>15000.00</td>\n",
              "    </tr>\n",
              "    <tr>\n",
              "      <th>7</th>\n",
              "      <td>earn</td>\n",
              "      <td>median</td>\n",
              "      <td>male</td>\n",
              "      <td>25000.00</td>\n",
              "    </tr>\n",
              "  </tbody>\n",
              "</table>\n",
              "</div>"
            ],
            "text/plain": [
              "  Salary  Metric  gender  Calculation_in_USD_Per_Annum\n",
              "0   earn     min  female                        200.00\n",
              "1   earn     min    male                       1000.00\n",
              "2   earn     max  female                     123000.00\n",
              "3   earn     max    male                     200000.00\n",
              "4   earn    mean  female                      18280.20\n",
              "5   earn    mean    male                      29786.13\n",
              "6   earn  median  female                      15000.00\n",
              "7   earn  median    male                      25000.00"
            ]
          },
          "metadata": {
            "tags": []
          },
          "execution_count": 79
        }
      ]
    },
    {
      "cell_type": "code",
      "metadata": {
        "id": "QiQXzq48J_Sx",
        "colab": {
          "base_uri": "https://localhost:8080/",
          "height": 644
        },
        "outputId": "0dcd9dbc-6b53-4f55-bfa9-3bea6c492328"
      },
      "source": [
        "#Plot meaningful graphs that could provide insight into the gender inequality\n",
        "# (if any is present) associated with the salaries in the company. (<= 4 bonus points)\n",
        "df.filter = df[df['sex']==\"male\"]\n",
        "print(df.filter.shape)\n",
        "\n",
        "plt.scatter(df.filter['ed'],df.filter['earn'],color='red')     # RED represents earnings by MALE based on the number of years of experience\n",
        "\n",
        "df.filter1 = df[df['sex']==\"female\"]            # # BLACK represents earnings by FEMALE based on the number of years of experience\n",
        "print(df.filter1.shape)\n",
        "\n",
        "plt.title('Salary vs. Education Level based on Gender (Male = RED and Female = BLACK)')\n",
        "plt.ylabel('Salary')\n",
        "plt.xlabel('Years of education');\n",
        "\n",
        "plt.scatter(df.filter1['ed'], df.filter1['earn'], color = 'black')\n",
        "\n",
        "\n",
        "print ('''\n",
        "------------- EXPLANATION --- ANSWER ------''')\n",
        "\n",
        "print(''' \n",
        "\n",
        "Based on the graph below, it can be seen males(in red), with the same level of experience, generally earn higher than their female(black) counterparts\n",
        "with similar experience. For example, for the Years of Experience of \"4\", \"6\", \"7\",\"12\",\"13\",\"15\",\"16\",\"17\" and \"18\", \n",
        "the red dot representing male is higher(more salary) than the black dots. The only exception to ths is \"10\" and \"14\" years of experience, where the black\n",
        "# dot is higher than the red dot. \n",
        "\n",
        "It can also be seen from the graph below that the inequality increases with the increase in the years of experience. For example, for \"18\" years of \n",
        "# experience, the maximum salary for females is approximately $100,000/- whereas for males it is $200,000/-.\n",
        "\n",
        "All of the above confirm that gender inequality indeed exists. \n",
        "\n",
        "''')\n",
        "\n",
        "\n"
      ],
      "execution_count": null,
      "outputs": [
        {
          "output_type": "stream",
          "text": [
            "(505, 6)\n",
            "(687, 6)\n",
            "\n",
            "------------- EXPLANATION --- ANSWER ------\n",
            " \n",
            "\n",
            "Based on the graph below, it can be seen males(in red), with the same level of experience, generally earn higher than their female(black) counterparts\n",
            "with similar experience. For example, for the Years of Experience of \"4\", \"6\", \"7\",\"12\",\"13\",\"15\",\"16\",\"17\" and \"18\", \n",
            "the red dot representing male is higher(more salary) than the black dots. The only exception to ths is \"10\" and \"14\" years of experience, where the black\n",
            "# dot is higher than the red dot. \n",
            "\n",
            "It can also be seen from the graph below that the inequality increases with the increase in the years of experience. For example, for \"18\" years of \n",
            "# experience, the maximum salary for females is approximately $100,000/- whereas for males it is $200,000/-.\n",
            "\n",
            "All of the above confirm that gender inequality indeed exists. \n",
            "\n",
            "\n"
          ],
          "name": "stdout"
        },
        {
          "output_type": "stream",
          "text": [
            "/usr/local/lib/python3.6/dist-packages/ipykernel_launcher.py:8: UserWarning: Pandas doesn't allow columns to be created via a new attribute name - see https://pandas.pydata.org/pandas-docs/stable/indexing.html#attribute-access\n",
            "  \n"
          ],
          "name": "stderr"
        },
        {
          "output_type": "display_data",
          "data": {
            "image/png": "[encoded data removed]",
            "text/plain": [
              "<Figure size 432x288 with 1 Axes>"
            ]
          },
          "metadata": {
            "tags": [],
            "needs_background": "light"
          }
        }
      ]
    },
    {
      "cell_type": "code",
      "metadata": {
        "id": "eUiPO9s3UWEz",
        "colab": {
          "base_uri": "https://localhost:8080/",
          "height": 712
        },
        "outputId": "c0544a4a-342b-485b-ddbf-d0e67bd9ca2b"
      },
      "source": [
        "#Question 1.3\n",
        "\n",
        "#1.3 Your turn! (18-26 points)\n",
        "#Write Python code to test hypotheses H1, H2, and H3 (and some text to explain whether they were confirmed or not).\n",
        "\n",
        "#Feel free to (also) use plots, but make your code independent of a human being interpreting those plots.\n",
        "\n",
        "#Weight: 18 pts, i.e., 6 pts per hypothesis. Up to 8 bonus points for insightful additional hypotheses, code, and/or comments.\n",
        "\n",
        "# ANSWER TO FIRST HYPOTHESIS\n",
        "# H1 : Older employees are paid less (i.e., ageism)\n",
        "salary = np.array(salaries['earn'])\n",
        "age = np.array(salaries['age'])\n",
        "\n",
        "corr, _ = pearsonr(age,salary)\n",
        "print('''\n",
        "Answer to first hypothesis: H1 : Older employees are paid less (i.e., ageism))\n",
        "\n",
        "The below graph divides the population by age into 5 categories and is color coded as follows: \n",
        "Black=<=30 years,Red=30-40 years, Yellow=40-50 years, Green= 50-60 years, Blue=>60 years.\n",
        "This is done to understand at around which point can the downward trend be noticed. The red, which is the age group 30-40 years shows the peak of salary.\n",
        "From that point onwards, the maximum salary drawn by an individual is decreasing. \n",
        "\n",
        "Thus, in general, it can be said that older employees are paid less. The hypothesis is confirmed. \n",
        "\n",
        "''')\n",
        "print(\"Correlation coefficient of Age and Salary for H1: \",corr)\n",
        "\n",
        "#   ***Assuming that older here means above 60 years of age *****\n",
        "\n",
        "df.grp1 = df[df['age']<=30]\n",
        "df.grp2 = df[(df['age']>30) & (df['age']<=40)]\n",
        "df.grp3 = df[(df['age']>40) & (df['age']<=50)]\n",
        "df.grp4 = df[(df['age']>50) & (df['age']<=60)]\n",
        "df.grp5 = df[df['age']>60]\n",
        "\n",
        "print(df.grp1.shape)\n",
        "print(df.grp2.shape)\n",
        "print(df.grp3.shape)\n",
        "print(df.grp4.shape)\n",
        "print(df.grp5.shape)\n",
        "\n",
        "plt.title('Salary vs. Age (Black=<=30 years,Red=30-40 years, Yellow=40-50 years, Green= 50-60 years, Blue=>60 years )')\n",
        "plt.ylabel('Salary')\n",
        "plt.xlabel('Age');\n",
        "\n",
        "#print(\"Maximum salary for Grp1: ${:6.2f}\".format(df.grp1.max())\n",
        "\n",
        "plt.scatter(df.grp1['age'], df.grp1['earn'], color = 'black')\n",
        "plt.scatter(df.grp2['age'], df.grp2['earn'], color = 'red')\n",
        "plt.scatter(df.grp3['age'], df.grp3['earn'], color = 'yellow')\n",
        "plt.scatter(df.grp4['age'], df.grp4['earn'], color = 'green')\n",
        "plt.scatter(df.grp5['age'], df.grp5['earn'], color = 'blue')\n"
      ],
      "execution_count": null,
      "outputs": [
        {
          "output_type": "stream",
          "text": [
            "\n",
            "Answer to first hypothesis: H1 : Older employees are paid less (i.e., ageism))\n",
            "\n",
            "The below graph divides the population by age into 5 categories and is color coded as follows: \n",
            "Black=<=30 years,Red=30-40 years, Yellow=40-50 years, Green= 50-60 years, Blue=>60 years.\n",
            "This is done to understand at around which point can the downward trend be noticed. The red, which is the age group 30-40 years shows the peak of salary.\n",
            "From that point onwards, the maximum salary drawn by an individual is decreasing. \n",
            "\n",
            "Thus, in general, it can be said that older employees are paid less. The hypothesis is confirmed. \n",
            "\n",
            "\n",
            "Correlation coefficient of Age and Salary for H1:  0.08100297364190615\n",
            "(343, 6)\n",
            "(331, 6)\n",
            "(217, 6)\n",
            "(118, 6)\n",
            "(183, 6)\n"
          ],
          "name": "stdout"
        },
        {
          "output_type": "stream",
          "text": [
            "/usr/local/lib/python3.6/dist-packages/ipykernel_launcher.py:31: UserWarning: Pandas doesn't allow columns to be created via a new attribute name - see https://pandas.pydata.org/pandas-docs/stable/indexing.html#attribute-access\n",
            "/usr/local/lib/python3.6/dist-packages/ipykernel_launcher.py:32: UserWarning: Pandas doesn't allow columns to be created via a new attribute name - see https://pandas.pydata.org/pandas-docs/stable/indexing.html#attribute-access\n",
            "/usr/local/lib/python3.6/dist-packages/ipykernel_launcher.py:33: UserWarning: Pandas doesn't allow columns to be created via a new attribute name - see https://pandas.pydata.org/pandas-docs/stable/indexing.html#attribute-access\n",
            "/usr/local/lib/python3.6/dist-packages/ipykernel_launcher.py:34: UserWarning: Pandas doesn't allow columns to be created via a new attribute name - see https://pandas.pydata.org/pandas-docs/stable/indexing.html#attribute-access\n",
            "/usr/local/lib/python3.6/dist-packages/ipykernel_launcher.py:35: UserWarning: Pandas doesn't allow columns to be created via a new attribute name - see https://pandas.pydata.org/pandas-docs/stable/indexing.html#attribute-access\n"
          ],
          "name": "stderr"
        },
        {
          "output_type": "execute_result",
          "data": {
            "text/plain": [
              "<matplotlib.collections.PathCollection at 0x7f0da0145b70>"
            ]
          },
          "metadata": {
            "tags": []
          },
          "execution_count": 81
        },
        {
          "output_type": "display_data",
          "data": {
            "image/png": "[encoded data removed]",
            "text/plain": [
              "<Figure size 432x288 with 1 Axes>"
            ]
          },
          "metadata": {
            "tags": [],
            "needs_background": "light"
          }
        }
      ]
    },
    {
      "cell_type": "code",
      "metadata": {
        "id": "wBhGi5Ehbtp1",
        "colab": {
          "base_uri": "https://localhost:8080/",
          "height": 1412
        },
        "outputId": "99af83a4-99cd-41da-d085-18611ce7569a"
      },
      "source": [
        "print('''Answer to Hypothesis 2\n",
        "H2: Female employees are paid less (i.e., gender bias)\n",
        "\n",
        "Salary vs. Education Level based on Gender (Male = RED and Female = BLACK on the plots)\n",
        "\n",
        "This is looked at with two perspectives - Perspective 1: females are paid less than male counterparts of same AGE\n",
        "                                       - Perspective 2: females are paid less than male counterparts with same Years of Experience\n",
        "\n",
        "Studying each graph the following is revealed:\n",
        "\n",
        "1. Age <30 years : The males (red) is leading for every level of experience, except for 14 years of experience.\n",
        "2. Age 30-40 years : The males (red) is leading for every level of experience, except for 14,15 and 16 years of experience.\n",
        "3. Age 40-50 years : Males are leading for every level of experience. \n",
        "4. Age 50-60 years : The males (red) is leading for every level of experience, except for 10,12,14,16 and 17 years of experience.\n",
        "5. Age >60 years: The males (red) is leading for every level of experience, except for 8,10,16 and 18 years of experience.\n",
        "\n",
        "Overall conclusion : While it can be said that gender bias does exist - females are generally paid less than their male counterparts with the\n",
        "same level of experience, there are some exceptions to this, like when females have around 10 years to 17 years of experience, gender inequality is reduced. \n",
        "The fact that the black dots are more spread out --more range-- also means that there is room for females to earn higher. Also, gender bias is less for the\n",
        "age group 30-40 years, 50-60 years and >60 years compared to the other age groups studied.\n",
        "\n",
        "The hypothesis is true in general.\n",
        "\n",
        "                            ''' )\n",
        "\n",
        "plt.figure(figsize=(20, 10)) \n",
        "plt.subplot(2, 3, 1)\n",
        "df.grp1filter = df.grp1[df.grp1['sex']==\"male\"]\n",
        "print(df.grp1filter.shape)\n",
        "\n",
        "plt.scatter(df.grp1filter['ed'],df.grp1filter['earn'],color='red')     # RED represents earnings by MALE based on the number of years of experience\n",
        "\n",
        "df.grp1filter1 = df.grp1[df.grp1['sex']==\"female\"]            # # BLACK represents earnings by FEMALE based on the number of years of experience\n",
        "print(df.grp1filter1.shape)\n",
        "\n",
        "plt.title('Age <30 years')\n",
        "plt.ylabel('Salary')\n",
        "plt.xlabel('Years of education');\n",
        "\n",
        "plt.scatter(df.grp1filter1['ed'], df.grp1filter1['earn'], color = 'black')\n",
        "\n",
        "plt.subplot(2, 3, 2)\n",
        "df.grp2filter = df.grp2[df.grp2['sex']==\"male\"]\n",
        "print(df.grp2filter.shape)\n",
        "\n",
        "plt.scatter(df.grp2filter['ed'],df.grp2filter['earn'],color='red')     # RED represents earnings by MALE based on the number of years of experience\n",
        "\n",
        "df.grp2filter1 = df.grp2[df.grp2['sex']==\"female\"]            # # BLACK represents earnings by FEMALE based on the number of years of experience\n",
        "print(df.grp2filter1.shape)\n",
        "\n",
        "plt.title('Age 30-40 years')\n",
        "plt.ylabel('Salary')\n",
        "plt.xlabel('Years of education');\n",
        "\n",
        "plt.scatter(df.grp2filter1['ed'], df.grp2filter1['earn'], color = 'black')\n",
        "\n",
        "plt.subplot(2, 3, 3)\n",
        "df.grp3filter = df.grp3[df.grp3['sex']==\"male\"]\n",
        "print(df.grp3filter.shape)\n",
        "\n",
        "plt.scatter(df.grp3filter['ed'],df.grp3filter['earn'],color='red')     # RED represents earnings by MALE based on the number of years of experience\n",
        "\n",
        "df.grp3filter1 = df.grp3[df.grp3['sex']==\"female\"]            # # BLACK represents earnings by FEMALE based on the number of years of experience\n",
        "print(df.grp3filter1.shape)\n",
        "\n",
        "plt.title('Age 40-50 years')\n",
        "plt.ylabel('Salary')\n",
        "plt.xlabel('Years of education');\n",
        "\n",
        "plt.scatter(df.grp3filter1['ed'], df.grp3filter1['earn'], color = 'black')\n",
        "\n",
        "plt.subplot(2, 3, 4)\n",
        "df.grp4filter = df.grp4[df.grp4['sex']==\"male\"]\n",
        "print(df.grp4filter.shape)\n",
        "\n",
        "plt.scatter(df.grp4filter['ed'],df.grp4filter['earn'],color='red')     # RED represents earnings by MALE based on the number of years of experience\n",
        "\n",
        "df.grp4filter1 = df.grp4[df.grp4['sex']==\"female\"]            # # BLACK represents earnings by FEMALE based on the number of years of experience\n",
        "print(df.grp4filter1.shape)\n",
        "\n",
        "plt.title('Age 50-60 years')\n",
        "plt.ylabel('Salary')\n",
        "plt.xlabel('Years of education');\n",
        "\n",
        "plt.scatter(df.grp4filter1['ed'], df.grp4filter1['earn'], color = 'black')\n",
        "\n",
        "plt.subplot(2, 3, 5)\n",
        "df.grp5filter = df.grp5[df.grp5['sex']==\"male\"]\n",
        "print(df.grp5filter.shape)\n",
        "\n",
        "plt.scatter(df.grp5filter['ed'],df.grp5filter['earn'],color='red')     # RED represents earnings by MALE based on the number of years of experience\n",
        "\n",
        "df.grp5filter1 = df.grp5[df.grp5['sex']==\"female\"]            # # BLACK represents earnings by FEMALE based on the number of years of experience\n",
        "print(df.grp4filter1.shape)\n",
        "\n",
        "plt.title('Age >60 years')\n",
        "plt.ylabel('Salary')\n",
        "plt.xlabel('Years of education');\n",
        "\n",
        "plt.scatter(df.grp5filter1['ed'], df.grp5filter1['earn'], color = 'black')"
      ],
      "execution_count": null,
      "outputs": [
        {
          "output_type": "stream",
          "text": [
            "Answer to Hypothesis 2\n",
            "H2: Female employees are paid less (i.e., gender bias)\n",
            "\n",
            "Salary vs. Education Level based on Gender (Male = RED and Female = BLACK on the plots)\n",
            "\n",
            "This is looked at with two perspectives - Perspective 1: females are paid less than male counterparts of same AGE\n",
            "                                       - Perspective 2: females are paid less than male counterparts with same Years of Experience\n",
            "\n",
            "Studying each graph the following is revealed:\n",
            "\n",
            "1. Age <30 years : The males (red) is leading for every level of experience, except for 14 years of experience.\n",
            "2. Age 30-40 years : The males (red) is leading for every level of experience, except for 14,15 and 16 years of experience.\n",
            "3. Age 40-50 years : Males are leading for every level of experience. \n",
            "4. Age 50-60 years : The males (red) is leading for every level of experience, except for 10,12,14,16 and 17 years of experience.\n",
            "5. Age >60 years: The males (red) is leading for every level of experience, except for 8,10,16 and 18 years of experience.\n",
            "\n",
            "Overall conclusion : While it can be said that gender bias does exist - females are generally paid less than their male counterparts with the\n",
            "same level of experience, there are some exceptions to this, like when females have around 10 years to 17 years of experience, gender inequality is reduced. \n",
            "The fact that the black dots are more spread out --more range-- also means that there is room for females to earn higher. Also, gender bias is less for the\n",
            "age group 30-40 years, 50-60 years and >60 years compared to the other age groups studied.\n",
            "\n",
            "The hypothesis is true in general.\n",
            "\n",
            "                            \n",
            "(164, 6)\n",
            "(179, 6)\n",
            "(133, 6)\n",
            "(198, 6)\n",
            "(89, 6)\n",
            "(128, 6)\n",
            "(47, 6)\n",
            "(71, 6)\n",
            "(72, 6)\n",
            "(71, 6)\n"
          ],
          "name": "stdout"
        },
        {
          "output_type": "stream",
          "text": [
            "/usr/local/lib/python3.6/dist-packages/ipykernel_launcher.py:28: UserWarning: Pandas doesn't allow columns to be created via a new attribute name - see https://pandas.pydata.org/pandas-docs/stable/indexing.html#attribute-access\n",
            "/usr/local/lib/python3.6/dist-packages/ipykernel_launcher.py:33: UserWarning: Pandas doesn't allow columns to be created via a new attribute name - see https://pandas.pydata.org/pandas-docs/stable/indexing.html#attribute-access\n",
            "/usr/local/lib/python3.6/dist-packages/ipykernel_launcher.py:43: UserWarning: Pandas doesn't allow columns to be created via a new attribute name - see https://pandas.pydata.org/pandas-docs/stable/indexing.html#attribute-access\n",
            "/usr/local/lib/python3.6/dist-packages/ipykernel_launcher.py:48: UserWarning: Pandas doesn't allow columns to be created via a new attribute name - see https://pandas.pydata.org/pandas-docs/stable/indexing.html#attribute-access\n",
            "/usr/local/lib/python3.6/dist-packages/ipykernel_launcher.py:58: UserWarning: Pandas doesn't allow columns to be created via a new attribute name - see https://pandas.pydata.org/pandas-docs/stable/indexing.html#attribute-access\n",
            "/usr/local/lib/python3.6/dist-packages/ipykernel_launcher.py:63: UserWarning: Pandas doesn't allow columns to be created via a new attribute name - see https://pandas.pydata.org/pandas-docs/stable/indexing.html#attribute-access\n",
            "/usr/local/lib/python3.6/dist-packages/ipykernel_launcher.py:73: UserWarning: Pandas doesn't allow columns to be created via a new attribute name - see https://pandas.pydata.org/pandas-docs/stable/indexing.html#attribute-access\n",
            "/usr/local/lib/python3.6/dist-packages/ipykernel_launcher.py:78: UserWarning: Pandas doesn't allow columns to be created via a new attribute name - see https://pandas.pydata.org/pandas-docs/stable/indexing.html#attribute-access\n",
            "/usr/local/lib/python3.6/dist-packages/ipykernel_launcher.py:88: UserWarning: Pandas doesn't allow columns to be created via a new attribute name - see https://pandas.pydata.org/pandas-docs/stable/indexing.html#attribute-access\n",
            "/usr/local/lib/python3.6/dist-packages/ipykernel_launcher.py:93: UserWarning: Pandas doesn't allow columns to be created via a new attribute name - see https://pandas.pydata.org/pandas-docs/stable/indexing.html#attribute-access\n"
          ],
          "name": "stderr"
        },
        {
          "output_type": "execute_result",
          "data": {
            "text/plain": [
              "<matplotlib.collections.PathCollection at 0x7f0d9ad1c208>"
            ]
          },
          "metadata": {
            "tags": []
          },
          "execution_count": 82
        },
        {
          "output_type": "display_data",
          "data": {
            "image/png": "[encoded data removed]",
            "text/plain": [
              "<Figure size 1440x720 with 5 Axes>"
            ]
          },
          "metadata": {
            "tags": [],
            "needs_background": "light"
          }
        }
      ]
    },
    {
      "cell_type": "code",
      "metadata": {
        "id": "mkzqlDwuGCoa",
        "colab": {
          "base_uri": "https://localhost:8080/",
          "height": 1172
        },
        "outputId": "27e8d835-2bbb-4569-b729-0c1d188de574"
      },
      "source": [
        "print('''Hypothesis 3 Answer\n",
        "\n",
        "#H3: Non-whites are paid less (i.e, race bias).\n",
        "\n",
        "Looking at the graph and metrics calculations, it can be said that whites (red dots) are earning higher for every level of education except for \n",
        "7 years. Another thing to notice is that they are earning a substantial amount more than the non-white category for any level of education. For example, \n",
        "looking at the metric calculations, it can be seen that the maximum for a white individual is $200,000/-. The closest counterpart has a salary of $110,000/-.\n",
        "This is a difference of almost $100,000/-, which shows a high race bias. \n",
        "\n",
        "Thus, it can be confirmed that race bias does exist. Hypothesis is true.\n",
        "\n",
        "''')\n",
        "df.racefilter = df[df['race']==\"white\"]\n",
        "print(df.racefilter.shape)\n",
        "\n",
        "plt.scatter(df.racefilter['ed'],df.racefilter['earn'],color='red')     # RED represents earnings by WHITE-race based on the number of years of experience\n",
        "\n",
        "df.racefilter1 = df[df['race']!=\"white\"]            # # BLACK represents earnings by NON-WHITE-race based on the number of years of experience\n",
        "print(df.racefilter1.shape)\n",
        "\n",
        "plt.title('Salary vs. Education Level based on Race (White = RED and Non-white = BLACK)')\n",
        "plt.ylabel('Salary')\n",
        "plt.xlabel('Years of education');\n",
        "\n",
        "plt.scatter(df.racefilter1['ed'], df.racefilter1['earn'], color = 'black')\n",
        "\n",
        "print(\"------------- Employees Salary Details by Race---\")\n",
        "print(\"The following table describes the minimum as 'min', maximum as 'max', average as 'mean' and the median as 'median' SALARY as 'earn' in USD based on race.\")\n",
        "df.groupby(by='race').agg({'earn': ['min', 'max', 'mean', 'median']}).unstack().reset_index().rename(columns={'level_0': 'Salary', 'level_1': 'Metric', 'sex': 'gender', 0: 'Calculation_in_USD_Per_Annum'}).round(2)\n",
        "\n"
      ],
      "execution_count": null,
      "outputs": [
        {
          "output_type": "stream",
          "text": [
            "Hypothesis 3 Answer\n",
            "\n",
            "#H3: Non-whites are paid less (i.e, race bias).\n",
            "\n",
            "Looking at the graph and metrics calculations, it can be said that whites (red dots) are earning higher for every level of education except for \n",
            "7 years. Another thing to notice is that they are earning a substantial amount more than the non-white category for any level of education. For example, \n",
            "looking at the metric calculations, it can be seen that the maximum for a white individual is $200,000/-. The closest counterpart has a salary of $110,000/-.\n",
            "This is a difference of almost $100,000/-, which shows a high race bias. \n",
            "\n",
            "Thus, it can be confirmed that race bias does exist. Hypothesis is true.\n",
            "\n",
            "\n",
            "(989, 6)\n",
            "(203, 6)\n",
            "------------- Employees Salary Details by Race---\n",
            "The following table describes the minimum as 'min', maximum as 'max', average as 'mean' and the median as 'median' SALARY as 'earn' in USD based on race.\n"
          ],
          "name": "stdout"
        },
        {
          "output_type": "stream",
          "text": [
            "/usr/local/lib/python3.6/dist-packages/ipykernel_launcher.py:13: UserWarning: Pandas doesn't allow columns to be created via a new attribute name - see https://pandas.pydata.org/pandas-docs/stable/indexing.html#attribute-access\n",
            "  del sys.path[0]\n",
            "/usr/local/lib/python3.6/dist-packages/ipykernel_launcher.py:18: UserWarning: Pandas doesn't allow columns to be created via a new attribute name - see https://pandas.pydata.org/pandas-docs/stable/indexing.html#attribute-access\n"
          ],
          "name": "stderr"
        },
        {
          "output_type": "execute_result",
          "data": {
            "text/html": [
              "<div>\n",
              "<style scoped>\n",
              "    .dataframe tbody tr th:only-of-type {\n",
              "        vertical-align: middle;\n",
              "    }\n",
              "\n",
              "    .dataframe tbody tr th {\n",
              "        vertical-align: top;\n",
              "    }\n",
              "\n",
              "    .dataframe thead th {\n",
              "        text-align: right;\n",
              "    }\n",
              "</style>\n",
              "<table border=\"1\" class=\"dataframe\">\n",
              "  <thead>\n",
              "    <tr style=\"text-align: right;\">\n",
              "      <th></th>\n",
              "      <th>Salary</th>\n",
              "      <th>Metric</th>\n",
              "      <th>race</th>\n",
              "      <th>Calculation_in_USD_Per_Annum</th>\n",
              "    </tr>\n",
              "  </thead>\n",
              "  <tbody>\n",
              "    <tr>\n",
              "      <th>0</th>\n",
              "      <td>earn</td>\n",
              "      <td>min</td>\n",
              "      <td>black</td>\n",
              "      <td>600.00</td>\n",
              "    </tr>\n",
              "    <tr>\n",
              "      <th>1</th>\n",
              "      <td>earn</td>\n",
              "      <td>min</td>\n",
              "      <td>hispanic</td>\n",
              "      <td>1400.00</td>\n",
              "    </tr>\n",
              "    <tr>\n",
              "      <th>2</th>\n",
              "      <td>earn</td>\n",
              "      <td>min</td>\n",
              "      <td>other</td>\n",
              "      <td>3000.00</td>\n",
              "    </tr>\n",
              "    <tr>\n",
              "      <th>3</th>\n",
              "      <td>earn</td>\n",
              "      <td>min</td>\n",
              "      <td>white</td>\n",
              "      <td>200.00</td>\n",
              "    </tr>\n",
              "    <tr>\n",
              "      <th>4</th>\n",
              "      <td>earn</td>\n",
              "      <td>max</td>\n",
              "      <td>black</td>\n",
              "      <td>60000.00</td>\n",
              "    </tr>\n",
              "    <tr>\n",
              "      <th>5</th>\n",
              "      <td>earn</td>\n",
              "      <td>max</td>\n",
              "      <td>hispanic</td>\n",
              "      <td>55000.00</td>\n",
              "    </tr>\n",
              "    <tr>\n",
              "      <th>6</th>\n",
              "      <td>earn</td>\n",
              "      <td>max</td>\n",
              "      <td>other</td>\n",
              "      <td>110000.00</td>\n",
              "    </tr>\n",
              "    <tr>\n",
              "      <th>7</th>\n",
              "      <td>earn</td>\n",
              "      <td>max</td>\n",
              "      <td>white</td>\n",
              "      <td>200000.00</td>\n",
              "    </tr>\n",
              "    <tr>\n",
              "      <th>8</th>\n",
              "      <td>earn</td>\n",
              "      <td>mean</td>\n",
              "      <td>black</td>\n",
              "      <td>19624.21</td>\n",
              "    </tr>\n",
              "    <tr>\n",
              "      <th>9</th>\n",
              "      <td>earn</td>\n",
              "      <td>mean</td>\n",
              "      <td>hispanic</td>\n",
              "      <td>18263.64</td>\n",
              "    </tr>\n",
              "    <tr>\n",
              "      <th>10</th>\n",
              "      <td>earn</td>\n",
              "      <td>mean</td>\n",
              "      <td>other</td>\n",
              "      <td>23096.64</td>\n",
              "    </tr>\n",
              "    <tr>\n",
              "      <th>11</th>\n",
              "      <td>earn</td>\n",
              "      <td>mean</td>\n",
              "      <td>white</td>\n",
              "      <td>23882.47</td>\n",
              "    </tr>\n",
              "    <tr>\n",
              "      <th>12</th>\n",
              "      <td>earn</td>\n",
              "      <td>median</td>\n",
              "      <td>black</td>\n",
              "      <td>20000.00</td>\n",
              "    </tr>\n",
              "    <tr>\n",
              "      <th>13</th>\n",
              "      <td>earn</td>\n",
              "      <td>median</td>\n",
              "      <td>hispanic</td>\n",
              "      <td>16000.00</td>\n",
              "    </tr>\n",
              "    <tr>\n",
              "      <th>14</th>\n",
              "      <td>earn</td>\n",
              "      <td>median</td>\n",
              "      <td>other</td>\n",
              "      <td>20000.00</td>\n",
              "    </tr>\n",
              "    <tr>\n",
              "      <th>15</th>\n",
              "      <td>earn</td>\n",
              "      <td>median</td>\n",
              "      <td>white</td>\n",
              "      <td>20000.00</td>\n",
              "    </tr>\n",
              "  </tbody>\n",
              "</table>\n",
              "</div>"
            ],
            "text/plain": [
              "   Salary  Metric      race  Calculation_in_USD_Per_Annum\n",
              "0    earn     min     black                        600.00\n",
              "1    earn     min  hispanic                       1400.00\n",
              "2    earn     min     other                       3000.00\n",
              "3    earn     min     white                        200.00\n",
              "4    earn     max     black                      60000.00\n",
              "5    earn     max  hispanic                      55000.00\n",
              "6    earn     max     other                     110000.00\n",
              "7    earn     max     white                     200000.00\n",
              "8    earn    mean     black                      19624.21\n",
              "9    earn    mean  hispanic                      18263.64\n",
              "10   earn    mean     other                      23096.64\n",
              "11   earn    mean     white                      23882.47\n",
              "12   earn  median     black                      20000.00\n",
              "13   earn  median  hispanic                      16000.00\n",
              "14   earn  median     other                      20000.00\n",
              "15   earn  median     white                      20000.00"
            ]
          },
          "metadata": {
            "tags": []
          },
          "execution_count": 83
        },
        {
          "output_type": "display_data",
          "data": {
            "image/png": "[encoded data removed]",
            "text/plain": [
              "<Figure size 432x288 with 1 Axes>"
            ]
          },
          "metadata": {
            "tags": [],
            "needs_background": "light"
          }
        }
      ]
    },
    {
      "cell_type": "code",
      "metadata": {
        "id": "QN3ai1deJCKW",
        "colab": {
          "base_uri": "https://localhost:8080/",
          "height": 34
        },
        "outputId": "88cdf40b-6021-4690-a14e-247541bb0fa4"
      },
      "source": [
        "# PART 2\n",
        "\n",
        "# 2.1 Your turn! (10-12 points)\n",
        "#Write code to:\n",
        "\n",
        "#Count the number of 3- and 5-cylinder vehicles in the dataset, display the count, and discard those entries (rows). (6 pts)\n",
        "#Compute and display the min, max, and average fuel consumption (in mpg) for 4-, 6-, and 8-cylinder vehicles. (4 pts)\n",
        "#(OPTIONAL) Display the name of the most and least fuel efficient vehicles in the dataset (<= 2 points)\n",
        "\n",
        "data = pd.read_csv(\"http://archive.ics.uci.edu/ml/machine-learning-databases/auto-mpg/auto-mpg.data-original\",\n",
        "                   delim_whitespace = True, header=None,\n",
        "                   names = ['mpg', 'cylinders', 'displacement', 'horsepower', 'weight', 'acceleration',\n",
        "                            'model', 'origin', 'car_name'])\n",
        "print(data.shape)\n"
      ],
      "execution_count": null,
      "outputs": [
        {
          "output_type": "stream",
          "text": [
            "(406, 9)\n"
          ],
          "name": "stdout"
        }
      ]
    },
    {
      "cell_type": "code",
      "metadata": {
        "id": "vWwXMZsnRBQG",
        "colab": {
          "base_uri": "https://localhost:8080/",
          "height": 204
        },
        "outputId": "356b4e71-87cd-4e19-8693-048a7fae9fd2"
      },
      "source": [
        "# Data clean-up - drop missing data rows - assuming we are required to this\n",
        "\n",
        "data.dropna(inplace=True)\n",
        "data.head()\n"
      ],
      "execution_count": null,
      "outputs": [
        {
          "output_type": "execute_result",
          "data": {
            "text/html": [
              "<div>\n",
              "<style scoped>\n",
              "    .dataframe tbody tr th:only-of-type {\n",
              "        vertical-align: middle;\n",
              "    }\n",
              "\n",
              "    .dataframe tbody tr th {\n",
              "        vertical-align: top;\n",
              "    }\n",
              "\n",
              "    .dataframe thead th {\n",
              "        text-align: right;\n",
              "    }\n",
              "</style>\n",
              "<table border=\"1\" class=\"dataframe\">\n",
              "  <thead>\n",
              "    <tr style=\"text-align: right;\">\n",
              "      <th></th>\n",
              "      <th>mpg</th>\n",
              "      <th>cylinders</th>\n",
              "      <th>displacement</th>\n",
              "      <th>horsepower</th>\n",
              "      <th>weight</th>\n",
              "      <th>acceleration</th>\n",
              "      <th>model</th>\n",
              "      <th>origin</th>\n",
              "      <th>car_name</th>\n",
              "    </tr>\n",
              "  </thead>\n",
              "  <tbody>\n",
              "    <tr>\n",
              "      <th>0</th>\n",
              "      <td>18.0</td>\n",
              "      <td>8.0</td>\n",
              "      <td>307.0</td>\n",
              "      <td>130.0</td>\n",
              "      <td>3504.0</td>\n",
              "      <td>12.0</td>\n",
              "      <td>70.0</td>\n",
              "      <td>1.0</td>\n",
              "      <td>chevrolet chevelle malibu</td>\n",
              "    </tr>\n",
              "    <tr>\n",
              "      <th>1</th>\n",
              "      <td>15.0</td>\n",
              "      <td>8.0</td>\n",
              "      <td>350.0</td>\n",
              "      <td>165.0</td>\n",
              "      <td>3693.0</td>\n",
              "      <td>11.5</td>\n",
              "      <td>70.0</td>\n",
              "      <td>1.0</td>\n",
              "      <td>buick skylark 320</td>\n",
              "    </tr>\n",
              "    <tr>\n",
              "      <th>2</th>\n",
              "      <td>18.0</td>\n",
              "      <td>8.0</td>\n",
              "      <td>318.0</td>\n",
              "      <td>150.0</td>\n",
              "      <td>3436.0</td>\n",
              "      <td>11.0</td>\n",
              "      <td>70.0</td>\n",
              "      <td>1.0</td>\n",
              "      <td>plymouth satellite</td>\n",
              "    </tr>\n",
              "    <tr>\n",
              "      <th>3</th>\n",
              "      <td>16.0</td>\n",
              "      <td>8.0</td>\n",
              "      <td>304.0</td>\n",
              "      <td>150.0</td>\n",
              "      <td>3433.0</td>\n",
              "      <td>12.0</td>\n",
              "      <td>70.0</td>\n",
              "      <td>1.0</td>\n",
              "      <td>amc rebel sst</td>\n",
              "    </tr>\n",
              "    <tr>\n",
              "      <th>4</th>\n",
              "      <td>17.0</td>\n",
              "      <td>8.0</td>\n",
              "      <td>302.0</td>\n",
              "      <td>140.0</td>\n",
              "      <td>3449.0</td>\n",
              "      <td>10.5</td>\n",
              "      <td>70.0</td>\n",
              "      <td>1.0</td>\n",
              "      <td>ford torino</td>\n",
              "    </tr>\n",
              "  </tbody>\n",
              "</table>\n",
              "</div>"
            ],
            "text/plain": [
              "    mpg  cylinders  displacement  ...  model  origin                   car_name\n",
              "0  18.0        8.0         307.0  ...   70.0     1.0  chevrolet chevelle malibu\n",
              "1  15.0        8.0         350.0  ...   70.0     1.0          buick skylark 320\n",
              "2  18.0        8.0         318.0  ...   70.0     1.0         plymouth satellite\n",
              "3  16.0        8.0         304.0  ...   70.0     1.0              amc rebel sst\n",
              "4  17.0        8.0         302.0  ...   70.0     1.0                ford torino\n",
              "\n",
              "[5 rows x 9 columns]"
            ]
          },
          "metadata": {
            "tags": []
          },
          "execution_count": 85
        }
      ]
    },
    {
      "cell_type": "code",
      "metadata": {
        "id": "gV99MUlKRh2u",
        "colab": {
          "base_uri": "https://localhost:8080/",
          "height": 34
        },
        "outputId": "c02d9dc2-ce5e-41a4-f660-f2249dfa96e0"
      },
      "source": [
        "#shape after dropping \n",
        "print(data.shape)\n"
      ],
      "execution_count": null,
      "outputs": [
        {
          "output_type": "stream",
          "text": [
            "(392, 9)\n"
          ],
          "name": "stdout"
        }
      ]
    },
    {
      "cell_type": "code",
      "metadata": {
        "id": "fFG4372ra4z_",
        "colab": {
          "base_uri": "https://localhost:8080/",
          "height": 235
        },
        "outputId": "05c47f6b-0519-4aa9-fa90-c618a86c014e"
      },
      "source": [
        "#Count of 3- and 5 cylinders\n",
        "data.groupby(by='cylinders').agg({'car_name':'count'}).rename(columns={'car_name':'Number_of_car_COUNT'})\n"
      ],
      "execution_count": null,
      "outputs": [
        {
          "output_type": "execute_result",
          "data": {
            "text/html": [
              "<div>\n",
              "<style scoped>\n",
              "    .dataframe tbody tr th:only-of-type {\n",
              "        vertical-align: middle;\n",
              "    }\n",
              "\n",
              "    .dataframe tbody tr th {\n",
              "        vertical-align: top;\n",
              "    }\n",
              "\n",
              "    .dataframe thead th {\n",
              "        text-align: right;\n",
              "    }\n",
              "</style>\n",
              "<table border=\"1\" class=\"dataframe\">\n",
              "  <thead>\n",
              "    <tr style=\"text-align: right;\">\n",
              "      <th></th>\n",
              "      <th>Number_of_car_COUNT</th>\n",
              "    </tr>\n",
              "    <tr>\n",
              "      <th>cylinders</th>\n",
              "      <th></th>\n",
              "    </tr>\n",
              "  </thead>\n",
              "  <tbody>\n",
              "    <tr>\n",
              "      <th>3.0</th>\n",
              "      <td>4</td>\n",
              "    </tr>\n",
              "    <tr>\n",
              "      <th>4.0</th>\n",
              "      <td>199</td>\n",
              "    </tr>\n",
              "    <tr>\n",
              "      <th>5.0</th>\n",
              "      <td>3</td>\n",
              "    </tr>\n",
              "    <tr>\n",
              "      <th>6.0</th>\n",
              "      <td>83</td>\n",
              "    </tr>\n",
              "    <tr>\n",
              "      <th>8.0</th>\n",
              "      <td>103</td>\n",
              "    </tr>\n",
              "  </tbody>\n",
              "</table>\n",
              "</div>"
            ],
            "text/plain": [
              "           Number_of_car_COUNT\n",
              "cylinders                     \n",
              "3.0                          4\n",
              "4.0                        199\n",
              "5.0                          3\n",
              "6.0                         83\n",
              "8.0                        103"
            ]
          },
          "metadata": {
            "tags": []
          },
          "execution_count": 87
        }
      ]
    },
    {
      "cell_type": "code",
      "metadata": {
        "id": "GYbphaPedyl0",
        "colab": {
          "base_uri": "https://localhost:8080/",
          "height": 227
        },
        "outputId": "118a438d-1b66-49bc-8d93-c0f8370127a5"
      },
      "source": [
        "# LIST OF 3-CYLINDER CARS\n",
        "data.threecylinders= data[(data['cylinders']==3)]\n",
        "data.threecylinders.head()"
      ],
      "execution_count": null,
      "outputs": [
        {
          "output_type": "stream",
          "text": [
            "/usr/local/lib/python3.6/dist-packages/ipykernel_launcher.py:2: UserWarning: Pandas doesn't allow columns to be created via a new attribute name - see https://pandas.pydata.org/pandas-docs/stable/indexing.html#attribute-access\n",
            "  \n"
          ],
          "name": "stderr"
        },
        {
          "output_type": "execute_result",
          "data": {
            "text/html": [
              "<div>\n",
              "<style scoped>\n",
              "    .dataframe tbody tr th:only-of-type {\n",
              "        vertical-align: middle;\n",
              "    }\n",
              "\n",
              "    .dataframe tbody tr th {\n",
              "        vertical-align: top;\n",
              "    }\n",
              "\n",
              "    .dataframe thead th {\n",
              "        text-align: right;\n",
              "    }\n",
              "</style>\n",
              "<table border=\"1\" class=\"dataframe\">\n",
              "  <thead>\n",
              "    <tr style=\"text-align: right;\">\n",
              "      <th></th>\n",
              "      <th>mpg</th>\n",
              "      <th>cylinders</th>\n",
              "      <th>displacement</th>\n",
              "      <th>horsepower</th>\n",
              "      <th>weight</th>\n",
              "      <th>acceleration</th>\n",
              "      <th>model</th>\n",
              "      <th>origin</th>\n",
              "      <th>car_name</th>\n",
              "    </tr>\n",
              "  </thead>\n",
              "  <tbody>\n",
              "    <tr>\n",
              "      <th>78</th>\n",
              "      <td>19.0</td>\n",
              "      <td>3.0</td>\n",
              "      <td>70.0</td>\n",
              "      <td>97.0</td>\n",
              "      <td>2330.0</td>\n",
              "      <td>13.5</td>\n",
              "      <td>72.0</td>\n",
              "      <td>3.0</td>\n",
              "      <td>mazda rx2 coupe</td>\n",
              "    </tr>\n",
              "    <tr>\n",
              "      <th>118</th>\n",
              "      <td>18.0</td>\n",
              "      <td>3.0</td>\n",
              "      <td>70.0</td>\n",
              "      <td>90.0</td>\n",
              "      <td>2124.0</td>\n",
              "      <td>13.5</td>\n",
              "      <td>73.0</td>\n",
              "      <td>3.0</td>\n",
              "      <td>maxda rx3</td>\n",
              "    </tr>\n",
              "    <tr>\n",
              "      <th>250</th>\n",
              "      <td>21.5</td>\n",
              "      <td>3.0</td>\n",
              "      <td>80.0</td>\n",
              "      <td>110.0</td>\n",
              "      <td>2720.0</td>\n",
              "      <td>13.5</td>\n",
              "      <td>77.0</td>\n",
              "      <td>3.0</td>\n",
              "      <td>mazda rx-4</td>\n",
              "    </tr>\n",
              "    <tr>\n",
              "      <th>341</th>\n",
              "      <td>23.7</td>\n",
              "      <td>3.0</td>\n",
              "      <td>70.0</td>\n",
              "      <td>100.0</td>\n",
              "      <td>2420.0</td>\n",
              "      <td>12.5</td>\n",
              "      <td>80.0</td>\n",
              "      <td>3.0</td>\n",
              "      <td>mazda rx-7 gs</td>\n",
              "    </tr>\n",
              "  </tbody>\n",
              "</table>\n",
              "</div>"
            ],
            "text/plain": [
              "      mpg  cylinders  displacement  ...  model  origin         car_name\n",
              "78   19.0        3.0          70.0  ...   72.0     3.0  mazda rx2 coupe\n",
              "118  18.0        3.0          70.0  ...   73.0     3.0        maxda rx3\n",
              "250  21.5        3.0          80.0  ...   77.0     3.0       mazda rx-4\n",
              "341  23.7        3.0          70.0  ...   80.0     3.0    mazda rx-7 gs\n",
              "\n",
              "[4 rows x 9 columns]"
            ]
          },
          "metadata": {
            "tags": []
          },
          "execution_count": 88
        }
      ]
    },
    {
      "cell_type": "code",
      "metadata": {
        "id": "JAgI2LkWd0Iy",
        "colab": {
          "base_uri": "https://localhost:8080/",
          "height": 196
        },
        "outputId": "7e447fb4-f9fc-4c2c-c638-3adfac592b0b"
      },
      "source": [
        "## LIST OF 5-CYLINDER CARS\n",
        "data.fivecylinders= data[(data['cylinders']==5)]\n",
        "\n",
        "data.fivecylinders.head()"
      ],
      "execution_count": null,
      "outputs": [
        {
          "output_type": "stream",
          "text": [
            "/usr/local/lib/python3.6/dist-packages/ipykernel_launcher.py:2: UserWarning: Pandas doesn't allow columns to be created via a new attribute name - see https://pandas.pydata.org/pandas-docs/stable/indexing.html#attribute-access\n",
            "  \n"
          ],
          "name": "stderr"
        },
        {
          "output_type": "execute_result",
          "data": {
            "text/html": [
              "<div>\n",
              "<style scoped>\n",
              "    .dataframe tbody tr th:only-of-type {\n",
              "        vertical-align: middle;\n",
              "    }\n",
              "\n",
              "    .dataframe tbody tr th {\n",
              "        vertical-align: top;\n",
              "    }\n",
              "\n",
              "    .dataframe thead th {\n",
              "        text-align: right;\n",
              "    }\n",
              "</style>\n",
              "<table border=\"1\" class=\"dataframe\">\n",
              "  <thead>\n",
              "    <tr style=\"text-align: right;\">\n",
              "      <th></th>\n",
              "      <th>mpg</th>\n",
              "      <th>cylinders</th>\n",
              "      <th>displacement</th>\n",
              "      <th>horsepower</th>\n",
              "      <th>weight</th>\n",
              "      <th>acceleration</th>\n",
              "      <th>model</th>\n",
              "      <th>origin</th>\n",
              "      <th>car_name</th>\n",
              "    </tr>\n",
              "  </thead>\n",
              "  <tbody>\n",
              "    <tr>\n",
              "      <th>281</th>\n",
              "      <td>20.3</td>\n",
              "      <td>5.0</td>\n",
              "      <td>131.0</td>\n",
              "      <td>103.0</td>\n",
              "      <td>2830.0</td>\n",
              "      <td>15.9</td>\n",
              "      <td>78.0</td>\n",
              "      <td>2.0</td>\n",
              "      <td>audi 5000</td>\n",
              "    </tr>\n",
              "    <tr>\n",
              "      <th>304</th>\n",
              "      <td>25.4</td>\n",
              "      <td>5.0</td>\n",
              "      <td>183.0</td>\n",
              "      <td>77.0</td>\n",
              "      <td>3530.0</td>\n",
              "      <td>20.1</td>\n",
              "      <td>79.0</td>\n",
              "      <td>2.0</td>\n",
              "      <td>mercedes benz 300d</td>\n",
              "    </tr>\n",
              "    <tr>\n",
              "      <th>334</th>\n",
              "      <td>36.4</td>\n",
              "      <td>5.0</td>\n",
              "      <td>121.0</td>\n",
              "      <td>67.0</td>\n",
              "      <td>2950.0</td>\n",
              "      <td>19.9</td>\n",
              "      <td>80.0</td>\n",
              "      <td>2.0</td>\n",
              "      <td>audi 5000s (diesel)</td>\n",
              "    </tr>\n",
              "  </tbody>\n",
              "</table>\n",
              "</div>"
            ],
            "text/plain": [
              "      mpg  cylinders  displacement  ...  model  origin             car_name\n",
              "281  20.3        5.0         131.0  ...   78.0     2.0            audi 5000\n",
              "304  25.4        5.0         183.0  ...   79.0     2.0   mercedes benz 300d\n",
              "334  36.4        5.0         121.0  ...   80.0     2.0  audi 5000s (diesel)\n",
              "\n",
              "[3 rows x 9 columns]"
            ]
          },
          "metadata": {
            "tags": []
          },
          "execution_count": 89
        }
      ]
    },
    {
      "cell_type": "code",
      "metadata": {
        "id": "joA8kX_xRI8v",
        "colab": {
          "base_uri": "https://localhost:8080/",
          "height": 102
        },
        "outputId": "003958ff-2a50-4d7a-ff13-68180dfb0b2b"
      },
      "source": [
        "#ANSWER\n",
        "#Count the number of 3- and 5-cylinder vehicles in the dataset, display the count, and discard those entries (rows). (6 pts)\n",
        "\n",
        "print(\"From the above table it can be seen that there FOUR 3-cylinder cars and THREE 5-cylinder cars. The detailed list is provided above.\")\n",
        "\n",
        "data.filter = data[(data['cylinders']!=3) & (data['cylinders']!=5)]\n",
        "print(data.filter.shape)\n",
        "print('''\n",
        "data.filter contains the new entries with 3 and 5 cylinders discarded - total SEVEN(392-385) entries discarded as confirmed by the \n",
        "new shape of the data. This filtered data is used for all future calculations as confirmed by the Professor in Discussion 3''')\n"
      ],
      "execution_count": null,
      "outputs": [
        {
          "output_type": "stream",
          "text": [
            "From the above table it can be seen that there FOUR 3-cylinder cars and THREE 5-cylinder cars. The detailed list is provided above.\n",
            "(385, 9)\n",
            "\n",
            "data.filter contains the new entries with 3 and 5 cylinders discarded - total SEVEN(392-385) entries discarded as confirmed by the \n",
            "new shape of the data. This filtered data is used for all future calculations as confirmed by the Professor in Discussion 3\n"
          ],
          "name": "stdout"
        }
      ]
    },
    {
      "cell_type": "code",
      "metadata": {
        "id": "jlFMpVa2dSBy",
        "colab": {
          "base_uri": "https://localhost:8080/",
          "height": 396
        },
        "outputId": "b5f7b869-ca93-44b5-a75e-4e107622a1fb"
      },
      "source": [
        "#ANSWER\n",
        "#Compute and display the min, max, and average fuel consumption (in mpg) for 4-, 6-, and 8-cylinder vehicles. (4 pts)\n",
        "\n",
        "print('''\n",
        "------------- Fuel Consumption Details by number of cylinders---\n",
        "''')\n",
        "print(\"The following table describes the minimum as 'min', maximum as 'max' and average as 'mean' fuel consumption in mpg for 4-, 6- and 8- cylinder vehicles.\")\n",
        "data.filter.groupby(by='cylinders').agg({'mpg': ['min', 'max', 'mean']}).unstack().reset_index().rename(columns={'level_0': 'Fuel Consumption', 'level_1': 'Metric', 'sex': 'gender', 0: 'Fuel_Consumption_in_mpg'}).round(2)"
      ],
      "execution_count": null,
      "outputs": [
        {
          "output_type": "stream",
          "text": [
            "\n",
            "------------- Fuel Consumption Details by number of cylinders---\n",
            "\n",
            "The following table describes the minimum as 'min', maximum as 'max' and average as 'mean' fuel consumption in mpg for 4-, 6- and 8- cylinder vehicles.\n"
          ],
          "name": "stdout"
        },
        {
          "output_type": "execute_result",
          "data": {
            "text/html": [
              "<div>\n",
              "<style scoped>\n",
              "    .dataframe tbody tr th:only-of-type {\n",
              "        vertical-align: middle;\n",
              "    }\n",
              "\n",
              "    .dataframe tbody tr th {\n",
              "        vertical-align: top;\n",
              "    }\n",
              "\n",
              "    .dataframe thead th {\n",
              "        text-align: right;\n",
              "    }\n",
              "</style>\n",
              "<table border=\"1\" class=\"dataframe\">\n",
              "  <thead>\n",
              "    <tr style=\"text-align: right;\">\n",
              "      <th></th>\n",
              "      <th>Fuel Consumption</th>\n",
              "      <th>Metric</th>\n",
              "      <th>cylinders</th>\n",
              "      <th>Fuel_Consumption_in_mpg</th>\n",
              "    </tr>\n",
              "  </thead>\n",
              "  <tbody>\n",
              "    <tr>\n",
              "      <th>0</th>\n",
              "      <td>mpg</td>\n",
              "      <td>min</td>\n",
              "      <td>4.0</td>\n",
              "      <td>18.00</td>\n",
              "    </tr>\n",
              "    <tr>\n",
              "      <th>1</th>\n",
              "      <td>mpg</td>\n",
              "      <td>min</td>\n",
              "      <td>6.0</td>\n",
              "      <td>15.00</td>\n",
              "    </tr>\n",
              "    <tr>\n",
              "      <th>2</th>\n",
              "      <td>mpg</td>\n",
              "      <td>min</td>\n",
              "      <td>8.0</td>\n",
              "      <td>9.00</td>\n",
              "    </tr>\n",
              "    <tr>\n",
              "      <th>3</th>\n",
              "      <td>mpg</td>\n",
              "      <td>max</td>\n",
              "      <td>4.0</td>\n",
              "      <td>46.60</td>\n",
              "    </tr>\n",
              "    <tr>\n",
              "      <th>4</th>\n",
              "      <td>mpg</td>\n",
              "      <td>max</td>\n",
              "      <td>6.0</td>\n",
              "      <td>38.00</td>\n",
              "    </tr>\n",
              "    <tr>\n",
              "      <th>5</th>\n",
              "      <td>mpg</td>\n",
              "      <td>max</td>\n",
              "      <td>8.0</td>\n",
              "      <td>26.60</td>\n",
              "    </tr>\n",
              "    <tr>\n",
              "      <th>6</th>\n",
              "      <td>mpg</td>\n",
              "      <td>mean</td>\n",
              "      <td>4.0</td>\n",
              "      <td>29.28</td>\n",
              "    </tr>\n",
              "    <tr>\n",
              "      <th>7</th>\n",
              "      <td>mpg</td>\n",
              "      <td>mean</td>\n",
              "      <td>6.0</td>\n",
              "      <td>19.97</td>\n",
              "    </tr>\n",
              "    <tr>\n",
              "      <th>8</th>\n",
              "      <td>mpg</td>\n",
              "      <td>mean</td>\n",
              "      <td>8.0</td>\n",
              "      <td>14.96</td>\n",
              "    </tr>\n",
              "  </tbody>\n",
              "</table>\n",
              "</div>"
            ],
            "text/plain": [
              "  Fuel Consumption Metric  cylinders  Fuel_Consumption_in_mpg\n",
              "0              mpg    min        4.0                    18.00\n",
              "1              mpg    min        6.0                    15.00\n",
              "2              mpg    min        8.0                     9.00\n",
              "3              mpg    max        4.0                    46.60\n",
              "4              mpg    max        6.0                    38.00\n",
              "5              mpg    max        8.0                    26.60\n",
              "6              mpg   mean        4.0                    29.28\n",
              "7              mpg   mean        6.0                    19.97\n",
              "8              mpg   mean        8.0                    14.96"
            ]
          },
          "metadata": {
            "tags": []
          },
          "execution_count": 91
        }
      ]
    },
    {
      "cell_type": "code",
      "metadata": {
        "id": "Txpw_PXGgm0v",
        "colab": {
          "base_uri": "https://localhost:8080/",
          "height": 204
        },
        "outputId": "5ea3fe02-d5d9-40fc-85e8-61a08af2f3b0"
      },
      "source": [
        "#ANSWER\n",
        "#(OPTIONAL) Display the name of the most and least fuel efficient vehicles in the dataset (<= 2 points)\n",
        "\n",
        "print(data.filter[data.filter.mpg == data.filter.mpg.max()]) \n",
        "print(data.filter[data.filter.mpg == data.filter.mpg.min()]) \n",
        "\n",
        "print('''\n",
        "The name of the most fuel efficient car is MAZDA GLC and the name of the least efficient vehicle is HI 1200D. The exact row and its \n",
        "details are given above''')\n"
      ],
      "execution_count": null,
      "outputs": [
        {
          "output_type": "stream",
          "text": [
            "      mpg  cylinders  displacement  ...  model  origin   car_name\n",
            "329  46.6        4.0          86.0  ...   80.0     3.0  mazda glc\n",
            "\n",
            "[1 rows x 9 columns]\n",
            "    mpg  cylinders  displacement  ...  model  origin  car_name\n",
            "34  9.0        8.0         304.0  ...   70.0     1.0  hi 1200d\n",
            "\n",
            "[1 rows x 9 columns]\n",
            "\n",
            "The name of the most fuel efficient car is MAZDA GLC and the name of the least efficient vehicle is HI 1200D. The exact row and its \n",
            "details are given above\n"
          ],
          "name": "stdout"
        }
      ]
    },
    {
      "cell_type": "code",
      "metadata": {
        "id": "nksqxab3q49N"
      },
      "source": [
        "#2.2. Your turn! (24 points)\n",
        "#Write Python code to plot the relationship between (8 pts each):\n",
        "\n",
        "#Fuel consumption and displacement (engine size)\n",
        "#Fuel consumption and weight\n",
        "#Fuel consumption and horsepower (HP)"
      ],
      "execution_count": null,
      "outputs": []
    },
    {
      "cell_type": "code",
      "metadata": {
        "id": "EKQKS4qAq4KT",
        "colab": {
          "base_uri": "https://localhost:8080/",
          "height": 355
        },
        "outputId": "498b1365-cce7-4429-b924-04e8ec227ffe"
      },
      "source": [
        "plt.figure(figsize=(20, 5))\n",
        "\n",
        "features = ['displacement','weight','horsepower']\n",
        "target = data.filter['mpg']\n",
        "\n",
        "for i, col in enumerate(features):\n",
        "    plt.subplot(1, len(features) , i+1)\n",
        "    x = data.filter[col]\n",
        "    y = target\n",
        "    plt.scatter(x, y, marker='o')\n",
        "    plt.title(col)\n",
        "    plt.xlabel(col)\n",
        "    plt.ylabel('Fuel Consumption')\n"
      ],
      "execution_count": null,
      "outputs": [
        {
          "output_type": "display_data",
          "data": {
            "image/png": "[encoded data removed]",
            "text/plain": [
              "<Figure size 1440x360 with 3 Axes>"
            ]
          },
          "metadata": {
            "tags": [],
            "needs_background": "light"
          }
        }
      ]
    },
    {
      "cell_type": "code",
      "metadata": {
        "id": "TI5gMUbF_dIg",
        "colab": {
          "base_uri": "https://localhost:8080/",
          "height": 508
        },
        "outputId": "dc8e8187-7c54-4ad4-d7e1-3ae57e579982"
      },
      "source": [
        "print('''\n",
        " The following plot shows 3rd degree polynomial regression between Weight and fuel consumption\n",
        " ''')\n",
        "sns.lmplot(\"weight\",\"mpg\",data.filter,order=3)"
      ],
      "execution_count": null,
      "outputs": [
        {
          "output_type": "stream",
          "text": [
            "\n",
            " The following plot shows 3rd degree polynomial regression between Weight and fuel consumption\n",
            " \n"
          ],
          "name": "stdout"
        },
        {
          "output_type": "stream",
          "text": [
            "/usr/local/lib/python3.6/dist-packages/seaborn/_decorators.py:43: FutureWarning: Pass the following variables as keyword args: x, y, data. From version 0.12, the only valid positional argument will be `data`, and passing other arguments without an explicit keyword will result in an error or misinterpretation.\n",
            "  FutureWarning\n"
          ],
          "name": "stderr"
        },
        {
          "output_type": "execute_result",
          "data": {
            "text/plain": [
              "<seaborn.axisgrid.FacetGrid at 0x7f0d9af39f60>"
            ]
          },
          "metadata": {
            "tags": []
          },
          "execution_count": 95
        },
        {
          "output_type": "display_data",
          "data": {
            "image/png": "[encoded data removed]",
            "text/plain": [
              "<Figure size 360x360 with 1 Axes>"
            ]
          },
          "metadata": {
            "tags": [],
            "needs_background": "light"
          }
        }
      ]
    },
    {
      "cell_type": "code",
      "metadata": {
        "id": "sNAgxgb0AyOx",
        "colab": {
          "base_uri": "https://localhost:8080/",
          "height": 508
        },
        "outputId": "0eb5ec5c-5ec3-4519-8f4d-46fd1eaac07c"
      },
      "source": [
        "print('''\n",
        " The following plot shows 3rd degree polynomial regression between Displacement and fuel consumption\n",
        " ''')\n",
        "sns.lmplot(\"displacement\",\"mpg\",data.filter,order=3)"
      ],
      "execution_count": null,
      "outputs": [
        {
          "output_type": "stream",
          "text": [
            "\n",
            " The following plot shows 3rd degree polynomial regression between Displacement and fuel consumption\n",
            " \n"
          ],
          "name": "stdout"
        },
        {
          "output_type": "stream",
          "text": [
            "/usr/local/lib/python3.6/dist-packages/seaborn/_decorators.py:43: FutureWarning: Pass the following variables as keyword args: x, y, data. From version 0.12, the only valid positional argument will be `data`, and passing other arguments without an explicit keyword will result in an error or misinterpretation.\n",
            "  FutureWarning\n"
          ],
          "name": "stderr"
        },
        {
          "output_type": "execute_result",
          "data": {
            "text/plain": [
              "<seaborn.axisgrid.FacetGrid at 0x7f0d9aa54438>"
            ]
          },
          "metadata": {
            "tags": []
          },
          "execution_count": 96
        },
        {
          "output_type": "display_data",
          "data": {
            "image/png": "[encoded data removed]",
            "text/plain": [
              "<Figure size 360x360 with 1 Axes>"
            ]
          },
          "metadata": {
            "tags": [],
            "needs_background": "light"
          }
        }
      ]
    },
    {
      "cell_type": "code",
      "metadata": {
        "id": "xv9yXYZBA8oS",
        "colab": {
          "base_uri": "https://localhost:8080/",
          "height": 508
        },
        "outputId": "1fde7fc2-7bfd-43e9-9c09-feb4fd00d0bf"
      },
      "source": [
        "print('''\n",
        " The following plot shows 3rd degree polynomial regression between horsepower and fuel consumption\n",
        " ''')\n",
        "sns.lmplot(\"horsepower\",\"mpg\",data.filter,order=3)"
      ],
      "execution_count": null,
      "outputs": [
        {
          "output_type": "stream",
          "text": [
            "\n",
            " The following plot shows 3rd degree polynomial regression between horsepower and fuel consumption\n",
            " \n"
          ],
          "name": "stdout"
        },
        {
          "output_type": "stream",
          "text": [
            "/usr/local/lib/python3.6/dist-packages/seaborn/_decorators.py:43: FutureWarning: Pass the following variables as keyword args: x, y, data. From version 0.12, the only valid positional argument will be `data`, and passing other arguments without an explicit keyword will result in an error or misinterpretation.\n",
            "  FutureWarning\n"
          ],
          "name": "stderr"
        },
        {
          "output_type": "execute_result",
          "data": {
            "text/plain": [
              "<seaborn.axisgrid.FacetGrid at 0x7f0d9aa33320>"
            ]
          },
          "metadata": {
            "tags": []
          },
          "execution_count": 97
        },
        {
          "output_type": "display_data",
          "data": {
            "image/png": "[encoded data removed]",
            "text/plain": [
              "<Figure size 360x360 with 1 Axes>"
            ]
          },
          "metadata": {
            "tags": [],
            "needs_background": "light"
          }
        }
      ]
    },
    {
      "cell_type": "code",
      "metadata": {
        "id": "paotHmzYe6P8",
        "colab": {
          "base_uri": "https://localhost:8080/",
          "height": 187
        },
        "outputId": "ca6031e3-8826-4cf8-c025-8c5a2cebafcc"
      },
      "source": [
        "mpg = np.array(data.filter['mpg'])\n",
        "displacement = np.array(data.filter['displacement'])\n",
        "weight = np.array(data.filter['weight'])\n",
        "horsepower = np.array(data.filter['horsepower'])\n",
        "\n",
        "corr1, _ = pearsonr(mpg,displacement)\n",
        "corr2, _ = pearsonr(mpg,weight)\n",
        "corr3, _ = pearsonr(mpg,horsepower)\n",
        "print('Correlation coefficient of Fuel consumption and Displacement is: ',corr1)\n",
        "print('Correlation coefficient of Fuel consumption and weight is: ',corr2)\n",
        "print('Correlation coefficient of Fuel consumption and horsepower is: ',corr3)\n",
        "\n",
        "print ('''\n",
        "\n",
        "PLOT AND CORRELATION EXPLANATION OF THE RELATIONSHIP\n",
        "\n",
        "All of the three - diplacement (engine size), weight and horsepower (HP) are negatively correlated,\n",
        "which means fuel consumption goes decreases when the engine size, weight or horsepower is increased. \n",
        "However, the strongest negative correlation is with the weight of the car. The lower the weight of the car, the more efficient the fuel consumption.''')"
      ],
      "execution_count": null,
      "outputs": [
        {
          "output_type": "stream",
          "text": [
            "Correlation coefficient of Fuel consumption and Displacement is:  -0.817887362940059\n",
            "Correlation coefficient of Fuel consumption and weight is:  -0.8426809031318667\n",
            "Correlation coefficient of Fuel consumption and horsepower is:  -0.7802588157322387\n",
            "\n",
            "\n",
            "PLOT AND CORRELATION EXPLANATION OF THE RELATIONSHIP\n",
            "\n",
            "All of the three - diplacement (engine size), weight and horsepower (HP) are negatively correlated,\n",
            "which means fuel consumption goes decreases when the engine size, weight or horsepower is increased. \n",
            "However, the strongest negative correlation is with the weight of the car. The lower the weight of the car, the more efficient the fuel consumption.\n"
          ],
          "name": "stdout"
        }
      ]
    },
    {
      "cell_type": "code",
      "metadata": {
        "id": "lMF6gqf6kjzv",
        "colab": {
          "base_uri": "https://localhost:8080/",
          "height": 306
        },
        "outputId": "a2fb4d2a-103e-49bb-84cb-e5d325dbf825"
      },
      "source": [
        "#QUESTION 2.3\n",
        "#2.3 Your turn! (20-26 points)\n",
        "#Write Python code to produce (box)plots that should provide good answers to the hypotheses H4 and H5 above (and some text to explain whether they were confirmed or not).\n",
        "\n",
        "#Weight: 20 pts, i.e., 10 pts per hypothesis. Up to 6 bonus points for insightful additional hypotheses, code, and/or comments.\n",
        "\n",
        "data.filter['Country_code'] = data.filter.origin.replace([1,2,3],['USA','Europe','Japan'])\n",
        "\n",
        "data.filter.head()\n",
        "\n"
      ],
      "execution_count": null,
      "outputs": [
        {
          "output_type": "stream",
          "text": [
            "/usr/local/lib/python3.6/dist-packages/ipykernel_launcher.py:7: SettingWithCopyWarning: \n",
            "A value is trying to be set on a copy of a slice from a DataFrame.\n",
            "Try using .loc[row_indexer,col_indexer] = value instead\n",
            "\n",
            "See the caveats in the documentation: https://pandas.pydata.org/pandas-docs/stable/user_guide/indexing.html#returning-a-view-versus-a-copy\n",
            "  import sys\n"
          ],
          "name": "stderr"
        },
        {
          "output_type": "execute_result",
          "data": {
            "text/html": [
              "<div>\n",
              "<style scoped>\n",
              "    .dataframe tbody tr th:only-of-type {\n",
              "        vertical-align: middle;\n",
              "    }\n",
              "\n",
              "    .dataframe tbody tr th {\n",
              "        vertical-align: top;\n",
              "    }\n",
              "\n",
              "    .dataframe thead th {\n",
              "        text-align: right;\n",
              "    }\n",
              "</style>\n",
              "<table border=\"1\" class=\"dataframe\">\n",
              "  <thead>\n",
              "    <tr style=\"text-align: right;\">\n",
              "      <th></th>\n",
              "      <th>mpg</th>\n",
              "      <th>cylinders</th>\n",
              "      <th>displacement</th>\n",
              "      <th>horsepower</th>\n",
              "      <th>weight</th>\n",
              "      <th>acceleration</th>\n",
              "      <th>model</th>\n",
              "      <th>origin</th>\n",
              "      <th>car_name</th>\n",
              "      <th>Country_code</th>\n",
              "    </tr>\n",
              "  </thead>\n",
              "  <tbody>\n",
              "    <tr>\n",
              "      <th>0</th>\n",
              "      <td>18.0</td>\n",
              "      <td>8.0</td>\n",
              "      <td>307.0</td>\n",
              "      <td>130.0</td>\n",
              "      <td>3504.0</td>\n",
              "      <td>12.0</td>\n",
              "      <td>70.0</td>\n",
              "      <td>1.0</td>\n",
              "      <td>chevrolet chevelle malibu</td>\n",
              "      <td>USA</td>\n",
              "    </tr>\n",
              "    <tr>\n",
              "      <th>1</th>\n",
              "      <td>15.0</td>\n",
              "      <td>8.0</td>\n",
              "      <td>350.0</td>\n",
              "      <td>165.0</td>\n",
              "      <td>3693.0</td>\n",
              "      <td>11.5</td>\n",
              "      <td>70.0</td>\n",
              "      <td>1.0</td>\n",
              "      <td>buick skylark 320</td>\n",
              "      <td>USA</td>\n",
              "    </tr>\n",
              "    <tr>\n",
              "      <th>2</th>\n",
              "      <td>18.0</td>\n",
              "      <td>8.0</td>\n",
              "      <td>318.0</td>\n",
              "      <td>150.0</td>\n",
              "      <td>3436.0</td>\n",
              "      <td>11.0</td>\n",
              "      <td>70.0</td>\n",
              "      <td>1.0</td>\n",
              "      <td>plymouth satellite</td>\n",
              "      <td>USA</td>\n",
              "    </tr>\n",
              "    <tr>\n",
              "      <th>3</th>\n",
              "      <td>16.0</td>\n",
              "      <td>8.0</td>\n",
              "      <td>304.0</td>\n",
              "      <td>150.0</td>\n",
              "      <td>3433.0</td>\n",
              "      <td>12.0</td>\n",
              "      <td>70.0</td>\n",
              "      <td>1.0</td>\n",
              "      <td>amc rebel sst</td>\n",
              "      <td>USA</td>\n",
              "    </tr>\n",
              "    <tr>\n",
              "      <th>4</th>\n",
              "      <td>17.0</td>\n",
              "      <td>8.0</td>\n",
              "      <td>302.0</td>\n",
              "      <td>140.0</td>\n",
              "      <td>3449.0</td>\n",
              "      <td>10.5</td>\n",
              "      <td>70.0</td>\n",
              "      <td>1.0</td>\n",
              "      <td>ford torino</td>\n",
              "      <td>USA</td>\n",
              "    </tr>\n",
              "  </tbody>\n",
              "</table>\n",
              "</div>"
            ],
            "text/plain": [
              "    mpg  cylinders  ...                   car_name  Country_code\n",
              "0  18.0        8.0  ...  chevrolet chevelle malibu           USA\n",
              "1  15.0        8.0  ...          buick skylark 320           USA\n",
              "2  18.0        8.0  ...         plymouth satellite           USA\n",
              "3  16.0        8.0  ...              amc rebel sst           USA\n",
              "4  17.0        8.0  ...                ford torino           USA\n",
              "\n",
              "[5 rows x 10 columns]"
            ]
          },
          "metadata": {
            "tags": []
          },
          "execution_count": 99
        }
      ]
    },
    {
      "cell_type": "code",
      "metadata": {
        "id": "8HhcrHBmDxhT"
      },
      "source": [
        "# Converting data type of Car Model to integer and adding 1900 to it to convert it to a year\n",
        "\n",
        "convert_dict = {'model': int}\n",
        "data.filter=data.filter.astype(convert_dict)\n",
        "data.filter.dtypes\n",
        "data.filter.model=data.filter.model+1900"
      ],
      "execution_count": null,
      "outputs": []
    },
    {
      "cell_type": "code",
      "metadata": {
        "id": "yTfnXhKnEXsQ",
        "colab": {
          "base_uri": "https://localhost:8080/",
          "height": 204
        },
        "outputId": "0369b9df-0a33-48f2-fa30-4a08ce5daeec"
      },
      "source": [
        "data.filter.head()"
      ],
      "execution_count": null,
      "outputs": [
        {
          "output_type": "execute_result",
          "data": {
            "text/html": [
              "<div>\n",
              "<style scoped>\n",
              "    .dataframe tbody tr th:only-of-type {\n",
              "        vertical-align: middle;\n",
              "    }\n",
              "\n",
              "    .dataframe tbody tr th {\n",
              "        vertical-align: top;\n",
              "    }\n",
              "\n",
              "    .dataframe thead th {\n",
              "        text-align: right;\n",
              "    }\n",
              "</style>\n",
              "<table border=\"1\" class=\"dataframe\">\n",
              "  <thead>\n",
              "    <tr style=\"text-align: right;\">\n",
              "      <th></th>\n",
              "      <th>mpg</th>\n",
              "      <th>cylinders</th>\n",
              "      <th>displacement</th>\n",
              "      <th>horsepower</th>\n",
              "      <th>weight</th>\n",
              "      <th>acceleration</th>\n",
              "      <th>model</th>\n",
              "      <th>origin</th>\n",
              "      <th>car_name</th>\n",
              "      <th>Country_code</th>\n",
              "    </tr>\n",
              "  </thead>\n",
              "  <tbody>\n",
              "    <tr>\n",
              "      <th>0</th>\n",
              "      <td>18.0</td>\n",
              "      <td>8.0</td>\n",
              "      <td>307.0</td>\n",
              "      <td>130.0</td>\n",
              "      <td>3504.0</td>\n",
              "      <td>12.0</td>\n",
              "      <td>1970</td>\n",
              "      <td>1.0</td>\n",
              "      <td>chevrolet chevelle malibu</td>\n",
              "      <td>USA</td>\n",
              "    </tr>\n",
              "    <tr>\n",
              "      <th>1</th>\n",
              "      <td>15.0</td>\n",
              "      <td>8.0</td>\n",
              "      <td>350.0</td>\n",
              "      <td>165.0</td>\n",
              "      <td>3693.0</td>\n",
              "      <td>11.5</td>\n",
              "      <td>1970</td>\n",
              "      <td>1.0</td>\n",
              "      <td>buick skylark 320</td>\n",
              "      <td>USA</td>\n",
              "    </tr>\n",
              "    <tr>\n",
              "      <th>2</th>\n",
              "      <td>18.0</td>\n",
              "      <td>8.0</td>\n",
              "      <td>318.0</td>\n",
              "      <td>150.0</td>\n",
              "      <td>3436.0</td>\n",
              "      <td>11.0</td>\n",
              "      <td>1970</td>\n",
              "      <td>1.0</td>\n",
              "      <td>plymouth satellite</td>\n",
              "      <td>USA</td>\n",
              "    </tr>\n",
              "    <tr>\n",
              "      <th>3</th>\n",
              "      <td>16.0</td>\n",
              "      <td>8.0</td>\n",
              "      <td>304.0</td>\n",
              "      <td>150.0</td>\n",
              "      <td>3433.0</td>\n",
              "      <td>12.0</td>\n",
              "      <td>1970</td>\n",
              "      <td>1.0</td>\n",
              "      <td>amc rebel sst</td>\n",
              "      <td>USA</td>\n",
              "    </tr>\n",
              "    <tr>\n",
              "      <th>4</th>\n",
              "      <td>17.0</td>\n",
              "      <td>8.0</td>\n",
              "      <td>302.0</td>\n",
              "      <td>140.0</td>\n",
              "      <td>3449.0</td>\n",
              "      <td>10.5</td>\n",
              "      <td>1970</td>\n",
              "      <td>1.0</td>\n",
              "      <td>ford torino</td>\n",
              "      <td>USA</td>\n",
              "    </tr>\n",
              "  </tbody>\n",
              "</table>\n",
              "</div>"
            ],
            "text/plain": [
              "    mpg  cylinders  ...                   car_name  Country_code\n",
              "0  18.0        8.0  ...  chevrolet chevelle malibu           USA\n",
              "1  15.0        8.0  ...          buick skylark 320           USA\n",
              "2  18.0        8.0  ...         plymouth satellite           USA\n",
              "3  16.0        8.0  ...              amc rebel sst           USA\n",
              "4  17.0        8.0  ...                ford torino           USA\n",
              "\n",
              "[5 rows x 10 columns]"
            ]
          },
          "metadata": {
            "tags": []
          },
          "execution_count": 101
        }
      ]
    },
    {
      "cell_type": "code",
      "metadata": {
        "id": "cOaGXOGxlNul",
        "colab": {
          "base_uri": "https://localhost:8080/",
          "height": 462
        },
        "outputId": "fa8383d3-92d6-4f31-dbcc-82d6aede46dd"
      },
      "source": [
        "#ANSWER TO HYPOTHESIS 4\n",
        "#H4:H4: fuel efficiency improved over the years represented in this dataset (i.e., 1970 through 1982).\n",
        "\n",
        "data_H4= pd.concat([data.filter['mpg'],data.filter['model']], axis=1)\n",
        "data_H4\n",
        "\n",
        "f, ax = plt.subplots(figsize=(8,6))\n",
        "fig = sns.boxplot(x='model', y='mpg', data=data_H4)\n",
        "plt.axhline(data.filter.mpg.mean(),color='r',linestyle='dashed', linewidth=2)\n",
        "\n",
        "plt.show()\n",
        "\n",
        "print('''As can be seen from the box plot above, the upward trend confirms that cars are becoming more efficient with time. \n",
        "Looking at the median, which is the line which separates each box, it can be noted that the median is also improving getting closer to the thrid quartile. \n",
        "For example, in 1979 median was around 23 mpg (1st quartile) while in the year 1982 the median has moved almost to the second quartile at 32 mpg. \n",
        "Thus it can be said that on average, the cars fuel performance has improved.''')\n"
      ],
      "execution_count": null,
      "outputs": [
        {
          "output_type": "display_data",
          "data": {
            "image/png": "[encoded data removed]",
            "text/plain": [
              "<Figure size 576x432 with 1 Axes>"
            ]
          },
          "metadata": {
            "tags": [],
            "needs_background": "light"
          }
        },
        {
          "output_type": "stream",
          "text": [
            "As can be seen from the box plot above, the upward trend confirms that cars are becoming more efficient with time. \n",
            "Looking at the median, which is the line which separates each box, it can be noted that the median is also improving getting closer to the thrid quartile. \n",
            "For example, in 1979 median was around 23 mpg (1st quartile) while in the year 1982 the median has moved almost to the second quartile at 32 mpg. \n",
            "Thus it can be said that on average, the cars fuel performance has improved.\n"
          ],
          "name": "stdout"
        }
      ]
    },
    {
      "cell_type": "code",
      "metadata": {
        "id": "_ZQLaq9TqCSv",
        "colab": {
          "base_uri": "https://localhost:8080/",
          "height": 462
        },
        "outputId": "f7036df7-c637-4cb1-b46d-4a9009b50ba4"
      },
      "source": [
        "#ANSWER TO HYPOTHESIS 5\n",
        "#H5: Japanese cars (within the same time frame) are more fuel efficient than American or European ones.\n",
        "\n",
        "var='Country_code'\n",
        "data_H5= pd.concat([data.filter['mpg'],data.filter[var]], axis=1)\n",
        "data_H5\n",
        "\n",
        "f, ax = plt.subplots(figsize=(8,6))\n",
        "fig = sns.boxplot(x=var, y='mpg', data=data_H5)\n",
        "plt.axhline(data.filter.mpg.mean(),color='r',linestyle='dashed', linewidth=2)\n",
        "\n",
        "plt.show()\n",
        "\n",
        "print('''The above plot reveals that Japanese cars are on average more fuel efficient followed by European cars and then American cars based on the \n",
        "dataset provided. This can be said by comparing the different values - max, min, median of each of the box plots. It can also be seen that the \n",
        "the median for Japanese cars is also higher compared to median of European or US built cars, which means that Japanese cars on average are \n",
        "more fuel efficient. The figures displayed in the plot are displayed in numbers below. ''')"
      ],
      "execution_count": null,
      "outputs": [
        {
          "output_type": "display_data",
          "data": {
            "image/png": "[encoded data removed]",
            "text/plain": [
              "<Figure size 576x432 with 1 Axes>"
            ]
          },
          "metadata": {
            "tags": [],
            "needs_background": "light"
          }
        },
        {
          "output_type": "stream",
          "text": [
            "The above plot reveals that Japanese cars are on average more fuel efficient followed by European cars and then American cars based on the \n",
            "dataset provided. This can be said by comparing the different values - max, min, median of each of the box plots. It can also be seen that the \n",
            "the median for Japanese cars is also higher compared to median of European or US built cars, which means that Japanese cars on average are \n",
            "more fuel efficient. The figures displayed in the plot are displayed in numbers below. \n"
          ],
          "name": "stdout"
        }
      ]
    },
    {
      "cell_type": "code",
      "metadata": {
        "id": "d5x8qk4ew0MZ",
        "colab": {
          "base_uri": "https://localhost:8080/",
          "height": 421
        },
        "outputId": "eeebd953-70cd-498f-ad3b-169e54944f76"
      },
      "source": [
        "data.filter.groupby(by='Country_code').agg({'mpg': ['min', 'max', 'mean', 'median']}).unstack().reset_index().rename(columns={'level_0': 'Fuel Consumption', 'level_1': 'Metric',  0: 'Fuel_Consumption_in_mpg'}).round(2)"
      ],
      "execution_count": null,
      "outputs": [
        {
          "output_type": "execute_result",
          "data": {
            "text/html": [
              "<div>\n",
              "<style scoped>\n",
              "    .dataframe tbody tr th:only-of-type {\n",
              "        vertical-align: middle;\n",
              "    }\n",
              "\n",
              "    .dataframe tbody tr th {\n",
              "        vertical-align: top;\n",
              "    }\n",
              "\n",
              "    .dataframe thead th {\n",
              "        text-align: right;\n",
              "    }\n",
              "</style>\n",
              "<table border=\"1\" class=\"dataframe\">\n",
              "  <thead>\n",
              "    <tr style=\"text-align: right;\">\n",
              "      <th></th>\n",
              "      <th>Fuel Consumption</th>\n",
              "      <th>Metric</th>\n",
              "      <th>Country_code</th>\n",
              "      <th>Fuel_Consumption_in_mpg</th>\n",
              "    </tr>\n",
              "  </thead>\n",
              "  <tbody>\n",
              "    <tr>\n",
              "      <th>0</th>\n",
              "      <td>mpg</td>\n",
              "      <td>min</td>\n",
              "      <td>Europe</td>\n",
              "      <td>16.20</td>\n",
              "    </tr>\n",
              "    <tr>\n",
              "      <th>1</th>\n",
              "      <td>mpg</td>\n",
              "      <td>min</td>\n",
              "      <td>Japan</td>\n",
              "      <td>19.00</td>\n",
              "    </tr>\n",
              "    <tr>\n",
              "      <th>2</th>\n",
              "      <td>mpg</td>\n",
              "      <td>min</td>\n",
              "      <td>USA</td>\n",
              "      <td>9.00</td>\n",
              "    </tr>\n",
              "    <tr>\n",
              "      <th>3</th>\n",
              "      <td>mpg</td>\n",
              "      <td>max</td>\n",
              "      <td>Europe</td>\n",
              "      <td>44.30</td>\n",
              "    </tr>\n",
              "    <tr>\n",
              "      <th>4</th>\n",
              "      <td>mpg</td>\n",
              "      <td>max</td>\n",
              "      <td>Japan</td>\n",
              "      <td>46.60</td>\n",
              "    </tr>\n",
              "    <tr>\n",
              "      <th>5</th>\n",
              "      <td>mpg</td>\n",
              "      <td>max</td>\n",
              "      <td>USA</td>\n",
              "      <td>39.00</td>\n",
              "    </tr>\n",
              "    <tr>\n",
              "      <th>6</th>\n",
              "      <td>mpg</td>\n",
              "      <td>mean</td>\n",
              "      <td>Europe</td>\n",
              "      <td>27.61</td>\n",
              "    </tr>\n",
              "    <tr>\n",
              "      <th>7</th>\n",
              "      <td>mpg</td>\n",
              "      <td>mean</td>\n",
              "      <td>Japan</td>\n",
              "      <td>30.98</td>\n",
              "    </tr>\n",
              "    <tr>\n",
              "      <th>8</th>\n",
              "      <td>mpg</td>\n",
              "      <td>mean</td>\n",
              "      <td>USA</td>\n",
              "      <td>20.03</td>\n",
              "    </tr>\n",
              "    <tr>\n",
              "      <th>9</th>\n",
              "      <td>mpg</td>\n",
              "      <td>median</td>\n",
              "      <td>Europe</td>\n",
              "      <td>26.00</td>\n",
              "    </tr>\n",
              "    <tr>\n",
              "      <th>10</th>\n",
              "      <td>mpg</td>\n",
              "      <td>median</td>\n",
              "      <td>Japan</td>\n",
              "      <td>32.00</td>\n",
              "    </tr>\n",
              "    <tr>\n",
              "      <th>11</th>\n",
              "      <td>mpg</td>\n",
              "      <td>median</td>\n",
              "      <td>USA</td>\n",
              "      <td>18.50</td>\n",
              "    </tr>\n",
              "  </tbody>\n",
              "</table>\n",
              "</div>"
            ],
            "text/plain": [
              "   Fuel Consumption  Metric Country_code  Fuel_Consumption_in_mpg\n",
              "0               mpg     min       Europe                    16.20\n",
              "1               mpg     min        Japan                    19.00\n",
              "2               mpg     min          USA                     9.00\n",
              "3               mpg     max       Europe                    44.30\n",
              "4               mpg     max        Japan                    46.60\n",
              "5               mpg     max          USA                    39.00\n",
              "6               mpg    mean       Europe                    27.61\n",
              "7               mpg    mean        Japan                    30.98\n",
              "8               mpg    mean          USA                    20.03\n",
              "9               mpg  median       Europe                    26.00\n",
              "10              mpg  median        Japan                    32.00\n",
              "11              mpg  median          USA                    18.50"
            ]
          },
          "metadata": {
            "tags": []
          },
          "execution_count": 104
        }
      ]
    },
    {
      "cell_type": "markdown",
      "metadata": {
        "id": "u2wYGYbrBjUM"
      },
      "source": [
        "**Conclusions (16 points)**\n",
        "\n",
        "Write your conclusions and make sure to address the issues below:\n",
        "\n",
        "**What have you learned from this assignment?**\n",
        "\n",
        "I learned how to perform statistics and plotting using python coding. I learned that there are multiple ways of writing a code and tried to use the one that is most simplest and straightforward to read and understand and at the same time give an output that is neat and clear. \n",
        "\n",
        "**Which parts were the most fun, time-consuming, enlightening, tedious?**\n",
        "\n",
        "The most fun part was thinking of the different ways of how I could present the answer and the depth that I could get into for a simple question like proving a hypothesis. For example, for the hypothesis on gender bias, I thought it was interesting to consider the age and years of experience to find out different trends and interesting relationships than simply plot the distribution of female salary versus male salary. This was however time-consuming and tedious. The more in depth I wanted to go, the more lines of code I ended up adding. But it ended up being more enlightening because it made gave a whole new angle to a simple answer. \n",
        "\n",
        "**What would you do if you had an additional week to work on this? **\n",
        "\n",
        "If I had an additional week I would continue to explore the different packages and find out more ways of doing the same thing. For example, I wanted to use pie charts for one of the hypothesis. I thought it would be interesting to bin the data by age and then present the break up of number of individuals who earned a particular salary for males and females. But I was not able to figure out how do the binning. It was not that straight forward. Also, I wanted to get into more depth on answering hypothesis questions by calculating p values like is done in statistics. So I am excited to explore more in the coming weeks."
      ]
    }
  ]
}